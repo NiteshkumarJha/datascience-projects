{
 "cells": [
  {
   "cell_type": "markdown",
   "metadata": {
    "colab_type": "text",
    "id": "lW6Vh68CvHr9"
   },
   "source": [
    "# **LTFS Data Science FinHack 2**\n",
    "\n",
    "## **Problem statement**\n",
    "\n",
    "LTFS receives a lot of requests for its various finance offerings that include housing loan, two-wheeler loan, real estate financing and micro loans. The number of applications received is something that varies a lot with season. Going through these applications is a manual process and is tedious. Accurately forecasting the number of cases received can help with resource and manpower management resulting into quick response on applications and more efficient processing.\n",
    "\n",
    "We have been appointed with the task of forecasting daily cases for **next 3 months for 2 different business segments** at the **country level** keeping in consideration the following major Indian festivals (inclusive but not exhaustive list): Diwali, Dussehra, Ganesh Chaturthi, Navratri, Holi etc. (We are free to use any publicly available open source external datasets). Some other examples could be:\n",
    "\n",
    " + Weather\n",
    " + Macroeconomic variables\n",
    "\n",
    "we also note that the external dataset must belong to a reliable source.\n",
    "\n",
    "## **Data Dictionary**\n",
    "\n",
    "The train data has been provided in the following way:\n",
    "\n",
    " + For business segment 1, historical data has been made available at branch ID level\n",
    " + For business segment 2, historical data has been made available at State level.\n",
    " \n",
    "\n",
    "## **Train File**\n",
    "\n",
    "|Variable|\tDefinition|\n",
    "|:------:|:----------:|\n",
    "|application_date|Date of application|\n",
    "|application_date|\tDate of application|\n",
    "|segment|\tBusiness Segment (1/2)|\n",
    "|branch_id|\tAnonymised id for branch at which application was received|\n",
    "|state|\tState in which application was received (Karnataka, MP etc.)|\n",
    "|zone|\tZone of state in which application was received (Central, East etc.)|\n",
    "|case_count|\t(Target) Number of cases/applications received|\n",
    "\n",
    "## **Test File**\n",
    "\n",
    "Forecasting needs to be done at country level for the dates provided in test set for each segment.\n",
    "\n",
    "|Variable|\tDefinition|\n",
    "|:------:|:----------:|\n",
    "|id|\tUnique id for each sample in test set|\n",
    "|application_date|\tDate of application|\n",
    "| segment|\tBusiness Segment (1/2)|\n",
    "\n",
    "## **Evaluation**\n",
    "\n",
    "**Evaluation Metric**\n",
    "\n",
    "The evaluation metric for scoring the forecasts is MAPE (Mean Absolute Percentage Error) M with the formula:\n",
    "\n",
    "$$M = \\frac{100}{n}\\sum_{t = 1}^{n}|\\frac{A_t - F_t}{A_t}|$$\n",
    " \n",
    "Where $A_t$ is the actual value and $F_t$ is the forecast value.\n",
    "\n",
    "\n",
    "The Final score is calculated using $MAPE$ for both the segments using the formula:\n",
    "\n",
    "$Final Score = 0.5*MAPE_{Segment1} + 0.5*MAPE_{Segment2}$\n"
   ]
  },
  {
   "cell_type": "markdown",
   "metadata": {
    "colab_type": "text",
    "id": "N-vGpTKiAR1Y"
   },
   "source": [
    "## **Getting started**"
   ]
  },
  {
   "cell_type": "markdown",
   "metadata": {
    "colab_type": "text",
    "id": "xYFLOVn80m5U"
   },
   "source": [
    "### **Importing libraries**"
   ]
  },
  {
   "cell_type": "code",
   "execution_count": 1,
   "metadata": {
    "colab": {},
    "colab_type": "code",
    "id": "4wCxeTR3u6yN"
   },
   "outputs": [],
   "source": [
    "import numpy as np\n",
    "import pandas as pd\n",
    "import matplotlib.pyplot as plt\n",
    "import seaborn as sns\n",
    "import scipy.stats as ss\n",
    "%matplotlib inline\n",
    "\n",
    "pd.set_option('display.max_rows', 100)\n",
    "pd.set_option('display.max_columns', 100)\n",
    "pd.set_option('display.float_format', lambda x: '%.2f' % x)"
   ]
  },
  {
   "cell_type": "markdown",
   "metadata": {
    "colab_type": "text",
    "id": "-LexknjbArnb"
   },
   "source": [
    "### **Reading data**"
   ]
  },
  {
   "cell_type": "code",
   "execution_count": 2,
   "metadata": {
    "colab": {},
    "colab_type": "code",
    "id": "AcGYDKyIxpxP"
   },
   "outputs": [],
   "source": [
    "# Setting the path\n",
    "import os\n",
    "path = \"E:/Data Science/LTFS-Data-Science-FinHack-2\"\n",
    "os.chdir(path)"
   ]
  },
  {
   "cell_type": "code",
   "execution_count": 3,
   "metadata": {
    "colab": {},
    "colab_type": "code",
    "id": "VKvBTYCpxpxS"
   },
   "outputs": [],
   "source": [
    "# Importing the dataset\n",
    "train = pd.read_csv(\"./Input/train_fwYjLYX.csv\")\n",
    "test = pd.read_csv(\"./Input/test_1eLl9Yf.csv\")\n",
    "Sample_submission = pd.read_csv(\"./Input/sample_submission_IIzFVsf.csv\")"
   ]
  },
  {
   "cell_type": "markdown",
   "metadata": {
    "colab_type": "text",
    "id": "-iWd6d4FBz5q"
   },
   "source": [
    "## **Data Preprocessing**"
   ]
  },
  {
   "cell_type": "code",
   "execution_count": 4,
   "metadata": {
    "colab": {
     "base_uri": "https://localhost:8080/",
     "height": 202
    },
    "colab_type": "code",
    "id": "2OYM4vA5B3Kf",
    "outputId": "9153d33d-9d46-4d72-bda8-6b6fb325d7db"
   },
   "outputs": [
    {
     "data": {
      "text/html": [
       "<div>\n",
       "<style scoped>\n",
       "    .dataframe tbody tr th:only-of-type {\n",
       "        vertical-align: middle;\n",
       "    }\n",
       "\n",
       "    .dataframe tbody tr th {\n",
       "        vertical-align: top;\n",
       "    }\n",
       "\n",
       "    .dataframe thead th {\n",
       "        text-align: right;\n",
       "    }\n",
       "</style>\n",
       "<table border=\"1\" class=\"dataframe\">\n",
       "  <thead>\n",
       "    <tr style=\"text-align: right;\">\n",
       "      <th></th>\n",
       "      <th>application_date</th>\n",
       "      <th>segment</th>\n",
       "      <th>branch_id</th>\n",
       "      <th>state</th>\n",
       "      <th>zone</th>\n",
       "      <th>case_count</th>\n",
       "    </tr>\n",
       "  </thead>\n",
       "  <tbody>\n",
       "    <tr>\n",
       "      <th>0</th>\n",
       "      <td>2017-04-01</td>\n",
       "      <td>1</td>\n",
       "      <td>1.00</td>\n",
       "      <td>WEST BENGAL</td>\n",
       "      <td>EAST</td>\n",
       "      <td>40.00</td>\n",
       "    </tr>\n",
       "    <tr>\n",
       "      <th>1</th>\n",
       "      <td>2017-04-03</td>\n",
       "      <td>1</td>\n",
       "      <td>1.00</td>\n",
       "      <td>WEST BENGAL</td>\n",
       "      <td>EAST</td>\n",
       "      <td>5.00</td>\n",
       "    </tr>\n",
       "    <tr>\n",
       "      <th>2</th>\n",
       "      <td>2017-04-04</td>\n",
       "      <td>1</td>\n",
       "      <td>1.00</td>\n",
       "      <td>WEST BENGAL</td>\n",
       "      <td>EAST</td>\n",
       "      <td>4.00</td>\n",
       "    </tr>\n",
       "    <tr>\n",
       "      <th>3</th>\n",
       "      <td>2017-04-05</td>\n",
       "      <td>1</td>\n",
       "      <td>1.00</td>\n",
       "      <td>WEST BENGAL</td>\n",
       "      <td>EAST</td>\n",
       "      <td>113.00</td>\n",
       "    </tr>\n",
       "    <tr>\n",
       "      <th>4</th>\n",
       "      <td>2017-04-07</td>\n",
       "      <td>1</td>\n",
       "      <td>1.00</td>\n",
       "      <td>WEST BENGAL</td>\n",
       "      <td>EAST</td>\n",
       "      <td>76.00</td>\n",
       "    </tr>\n",
       "  </tbody>\n",
       "</table>\n",
       "</div>"
      ],
      "text/plain": [
       "  application_date  segment  branch_id        state  zone  case_count\n",
       "0       2017-04-01        1       1.00  WEST BENGAL  EAST       40.00\n",
       "1       2017-04-03        1       1.00  WEST BENGAL  EAST        5.00\n",
       "2       2017-04-04        1       1.00  WEST BENGAL  EAST        4.00\n",
       "3       2017-04-05        1       1.00  WEST BENGAL  EAST      113.00\n",
       "4       2017-04-07        1       1.00  WEST BENGAL  EAST       76.00"
      ]
     },
     "execution_count": 4,
     "metadata": {},
     "output_type": "execute_result"
    }
   ],
   "source": [
    "train.head()"
   ]
  },
  {
   "cell_type": "code",
   "execution_count": 5,
   "metadata": {
    "colab": {
     "base_uri": "https://localhost:8080/",
     "height": 202
    },
    "colab_type": "code",
    "id": "0oyr1g5CQa8n",
    "outputId": "c1d9eae7-b7f1-40dd-810c-3656c2e9a1a9"
   },
   "outputs": [
    {
     "data": {
      "text/html": [
       "<div>\n",
       "<style scoped>\n",
       "    .dataframe tbody tr th:only-of-type {\n",
       "        vertical-align: middle;\n",
       "    }\n",
       "\n",
       "    .dataframe tbody tr th {\n",
       "        vertical-align: top;\n",
       "    }\n",
       "\n",
       "    .dataframe thead th {\n",
       "        text-align: right;\n",
       "    }\n",
       "</style>\n",
       "<table border=\"1\" class=\"dataframe\">\n",
       "  <thead>\n",
       "    <tr style=\"text-align: right;\">\n",
       "      <th></th>\n",
       "      <th>application_date</th>\n",
       "      <th>segment</th>\n",
       "      <th>case_count</th>\n",
       "    </tr>\n",
       "  </thead>\n",
       "  <tbody>\n",
       "    <tr>\n",
       "      <th>0</th>\n",
       "      <td>2017-04-01</td>\n",
       "      <td>1</td>\n",
       "      <td>299.00</td>\n",
       "    </tr>\n",
       "    <tr>\n",
       "      <th>1</th>\n",
       "      <td>2017-04-01</td>\n",
       "      <td>2</td>\n",
       "      <td>897.00</td>\n",
       "    </tr>\n",
       "    <tr>\n",
       "      <th>2</th>\n",
       "      <td>2017-04-02</td>\n",
       "      <td>2</td>\n",
       "      <td>605.00</td>\n",
       "    </tr>\n",
       "    <tr>\n",
       "      <th>3</th>\n",
       "      <td>2017-04-03</td>\n",
       "      <td>1</td>\n",
       "      <td>42.00</td>\n",
       "    </tr>\n",
       "    <tr>\n",
       "      <th>4</th>\n",
       "      <td>2017-04-03</td>\n",
       "      <td>2</td>\n",
       "      <td>2016.00</td>\n",
       "    </tr>\n",
       "  </tbody>\n",
       "</table>\n",
       "</div>"
      ],
      "text/plain": [
       "  application_date  segment  case_count\n",
       "0       2017-04-01        1      299.00\n",
       "1       2017-04-01        2      897.00\n",
       "2       2017-04-02        2      605.00\n",
       "3       2017-04-03        1       42.00\n",
       "4       2017-04-03        2     2016.00"
      ]
     },
     "execution_count": 5,
     "metadata": {},
     "output_type": "execute_result"
    }
   ],
   "source": [
    "# Data preprocessing function\n",
    "train_v2 = pd.DataFrame(train.groupby(['application_date', 'segment'])['case_count'].sum()).reset_index()\n",
    "train_v2.head()"
   ]
  },
  {
   "cell_type": "code",
   "execution_count": 6,
   "metadata": {
    "colab": {
     "base_uri": "https://localhost:8080/",
     "height": 442
    },
    "colab_type": "code",
    "id": "x_CeC06X2Ha2",
    "outputId": "3b80b153-5970-4526-dabf-43982224a9be"
   },
   "outputs": [
    {
     "name": "stderr",
     "output_type": "stream",
     "text": [
      "C:\\ProgramData\\Anaconda3\\lib\\site-packages\\scipy\\stats\\stats.py:1713: FutureWarning: Using a non-tuple sequence for multidimensional indexing is deprecated; use `arr[tuple(seq)]` instead of `arr[seq]`. In the future this will be interpreted as an array index, `arr[np.array(seq)]`, which will result either in an error or a different result.\n",
      "  return np.add.reduce(sorted[indexer] * weights, axis=axis) / sumval\n"
     ]
    },
    {
     "data": {
      "image/png": "[encoded data removed]",
      "text/plain": [
       "<Figure size 720x504 with 1 Axes>"
      ]
     },
     "metadata": {
      "needs_background": "light"
     },
     "output_type": "display_data"
    }
   ],
   "source": [
    "temp = train_v2.copy()\n",
    "temp['application_date'] = pd.to_datetime(temp['application_date'])\n",
    "temp['year'] = temp['application_date'].dt.year\n",
    "temp['Month'] = temp['application_date'].dt.month\n",
    "temp['Date'] = temp['application_date'].dt.day\n",
    "temp.head()\n",
    "\n",
    "plt.figure(figsize = (10, 7))\n",
    "sns.barplot(x = 'Date', y = 'case_count', data = temp)\n",
    "plt.show();"
   ]
  },
  {
   "cell_type": "markdown",
   "metadata": {
    "colab_type": "text",
    "id": "-9XPZmIF03e3"
   },
   "source": [
    "## **Feature engineering**"
   ]
  },
  {
   "cell_type": "code",
   "execution_count": 7,
   "metadata": {
    "colab": {},
    "colab_type": "code",
    "id": "Hjw7wu0Xwl-g"
   },
   "outputs": [],
   "source": [
    "def feature_eng(train_v2):\n",
    "    train_v2['application_date'] = pd.to_datetime(train_v2['application_date'])\n",
    "    train_v2['year'] = train_v2['application_date'].dt.year\n",
    "    train_v2['Month'] = train_v2['application_date'].dt.month\n",
    "    train_v2['Date'] = train_v2['application_date'].dt.day\n",
    "    train_v2['weekday'] = train_v2['application_date'].dt.weekday_name\n",
    "\n",
    "    Weekend = {'Monday': 0, 'Tuesday': 0, 'Wednesday': 0, 'Thursday': 0, 'Friday': 0,\n",
    "               'Saturday': 1, 'Sunday': 1}\n",
    "\n",
    "    Seasons = {6: 'Monsoon', 7: 'Monsoon', 8: 'Monsoon', 9: 'Monsoon',\n",
    "               10: 'Winter', 11: 'Winter', 12: 'Winter', 1: 'Winter',\n",
    "               2: 'Summer', 3: 'Summer', 4: 'Summer', 5: 'Summer'}\n",
    "\n",
    "    train_v2['is_weekend'] = train_v2['weekday'].map(Weekend)\n",
    "    train_v2['Seasons'] = train_v2['Month'].map(Seasons)\n",
    "    train_v2['lean_period'] = np.where(train_v2['Date'] < 11, 1,\n",
    "                                       np.where(train_v2['Date'] > 26, 1, 0))\n",
    "\n",
    "    train_v2['segment'] = np.where(train_v2['segment'] == 1, 1, 0)\n",
    "\n",
    "    # dummy_col = ['weekday', 'Seasons']\n",
    "    # temp = train_v2[dummy_col]\n",
    "    # temp = pd.get_dummies(temp)\n",
    "\n",
    "    # train_v2 = train_v2.drop(dummy_col, axis = 1)\n",
    "    # train_v2 = pd.concat([train_v2, temp], axis = 1)\n",
    "\n",
    "    train_v2 = train_v2.drop(['application_date'], axis = 1)\n",
    "  \n",
    "    return train_v2"
   ]
  },
  {
   "cell_type": "markdown",
   "metadata": {
    "colab_type": "text",
    "id": "Fzr862rsNmhw"
   },
   "source": [
    "## **Machine Learning**"
   ]
  },
  {
   "cell_type": "markdown",
   "metadata": {
    "colab_type": "text",
    "id": "5uGscrl28YVj"
   },
   "source": [
    "### **Creating X and y**"
   ]
  },
  {
   "cell_type": "code",
   "execution_count": 8,
   "metadata": {
    "colab": {
     "base_uri": "https://localhost:8080/",
     "height": 237
    },
    "colab_type": "code",
    "id": "77zMeiRZ8Rkt",
    "outputId": "f9ae2bf1-7dc3-4d90-c402-257df4f794c6"
   },
   "outputs": [
    {
     "name": "stdout",
     "output_type": "stream",
     "text": [
      "Shape of features : (1650, 8)\n",
      "Shape of labels : (1650,)\n"
     ]
    },
    {
     "data": {
      "text/html": [
       "<div>\n",
       "<style scoped>\n",
       "    .dataframe tbody tr th:only-of-type {\n",
       "        vertical-align: middle;\n",
       "    }\n",
       "\n",
       "    .dataframe tbody tr th {\n",
       "        vertical-align: top;\n",
       "    }\n",
       "\n",
       "    .dataframe thead th {\n",
       "        text-align: right;\n",
       "    }\n",
       "</style>\n",
       "<table border=\"1\" class=\"dataframe\">\n",
       "  <thead>\n",
       "    <tr style=\"text-align: right;\">\n",
       "      <th></th>\n",
       "      <th>segment</th>\n",
       "      <th>year</th>\n",
       "      <th>Month</th>\n",
       "      <th>Date</th>\n",
       "      <th>weekday</th>\n",
       "      <th>is_weekend</th>\n",
       "      <th>Seasons</th>\n",
       "      <th>lean_period</th>\n",
       "    </tr>\n",
       "  </thead>\n",
       "  <tbody>\n",
       "    <tr>\n",
       "      <th>0</th>\n",
       "      <td>1</td>\n",
       "      <td>2017</td>\n",
       "      <td>4</td>\n",
       "      <td>1</td>\n",
       "      <td>Saturday</td>\n",
       "      <td>1</td>\n",
       "      <td>Summer</td>\n",
       "      <td>1</td>\n",
       "    </tr>\n",
       "    <tr>\n",
       "      <th>1</th>\n",
       "      <td>0</td>\n",
       "      <td>2017</td>\n",
       "      <td>4</td>\n",
       "      <td>1</td>\n",
       "      <td>Saturday</td>\n",
       "      <td>1</td>\n",
       "      <td>Summer</td>\n",
       "      <td>1</td>\n",
       "    </tr>\n",
       "    <tr>\n",
       "      <th>2</th>\n",
       "      <td>0</td>\n",
       "      <td>2017</td>\n",
       "      <td>4</td>\n",
       "      <td>2</td>\n",
       "      <td>Sunday</td>\n",
       "      <td>1</td>\n",
       "      <td>Summer</td>\n",
       "      <td>1</td>\n",
       "    </tr>\n",
       "    <tr>\n",
       "      <th>3</th>\n",
       "      <td>1</td>\n",
       "      <td>2017</td>\n",
       "      <td>4</td>\n",
       "      <td>3</td>\n",
       "      <td>Monday</td>\n",
       "      <td>0</td>\n",
       "      <td>Summer</td>\n",
       "      <td>1</td>\n",
       "    </tr>\n",
       "    <tr>\n",
       "      <th>4</th>\n",
       "      <td>0</td>\n",
       "      <td>2017</td>\n",
       "      <td>4</td>\n",
       "      <td>3</td>\n",
       "      <td>Monday</td>\n",
       "      <td>0</td>\n",
       "      <td>Summer</td>\n",
       "      <td>1</td>\n",
       "    </tr>\n",
       "  </tbody>\n",
       "</table>\n",
       "</div>"
      ],
      "text/plain": [
       "   segment  year  Month  Date   weekday  is_weekend Seasons  lean_period\n",
       "0        1  2017      4     1  Saturday           1  Summer            1\n",
       "1        0  2017      4     1  Saturday           1  Summer            1\n",
       "2        0  2017      4     2    Sunday           1  Summer            1\n",
       "3        1  2017      4     3    Monday           0  Summer            1\n",
       "4        0  2017      4     3    Monday           0  Summer            1"
      ]
     },
     "execution_count": 8,
     "metadata": {},
     "output_type": "execute_result"
    }
   ],
   "source": [
    "X = train_v2.drop(['case_count'], axis = 1)\n",
    "y = np.log(train_v2['case_count'])\n",
    "\n",
    "X = feature_eng(X)\n",
    "\n",
    "print(\"Shape of features :\", X.shape)\n",
    "print(\"Shape of labels :\", y.shape)\n",
    "\n",
    "X.head()"
   ]
  },
  {
   "cell_type": "markdown",
   "metadata": {
    "colab_type": "text",
    "id": "S2vCgkCZ9aXR"
   },
   "source": [
    "### **Splitting data into train, validation and test**"
   ]
  },
  {
   "cell_type": "code",
   "execution_count": 9,
   "metadata": {
    "colab": {
     "base_uri": "https://localhost:8080/",
     "height": 121
    },
    "colab_type": "code",
    "id": "WLxZ8UzO9Y_7",
    "outputId": "7ee4ca3e-4cf7-426b-adc5-baa86655bf0d"
   },
   "outputs": [
    {
     "name": "stdout",
     "output_type": "stream",
     "text": [
      "Number of rows and columns in train dataset: (1155, 8)\n",
      "Number of rows and columns in validation dataset: (247, 8)\n",
      "Number of rows and columns in test dataset: (248, 8)\n",
      "Number of rows and columns in target variable for training: (1155,)\n",
      "Number of rows and columns in target variable for validation: (247,)\n",
      "Number of rows and columns in target variable for test: (248,)\n"
     ]
    }
   ],
   "source": [
    "# Dividing data into train and validation set\n",
    "from sklearn.model_selection import train_test_split\n",
    "\n",
    "validation_percent = 0.30\n",
    "test_percent = 0.50\n",
    "seed = 786\n",
    "\n",
    "X_train, X_validation, y_train, y_validation = train_test_split(X, y, test_size = validation_percent, random_state = seed)\n",
    "X_validation, X_test, y_validation, y_test = train_test_split(X_validation, y_validation, test_size = test_percent, random_state = seed)\n",
    "\n",
    "# Shape of data\n",
    "print(\"Number of rows and columns in train dataset:\",X_train.shape)\n",
    "print(\"Number of rows and columns in validation dataset:\",X_validation.shape)\n",
    "print(\"Number of rows and columns in test dataset:\",X_test.shape)\n",
    "\n",
    "print(\"Number of rows and columns in target variable for training:\",y_train.shape)\n",
    "print(\"Number of rows and columns in target variable for validation:\",y_validation.shape)\n",
    "print(\"Number of rows and columns in target variable for test:\",y_test.shape)"
   ]
  },
  {
   "cell_type": "code",
   "execution_count": 10,
   "metadata": {
    "colab": {},
    "colab_type": "code",
    "id": "pv6Bqouzz-A1"
   },
   "outputs": [],
   "source": [
    "from sklearn.pipeline import Pipeline\n",
    "from sklearn.impute import SimpleImputer\n",
    "from sklearn.preprocessing import MinMaxScaler, StandardScaler, OneHotEncoder, OrdinalEncoder\n",
    "from sklearn.compose import ColumnTransformer\n",
    "\n",
    "num_var = ['segment', 'year', 'Month', 'Date', 'is_weekend', 'lean_period']\n",
    "cat_var = ['weekday', 'Seasons']\n",
    "\n",
    "num_pipeline = Pipeline([\n",
    "    ('imputer', SimpleImputer(strategy = 'median'))\n",
    "    #,('StandardScaler', StandardScaler())\n",
    "])\n",
    "cat_pipeline = Pipeline([\n",
    "    ('ordinalencoder', OrdinalEncoder())\n",
    "])\n",
    "\n",
    "full_pipeline = ColumnTransformer(transformers = [\n",
    "    ('numeric', num_pipeline, num_var),\n",
    "    ('category', cat_pipeline, cat_var)\n",
    "])"
   ]
  },
  {
   "cell_type": "code",
   "execution_count": 11,
   "metadata": {
    "colab": {
     "base_uri": "https://localhost:8080/",
     "height": 69
    },
    "colab_type": "code",
    "id": "stynwnVo1HDK",
    "outputId": "efec3a6c-a0b1-468b-8ac7-6e291d8f5f43"
   },
   "outputs": [
    {
     "name": "stdout",
     "output_type": "stream",
     "text": [
      "Number of rows and columns in train dataset: (1155, 8)\n",
      "Number of rows and columns in validation dataset: (247, 8)\n",
      "Number of rows and columns in test dataset: (248, 8)\n"
     ]
    }
   ],
   "source": [
    "X_train = full_pipeline.fit_transform(X_train)\n",
    "X_validation = full_pipeline.transform(X_validation)\n",
    "X_test = full_pipeline.transform(X_test)\n",
    "\n",
    "print(\"Number of rows and columns in train dataset:\",X_train.shape)\n",
    "print(\"Number of rows and columns in validation dataset:\",X_validation.shape)\n",
    "print(\"Number of rows and columns in test dataset:\",X_test.shape)"
   ]
  },
  {
   "cell_type": "markdown",
   "metadata": {
    "colab_type": "text",
    "id": "aDeSbMvS-Xyk"
   },
   "source": [
    "### **Model evualuation**"
   ]
  },
  {
   "cell_type": "code",
   "execution_count": 12,
   "metadata": {
    "colab": {},
    "colab_type": "code",
    "id": "fZRne4q2-aRo"
   },
   "outputs": [],
   "source": [
    "import sklearn.metrics as sklm\n",
    "from sklearn.svm import LinearSVR, SVR\n",
    "from sklearn.linear_model import LinearRegression, SGDRegressor, Lasso, Ridge,  PassiveAggressiveRegressor, Perceptron, ElasticNet, LassoLars, BayesianRidge, HuberRegressor\n",
    "from sklearn.neighbors import KNeighborsRegressor, NearestCentroid\n",
    "from sklearn.tree import DecisionTreeRegressor\n",
    "from sklearn.ensemble import AdaBoostRegressor, RandomForestRegressor, GradientBoostingRegressor \n",
    "from xgboost import XGBRegressor\n",
    "from sklearn.feature_selection import SelectFromModel\n",
    "from sklearn.pipeline import Pipeline\n",
    "from time import time\n",
    "from sklearn.metrics import mean_squared_error, mean_absolute_error, median_absolute_error, r2_score"
   ]
  },
  {
   "cell_type": "code",
   "execution_count": 13,
   "metadata": {
    "colab": {},
    "colab_type": "code",
    "id": "6xF8DfKa_uWz"
   },
   "outputs": [],
   "source": [
    "def mape(y_true, y_pred):\n",
    "  mape = np.mean(np.abs((y_true - y_pred) / y_true)) * 100\n",
    "  return mape"
   ]
  },
  {
   "cell_type": "code",
   "execution_count": 14,
   "metadata": {
    "colab": {},
    "colab_type": "code",
    "id": "MZpR0QC6-dZl"
   },
   "outputs": [],
   "source": [
    "def accuracy_summary(Regressor, x_train, y_train, x_validation, y_validation):\n",
    "    t0 = time()\n",
    "    model = Regressor.fit(x_train, y_train)\n",
    "    y_pred = model.predict(x_validation)\n",
    "    train_test_time = time() - t0\n",
    "    #accuracy = r2_score(y_validation, y_pred)\n",
    "    accuracy = mape(y_validation, y_pred)\n",
    "    return accuracy, train_test_time"
   ]
  },
  {
   "cell_type": "code",
   "execution_count": 15,
   "metadata": {
    "colab": {},
    "colab_type": "code",
    "id": "kt8kvUyF-l2y"
   },
   "outputs": [],
   "source": [
    "seed = 123\n",
    "names = [\"Linear Regression\", \"Lasso\",\"Ridge\", \"ElasticNet\", \"LassoLars\", \"BayesianRidge\",\n",
    "         \"HuberRegressor\",\"SGDRegressor\", \"Linear SVR\", \n",
    "         \"Support Vector Machine with RBF kernel\",\"Passive-Aggresive\",\"KNeighborsRegressor\",\n",
    "         \"DecisionTreeRegressor\",\"RandomForestRegressor\",\"AdaBoostRegressor\", \n",
    "         \"GradientBoostingRegressor\", \"XGBRegressor-linear\", \"XGBRegressor-Poisson\",\n",
    "         \"XGBRegressor-Gamma\", \"XGBRegressor-Tweedie\"]\n",
    "\n",
    "Regressors = [\n",
    "    LinearRegression(),\n",
    "    Lasso(random_state=seed),\n",
    "    Ridge(random_state=seed),\n",
    "    ElasticNet(random_state=seed),\n",
    "    LassoLars(),\n",
    "    BayesianRidge(),\n",
    "    HuberRegressor(),\n",
    "    SGDRegressor(random_state=seed),\n",
    "    LinearSVR(random_state=seed),\n",
    "    SVR(),\n",
    "    PassiveAggressiveRegressor(random_state=seed),\n",
    "    KNeighborsRegressor(),\n",
    "    DecisionTreeRegressor(random_state=seed),\n",
    "    RandomForestRegressor(random_state=seed, n_estimators=500),\n",
    "    AdaBoostRegressor(random_state=seed, n_estimators=500),\n",
    "    GradientBoostingRegressor(loss = 'huber', random_state=seed, n_estimators=500),\n",
    "    XGBRegressor(n_estimators=500, random_state=seed),\n",
    "    XGBRegressor(n_estimators=500, random_state=seed, objective='count:poisson'),\n",
    "    XGBRegressor(n_estimators=500, random_state=seed, objective='reg:gamma'),\n",
    "    XGBRegressor(n_estimators=500, random_state=seed, objective='reg:tweedie')\n",
    "    ]\n",
    "\n",
    "zipped_reg = zip(names,Regressors)\n",
    "\n",
    "def Regressor_comparator(Regressor=zipped_reg):\n",
    "    result = []\n",
    "    for n,c in Regressor:\n",
    "        checker_pipeline = Pipeline([\n",
    "            ('Regressor', c)\n",
    "        ])\n",
    "        print(\"Validation result for {}\".format(n))\n",
    "        print (c)\n",
    "        reg_accuracy,tt_time = accuracy_summary(checker_pipeline, X_train, y_train, X_validation, y_validation)\n",
    "        result.append((n,reg_accuracy,tt_time))\n",
    "    return result"
   ]
  },
  {
   "cell_type": "code",
   "execution_count": 16,
   "metadata": {
    "colab": {
     "base_uri": "https://localhost:8080/",
     "height": 1000
    },
    "colab_type": "code",
    "id": "m7q5S7sv-quc",
    "outputId": "57238fc6-8d69-478a-a97c-738df5d7cbdd"
   },
   "outputs": [
    {
     "name": "stdout",
     "output_type": "stream",
     "text": [
      "Validation result for Linear Regression\n",
      "LinearRegression(copy_X=True, fit_intercept=True, n_jobs=None, normalize=False)\n",
      "Validation result for Lasso\n",
      "Lasso(alpha=1.0, copy_X=True, fit_intercept=True, max_iter=1000,\n",
      "      normalize=False, positive=False, precompute=False, random_state=123,\n",
      "      selection='cyclic', tol=0.0001, warm_start=False)\n",
      "Validation result for Ridge\n",
      "Ridge(alpha=1.0, copy_X=True, fit_intercept=True, max_iter=None,\n",
      "      normalize=False, random_state=123, solver='auto', tol=0.001)\n",
      "Validation result for ElasticNet\n",
      "ElasticNet(alpha=1.0, copy_X=True, fit_intercept=True, l1_ratio=0.5,\n",
      "           max_iter=1000, normalize=False, positive=False, precompute=False,\n",
      "           random_state=123, selection='cyclic', tol=0.0001, warm_start=False)\n",
      "Validation result for LassoLars\n",
      "LassoLars(alpha=1.0, copy_X=True, eps=2.220446049250313e-16, fit_intercept=True,\n",
      "          fit_path=True, max_iter=500, normalize=True, positive=False,\n",
      "          precompute='auto', verbose=False)\n",
      "Validation result for BayesianRidge\n",
      "BayesianRidge(alpha_1=1e-06, alpha_2=1e-06, compute_score=False, copy_X=True,\n",
      "              fit_intercept=True, lambda_1=1e-06, lambda_2=1e-06, n_iter=300,\n",
      "              normalize=False, tol=0.001, verbose=False)\n",
      "Validation result for HuberRegressor\n",
      "HuberRegressor(alpha=0.0001, epsilon=1.35, fit_intercept=True, max_iter=100,\n",
      "               tol=1e-05, warm_start=False)\n",
      "Validation result for SGDRegressor\n",
      "SGDRegressor(alpha=0.0001, average=False, early_stopping=False, epsilon=0.1,\n",
      "             eta0=0.01, fit_intercept=True, l1_ratio=0.15,\n",
      "             learning_rate='invscaling', loss='squared_loss', max_iter=1000,\n",
      "             n_iter_no_change=5, penalty='l2', power_t=0.25, random_state=123,\n",
      "             shuffle=True, tol=0.001, validation_fraction=0.1, verbose=0,\n",
      "             warm_start=False)\n",
      "Validation result for Linear SVR\n",
      "LinearSVR(C=1.0, dual=True, epsilon=0.0, fit_intercept=True,\n",
      "          intercept_scaling=1.0, loss='epsilon_insensitive', max_iter=1000,\n",
      "          random_state=123, tol=0.0001, verbose=0)\n"
     ]
    },
    {
     "name": "stderr",
     "output_type": "stream",
     "text": [
      "C:\\ProgramData\\Anaconda3\\lib\\site-packages\\sklearn\\svm\\base.py:929: ConvergenceWarning: Liblinear failed to converge, increase the number of iterations.\n",
      "  \"the number of iterations.\", ConvergenceWarning)\n",
      "C:\\ProgramData\\Anaconda3\\lib\\site-packages\\sklearn\\svm\\base.py:193: FutureWarning: The default value of gamma will change from 'auto' to 'scale' in version 0.22 to account better for unscaled features. Set gamma explicitly to 'auto' or 'scale' to avoid this warning.\n",
      "  \"avoid this warning.\", FutureWarning)\n"
     ]
    },
    {
     "name": "stdout",
     "output_type": "stream",
     "text": [
      "Validation result for Support Vector Machine with RBF kernel\n",
      "SVR(C=1.0, cache_size=200, coef0=0.0, degree=3, epsilon=0.1,\n",
      "    gamma='auto_deprecated', kernel='rbf', max_iter=-1, shrinking=True,\n",
      "    tol=0.001, verbose=False)\n",
      "Validation result for Passive-Aggresive\n",
      "PassiveAggressiveRegressor(C=1.0, average=False, early_stopping=False,\n",
      "                           epsilon=0.1, fit_intercept=True,\n",
      "                           loss='epsilon_insensitive', max_iter=1000,\n",
      "                           n_iter_no_change=5, random_state=123, shuffle=True,\n",
      "                           tol=0.001, validation_fraction=0.1, verbose=0,\n",
      "                           warm_start=False)\n",
      "Validation result for KNeighborsRegressor\n",
      "KNeighborsRegressor(algorithm='auto', leaf_size=30, metric='minkowski',\n",
      "                    metric_params=None, n_jobs=None, n_neighbors=5, p=2,\n",
      "                    weights='uniform')\n",
      "Validation result for DecisionTreeRegressor\n",
      "DecisionTreeRegressor(criterion='mse', max_depth=None, max_features=None,\n",
      "                      max_leaf_nodes=None, min_impurity_decrease=0.0,\n",
      "                      min_impurity_split=None, min_samples_leaf=1,\n",
      "                      min_samples_split=2, min_weight_fraction_leaf=0.0,\n",
      "                      presort=False, random_state=123, splitter='best')\n",
      "Validation result for RandomForestRegressor\n",
      "RandomForestRegressor(bootstrap=True, criterion='mse', max_depth=None,\n",
      "                      max_features='auto', max_leaf_nodes=None,\n",
      "                      min_impurity_decrease=0.0, min_impurity_split=None,\n",
      "                      min_samples_leaf=1, min_samples_split=2,\n",
      "                      min_weight_fraction_leaf=0.0, n_estimators=500,\n",
      "                      n_jobs=None, oob_score=False, random_state=123, verbose=0,\n",
      "                      warm_start=False)\n",
      "Validation result for AdaBoostRegressor\n",
      "AdaBoostRegressor(base_estimator=None, learning_rate=1.0, loss='linear',\n",
      "                  n_estimators=500, random_state=123)\n",
      "Validation result for GradientBoostingRegressor\n",
      "GradientBoostingRegressor(alpha=0.9, criterion='friedman_mse', init=None,\n",
      "                          learning_rate=0.1, loss='huber', max_depth=3,\n",
      "                          max_features=None, max_leaf_nodes=None,\n",
      "                          min_impurity_decrease=0.0, min_impurity_split=None,\n",
      "                          min_samples_leaf=1, min_samples_split=2,\n",
      "                          min_weight_fraction_leaf=0.0, n_estimators=500,\n",
      "                          n_iter_no_change=None, presort='auto',\n",
      "                          random_state=123, subsample=1.0, tol=0.0001,\n",
      "                          validation_fraction=0.1, verbose=0, warm_start=False)\n",
      "Validation result for XGBRegressor-linear\n",
      "XGBRegressor(base_score=0.5, booster='gbtree', colsample_bylevel=1,\n",
      "             colsample_bytree=1, gamma=0, learning_rate=0.1, max_delta_step=0,\n",
      "             max_depth=3, min_child_weight=1, missing=None, n_estimators=500,\n",
      "             n_jobs=1, nthread=None, objective='reg:linear', random_state=123,\n",
      "             reg_alpha=0, reg_lambda=1, scale_pos_weight=1, seed=None,\n",
      "             silent=True, subsample=1)\n",
      "Validation result for XGBRegressor-Poisson\n",
      "XGBRegressor(base_score=0.5, booster='gbtree', colsample_bylevel=1,\n",
      "             colsample_bytree=1, gamma=0, learning_rate=0.1, max_delta_step=0,\n",
      "             max_depth=3, min_child_weight=1, missing=None, n_estimators=500,\n",
      "             n_jobs=1, nthread=None, objective='count:poisson',\n",
      "             random_state=123, reg_alpha=0, reg_lambda=1, scale_pos_weight=1,\n",
      "             seed=None, silent=True, subsample=1)\n",
      "Validation result for XGBRegressor-Gamma\n",
      "XGBRegressor(base_score=0.5, booster='gbtree', colsample_bylevel=1,\n",
      "             colsample_bytree=1, gamma=0, learning_rate=0.1, max_delta_step=0,\n",
      "             max_depth=3, min_child_weight=1, missing=None, n_estimators=500,\n",
      "             n_jobs=1, nthread=None, objective='reg:gamma', random_state=123,\n",
      "             reg_alpha=0, reg_lambda=1, scale_pos_weight=1, seed=None,\n",
      "             silent=True, subsample=1)\n",
      "Validation result for XGBRegressor-Tweedie\n",
      "XGBRegressor(base_score=0.5, booster='gbtree', colsample_bylevel=1,\n",
      "             colsample_bytree=1, gamma=0, learning_rate=0.1, max_delta_step=0,\n",
      "             max_depth=3, min_child_weight=1, missing=None, n_estimators=500,\n",
      "             n_jobs=1, nthread=None, objective='reg:tweedie', random_state=123,\n",
      "             reg_alpha=0, reg_lambda=1, scale_pos_weight=1, seed=None,\n",
      "             silent=True, subsample=1)\n"
     ]
    },
    {
     "data": {
      "text/plain": [
       "[('Linear Regression', 10.026919931932207, 1.3835475444793701),\n",
       " ('Lasso', 15.777142146560802, 0.17913603782653809),\n",
       " ('Ridge', 10.029242783241527, 0.31770801544189453),\n",
       " ('ElasticNet', 15.788235444360888, 0.001998424530029297),\n",
       " ('LassoLars', 15.94849101193076, 0.06895780563354492),\n",
       " ('BayesianRidge', 10.030093908042016, 0.13906049728393555),\n",
       " ('HuberRegressor', 10.749504067935161, 0.13091278076171875),\n",
       " ('SGDRegressor', 6307660174840593.0, 0.036977291107177734),\n",
       " ('Linear SVR', 33.35350918723841, 0.17198967933654785),\n",
       " ('Support Vector Machine with RBF kernel',\n",
       "  10.00764542988625,\n",
       "  0.1855921745300293),\n",
       " ('Passive-Aggresive', 17.485279253931008, 0.001999378204345703),\n",
       " ('KNeighborsRegressor', 14.626509011255267, 0.04697108268737793),\n",
       " ('DecisionTreeRegressor', 7.799173525216334, 0.0356903076171875),\n",
       " ('RandomForestRegressor', 5.09994581532501, 2.1027026176452637),\n",
       " ('AdaBoostRegressor', 8.850015178346851, 0.20940518379211426),\n",
       " ('GradientBoostingRegressor', 6.797004555653767, 1.8413870334625244),\n",
       " ('XGBRegressor-linear', 7.014631663576182, 0.5433664321899414),\n",
       " ('XGBRegressor-Poisson', 7.287065707248, 0.42075443267822266),\n",
       " ('XGBRegressor-Gamma', 7.932975778132325, 0.41774535179138184),\n",
       " ('XGBRegressor-Tweedie', 7.549445465818697, 0.5016906261444092)]"
      ]
     },
     "execution_count": 16,
     "metadata": {},
     "output_type": "execute_result"
    }
   ],
   "source": [
    "Regression_result = Regressor_comparator()\n",
    "Regression_result"
   ]
  },
  {
   "cell_type": "code",
   "execution_count": 17,
   "metadata": {
    "colab": {
     "base_uri": "https://localhost:8080/",
     "height": 662
    },
    "colab_type": "code",
    "id": "4WfeYtrQ-z4I",
    "outputId": "d0c8f19c-dd38-4155-fe38-24ac5a34e6ef"
   },
   "outputs": [
    {
     "data": {
      "text/html": [
       "<div>\n",
       "<style scoped>\n",
       "    .dataframe tbody tr th:only-of-type {\n",
       "        vertical-align: middle;\n",
       "    }\n",
       "\n",
       "    .dataframe tbody tr th {\n",
       "        vertical-align: top;\n",
       "    }\n",
       "\n",
       "    .dataframe thead th {\n",
       "        text-align: right;\n",
       "    }\n",
       "</style>\n",
       "<table border=\"1\" class=\"dataframe\">\n",
       "  <thead>\n",
       "    <tr style=\"text-align: right;\">\n",
       "      <th></th>\n",
       "      <th>Regressor</th>\n",
       "      <th>MAPE</th>\n",
       "      <th>Train and test time</th>\n",
       "    </tr>\n",
       "  </thead>\n",
       "  <tbody>\n",
       "    <tr>\n",
       "      <th>13</th>\n",
       "      <td>RandomForestRegressor</td>\n",
       "      <td>5.1%</td>\n",
       "      <td>2.10</td>\n",
       "    </tr>\n",
       "    <tr>\n",
       "      <th>15</th>\n",
       "      <td>GradientBoostingRegressor</td>\n",
       "      <td>6.8%</td>\n",
       "      <td>1.84</td>\n",
       "    </tr>\n",
       "    <tr>\n",
       "      <th>16</th>\n",
       "      <td>XGBRegressor-linear</td>\n",
       "      <td>7.0%</td>\n",
       "      <td>0.54</td>\n",
       "    </tr>\n",
       "    <tr>\n",
       "      <th>17</th>\n",
       "      <td>XGBRegressor-Poisson</td>\n",
       "      <td>7.3%</td>\n",
       "      <td>0.42</td>\n",
       "    </tr>\n",
       "    <tr>\n",
       "      <th>19</th>\n",
       "      <td>XGBRegressor-Tweedie</td>\n",
       "      <td>7.5%</td>\n",
       "      <td>0.50</td>\n",
       "    </tr>\n",
       "    <tr>\n",
       "      <th>12</th>\n",
       "      <td>DecisionTreeRegressor</td>\n",
       "      <td>7.8%</td>\n",
       "      <td>0.04</td>\n",
       "    </tr>\n",
       "    <tr>\n",
       "      <th>18</th>\n",
       "      <td>XGBRegressor-Gamma</td>\n",
       "      <td>7.9%</td>\n",
       "      <td>0.42</td>\n",
       "    </tr>\n",
       "    <tr>\n",
       "      <th>14</th>\n",
       "      <td>AdaBoostRegressor</td>\n",
       "      <td>8.9%</td>\n",
       "      <td>0.21</td>\n",
       "    </tr>\n",
       "    <tr>\n",
       "      <th>9</th>\n",
       "      <td>Support Vector Machine with RBF kernel</td>\n",
       "      <td>10.0%</td>\n",
       "      <td>0.19</td>\n",
       "    </tr>\n",
       "    <tr>\n",
       "      <th>0</th>\n",
       "      <td>Linear Regression</td>\n",
       "      <td>10.0%</td>\n",
       "      <td>1.38</td>\n",
       "    </tr>\n",
       "    <tr>\n",
       "      <th>2</th>\n",
       "      <td>Ridge</td>\n",
       "      <td>10.0%</td>\n",
       "      <td>0.32</td>\n",
       "    </tr>\n",
       "    <tr>\n",
       "      <th>5</th>\n",
       "      <td>BayesianRidge</td>\n",
       "      <td>10.0%</td>\n",
       "      <td>0.14</td>\n",
       "    </tr>\n",
       "    <tr>\n",
       "      <th>6</th>\n",
       "      <td>HuberRegressor</td>\n",
       "      <td>10.7%</td>\n",
       "      <td>0.13</td>\n",
       "    </tr>\n",
       "    <tr>\n",
       "      <th>11</th>\n",
       "      <td>KNeighborsRegressor</td>\n",
       "      <td>14.6%</td>\n",
       "      <td>0.05</td>\n",
       "    </tr>\n",
       "    <tr>\n",
       "      <th>1</th>\n",
       "      <td>Lasso</td>\n",
       "      <td>15.8%</td>\n",
       "      <td>0.18</td>\n",
       "    </tr>\n",
       "    <tr>\n",
       "      <th>3</th>\n",
       "      <td>ElasticNet</td>\n",
       "      <td>15.8%</td>\n",
       "      <td>0.00</td>\n",
       "    </tr>\n",
       "    <tr>\n",
       "      <th>4</th>\n",
       "      <td>LassoLars</td>\n",
       "      <td>15.9%</td>\n",
       "      <td>0.07</td>\n",
       "    </tr>\n",
       "    <tr>\n",
       "      <th>10</th>\n",
       "      <td>Passive-Aggresive</td>\n",
       "      <td>17.5%</td>\n",
       "      <td>0.00</td>\n",
       "    </tr>\n",
       "    <tr>\n",
       "      <th>8</th>\n",
       "      <td>Linear SVR</td>\n",
       "      <td>33.4%</td>\n",
       "      <td>0.17</td>\n",
       "    </tr>\n",
       "    <tr>\n",
       "      <th>7</th>\n",
       "      <td>SGDRegressor</td>\n",
       "      <td>6307660174840593.0%</td>\n",
       "      <td>0.04</td>\n",
       "    </tr>\n",
       "  </tbody>\n",
       "</table>\n",
       "</div>"
      ],
      "text/plain": [
       "                                 Regressor                 MAPE  \\\n",
       "13                   RandomForestRegressor                 5.1%   \n",
       "15               GradientBoostingRegressor                 6.8%   \n",
       "16                     XGBRegressor-linear                 7.0%   \n",
       "17                    XGBRegressor-Poisson                 7.3%   \n",
       "19                    XGBRegressor-Tweedie                 7.5%   \n",
       "12                   DecisionTreeRegressor                 7.8%   \n",
       "18                      XGBRegressor-Gamma                 7.9%   \n",
       "14                       AdaBoostRegressor                 8.9%   \n",
       "9   Support Vector Machine with RBF kernel                10.0%   \n",
       "0                        Linear Regression                10.0%   \n",
       "2                                    Ridge                10.0%   \n",
       "5                            BayesianRidge                10.0%   \n",
       "6                           HuberRegressor                10.7%   \n",
       "11                     KNeighborsRegressor                14.6%   \n",
       "1                                    Lasso                15.8%   \n",
       "3                               ElasticNet                15.8%   \n",
       "4                                LassoLars                15.9%   \n",
       "10                       Passive-Aggresive                17.5%   \n",
       "8                               Linear SVR                33.4%   \n",
       "7                             SGDRegressor  6307660174840593.0%   \n",
       "\n",
       "    Train and test time  \n",
       "13                 2.10  \n",
       "15                 1.84  \n",
       "16                 0.54  \n",
       "17                 0.42  \n",
       "19                 0.50  \n",
       "12                 0.04  \n",
       "18                 0.42  \n",
       "14                 0.21  \n",
       "9                  0.19  \n",
       "0                  1.38  \n",
       "2                  0.32  \n",
       "5                  0.14  \n",
       "6                  0.13  \n",
       "11                 0.05  \n",
       "1                  0.18  \n",
       "3                  0.00  \n",
       "4                  0.07  \n",
       "10                 0.00  \n",
       "8                  0.17  \n",
       "7                  0.04  "
      ]
     },
     "execution_count": 17,
     "metadata": {},
     "output_type": "execute_result"
    }
   ],
   "source": [
    "Regression_result_df = pd.DataFrame(Regression_result)\n",
    "Regression_result_df.columns = ['Regressor', 'MAPE', 'Train and test time']\n",
    "Regression_result_df = Regression_result_df.sort_values(by='MAPE', ascending=True)\n",
    "Regression_result_df['MAPE'] = Regression_result_df['MAPE'].round(1).astype(str) + '%'\n",
    "Regression_result_df"
   ]
  },
  {
   "cell_type": "markdown",
   "metadata": {
    "colab_type": "text",
    "id": "WqHJdOlW_Sgn"
   },
   "source": [
    "### **Tuning Randomforest model**"
   ]
  },
  {
   "cell_type": "markdown",
   "metadata": {
    "colab_type": "text",
    "id": "MCrXW6t-8Qdv"
   },
   "source": [
    "#### **Baseline Model**"
   ]
  },
  {
   "cell_type": "code",
   "execution_count": 18,
   "metadata": {
    "colab": {},
    "colab_type": "code",
    "id": "wAVa9voF8iKx"
   },
   "outputs": [],
   "source": [
    "import math\n",
    "def print_metrics(y_true, y_predicted):\n",
    "    ## First compute R^2 and the adjusted R^2\n",
    "    r2 = sklm.r2_score(y_true, y_predicted)\n",
    "    MAPE = mape(y_true, y_predicted)\n",
    "    # r2_adj = r2 - (y_true.shape[0] - 1)/(y_true.shape[0] - n_parameters - 1) * (1 - r2)\n",
    "    \n",
    "    ## Print the usual metrics and the R^2 values\n",
    "    print('Mean Square Error      = ' + str(sklm.mean_squared_error(y_true, y_predicted)))\n",
    "    print('Root Mean Square Error = ' + str(math.sqrt(sklm.mean_squared_error(y_true, y_predicted))))\n",
    "    print('Mean Absolute Error    = ' + str(sklm.mean_absolute_error(y_true, y_predicted)))\n",
    "    print('Median Absolute Error  = ' + str(sklm.median_absolute_error(y_true, y_predicted)))\n",
    "    print('R^2                    = ' + str(r2))\n",
    "    print('MAPE                    = ' + str(MAPE))"
   ]
  },
  {
   "cell_type": "code",
   "execution_count": 19,
   "metadata": {
    "colab": {
     "base_uri": "https://localhost:8080/",
     "height": 121
    },
    "colab_type": "code",
    "id": "-rqEqLG9_Q0m",
    "outputId": "39385776-de2b-4cb4-cfc4-fd4fb5f0b990"
   },
   "outputs": [
    {
     "name": "stdout",
     "output_type": "stream",
     "text": [
      "Mean Square Error      = 0.27373878189306994\n",
      "Root Mean Square Error = 0.5232005178639161\n",
      "Mean Absolute Error    = 0.28253901930465586\n",
      "Median Absolute Error  = 0.1382396223813629\n",
      "R^2                    = 0.8512033658283022\n",
      "MAPE                    = 5.09994581532501\n"
     ]
    }
   ],
   "source": [
    "RF_baseline = RandomForestRegressor(bootstrap=True, criterion='mse', max_depth=None,\n",
    "                      max_features='auto', max_leaf_nodes=None,\n",
    "                      min_impurity_decrease=0.0, min_impurity_split=None,\n",
    "                      min_samples_leaf=1, min_samples_split=2,\n",
    "                      min_weight_fraction_leaf=0.0, n_estimators=500,\n",
    "                      n_jobs=None, oob_score=False, random_state=123, verbose=0,\n",
    "                      warm_start=False)\n",
    "\n",
    "RF_baseline = RF_baseline.fit(X_train, y_train)\n",
    "y_predict_validation = RF_baseline.predict(X_validation)\n",
    "\n",
    "# Accuracy on validation data\n",
    "print_metrics(y_validation, y_predict_validation)"
   ]
  },
  {
   "cell_type": "code",
   "execution_count": 20,
   "metadata": {
    "colab": {
     "base_uri": "https://localhost:8080/",
     "height": 243
    },
    "colab_type": "code",
    "id": "4xyPJ9eD8MN5",
    "outputId": "c30438a2-2100-4ccb-8098-3025906b4e21"
   },
   "outputs": [
    {
     "name": "stdout",
     "output_type": "stream",
     "text": [
      "Mean performance metric = 0.742\n",
      "SDT of the metric       = 0.051\n",
      "Outcomes by cv fold\n",
      "Fold  1    0.723\n",
      "Fold  2    0.709\n",
      "Fold  3    0.741\n",
      "Fold  4    0.853\n",
      "Fold  5    0.713\n",
      "Fold  6    0.697\n",
      "Fold  7    0.770\n",
      "Fold  8    0.811\n",
      "Fold  9    0.691\n",
      "Fold 10    0.709\n"
     ]
    }
   ],
   "source": [
    "import sklearn.model_selection as ms\n",
    "from sklearn.model_selection import KFold\n",
    "from sklearn.metrics import make_scorer\n",
    "import numpy.random as nr\n",
    "nr.seed(321)\n",
    "outside = ms.KFold(n_splits=10, shuffle = True)\n",
    "\n",
    "nr.seed(498)\n",
    "scoring = 'r2'\n",
    "#custom_scorer = make_scorer(mape, greater_is_better=False)\n",
    "cv_estimate = ms.cross_val_score(RF_baseline, X_train, y_train, \n",
    "                                 cv = outside,  scoring = scoring) # Use the outside folds\n",
    "print('Mean performance metric = %4.3f' % np.mean(cv_estimate))\n",
    "print('SDT of the metric       = %4.3f' % np.std(cv_estimate))\n",
    "print('Outcomes by cv fold')\n",
    "for i, x in enumerate(cv_estimate):\n",
    "    print('Fold %2d    %4.3f' % (i+1, x))"
   ]
  },
  {
   "cell_type": "markdown",
   "metadata": {
    "colab_type": "text",
    "id": "BQ4MEGv7JmLs"
   },
   "source": [
    "#### **Hyperparameter tuning**"
   ]
  },
  {
   "cell_type": "markdown",
   "metadata": {
    "colab_type": "text",
    "id": "sUPhVzDBNWvj"
   },
   "source": [
    "##### **No of Trees**"
   ]
  },
  {
   "cell_type": "code",
   "execution_count": 21,
   "metadata": {
    "colab": {
     "base_uri": "https://localhost:8080/",
     "height": 52
    },
    "colab_type": "code",
    "id": "3K-7sIPLxpyP",
    "outputId": "3800bb64-96ac-4e61-8381-527ca238dc29"
   },
   "outputs": [
    {
     "name": "stdout",
     "output_type": "stream",
     "text": [
      "{'n_estimators': 100}\n"
     ]
    }
   ],
   "source": [
    "nr.seed(3456)\n",
    "## Define the dictionary for the grid search and the model object to search on\n",
    "# Number of trees in random forest\n",
    "n_estimators = [100, 200, 300, 400, 500, 600, 700, 800, 900, 1000]\n",
    "\n",
    "#param_grid = {\"n_estimators\": [100, 200, 300, 400, 500, 600, 700, 800, 900, 1000]}\n",
    "# param_grid = {'n_estimators': n_estimators,\n",
    "#                'max_features': max_features,\n",
    "#                'max_depth': max_depth,\n",
    "#                'min_samples_split': min_samples_split,\n",
    "#                'min_samples_leaf': min_samples_leaf,\n",
    "#                'bootstrap': bootstrap}\n",
    "param_grid = {'n_estimators': n_estimators}\n",
    "#print(param_grid)\n",
    "\n",
    "nr.seed(123)\n",
    "inside = ms.KFold(n_splits=10, shuffle = True)\n",
    "\n",
    "## Perform the grid search over the parameters\n",
    "clf = ms.GridSearchCV(estimator = RF_baseline, param_grid = param_grid,scoring = scoring, \n",
    "                      cv = inside, # Use the inside folds\n",
    "                      return_train_score = True)\n",
    "\n",
    "## Fit the cross validated grid search over the data \n",
    "clf.fit(X_train, y_train)\n",
    "\n",
    "## And print the best parameter value\n",
    "print(clf.best_params_)"
   ]
  },
  {
   "cell_type": "markdown",
   "metadata": {
    "colab_type": "text",
    "id": "odeNymbcNPEY"
   },
   "source": [
    "##### **Max Features**"
   ]
  },
  {
   "cell_type": "code",
   "execution_count": 28,
   "metadata": {
    "colab": {
     "base_uri": "https://localhost:8080/",
     "height": 35
    },
    "colab_type": "code",
    "id": "Drq_jPb7TjAQ",
    "outputId": "989b0d90-b7df-43e1-f84b-5a20eb27dcb5"
   },
   "outputs": [
    {
     "name": "stdout",
     "output_type": "stream",
     "text": [
      "{'max_features': 5}\n"
     ]
    }
   ],
   "source": [
    "nr.seed(786)\n",
    "## Define the dictionary for the grid search and the model object to search on\n",
    "param_grid = {\"max_features\": [1,2,3,4,5,6,7,8]}\n",
    "\n",
    "RF_2 = RandomForestRegressor(bootstrap=True, criterion='mse', max_depth=None,\n",
    "                      max_features='auto', max_leaf_nodes=None,\n",
    "                      min_impurity_decrease=0.0, min_impurity_split=None,\n",
    "                      min_samples_leaf=1, min_samples_split=2,\n",
    "                      min_weight_fraction_leaf=0.0, n_estimators=500,\n",
    "                      n_jobs=None, oob_score=False, random_state=123, verbose=0,\n",
    "                      warm_start=False)\n",
    "\n",
    "## Perform the grid search over the parameters\n",
    "clf = ms.GridSearchCV(estimator = RF_2, param_grid = param_grid, scoring = scoring, \n",
    "                      cv = inside, # Use the inside folds\n",
    "                      return_train_score = True)\n",
    "\n",
    "## Fit the cross validated grid search over the data \n",
    "clf.fit(X_train, y_train)\n",
    "\n",
    "## And print the best parameter value\n",
    "print(clf.best_params_)"
   ]
  },
  {
   "cell_type": "markdown",
   "metadata": {
    "colab_type": "text",
    "id": "ByTx-nJEO5lY"
   },
   "source": [
    "##### **Max_depth**"
   ]
  },
  {
   "cell_type": "code",
   "execution_count": 29,
   "metadata": {
    "colab": {
     "base_uri": "https://localhost:8080/",
     "height": 35
    },
    "colab_type": "code",
    "id": "4UTqmqv7O9wa",
    "outputId": "7eee697d-ed06-45ba-baf0-8b3a0f288568"
   },
   "outputs": [
    {
     "name": "stdout",
     "output_type": "stream",
     "text": [
      "{'max_depth': 30}\n"
     ]
    }
   ],
   "source": [
    "nr.seed(786)\n",
    "## Define the dictionary for the grid search and the model object to search on\n",
    "param_grid = {\"max_depth\": [10,20,30,40,50,60,70,80,90,100, None]}\n",
    "\n",
    "RF_3 = RandomForestRegressor(bootstrap=True, criterion='mse', max_depth=None,\n",
    "                      max_features=5, max_leaf_nodes=None,\n",
    "                      min_impurity_decrease=0.0, min_impurity_split=None,\n",
    "                      min_samples_leaf=1, min_samples_split=2,\n",
    "                      min_weight_fraction_leaf=0.0, n_estimators=100,\n",
    "                      n_jobs=None, oob_score=False, random_state=123, verbose=0,\n",
    "                      warm_start=False)\n",
    "\n",
    "## Perform the grid search over the parameters\n",
    "clf = ms.GridSearchCV(estimator = RF_3, param_grid = param_grid, scoring = scoring, \n",
    "                      cv = inside, # Use the inside folds\n",
    "                      return_train_score = True)\n",
    "\n",
    "## Fit the cross validated grid search over the data \n",
    "clf.fit(X_train, y_train)\n",
    "\n",
    "## And print the best parameter value\n",
    "print(clf.best_params_)"
   ]
  },
  {
   "cell_type": "markdown",
   "metadata": {
    "colab_type": "text",
    "id": "ubdelNSkSQjA"
   },
   "source": [
    "##### **Min Sample split**"
   ]
  },
  {
   "cell_type": "code",
   "execution_count": 30,
   "metadata": {
    "colab": {
     "base_uri": "https://localhost:8080/",
     "height": 35
    },
    "colab_type": "code",
    "id": "5rhZX2xSSPPJ",
    "outputId": "636b15b7-2a37-4950-edb1-a122a2e78fd2"
   },
   "outputs": [
    {
     "name": "stdout",
     "output_type": "stream",
     "text": [
      "{'min_samples_split': 6}\n"
     ]
    }
   ],
   "source": [
    "\n",
    "nr.seed(786)\n",
    "## Define the dictionary for the grid search and the model object to search on\n",
    "param_grid = {\"min_samples_split\": [2, 3, 4, 5, 6, 7, 8, 9, 10]}\n",
    "\n",
    "RF_4 = RandomForestRegressor(bootstrap=True, criterion='mse', max_depth=30,\n",
    "                      max_features=5, max_leaf_nodes=None,\n",
    "                      min_impurity_decrease=0.0, min_impurity_split=None,\n",
    "                      min_samples_leaf=1, min_samples_split=2,\n",
    "                      min_weight_fraction_leaf=0.0, n_estimators=100,\n",
    "                      n_jobs=None, oob_score=False, random_state=123, verbose=0,\n",
    "                      warm_start=False)\n",
    "\n",
    "## Perform the grid search over the parameters\n",
    "clf = ms.GridSearchCV(estimator = RF_4, param_grid = param_grid, scoring = scoring, \n",
    "                      cv = inside, # Use the inside folds\n",
    "                      return_train_score = True)\n",
    "\n",
    "## Fit the cross validated grid search over the data \n",
    "clf.fit(X_train, y_train)\n",
    "\n",
    "## And print the best parameter value\n",
    "print(clf.best_params_)"
   ]
  },
  {
   "cell_type": "markdown",
   "metadata": {
    "colab_type": "text",
    "id": "RppN4eNIUEK8"
   },
   "source": [
    "##### **min_samples_leaf**"
   ]
  },
  {
   "cell_type": "code",
   "execution_count": 31,
   "metadata": {
    "colab": {
     "base_uri": "https://localhost:8080/",
     "height": 35
    },
    "colab_type": "code",
    "id": "Pt4R28MiUKSy",
    "outputId": "4b59a1fb-87fd-4af2-b1b4-9e4007ee9b5a"
   },
   "outputs": [
    {
     "name": "stdout",
     "output_type": "stream",
     "text": [
      "{'min_samples_leaf': 3}\n"
     ]
    }
   ],
   "source": [
    "\n",
    "nr.seed(786)\n",
    "## Define the dictionary for the grid search and the model object to search on\n",
    "param_grid = {\"min_samples_leaf\": [1, 2, 3, 4, 5]}\n",
    "\n",
    "RF_5 = RandomForestRegressor(bootstrap=True, criterion='mse', max_depth=30,\n",
    "                      max_features=5, max_leaf_nodes=None,\n",
    "                      min_impurity_decrease=0.0, min_impurity_split=None,\n",
    "                      min_samples_leaf=1, min_samples_split=6,\n",
    "                      min_weight_fraction_leaf=0.0, n_estimators=100,\n",
    "                      n_jobs=None, oob_score=False, random_state=123, verbose=0,\n",
    "                      warm_start=False)\n",
    "\n",
    "## Perform the grid search over the parameters\n",
    "clf = ms.GridSearchCV(estimator = RF_5, param_grid = param_grid, scoring = scoring, \n",
    "                      cv = inside, # Use the inside folds\n",
    "                      return_train_score = True)\n",
    "\n",
    "## Fit the cross validated grid search over the data \n",
    "clf.fit(X_train, y_train)\n",
    "\n",
    "## And print the best parameter value\n",
    "print(clf.best_params_)"
   ]
  },
  {
   "cell_type": "markdown",
   "metadata": {
    "colab_type": "text",
    "id": "pVt3Y-cJUyfi"
   },
   "source": [
    "##### **Bootstrap**"
   ]
  },
  {
   "cell_type": "code",
   "execution_count": 32,
   "metadata": {
    "colab": {
     "base_uri": "https://localhost:8080/",
     "height": 35
    },
    "colab_type": "code",
    "id": "pZn1IyJGU2Ub",
    "outputId": "65e1ee9f-d3c1-4e2f-f311-c598b716a624"
   },
   "outputs": [
    {
     "name": "stdout",
     "output_type": "stream",
     "text": [
      "{'bootstrap': True}\n"
     ]
    }
   ],
   "source": [
    "\n",
    "nr.seed(786)\n",
    "## Define the dictionary for the grid search and the model object to search on\n",
    "param_grid = {\"bootstrap\": [True, False]}\n",
    "\n",
    "RF_6 = RandomForestRegressor(bootstrap=True, criterion='mse', max_depth=30,\n",
    "                      max_features=5, max_leaf_nodes=None,\n",
    "                      min_impurity_decrease=0.0, min_impurity_split=None,\n",
    "                      min_samples_leaf=3, min_samples_split=6,\n",
    "                      min_weight_fraction_leaf=0.0, n_estimators=100,\n",
    "                      n_jobs=None, oob_score=False, random_state=123, verbose=0,\n",
    "                      warm_start=False)\n",
    "\n",
    "## Perform the grid search over the parameters\n",
    "clf = ms.GridSearchCV(estimator = RF_6, param_grid = param_grid, scoring = scoring, \n",
    "                      cv = inside, # Use the inside folds\n",
    "                      return_train_score = True)\n",
    "\n",
    "## Fit the cross validated grid search over the data \n",
    "clf.fit(X_train, y_train)\n",
    "\n",
    "## And print the best parameter value\n",
    "print(clf.best_params_)"
   ]
  },
  {
   "cell_type": "markdown",
   "metadata": {
    "colab_type": "text",
    "id": "MR29ny8uVFU8"
   },
   "source": [
    "##### **Criterian**"
   ]
  },
  {
   "cell_type": "code",
   "execution_count": 33,
   "metadata": {
    "colab": {
     "base_uri": "https://localhost:8080/",
     "height": 35
    },
    "colab_type": "code",
    "id": "iYLEzY2OVJyJ",
    "outputId": "3f900c84-0fc1-471d-f5da-e6b64bda24d3"
   },
   "outputs": [
    {
     "name": "stdout",
     "output_type": "stream",
     "text": [
      "{'criterion': 'mse'}\n"
     ]
    }
   ],
   "source": [
    "nr.seed(786)\n",
    "## Define the dictionary for the grid search and the model object to search on\n",
    "param_grid = {\"criterion\": ['mse', 'mae']}\n",
    "\n",
    "RF_7 = RandomForestRegressor(bootstrap=True, criterion='mse', max_depth=30,\n",
    "                      max_features=5, max_leaf_nodes=None,\n",
    "                      min_impurity_decrease=0.0, min_impurity_split=None,\n",
    "                      min_samples_leaf=3, min_samples_split=6,\n",
    "                      min_weight_fraction_leaf=0.0, n_estimators=100,\n",
    "                      n_jobs=None, oob_score=False, random_state=123, verbose=0,\n",
    "                      warm_start=False)\n",
    "\n",
    "## Perform the grid search over the parameters\n",
    "clf = ms.GridSearchCV(estimator = RF_7, param_grid = param_grid, scoring = scoring, \n",
    "                      cv = inside, # Use the inside folds\n",
    "                      return_train_score = True)\n",
    "\n",
    "## Fit the cross validated grid search over the data \n",
    "clf.fit(X_train, y_train)\n",
    "\n",
    "## And print the best parameter value\n",
    "print(clf.best_params_)"
   ]
  },
  {
   "cell_type": "markdown",
   "metadata": {
    "colab_type": "text",
    "id": "KTLN60N3Vk9M"
   },
   "source": [
    "#### **Tuned RandomForest**"
   ]
  },
  {
   "cell_type": "code",
   "execution_count": 34,
   "metadata": {
    "colab": {
     "base_uri": "https://localhost:8080/",
     "height": 381
    },
    "colab_type": "code",
    "id": "zHogNT1aVoMH",
    "outputId": "1a544716-3d70-441b-8c4f-a0e6f80e14c7"
   },
   "outputs": [
    {
     "name": "stdout",
     "output_type": "stream",
     "text": [
      "Mean Square Error      = 0.34599169707424676\n",
      "Root Mean Square Error = 0.588210589053144\n",
      "Mean Absolute Error    = 0.3186791552075097\n",
      "Median Absolute Error  = 0.15875159171015873\n",
      "R^2                    = 0.8119287313987098\n",
      "MAPE                    = 6.210711663571468\n",
      " \n",
      "Cross validation result\n",
      "Mean performance metric = 0.764\n",
      "SDT of the metric       = 0.055\n",
      "Outcomes by cv fold\n",
      "Fold  1    0.723\n",
      "Fold  2    0.772\n",
      "Fold  3    0.764\n",
      "Fold  4    0.873\n",
      "Fold  5    0.800\n",
      "Fold  6    0.683\n",
      "Fold  7    0.793\n",
      "Fold  8    0.813\n",
      "Fold  9    0.711\n",
      "Fold 10    0.707\n"
     ]
    }
   ],
   "source": [
    "outside = ms.KFold(n_splits=10, shuffle = True)\n",
    "\n",
    "nr.seed(498)\n",
    "scoring = 'r2'\n",
    "model = RandomForestRegressor(bootstrap=True, criterion='mse', max_depth=30,\n",
    "                      max_features=5, max_leaf_nodes=None,\n",
    "                      min_impurity_decrease=0.0, min_impurity_split=None,\n",
    "                      min_samples_leaf=3, min_samples_split=6,\n",
    "                      min_weight_fraction_leaf=0.0, n_estimators=100,\n",
    "                      n_jobs=None, oob_score=False, random_state=123, verbose=0,\n",
    "                      warm_start=False) \n",
    "\n",
    "model = model.fit(X_train, y_train)\n",
    "y_predict_validation = model.predict(X_validation)\n",
    "\n",
    "# Accuracy on validation data\n",
    "print_metrics(y_validation, y_predict_validation)\n",
    "print(\" \")\n",
    "print(\"Cross validation result\")\n",
    "#custom_scorer = make_scorer(mape, greater_is_better=False)\n",
    "cv_estimate = ms.cross_val_score(model, X_train, y_train, \n",
    "                                 cv = outside,  scoring = scoring) # Use the outside folds\n",
    "\n",
    "print('Mean performance metric = %4.3f' % np.mean(cv_estimate))\n",
    "print('SDT of the metric       = %4.3f' % np.std(cv_estimate))\n",
    "print('Outcomes by cv fold')\n",
    "for i, x in enumerate(cv_estimate):\n",
    "    print('Fold %2d    %4.3f' % (i+1, x))"
   ]
  },
  {
   "cell_type": "markdown",
   "metadata": {
    "colab_type": "text",
    "id": "aFC3MBJhXErm"
   },
   "source": [
    "### **Final Score**"
   ]
  },
  {
   "cell_type": "code",
   "execution_count": 35,
   "metadata": {
    "colab": {
     "base_uri": "https://localhost:8080/",
     "height": 121
    },
    "colab_type": "code",
    "id": "UCIS-r6pXEOA",
    "outputId": "a521a03b-2afa-4050-fc3d-a7f3e9bfe8a5"
   },
   "outputs": [
    {
     "name": "stdout",
     "output_type": "stream",
     "text": [
      "Mean Square Error      = 0.5954506787094186\n",
      "Root Mean Square Error = 0.7716545073473092\n",
      "Mean Absolute Error    = 0.36292597527882686\n",
      "Median Absolute Error  = 0.16414738845143173\n",
      "R^2                    = 0.7142320177019772\n",
      "MAPE                    = 7.993487594125913\n"
     ]
    }
   ],
   "source": [
    "y_predict_test = model.predict(X_test)\n",
    "\n",
    "# Accuracy on validation data\n",
    "print_metrics(y_test, y_predict_test)"
   ]
  },
  {
   "cell_type": "markdown",
   "metadata": {
    "colab_type": "text",
    "id": "V5qXzcMYCOJm"
   },
   "source": [
    "## **Predicting test data**"
   ]
  },
  {
   "cell_type": "code",
   "execution_count": 36,
   "metadata": {
    "colab": {
     "base_uri": "https://localhost:8080/",
     "height": 35
    },
    "colab_type": "code",
    "id": "clMJ3POJCSLs",
    "outputId": "0829b6ef-49f3-429e-e0d1-9b8dc2b0e8ee"
   },
   "outputs": [
    {
     "name": "stdout",
     "output_type": "stream",
     "text": [
      "Shape of features : (180, 8)\n"
     ]
    }
   ],
   "source": [
    "test_v2 = test.drop(['id'], axis = 1)\n",
    "test_v2 = feature_eng(test_v2)\n",
    "\n",
    "print(\"Shape of features :\", test_v2.shape)"
   ]
  },
  {
   "cell_type": "code",
   "execution_count": 37,
   "metadata": {
    "colab": {
     "base_uri": "https://localhost:8080/",
     "height": 202
    },
    "colab_type": "code",
    "id": "9JYwdTC-CuHK",
    "outputId": "8fdf9fab-7b04-4457-9ec3-1c85dcb1cab6"
   },
   "outputs": [
    {
     "data": {
      "text/html": [
       "<div>\n",
       "<style scoped>\n",
       "    .dataframe tbody tr th:only-of-type {\n",
       "        vertical-align: middle;\n",
       "    }\n",
       "\n",
       "    .dataframe tbody tr th {\n",
       "        vertical-align: top;\n",
       "    }\n",
       "\n",
       "    .dataframe thead th {\n",
       "        text-align: right;\n",
       "    }\n",
       "</style>\n",
       "<table border=\"1\" class=\"dataframe\">\n",
       "  <thead>\n",
       "    <tr style=\"text-align: right;\">\n",
       "      <th></th>\n",
       "      <th>segment</th>\n",
       "      <th>year</th>\n",
       "      <th>Month</th>\n",
       "      <th>Date</th>\n",
       "      <th>weekday</th>\n",
       "      <th>is_weekend</th>\n",
       "      <th>Seasons</th>\n",
       "      <th>lean_period</th>\n",
       "    </tr>\n",
       "  </thead>\n",
       "  <tbody>\n",
       "    <tr>\n",
       "      <th>0</th>\n",
       "      <td>1</td>\n",
       "      <td>2019</td>\n",
       "      <td>7</td>\n",
       "      <td>6</td>\n",
       "      <td>Saturday</td>\n",
       "      <td>1</td>\n",
       "      <td>Monsoon</td>\n",
       "      <td>1</td>\n",
       "    </tr>\n",
       "    <tr>\n",
       "      <th>1</th>\n",
       "      <td>1</td>\n",
       "      <td>2019</td>\n",
       "      <td>7</td>\n",
       "      <td>7</td>\n",
       "      <td>Sunday</td>\n",
       "      <td>1</td>\n",
       "      <td>Monsoon</td>\n",
       "      <td>1</td>\n",
       "    </tr>\n",
       "    <tr>\n",
       "      <th>2</th>\n",
       "      <td>1</td>\n",
       "      <td>2019</td>\n",
       "      <td>7</td>\n",
       "      <td>8</td>\n",
       "      <td>Monday</td>\n",
       "      <td>0</td>\n",
       "      <td>Monsoon</td>\n",
       "      <td>1</td>\n",
       "    </tr>\n",
       "    <tr>\n",
       "      <th>3</th>\n",
       "      <td>1</td>\n",
       "      <td>2019</td>\n",
       "      <td>7</td>\n",
       "      <td>9</td>\n",
       "      <td>Tuesday</td>\n",
       "      <td>0</td>\n",
       "      <td>Monsoon</td>\n",
       "      <td>1</td>\n",
       "    </tr>\n",
       "    <tr>\n",
       "      <th>4</th>\n",
       "      <td>1</td>\n",
       "      <td>2019</td>\n",
       "      <td>7</td>\n",
       "      <td>10</td>\n",
       "      <td>Wednesday</td>\n",
       "      <td>0</td>\n",
       "      <td>Monsoon</td>\n",
       "      <td>1</td>\n",
       "    </tr>\n",
       "  </tbody>\n",
       "</table>\n",
       "</div>"
      ],
      "text/plain": [
       "   segment  year  Month  Date    weekday  is_weekend  Seasons  lean_period\n",
       "0        1  2019      7     6   Saturday           1  Monsoon            1\n",
       "1        1  2019      7     7     Sunday           1  Monsoon            1\n",
       "2        1  2019      7     8     Monday           0  Monsoon            1\n",
       "3        1  2019      7     9    Tuesday           0  Monsoon            1\n",
       "4        1  2019      7    10  Wednesday           0  Monsoon            1"
      ]
     },
     "execution_count": 37,
     "metadata": {},
     "output_type": "execute_result"
    }
   ],
   "source": [
    "feature_list = X.columns.tolist()\n",
    "dummy_add = list(set(feature_list) - set(test_v2.columns))\n",
    "\n",
    "for newcol in dummy_add:\n",
    "    test_v2[newcol] = 0\n",
    "\n",
    "test_v2 = test_v2[feature_list]\n",
    "\n",
    "test_v2.head()"
   ]
  },
  {
   "cell_type": "code",
   "execution_count": 38,
   "metadata": {
    "colab": {
     "base_uri": "https://localhost:8080/",
     "height": 35
    },
    "colab_type": "code",
    "id": "QZTLLGV2XslW",
    "outputId": "771a4e37-371f-4899-d94b-3af2fe0b79af"
   },
   "outputs": [
    {
     "name": "stdout",
     "output_type": "stream",
     "text": [
      "Number of rows and columns in test dataset: (180, 8)\n"
     ]
    }
   ],
   "source": [
    "test_v2 = full_pipeline.transform(test_v2)\n",
    "\n",
    "print(\"Number of rows and columns in test dataset:\",test_v2.shape)"
   ]
  },
  {
   "cell_type": "code",
   "execution_count": 39,
   "metadata": {
    "colab": {
     "base_uri": "https://localhost:8080/",
     "height": 202
    },
    "colab_type": "code",
    "id": "hC8GpD_5kFBM",
    "outputId": "033395f5-6cfc-40a0-c848-b17ab0306873"
   },
   "outputs": [
    {
     "data": {
      "text/html": [
       "<div>\n",
       "<style scoped>\n",
       "    .dataframe tbody tr th:only-of-type {\n",
       "        vertical-align: middle;\n",
       "    }\n",
       "\n",
       "    .dataframe tbody tr th {\n",
       "        vertical-align: top;\n",
       "    }\n",
       "\n",
       "    .dataframe thead th {\n",
       "        text-align: right;\n",
       "    }\n",
       "</style>\n",
       "<table border=\"1\" class=\"dataframe\">\n",
       "  <thead>\n",
       "    <tr style=\"text-align: right;\">\n",
       "      <th></th>\n",
       "      <th>id</th>\n",
       "      <th>application_date</th>\n",
       "      <th>segment</th>\n",
       "      <th>case_count</th>\n",
       "    </tr>\n",
       "  </thead>\n",
       "  <tbody>\n",
       "    <tr>\n",
       "      <th>0</th>\n",
       "      <td>1</td>\n",
       "      <td>2019-07-06</td>\n",
       "      <td>1</td>\n",
       "      <td>1863.00</td>\n",
       "    </tr>\n",
       "    <tr>\n",
       "      <th>1</th>\n",
       "      <td>2</td>\n",
       "      <td>2019-07-07</td>\n",
       "      <td>1</td>\n",
       "      <td>1540.00</td>\n",
       "    </tr>\n",
       "    <tr>\n",
       "      <th>2</th>\n",
       "      <td>3</td>\n",
       "      <td>2019-07-08</td>\n",
       "      <td>1</td>\n",
       "      <td>3009.00</td>\n",
       "    </tr>\n",
       "    <tr>\n",
       "      <th>3</th>\n",
       "      <td>4</td>\n",
       "      <td>2019-07-09</td>\n",
       "      <td>1</td>\n",
       "      <td>3234.00</td>\n",
       "    </tr>\n",
       "    <tr>\n",
       "      <th>4</th>\n",
       "      <td>5</td>\n",
       "      <td>2019-07-10</td>\n",
       "      <td>1</td>\n",
       "      <td>3341.00</td>\n",
       "    </tr>\n",
       "  </tbody>\n",
       "</table>\n",
       "</div>"
      ],
      "text/plain": [
       "   id application_date  segment  case_count\n",
       "0   1       2019-07-06        1     1863.00\n",
       "1   2       2019-07-07        1     1540.00\n",
       "2   3       2019-07-08        1     3009.00\n",
       "3   4       2019-07-09        1     3234.00\n",
       "4   5       2019-07-10        1     3341.00"
      ]
     },
     "execution_count": 39,
     "metadata": {},
     "output_type": "execute_result"
    }
   ],
   "source": [
    "test['case_count'] = np.exp(model.predict(test_v2))\n",
    "test['case_count'] = test['case_count'].round(0)\n",
    "test.head()"
   ]
  },
  {
   "cell_type": "code",
   "execution_count": 40,
   "metadata": {
    "colab": {},
    "colab_type": "code",
    "id": "Ud6cdm84xpyx"
   },
   "outputs": [],
   "source": [
    "Submission = test[['id', 'application_date', 'segment', 'case_count']]\n",
    "\n",
    "Submission.to_csv(\"./Output/Submission_v5.csv\", index = False)"
   ]
  }
 ],
 "metadata": {
  "accelerator": "GPU",
  "colab": {
   "collapsed_sections": [],
   "name": "LTFS_Data_Science_FinHack_2_regression_v4.ipynb",
   "provenance": []
  },
  "kernelspec": {
   "display_name": "Python 3",
   "language": "python",
   "name": "python3"
  },
  "language_info": {
   "codemirror_mode": {
    "name": "ipython",
    "version": 3
   },
   "file_extension": ".py",
   "mimetype": "text/x-python",
   "name": "python",
   "nbconvert_exporter": "python",
   "pygments_lexer": "ipython3",
   "version": "3.7.1"
  }
 },
 "nbformat": 4,
 "nbformat_minor": 1
}
