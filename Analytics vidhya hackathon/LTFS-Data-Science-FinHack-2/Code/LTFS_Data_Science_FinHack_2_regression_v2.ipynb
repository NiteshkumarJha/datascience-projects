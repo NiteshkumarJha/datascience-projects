{
 "cells": [
  {
   "cell_type": "markdown",
   "metadata": {
    "colab_type": "text",
    "id": "lW6Vh68CvHr9"
   },
   "source": [
    "# **LTFS Data Science FinHack 2**\n",
    "\n",
    "## **Problem statement**\n",
    "\n",
    "LTFS receives a lot of requests for its various finance offerings that include housing loan, two-wheeler loan, real estate financing and micro loans. The number of applications received is something that varies a lot with season. Going through these applications is a manual process and is tedious. Accurately forecasting the number of cases received can help with resource and manpower management resulting into quick response on applications and more efficient processing.\n",
    "\n",
    "We have been appointed with the task of forecasting daily cases for **next 3 months for 2 different business segments** at the **country level** keeping in consideration the following major Indian festivals (inclusive but not exhaustive list): Diwali, Dussehra, Ganesh Chaturthi, Navratri, Holi etc. (We are free to use any publicly available open source external datasets). Some other examples could be:\n",
    "\n",
    " + Weather\n",
    " + Macroeconomic variables\n",
    "\n",
    "we also note that the external dataset must belong to a reliable source.\n",
    "\n",
    "## **Data Dictionary**\n",
    "\n",
    "The train data has been provided in the following way:\n",
    "\n",
    " + For business segment 1, historical data has been made available at branch ID level\n",
    " + For business segment 2, historical data has been made available at State level.\n",
    " \n",
    "\n",
    "## **Train File**\n",
    "\n",
    "|Variable|\tDefinition|\n",
    "|:------:|:----------:|\n",
    "|application_date|Date of application|\n",
    "|application_date|\tDate of application|\n",
    "|segment|\tBusiness Segment (1/2)|\n",
    "|branch_id|\tAnonymised id for branch at which application was received|\n",
    "|state|\tState in which application was received (Karnataka, MP etc.)|\n",
    "|zone|\tZone of state in which application was received (Central, East etc.)|\n",
    "|case_count|\t(Target) Number of cases/applications received|\n",
    "\n",
    "## **Test File**\n",
    "\n",
    "Forecasting needs to be done at country level for the dates provided in test set for each segment.\n",
    "\n",
    "|Variable|\tDefinition|\n",
    "|:------:|:----------:|\n",
    "|id|\tUnique id for each sample in test set|\n",
    "|application_date|\tDate of application|\n",
    "| segment|\tBusiness Segment (1/2)|\n",
    "\n",
    "## **Evaluation**\n",
    "\n",
    "**Evaluation Metric**\n",
    "\n",
    "The evaluation metric for scoring the forecasts is MAPE (Mean Absolute Percentage Error) M with the formula:\n",
    "\n",
    "$$M = \\frac{100}{n}\\sum_{t = 1}^{n}|\\frac{A_t - F_t}{A_t}|$$\n",
    " \n",
    "Where $A_t$ is the actual value and $F_t$ is the forecast value.\n",
    "\n",
    "\n",
    "The Final score is calculated using $MAPE$ for both the segments using the formula:\n",
    "\n",
    "$Final Score = 0.5*MAPE_{Segment1} + 0.5*MAPE_{Segment2}$\n"
   ]
  },
  {
   "cell_type": "markdown",
   "metadata": {
    "colab_type": "text",
    "id": "N-vGpTKiAR1Y"
   },
   "source": [
    "## **Getting started**"
   ]
  },
  {
   "cell_type": "markdown",
   "metadata": {
    "colab_type": "text",
    "id": "xYFLOVn80m5U"
   },
   "source": [
    "### **Importing libraries**"
   ]
  },
  {
   "cell_type": "code",
   "execution_count": 1,
   "metadata": {
    "colab": {},
    "colab_type": "code",
    "id": "4wCxeTR3u6yN"
   },
   "outputs": [],
   "source": [
    "import numpy as np\n",
    "import pandas as pd\n",
    "import matplotlib.pyplot as plt\n",
    "import seaborn as sns\n",
    "import scipy.stats as ss\n",
    "%matplotlib inline\n",
    "\n",
    "pd.set_option('display.max_rows', 100)\n",
    "pd.set_option('display.max_columns', 100)\n",
    "pd.set_option('display.float_format', lambda x: '%.2f' % x)"
   ]
  },
  {
   "cell_type": "markdown",
   "metadata": {
    "colab_type": "text",
    "id": "-LexknjbArnb"
   },
   "source": [
    "### **Reading data**"
   ]
  },
  {
   "cell_type": "code",
   "execution_count": 2,
   "metadata": {},
   "outputs": [],
   "source": [
    "# Setting the path\n",
    "import os\n",
    "path = \"E:/Data Science/LTFS-Data-Science-FinHack-2\"\n",
    "os.chdir(path)"
   ]
  },
  {
   "cell_type": "code",
   "execution_count": 3,
   "metadata": {},
   "outputs": [],
   "source": [
    "# Importing the dataset\n",
    "train = pd.read_csv(\"./Input/train_fwYjLYX.csv\")\n",
    "test = pd.read_csv(\"./Input/test_1eLl9Yf.csv\")\n",
    "Sample_submission = pd.read_csv(\"./Input/sample_submission_IIzFVsf.csv\")"
   ]
  },
  {
   "cell_type": "markdown",
   "metadata": {
    "colab_type": "text",
    "id": "-iWd6d4FBz5q"
   },
   "source": [
    "## **Data Preprocessing**"
   ]
  },
  {
   "cell_type": "code",
   "execution_count": 4,
   "metadata": {
    "colab": {
     "base_uri": "https://localhost:8080/",
     "height": 202
    },
    "colab_type": "code",
    "id": "2OYM4vA5B3Kf",
    "outputId": "7a8ad492-42ab-450a-83c8-64c8a887e683"
   },
   "outputs": [
    {
     "data": {
      "text/html": [
       "<div>\n",
       "<style scoped>\n",
       "    .dataframe tbody tr th:only-of-type {\n",
       "        vertical-align: middle;\n",
       "    }\n",
       "\n",
       "    .dataframe tbody tr th {\n",
       "        vertical-align: top;\n",
       "    }\n",
       "\n",
       "    .dataframe thead th {\n",
       "        text-align: right;\n",
       "    }\n",
       "</style>\n",
       "<table border=\"1\" class=\"dataframe\">\n",
       "  <thead>\n",
       "    <tr style=\"text-align: right;\">\n",
       "      <th></th>\n",
       "      <th>application_date</th>\n",
       "      <th>segment</th>\n",
       "      <th>branch_id</th>\n",
       "      <th>state</th>\n",
       "      <th>zone</th>\n",
       "      <th>case_count</th>\n",
       "    </tr>\n",
       "  </thead>\n",
       "  <tbody>\n",
       "    <tr>\n",
       "      <th>0</th>\n",
       "      <td>2017-04-01</td>\n",
       "      <td>1</td>\n",
       "      <td>1.00</td>\n",
       "      <td>WEST BENGAL</td>\n",
       "      <td>EAST</td>\n",
       "      <td>40.00</td>\n",
       "    </tr>\n",
       "    <tr>\n",
       "      <th>1</th>\n",
       "      <td>2017-04-03</td>\n",
       "      <td>1</td>\n",
       "      <td>1.00</td>\n",
       "      <td>WEST BENGAL</td>\n",
       "      <td>EAST</td>\n",
       "      <td>5.00</td>\n",
       "    </tr>\n",
       "    <tr>\n",
       "      <th>2</th>\n",
       "      <td>2017-04-04</td>\n",
       "      <td>1</td>\n",
       "      <td>1.00</td>\n",
       "      <td>WEST BENGAL</td>\n",
       "      <td>EAST</td>\n",
       "      <td>4.00</td>\n",
       "    </tr>\n",
       "    <tr>\n",
       "      <th>3</th>\n",
       "      <td>2017-04-05</td>\n",
       "      <td>1</td>\n",
       "      <td>1.00</td>\n",
       "      <td>WEST BENGAL</td>\n",
       "      <td>EAST</td>\n",
       "      <td>113.00</td>\n",
       "    </tr>\n",
       "    <tr>\n",
       "      <th>4</th>\n",
       "      <td>2017-04-07</td>\n",
       "      <td>1</td>\n",
       "      <td>1.00</td>\n",
       "      <td>WEST BENGAL</td>\n",
       "      <td>EAST</td>\n",
       "      <td>76.00</td>\n",
       "    </tr>\n",
       "  </tbody>\n",
       "</table>\n",
       "</div>"
      ],
      "text/plain": [
       "  application_date  segment  branch_id        state  zone  case_count\n",
       "0       2017-04-01        1       1.00  WEST BENGAL  EAST       40.00\n",
       "1       2017-04-03        1       1.00  WEST BENGAL  EAST        5.00\n",
       "2       2017-04-04        1       1.00  WEST BENGAL  EAST        4.00\n",
       "3       2017-04-05        1       1.00  WEST BENGAL  EAST      113.00\n",
       "4       2017-04-07        1       1.00  WEST BENGAL  EAST       76.00"
      ]
     },
     "execution_count": 4,
     "metadata": {},
     "output_type": "execute_result"
    }
   ],
   "source": [
    "train.head()"
   ]
  },
  {
   "cell_type": "code",
   "execution_count": 5,
   "metadata": {
    "colab": {
     "base_uri": "https://localhost:8080/",
     "height": 202
    },
    "colab_type": "code",
    "id": "0oyr1g5CQa8n",
    "outputId": "c72d9fbe-6620-42aa-f39b-b03706770e7a"
   },
   "outputs": [
    {
     "data": {
      "text/html": [
       "<div>\n",
       "<style scoped>\n",
       "    .dataframe tbody tr th:only-of-type {\n",
       "        vertical-align: middle;\n",
       "    }\n",
       "\n",
       "    .dataframe tbody tr th {\n",
       "        vertical-align: top;\n",
       "    }\n",
       "\n",
       "    .dataframe thead th {\n",
       "        text-align: right;\n",
       "    }\n",
       "</style>\n",
       "<table border=\"1\" class=\"dataframe\">\n",
       "  <thead>\n",
       "    <tr style=\"text-align: right;\">\n",
       "      <th></th>\n",
       "      <th>application_date</th>\n",
       "      <th>segment</th>\n",
       "      <th>case_count</th>\n",
       "    </tr>\n",
       "  </thead>\n",
       "  <tbody>\n",
       "    <tr>\n",
       "      <th>0</th>\n",
       "      <td>2017-04-01</td>\n",
       "      <td>1</td>\n",
       "      <td>299.00</td>\n",
       "    </tr>\n",
       "    <tr>\n",
       "      <th>1</th>\n",
       "      <td>2017-04-01</td>\n",
       "      <td>2</td>\n",
       "      <td>897.00</td>\n",
       "    </tr>\n",
       "    <tr>\n",
       "      <th>2</th>\n",
       "      <td>2017-04-02</td>\n",
       "      <td>2</td>\n",
       "      <td>605.00</td>\n",
       "    </tr>\n",
       "    <tr>\n",
       "      <th>3</th>\n",
       "      <td>2017-04-03</td>\n",
       "      <td>1</td>\n",
       "      <td>42.00</td>\n",
       "    </tr>\n",
       "    <tr>\n",
       "      <th>4</th>\n",
       "      <td>2017-04-03</td>\n",
       "      <td>2</td>\n",
       "      <td>2016.00</td>\n",
       "    </tr>\n",
       "  </tbody>\n",
       "</table>\n",
       "</div>"
      ],
      "text/plain": [
       "  application_date  segment  case_count\n",
       "0       2017-04-01        1      299.00\n",
       "1       2017-04-01        2      897.00\n",
       "2       2017-04-02        2      605.00\n",
       "3       2017-04-03        1       42.00\n",
       "4       2017-04-03        2     2016.00"
      ]
     },
     "execution_count": 5,
     "metadata": {},
     "output_type": "execute_result"
    }
   ],
   "source": [
    "# Data preprocessing function\n",
    "train_v2 = pd.DataFrame(train.groupby(['application_date', 'segment'])['case_count'].sum()).reset_index()\n",
    "train_v2.head()"
   ]
  },
  {
   "cell_type": "markdown",
   "metadata": {
    "colab_type": "text",
    "id": "-9XPZmIF03e3"
   },
   "source": [
    "## **Feature engineering**"
   ]
  },
  {
   "cell_type": "code",
   "execution_count": 6,
   "metadata": {
    "colab": {},
    "colab_type": "code",
    "id": "Hjw7wu0Xwl-g"
   },
   "outputs": [],
   "source": [
    "def feature_eng(train_v2):\n",
    "    train_v2['application_date'] = pd.to_datetime(train_v2['application_date'])\n",
    "    train_v2['year'] = train_v2['application_date'].dt.year\n",
    "    train_v2['Month'] = train_v2['application_date'].dt.month\n",
    "    train_v2['Date'] = train_v2['application_date'].dt.day\n",
    "    train_v2['weekday'] = train_v2['application_date'].dt.weekday_name\n",
    "\n",
    "    Seasons = {6: 'Monsoon', 7: 'Monsoon', 8: 'Monsoon', 9: 'Monsoon',\n",
    "               10: 'Winter', 11: 'Winter', 12: 'Winter', 1: 'Winter',\n",
    "               2: 'Summer', 3: 'Summer', 4: 'Summer', 5: 'Summer'}\n",
    "  \n",
    "    train_v2['Seasons'] = train_v2['Month'].map(Seasons)\n",
    "\n",
    "    train_v2['segment'] = np.where(train_v2['segment'] == 1, 1, 0)\n",
    "\n",
    "    dummy_col = ['weekday', 'Seasons']\n",
    "    temp = train_v2[dummy_col]\n",
    "    temp = pd.get_dummies(temp)\n",
    "\n",
    "    train_v2 = train_v2.drop(dummy_col, axis = 1)\n",
    "    train_v2 = pd.concat([train_v2, temp], axis = 1)\n",
    "\n",
    "    train_v2 = train_v2.drop(['application_date'], axis = 1)\n",
    "  \n",
    "    return train_v2"
   ]
  },
  {
   "cell_type": "markdown",
   "metadata": {
    "colab_type": "text",
    "id": "Fzr862rsNmhw"
   },
   "source": [
    "## **Machine Learning**"
   ]
  },
  {
   "cell_type": "markdown",
   "metadata": {
    "colab_type": "text",
    "id": "5uGscrl28YVj"
   },
   "source": [
    "### **Creating X and y**"
   ]
  },
  {
   "cell_type": "code",
   "execution_count": 7,
   "metadata": {
    "colab": {
     "base_uri": "https://localhost:8080/",
     "height": 257
    },
    "colab_type": "code",
    "id": "77zMeiRZ8Rkt",
    "outputId": "0a2f4924-b577-4130-c9be-d7c86550ece2"
   },
   "outputs": [
    {
     "name": "stdout",
     "output_type": "stream",
     "text": [
      "Shape of features : (1650, 14)\n",
      "Shape of labels : (1650,)\n"
     ]
    },
    {
     "data": {
      "text/html": [
       "<div>\n",
       "<style scoped>\n",
       "    .dataframe tbody tr th:only-of-type {\n",
       "        vertical-align: middle;\n",
       "    }\n",
       "\n",
       "    .dataframe tbody tr th {\n",
       "        vertical-align: top;\n",
       "    }\n",
       "\n",
       "    .dataframe thead th {\n",
       "        text-align: right;\n",
       "    }\n",
       "</style>\n",
       "<table border=\"1\" class=\"dataframe\">\n",
       "  <thead>\n",
       "    <tr style=\"text-align: right;\">\n",
       "      <th></th>\n",
       "      <th>segment</th>\n",
       "      <th>year</th>\n",
       "      <th>Month</th>\n",
       "      <th>Date</th>\n",
       "      <th>weekday_Friday</th>\n",
       "      <th>weekday_Monday</th>\n",
       "      <th>weekday_Saturday</th>\n",
       "      <th>weekday_Sunday</th>\n",
       "      <th>weekday_Thursday</th>\n",
       "      <th>weekday_Tuesday</th>\n",
       "      <th>weekday_Wednesday</th>\n",
       "      <th>Seasons_Monsoon</th>\n",
       "      <th>Seasons_Summer</th>\n",
       "      <th>Seasons_Winter</th>\n",
       "    </tr>\n",
       "  </thead>\n",
       "  <tbody>\n",
       "    <tr>\n",
       "      <th>0</th>\n",
       "      <td>1</td>\n",
       "      <td>2017</td>\n",
       "      <td>4</td>\n",
       "      <td>1</td>\n",
       "      <td>0</td>\n",
       "      <td>0</td>\n",
       "      <td>1</td>\n",
       "      <td>0</td>\n",
       "      <td>0</td>\n",
       "      <td>0</td>\n",
       "      <td>0</td>\n",
       "      <td>0</td>\n",
       "      <td>1</td>\n",
       "      <td>0</td>\n",
       "    </tr>\n",
       "    <tr>\n",
       "      <th>1</th>\n",
       "      <td>0</td>\n",
       "      <td>2017</td>\n",
       "      <td>4</td>\n",
       "      <td>1</td>\n",
       "      <td>0</td>\n",
       "      <td>0</td>\n",
       "      <td>1</td>\n",
       "      <td>0</td>\n",
       "      <td>0</td>\n",
       "      <td>0</td>\n",
       "      <td>0</td>\n",
       "      <td>0</td>\n",
       "      <td>1</td>\n",
       "      <td>0</td>\n",
       "    </tr>\n",
       "    <tr>\n",
       "      <th>2</th>\n",
       "      <td>0</td>\n",
       "      <td>2017</td>\n",
       "      <td>4</td>\n",
       "      <td>2</td>\n",
       "      <td>0</td>\n",
       "      <td>0</td>\n",
       "      <td>0</td>\n",
       "      <td>1</td>\n",
       "      <td>0</td>\n",
       "      <td>0</td>\n",
       "      <td>0</td>\n",
       "      <td>0</td>\n",
       "      <td>1</td>\n",
       "      <td>0</td>\n",
       "    </tr>\n",
       "    <tr>\n",
       "      <th>3</th>\n",
       "      <td>1</td>\n",
       "      <td>2017</td>\n",
       "      <td>4</td>\n",
       "      <td>3</td>\n",
       "      <td>0</td>\n",
       "      <td>1</td>\n",
       "      <td>0</td>\n",
       "      <td>0</td>\n",
       "      <td>0</td>\n",
       "      <td>0</td>\n",
       "      <td>0</td>\n",
       "      <td>0</td>\n",
       "      <td>1</td>\n",
       "      <td>0</td>\n",
       "    </tr>\n",
       "    <tr>\n",
       "      <th>4</th>\n",
       "      <td>0</td>\n",
       "      <td>2017</td>\n",
       "      <td>4</td>\n",
       "      <td>3</td>\n",
       "      <td>0</td>\n",
       "      <td>1</td>\n",
       "      <td>0</td>\n",
       "      <td>0</td>\n",
       "      <td>0</td>\n",
       "      <td>0</td>\n",
       "      <td>0</td>\n",
       "      <td>0</td>\n",
       "      <td>1</td>\n",
       "      <td>0</td>\n",
       "    </tr>\n",
       "  </tbody>\n",
       "</table>\n",
       "</div>"
      ],
      "text/plain": [
       "   segment  year  Month  Date  weekday_Friday  weekday_Monday  \\\n",
       "0        1  2017      4     1               0               0   \n",
       "1        0  2017      4     1               0               0   \n",
       "2        0  2017      4     2               0               0   \n",
       "3        1  2017      4     3               0               1   \n",
       "4        0  2017      4     3               0               1   \n",
       "\n",
       "   weekday_Saturday  weekday_Sunday  weekday_Thursday  weekday_Tuesday  \\\n",
       "0                 1               0                 0                0   \n",
       "1                 1               0                 0                0   \n",
       "2                 0               1                 0                0   \n",
       "3                 0               0                 0                0   \n",
       "4                 0               0                 0                0   \n",
       "\n",
       "   weekday_Wednesday  Seasons_Monsoon  Seasons_Summer  Seasons_Winter  \n",
       "0                  0                0               1               0  \n",
       "1                  0                0               1               0  \n",
       "2                  0                0               1               0  \n",
       "3                  0                0               1               0  \n",
       "4                  0                0               1               0  "
      ]
     },
     "execution_count": 7,
     "metadata": {},
     "output_type": "execute_result"
    }
   ],
   "source": [
    "X = train_v2.drop(['case_count'], axis = 1)\n",
    "y = np.log(train_v2['case_count'])\n",
    "\n",
    "X = feature_eng(X)\n",
    "\n",
    "print(\"Shape of features :\", X.shape)\n",
    "print(\"Shape of labels :\", y.shape)\n",
    "\n",
    "X.head()"
   ]
  },
  {
   "cell_type": "markdown",
   "metadata": {
    "colab_type": "text",
    "id": "S2vCgkCZ9aXR"
   },
   "source": [
    "### **Splitting data into train, validation and test**"
   ]
  },
  {
   "cell_type": "code",
   "execution_count": 8,
   "metadata": {
    "colab": {
     "base_uri": "https://localhost:8080/",
     "height": 121
    },
    "colab_type": "code",
    "id": "WLxZ8UzO9Y_7",
    "outputId": "e0fcf499-bf35-4934-fca8-7c2bcdbb8b30"
   },
   "outputs": [
    {
     "name": "stdout",
     "output_type": "stream",
     "text": [
      "Number of rows and columns in train dataset: (1155, 14)\n",
      "Number of rows and columns in validation dataset: (247, 14)\n",
      "Number of rows and columns in test dataset: (248, 14)\n",
      "Number of rows and columns in target variable for training: (1155,)\n",
      "Number of rows and columns in target variable for validation: (247,)\n",
      "Number of rows and columns in target variable for test: (248,)\n"
     ]
    }
   ],
   "source": [
    "# Dividing data into train and validation set\n",
    "from sklearn.model_selection import train_test_split\n",
    "\n",
    "validation_percent = 0.30\n",
    "test_percent = 0.50\n",
    "seed = 786\n",
    "\n",
    "X_train, X_validation, y_train, y_validation = train_test_split(X, y, test_size = validation_percent, random_state = seed)\n",
    "X_validation, X_test, y_validation, y_test = train_test_split(X_validation, y_validation, test_size = test_percent, random_state = seed)\n",
    "\n",
    "# Shape of data\n",
    "print(\"Number of rows and columns in train dataset:\",X_train.shape)\n",
    "print(\"Number of rows and columns in validation dataset:\",X_validation.shape)\n",
    "print(\"Number of rows and columns in test dataset:\",X_test.shape)\n",
    "\n",
    "print(\"Number of rows and columns in target variable for training:\",y_train.shape)\n",
    "print(\"Number of rows and columns in target variable for validation:\",y_validation.shape)\n",
    "print(\"Number of rows and columns in target variable for test:\",y_test.shape)"
   ]
  },
  {
   "cell_type": "markdown",
   "metadata": {
    "colab_type": "text",
    "id": "aDeSbMvS-Xyk"
   },
   "source": [
    "### **Model evualuation**"
   ]
  },
  {
   "cell_type": "code",
   "execution_count": 9,
   "metadata": {
    "colab": {},
    "colab_type": "code",
    "id": "fZRne4q2-aRo"
   },
   "outputs": [],
   "source": [
    "import sklearn.metrics as sklm\n",
    "from sklearn.svm import LinearSVR, SVR\n",
    "from sklearn.linear_model import LinearRegression, SGDRegressor, Lasso, Ridge, PassiveAggressiveRegressor, Perceptron\n",
    "from sklearn.neighbors import KNeighborsRegressor, NearestCentroid\n",
    "from sklearn.tree import DecisionTreeRegressor\n",
    "from sklearn.ensemble import AdaBoostRegressor, RandomForestRegressor, GradientBoostingRegressor \n",
    "from xgboost import XGBRegressor\n",
    "from sklearn.feature_selection import SelectFromModel\n",
    "from sklearn.pipeline import Pipeline\n",
    "from time import time\n",
    "from sklearn.metrics import mean_squared_error, mean_absolute_error, median_absolute_error, r2_score"
   ]
  },
  {
   "cell_type": "code",
   "execution_count": 10,
   "metadata": {
    "colab": {},
    "colab_type": "code",
    "id": "6xF8DfKa_uWz"
   },
   "outputs": [],
   "source": [
    "def mape(forecast, actual):\n",
    "    mape = np.mean(np.abs(forecast - actual)/np.abs(actual))\n",
    "    return mape"
   ]
  },
  {
   "cell_type": "code",
   "execution_count": 11,
   "metadata": {
    "colab": {},
    "colab_type": "code",
    "id": "MZpR0QC6-dZl"
   },
   "outputs": [],
   "source": [
    "def accuracy_summary(Regressor, x_train, y_train, x_validation, y_validation):\n",
    "    t0 = time()\n",
    "    model = Regressor.fit(x_train, y_train)\n",
    "    y_pred = model.predict(x_validation)\n",
    "    train_test_time = time() - t0\n",
    "    #accuracy = r2_score(y_validation, y_pred)\n",
    "    accuracy = mape(y_pred, y_validation)\n",
    "    return accuracy, train_test_time"
   ]
  },
  {
   "cell_type": "code",
   "execution_count": 12,
   "metadata": {
    "colab": {},
    "colab_type": "code",
    "id": "kt8kvUyF-l2y"
   },
   "outputs": [],
   "source": [
    "seed = 123\n",
    "names = [\"Linear Regression\", \"SGDRegressor\", \"Linear SVR\", \"Lasso\",\"Ridge\", \"Passive-Aggresive\",\n",
    "        \"DecisionTreeRegressor\",\"RandomForestRegressor\",\"AdaBoostRegressor\", \"GradientBoostingRegressor\", \"XGBRegressor\"]\n",
    "\n",
    "Regressors = [\n",
    "    LinearRegression(),\n",
    "    SGDRegressor(random_state=seed),\n",
    "    LinearSVR(random_state=seed),\n",
    "    #SVR(),\n",
    "    Lasso(random_state=seed),\n",
    "    Ridge(random_state=seed),\n",
    "    PassiveAggressiveRegressor(random_state=seed),\n",
    "    DecisionTreeRegressor(random_state=seed),\n",
    "    RandomForestRegressor(random_state=seed, n_estimators=500),\n",
    "    AdaBoostRegressor(random_state=seed, n_estimators=500),\n",
    "    GradientBoostingRegressor(random_state=seed, n_estimators=500),\n",
    "    XGBRegressor(n_estimators=500, random_state=seed)\n",
    "    ]\n",
    "\n",
    "zipped_reg = zip(names,Regressors)\n",
    "\n",
    "def Regressor_comparator(Regressor=zipped_reg):\n",
    "    result = []\n",
    "    for n,c in Regressor:\n",
    "        checker_pipeline = Pipeline([\n",
    "            ('Regressor', c)\n",
    "        ])\n",
    "        print(\"Validation result for {}\".format(n))\n",
    "        print (c)\n",
    "        reg_accuracy,tt_time = accuracy_summary(checker_pipeline, X_train, y_train, X_validation, y_validation)\n",
    "        result.append((n,reg_accuracy,tt_time))\n",
    "    return result"
   ]
  },
  {
   "cell_type": "code",
   "execution_count": 13,
   "metadata": {
    "colab": {
     "base_uri": "https://localhost:8080/",
     "height": 1000
    },
    "colab_type": "code",
    "id": "m7q5S7sv-quc",
    "outputId": "99cc3fc3-169f-4799-dadb-86a4e57545fe"
   },
   "outputs": [
    {
     "name": "stdout",
     "output_type": "stream",
     "text": [
      "Validation result for Linear Regression\n",
      "LinearRegression(copy_X=True, fit_intercept=True, n_jobs=None, normalize=False)\n",
      "Validation result for SGDRegressor\n",
      "SGDRegressor(alpha=0.0001, average=False, early_stopping=False, epsilon=0.1,\n",
      "             eta0=0.01, fit_intercept=True, l1_ratio=0.15,\n",
      "             learning_rate='invscaling', loss='squared_loss', max_iter=1000,\n",
      "             n_iter_no_change=5, penalty='l2', power_t=0.25, random_state=123,\n",
      "             shuffle=True, tol=0.001, validation_fraction=0.1, verbose=0,\n",
      "             warm_start=False)\n",
      "Validation result for Linear SVR\n",
      "LinearSVR(C=1.0, dual=True, epsilon=0.0, fit_intercept=True,\n",
      "          intercept_scaling=1.0, loss='epsilon_insensitive', max_iter=1000,\n",
      "          random_state=123, tol=0.0001, verbose=0)\n",
      "Validation result for Lasso\n",
      "Lasso(alpha=1.0, copy_X=True, fit_intercept=True, max_iter=1000,\n",
      "      normalize=False, positive=False, precompute=False, random_state=123,\n",
      "      selection='cyclic', tol=0.0001, warm_start=False)\n"
     ]
    },
    {
     "name": "stderr",
     "output_type": "stream",
     "text": [
      "C:\\ProgramData\\Anaconda3\\lib\\site-packages\\sklearn\\svm\\base.py:929: ConvergenceWarning: Liblinear failed to converge, increase the number of iterations.\n",
      "  \"the number of iterations.\", ConvergenceWarning)\n"
     ]
    },
    {
     "name": "stdout",
     "output_type": "stream",
     "text": [
      "Validation result for Ridge\n",
      "Ridge(alpha=1.0, copy_X=True, fit_intercept=True, max_iter=None,\n",
      "      normalize=False, random_state=123, solver='auto', tol=0.001)\n",
      "Validation result for Passive-Aggresive\n",
      "PassiveAggressiveRegressor(C=1.0, average=False, early_stopping=False,\n",
      "                           epsilon=0.1, fit_intercept=True,\n",
      "                           loss='epsilon_insensitive', max_iter=1000,\n",
      "                           n_iter_no_change=5, random_state=123, shuffle=True,\n",
      "                           tol=0.001, validation_fraction=0.1, verbose=0,\n",
      "                           warm_start=False)\n",
      "Validation result for DecisionTreeRegressor\n",
      "DecisionTreeRegressor(criterion='mse', max_depth=None, max_features=None,\n",
      "                      max_leaf_nodes=None, min_impurity_decrease=0.0,\n",
      "                      min_impurity_split=None, min_samples_leaf=1,\n",
      "                      min_samples_split=2, min_weight_fraction_leaf=0.0,\n",
      "                      presort=False, random_state=123, splitter='best')\n",
      "Validation result for RandomForestRegressor\n",
      "RandomForestRegressor(bootstrap=True, criterion='mse', max_depth=None,\n",
      "                      max_features='auto', max_leaf_nodes=None,\n",
      "                      min_impurity_decrease=0.0, min_impurity_split=None,\n",
      "                      min_samples_leaf=1, min_samples_split=2,\n",
      "                      min_weight_fraction_leaf=0.0, n_estimators=500,\n",
      "                      n_jobs=None, oob_score=False, random_state=123, verbose=0,\n",
      "                      warm_start=False)\n",
      "Validation result for AdaBoostRegressor\n",
      "AdaBoostRegressor(base_estimator=None, learning_rate=1.0, loss='linear',\n",
      "                  n_estimators=500, random_state=123)\n",
      "Validation result for GradientBoostingRegressor\n",
      "GradientBoostingRegressor(alpha=0.9, criterion='friedman_mse', init=None,\n",
      "                          learning_rate=0.1, loss='ls', max_depth=3,\n",
      "                          max_features=None, max_leaf_nodes=None,\n",
      "                          min_impurity_decrease=0.0, min_impurity_split=None,\n",
      "                          min_samples_leaf=1, min_samples_split=2,\n",
      "                          min_weight_fraction_leaf=0.0, n_estimators=500,\n",
      "                          n_iter_no_change=None, presort='auto',\n",
      "                          random_state=123, subsample=1.0, tol=0.0001,\n",
      "                          validation_fraction=0.1, verbose=0, warm_start=False)\n",
      "Validation result for XGBRegressor\n",
      "XGBRegressor(base_score=0.5, booster='gbtree', colsample_bylevel=1,\n",
      "             colsample_bytree=1, gamma=0, learning_rate=0.1, max_delta_step=0,\n",
      "             max_depth=3, min_child_weight=1, missing=None, n_estimators=500,\n",
      "             n_jobs=1, nthread=None, objective='reg:linear', random_state=123,\n",
      "             reg_alpha=0, reg_lambda=1, scale_pos_weight=1, seed=None,\n",
      "             silent=True, subsample=1)\n"
     ]
    },
    {
     "data": {
      "text/plain": [
       "[('Linear Regression', 0.10513573449395285, 0.2325127124786377),\n",
       " ('SGDRegressor', 60169262908319.36, 0.018990278244018555),\n",
       " ('Linear SVR', 0.3326559027917069, 0.1659390926361084),\n",
       " ('Lasso', 0.15777142146560802, 0.008999824523925781),\n",
       " ('Ridge', 0.10512046272408691, 0.00599980354309082),\n",
       " ('Passive-Aggresive', 0.17484383055544325, 0.006994009017944336),\n",
       " ('DecisionTreeRegressor', 0.08117820373237314, 0.019991636276245117),\n",
       " ('RandomForestRegressor', 0.05420337132096428, 2.840772867202759),\n",
       " ('AdaBoostRegressor', 0.09231015135427076, 0.061965227127075195),\n",
       " ('GradientBoostingRegressor', 0.07042529886880469, 0.6486122608184814),\n",
       " ('XGBRegressor', 0.07042746358188312, 0.4531240463256836)]"
      ]
     },
     "execution_count": 13,
     "metadata": {},
     "output_type": "execute_result"
    }
   ],
   "source": [
    "Regression_result = Regressor_comparator()\n",
    "Regression_result"
   ]
  },
  {
   "cell_type": "code",
   "execution_count": 14,
   "metadata": {
    "colab": {
     "base_uri": "https://localhost:8080/",
     "height": 386
    },
    "colab_type": "code",
    "id": "4WfeYtrQ-z4I",
    "outputId": "84a3c1f0-b55b-48b9-c6bb-7a74be949fce"
   },
   "outputs": [
    {
     "data": {
      "text/html": [
       "<div>\n",
       "<style scoped>\n",
       "    .dataframe tbody tr th:only-of-type {\n",
       "        vertical-align: middle;\n",
       "    }\n",
       "\n",
       "    .dataframe tbody tr th {\n",
       "        vertical-align: top;\n",
       "    }\n",
       "\n",
       "    .dataframe thead th {\n",
       "        text-align: right;\n",
       "    }\n",
       "</style>\n",
       "<table border=\"1\" class=\"dataframe\">\n",
       "  <thead>\n",
       "    <tr style=\"text-align: right;\">\n",
       "      <th></th>\n",
       "      <th>Regressor</th>\n",
       "      <th>R2-Score</th>\n",
       "      <th>Train and test time</th>\n",
       "    </tr>\n",
       "  </thead>\n",
       "  <tbody>\n",
       "    <tr>\n",
       "      <th>0</th>\n",
       "      <td>Linear Regression</td>\n",
       "      <td>10.5%</td>\n",
       "      <td>0.23</td>\n",
       "    </tr>\n",
       "    <tr>\n",
       "      <th>1</th>\n",
       "      <td>SGDRegressor</td>\n",
       "      <td>6016926290831936.0%</td>\n",
       "      <td>0.02</td>\n",
       "    </tr>\n",
       "    <tr>\n",
       "      <th>2</th>\n",
       "      <td>Linear SVR</td>\n",
       "      <td>33.3%</td>\n",
       "      <td>0.17</td>\n",
       "    </tr>\n",
       "    <tr>\n",
       "      <th>3</th>\n",
       "      <td>Lasso</td>\n",
       "      <td>15.8%</td>\n",
       "      <td>0.01</td>\n",
       "    </tr>\n",
       "    <tr>\n",
       "      <th>4</th>\n",
       "      <td>Ridge</td>\n",
       "      <td>10.5%</td>\n",
       "      <td>0.01</td>\n",
       "    </tr>\n",
       "    <tr>\n",
       "      <th>5</th>\n",
       "      <td>Passive-Aggresive</td>\n",
       "      <td>17.5%</td>\n",
       "      <td>0.01</td>\n",
       "    </tr>\n",
       "    <tr>\n",
       "      <th>6</th>\n",
       "      <td>DecisionTreeRegressor</td>\n",
       "      <td>8.1%</td>\n",
       "      <td>0.02</td>\n",
       "    </tr>\n",
       "    <tr>\n",
       "      <th>7</th>\n",
       "      <td>RandomForestRegressor</td>\n",
       "      <td>5.4%</td>\n",
       "      <td>2.84</td>\n",
       "    </tr>\n",
       "    <tr>\n",
       "      <th>8</th>\n",
       "      <td>AdaBoostRegressor</td>\n",
       "      <td>9.2%</td>\n",
       "      <td>0.06</td>\n",
       "    </tr>\n",
       "    <tr>\n",
       "      <th>9</th>\n",
       "      <td>GradientBoostingRegressor</td>\n",
       "      <td>7.0%</td>\n",
       "      <td>0.65</td>\n",
       "    </tr>\n",
       "    <tr>\n",
       "      <th>10</th>\n",
       "      <td>XGBRegressor</td>\n",
       "      <td>7.0%</td>\n",
       "      <td>0.45</td>\n",
       "    </tr>\n",
       "  </tbody>\n",
       "</table>\n",
       "</div>"
      ],
      "text/plain": [
       "                    Regressor             R2-Score  Train and test time\n",
       "0           Linear Regression                10.5%                 0.23\n",
       "1                SGDRegressor  6016926290831936.0%                 0.02\n",
       "2                  Linear SVR                33.3%                 0.17\n",
       "3                       Lasso                15.8%                 0.01\n",
       "4                       Ridge                10.5%                 0.01\n",
       "5           Passive-Aggresive                17.5%                 0.01\n",
       "6       DecisionTreeRegressor                 8.1%                 0.02\n",
       "7       RandomForestRegressor                 5.4%                 2.84\n",
       "8           AdaBoostRegressor                 9.2%                 0.06\n",
       "9   GradientBoostingRegressor                 7.0%                 0.65\n",
       "10               XGBRegressor                 7.0%                 0.45"
      ]
     },
     "execution_count": 14,
     "metadata": {},
     "output_type": "execute_result"
    }
   ],
   "source": [
    "Regression_result_df = pd.DataFrame(Regression_result)\n",
    "Regression_result_df.columns = ['Regressor', 'R2-Score', 'Train and test time']\n",
    "Regression_result_df.sort_values(by='R2-Score', ascending=False)\n",
    "Regression_result_df['R2-Score'] = (Regression_result_df['R2-Score']*100).round(1).astype(str) + '%'\n",
    "Regression_result_df"
   ]
  },
  {
   "cell_type": "markdown",
   "metadata": {
    "colab_type": "text",
    "id": "WqHJdOlW_Sgn"
   },
   "source": [
    "### **Tuning Randomforest model**"
   ]
  },
  {
   "cell_type": "code",
   "execution_count": 15,
   "metadata": {
    "colab": {},
    "colab_type": "code",
    "id": "-rqEqLG9_Q0m"
   },
   "outputs": [],
   "source": [
    "model = RandomForestRegressor(bootstrap=True, criterion='mse', max_depth=None,\n",
    "                      max_features='auto', max_leaf_nodes=None,\n",
    "                      min_impurity_decrease=0.0, min_impurity_split=None,\n",
    "                      min_samples_leaf=1, min_samples_split=2,\n",
    "                      min_weight_fraction_leaf=0.0, n_estimators=500,\n",
    "                      n_jobs=None, oob_score=False, random_state=123, verbose=0,\n",
    "                      warm_start=False)\n",
    "\n",
    "model = model.fit(X_train, y_train)\n",
    "y_predict_validation = model.predict(X_validation)"
   ]
  },
  {
   "cell_type": "code",
   "execution_count": 16,
   "metadata": {
    "colab": {
     "base_uri": "https://localhost:8080/",
     "height": 121
    },
    "colab_type": "code",
    "id": "TTcURRk_Ar17",
    "outputId": "59068a68-b74c-45af-f1e6-d846205f489d"
   },
   "outputs": [
    {
     "name": "stdout",
     "output_type": "stream",
     "text": [
      "Mean Square Error      = 0.3008800222513618\n",
      "Root Mean Square Error = 0.5485253159621366\n",
      "Mean Absolute Error    = 0.28422202650153067\n",
      "Median Absolute Error  = 0.12658874394035635\n",
      "R^2                    = 0.8364501577346957\n",
      "MAPE                    = 0.05420337132096428\n"
     ]
    }
   ],
   "source": [
    "import math\n",
    "def print_metrics(y_true, y_predicted):\n",
    "    ## First compute R^2 and the adjusted R^2\n",
    "    r2 = sklm.r2_score(y_true, y_predicted)\n",
    "    MAPE = mape(y_predicted, y_true)\n",
    "    # r2_adj = r2 - (y_true.shape[0] - 1)/(y_true.shape[0] - n_parameters - 1) * (1 - r2)\n",
    "    \n",
    "    ## Print the usual metrics and the R^2 values\n",
    "    print('Mean Square Error      = ' + str(sklm.mean_squared_error(y_true, y_predicted)))\n",
    "    print('Root Mean Square Error = ' + str(math.sqrt(sklm.mean_squared_error(y_true, y_predicted))))\n",
    "    print('Mean Absolute Error    = ' + str(sklm.mean_absolute_error(y_true, y_predicted)))\n",
    "    print('Median Absolute Error  = ' + str(sklm.median_absolute_error(y_true, y_predicted)))\n",
    "    print('R^2                    = ' + str(r2))\n",
    "    print('MAPE                    = ' + str(MAPE))\n",
    "    \n",
    "    # print('Adjusted R^2           = ' + str(r2_adj))\n",
    "\n",
    "print_metrics(y_validation, y_predict_validation)"
   ]
  },
  {
   "cell_type": "code",
   "execution_count": 17,
   "metadata": {},
   "outputs": [
    {
     "name": "stdout",
     "output_type": "stream",
     "text": [
      "Mean Square Error      = 0.569617587022461\n",
      "Root Mean Square Error = 0.7547301418536702\n",
      "Mean Absolute Error    = 0.338705583720686\n",
      "Median Absolute Error  = 0.1411385306477726\n",
      "R^2                    = 0.7266298043732462\n",
      "MAPE                    = 0.07737910962115546\n"
     ]
    }
   ],
   "source": [
    "y_predict_test = model.predict(X_test)\n",
    "print_metrics(y_test, y_predict_test)"
   ]
  },
  {
   "cell_type": "markdown",
   "metadata": {
    "colab_type": "text",
    "id": "V5qXzcMYCOJm"
   },
   "source": [
    "## **Predicting test data**"
   ]
  },
  {
   "cell_type": "code",
   "execution_count": 18,
   "metadata": {
    "colab": {
     "base_uri": "https://localhost:8080/",
     "height": 35
    },
    "colab_type": "code",
    "id": "clMJ3POJCSLs",
    "outputId": "421b1cb2-57ff-46dc-aa81-8828bb1eee95"
   },
   "outputs": [
    {
     "name": "stdout",
     "output_type": "stream",
     "text": [
      "Shape of features : (180, 13)\n"
     ]
    }
   ],
   "source": [
    "test_v2 = test.drop(['id'], axis = 1)\n",
    "test_v2 = feature_eng(test_v2)\n",
    "\n",
    "print(\"Shape of features :\", test_v2.shape)"
   ]
  },
  {
   "cell_type": "code",
   "execution_count": 19,
   "metadata": {
    "colab": {
     "base_uri": "https://localhost:8080/",
     "height": 222
    },
    "colab_type": "code",
    "id": "9JYwdTC-CuHK",
    "outputId": "550de482-83f6-4546-dce9-9201f131bec1"
   },
   "outputs": [
    {
     "data": {
      "text/html": [
       "<div>\n",
       "<style scoped>\n",
       "    .dataframe tbody tr th:only-of-type {\n",
       "        vertical-align: middle;\n",
       "    }\n",
       "\n",
       "    .dataframe tbody tr th {\n",
       "        vertical-align: top;\n",
       "    }\n",
       "\n",
       "    .dataframe thead th {\n",
       "        text-align: right;\n",
       "    }\n",
       "</style>\n",
       "<table border=\"1\" class=\"dataframe\">\n",
       "  <thead>\n",
       "    <tr style=\"text-align: right;\">\n",
       "      <th></th>\n",
       "      <th>segment</th>\n",
       "      <th>year</th>\n",
       "      <th>Month</th>\n",
       "      <th>Date</th>\n",
       "      <th>weekday_Friday</th>\n",
       "      <th>weekday_Monday</th>\n",
       "      <th>weekday_Saturday</th>\n",
       "      <th>weekday_Sunday</th>\n",
       "      <th>weekday_Thursday</th>\n",
       "      <th>weekday_Tuesday</th>\n",
       "      <th>weekday_Wednesday</th>\n",
       "      <th>Seasons_Monsoon</th>\n",
       "      <th>Seasons_Summer</th>\n",
       "      <th>Seasons_Winter</th>\n",
       "    </tr>\n",
       "  </thead>\n",
       "  <tbody>\n",
       "    <tr>\n",
       "      <th>0</th>\n",
       "      <td>1</td>\n",
       "      <td>2019</td>\n",
       "      <td>7</td>\n",
       "      <td>6</td>\n",
       "      <td>0</td>\n",
       "      <td>0</td>\n",
       "      <td>1</td>\n",
       "      <td>0</td>\n",
       "      <td>0</td>\n",
       "      <td>0</td>\n",
       "      <td>0</td>\n",
       "      <td>1</td>\n",
       "      <td>0</td>\n",
       "      <td>0</td>\n",
       "    </tr>\n",
       "    <tr>\n",
       "      <th>1</th>\n",
       "      <td>1</td>\n",
       "      <td>2019</td>\n",
       "      <td>7</td>\n",
       "      <td>7</td>\n",
       "      <td>0</td>\n",
       "      <td>0</td>\n",
       "      <td>0</td>\n",
       "      <td>1</td>\n",
       "      <td>0</td>\n",
       "      <td>0</td>\n",
       "      <td>0</td>\n",
       "      <td>1</td>\n",
       "      <td>0</td>\n",
       "      <td>0</td>\n",
       "    </tr>\n",
       "    <tr>\n",
       "      <th>2</th>\n",
       "      <td>1</td>\n",
       "      <td>2019</td>\n",
       "      <td>7</td>\n",
       "      <td>8</td>\n",
       "      <td>0</td>\n",
       "      <td>1</td>\n",
       "      <td>0</td>\n",
       "      <td>0</td>\n",
       "      <td>0</td>\n",
       "      <td>0</td>\n",
       "      <td>0</td>\n",
       "      <td>1</td>\n",
       "      <td>0</td>\n",
       "      <td>0</td>\n",
       "    </tr>\n",
       "    <tr>\n",
       "      <th>3</th>\n",
       "      <td>1</td>\n",
       "      <td>2019</td>\n",
       "      <td>7</td>\n",
       "      <td>9</td>\n",
       "      <td>0</td>\n",
       "      <td>0</td>\n",
       "      <td>0</td>\n",
       "      <td>0</td>\n",
       "      <td>0</td>\n",
       "      <td>1</td>\n",
       "      <td>0</td>\n",
       "      <td>1</td>\n",
       "      <td>0</td>\n",
       "      <td>0</td>\n",
       "    </tr>\n",
       "    <tr>\n",
       "      <th>4</th>\n",
       "      <td>1</td>\n",
       "      <td>2019</td>\n",
       "      <td>7</td>\n",
       "      <td>10</td>\n",
       "      <td>0</td>\n",
       "      <td>0</td>\n",
       "      <td>0</td>\n",
       "      <td>0</td>\n",
       "      <td>0</td>\n",
       "      <td>0</td>\n",
       "      <td>1</td>\n",
       "      <td>1</td>\n",
       "      <td>0</td>\n",
       "      <td>0</td>\n",
       "    </tr>\n",
       "  </tbody>\n",
       "</table>\n",
       "</div>"
      ],
      "text/plain": [
       "   segment  year  Month  Date  weekday_Friday  weekday_Monday  \\\n",
       "0        1  2019      7     6               0               0   \n",
       "1        1  2019      7     7               0               0   \n",
       "2        1  2019      7     8               0               1   \n",
       "3        1  2019      7     9               0               0   \n",
       "4        1  2019      7    10               0               0   \n",
       "\n",
       "   weekday_Saturday  weekday_Sunday  weekday_Thursday  weekday_Tuesday  \\\n",
       "0                 1               0                 0                0   \n",
       "1                 0               1                 0                0   \n",
       "2                 0               0                 0                0   \n",
       "3                 0               0                 0                1   \n",
       "4                 0               0                 0                0   \n",
       "\n",
       "   weekday_Wednesday  Seasons_Monsoon  Seasons_Summer  Seasons_Winter  \n",
       "0                  0                1               0               0  \n",
       "1                  0                1               0               0  \n",
       "2                  0                1               0               0  \n",
       "3                  0                1               0               0  \n",
       "4                  1                1               0               0  "
      ]
     },
     "execution_count": 19,
     "metadata": {},
     "output_type": "execute_result"
    }
   ],
   "source": [
    "feature_list = X.columns.tolist()\n",
    "dummy_add = list(set(feature_list) - set(test_v2.columns))\n",
    "\n",
    "for newcol in dummy_add:\n",
    "    test_v2[newcol] = 0\n",
    "\n",
    "test_v2 = test_v2[feature_list]\n",
    "test_v2.head()"
   ]
  },
  {
   "cell_type": "code",
   "execution_count": 20,
   "metadata": {
    "colab": {},
    "colab_type": "code",
    "id": "hC8GpD_5kFBM"
   },
   "outputs": [
    {
     "data": {
      "text/html": [
       "<div>\n",
       "<style scoped>\n",
       "    .dataframe tbody tr th:only-of-type {\n",
       "        vertical-align: middle;\n",
       "    }\n",
       "\n",
       "    .dataframe tbody tr th {\n",
       "        vertical-align: top;\n",
       "    }\n",
       "\n",
       "    .dataframe thead th {\n",
       "        text-align: right;\n",
       "    }\n",
       "</style>\n",
       "<table border=\"1\" class=\"dataframe\">\n",
       "  <thead>\n",
       "    <tr style=\"text-align: right;\">\n",
       "      <th></th>\n",
       "      <th>id</th>\n",
       "      <th>application_date</th>\n",
       "      <th>segment</th>\n",
       "      <th>case_count</th>\n",
       "    </tr>\n",
       "  </thead>\n",
       "  <tbody>\n",
       "    <tr>\n",
       "      <th>0</th>\n",
       "      <td>1</td>\n",
       "      <td>2019-07-06</td>\n",
       "      <td>1</td>\n",
       "      <td>2547.00</td>\n",
       "    </tr>\n",
       "    <tr>\n",
       "      <th>1</th>\n",
       "      <td>2</td>\n",
       "      <td>2019-07-07</td>\n",
       "      <td>1</td>\n",
       "      <td>1433.00</td>\n",
       "    </tr>\n",
       "    <tr>\n",
       "      <th>2</th>\n",
       "      <td>3</td>\n",
       "      <td>2019-07-08</td>\n",
       "      <td>1</td>\n",
       "      <td>2896.00</td>\n",
       "    </tr>\n",
       "    <tr>\n",
       "      <th>3</th>\n",
       "      <td>4</td>\n",
       "      <td>2019-07-09</td>\n",
       "      <td>1</td>\n",
       "      <td>3171.00</td>\n",
       "    </tr>\n",
       "    <tr>\n",
       "      <th>4</th>\n",
       "      <td>5</td>\n",
       "      <td>2019-07-10</td>\n",
       "      <td>1</td>\n",
       "      <td>3453.00</td>\n",
       "    </tr>\n",
       "  </tbody>\n",
       "</table>\n",
       "</div>"
      ],
      "text/plain": [
       "   id application_date  segment  case_count\n",
       "0   1       2019-07-06        1     2547.00\n",
       "1   2       2019-07-07        1     1433.00\n",
       "2   3       2019-07-08        1     2896.00\n",
       "3   4       2019-07-09        1     3171.00\n",
       "4   5       2019-07-10        1     3453.00"
      ]
     },
     "execution_count": 20,
     "metadata": {},
     "output_type": "execute_result"
    }
   ],
   "source": [
    "test['case_count'] = np.exp(model.predict(test_v2))\n",
    "test['case_count'] = test['case_count'].round(0)\n",
    "test.head()"
   ]
  },
  {
   "cell_type": "code",
   "execution_count": 21,
   "metadata": {},
   "outputs": [],
   "source": [
    "Submission = test[['id', 'application_date', 'segment', 'case_count']]\n",
    "\n",
    "Submission.to_csv(\"./Output/Submission_v2.csv\", index = False)"
   ]
  }
 ],
 "metadata": {
  "accelerator": "GPU",
  "colab": {
   "collapsed_sections": [],
   "name": "LTFS Data Science FinHack 2_v3.ipynb",
   "provenance": [],
   "toc_visible": true
  },
  "kernelspec": {
   "display_name": "Python 3",
   "language": "python",
   "name": "python3"
  },
  "language_info": {
   "codemirror_mode": {
    "name": "ipython",
    "version": 3
   },
   "file_extension": ".py",
   "mimetype": "text/x-python",
   "name": "python",
   "nbconvert_exporter": "python",
   "pygments_lexer": "ipython3",
   "version": "3.7.1"
  }
 },
 "nbformat": 4,
 "nbformat_minor": 1
}
