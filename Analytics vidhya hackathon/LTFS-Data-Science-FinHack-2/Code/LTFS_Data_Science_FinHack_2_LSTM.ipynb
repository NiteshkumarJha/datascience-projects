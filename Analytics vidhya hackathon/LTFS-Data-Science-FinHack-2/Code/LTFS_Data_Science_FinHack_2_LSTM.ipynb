{
  "nbformat": 4,
  "nbformat_minor": 0,
  "metadata": {
    "accelerator": "GPU",
    "colab": {
      "name": "LTFS_Data_Science_FinHack_2_DeepLearning.ipynb",
      "provenance": [],
      "collapsed_sections": [],
      "toc_visible": true
    },
    "kernelspec": {
      "display_name": "Python 3",
      "language": "python",
      "name": "python3"
    },
    "language_info": {
      "codemirror_mode": {
        "name": "ipython",
        "version": 3
      },
      "file_extension": ".py",
      "mimetype": "text/x-python",
      "name": "python",
      "nbconvert_exporter": "python",
      "pygments_lexer": "ipython3",
      "version": "3.7.1"
    }
  },
  "cells": [
    {
      "cell_type": "markdown",
      "metadata": {
        "colab_type": "text",
        "id": "lW6Vh68CvHr9"
      },
      "source": [
        "# **LTFS Data Science FinHack 2**\n",
        "\n",
        "## **Problem statement**\n",
        "\n",
        "LTFS receives a lot of requests for its various finance offerings that include housing loan, two-wheeler loan, real estate financing and micro loans. The number of applications received is something that varies a lot with season. Going through these applications is a manual process and is tedious. Accurately forecasting the number of cases received can help with resource and manpower management resulting into quick response on applications and more efficient processing.\n",
        "\n",
        "We have been appointed with the task of forecasting daily cases for **next 3 months for 2 different business segments** at the **country level** keeping in consideration the following major Indian festivals (inclusive but not exhaustive list): Diwali, Dussehra, Ganesh Chaturthi, Navratri, Holi etc. (We are free to use any publicly available open source external datasets). Some other examples could be:\n",
        "\n",
        " + Weather\n",
        " + Macroeconomic variables\n",
        "\n",
        "we also note that the external dataset must belong to a reliable source.\n",
        "\n",
        "## **Data Dictionary**\n",
        "\n",
        "The train data has been provided in the following way:\n",
        "\n",
        " + For business segment 1, historical data has been made available at branch ID level\n",
        " + For business segment 2, historical data has been made available at State level.\n",
        " \n",
        "\n",
        "## **Train File**\n",
        "\n",
        "|Variable|\tDefinition|\n",
        "|:------:|:----------:|\n",
        "|application_date|Date of application|\n",
        "|application_date|\tDate of application|\n",
        "|segment|\tBusiness Segment (1/2)|\n",
        "|branch_id|\tAnonymised id for branch at which application was received|\n",
        "|state|\tState in which application was received (Karnataka, MP etc.)|\n",
        "|zone|\tZone of state in which application was received (Central, East etc.)|\n",
        "|case_count|\t(Target) Number of cases/applications received|\n",
        "\n",
        "## **Test File**\n",
        "\n",
        "Forecasting needs to be done at country level for the dates provided in test set for each segment.\n",
        "\n",
        "|Variable|\tDefinition|\n",
        "|:------:|:----------:|\n",
        "|id|\tUnique id for each sample in test set|\n",
        "|application_date|\tDate of application|\n",
        "| segment|\tBusiness Segment (1/2)|\n",
        "\n",
        "## **Evaluation**\n",
        "\n",
        "**Evaluation Metric**\n",
        "\n",
        "The evaluation metric for scoring the forecasts is MAPE (Mean Absolute Percentage Error) M with the formula:\n",
        "\n",
        "$$M = \\frac{100}{n}\\sum_{t = 1}^{n}|\\frac{A_t - F_t}{A_t}|$$\n",
        " \n",
        "Where $A_t$ is the actual value and $F_t$ is the forecast value.\n",
        "\n",
        "\n",
        "The Final score is calculated using $MAPE$ for both the segments using the formula:\n",
        "\n",
        "$Final Score = 0.5*MAPE_{Segment1} + 0.5*MAPE_{Segment2}$\n"
      ]
    },
    {
      "cell_type": "markdown",
      "metadata": {
        "colab_type": "text",
        "id": "N-vGpTKiAR1Y"
      },
      "source": [
        "## **Getting started**"
      ]
    },
    {
      "cell_type": "markdown",
      "metadata": {
        "colab_type": "text",
        "id": "xYFLOVn80m5U"
      },
      "source": [
        "**Importing libraries**"
      ]
    },
    {
      "cell_type": "code",
      "metadata": {
        "id": "9Et1FYa3Eu9E",
        "colab_type": "code",
        "outputId": "40e6dd65-1d2a-410d-d34a-4607274103ef",
        "colab": {
          "base_uri": "https://localhost:8080/",
          "height": 54
        }
      },
      "source": [
        "from google.colab import drive\n",
        "drive.mount('/content/drive')"
      ],
      "execution_count": 1,
      "outputs": [
        {
          "output_type": "stream",
          "text": [
            "Drive already mounted at /content/drive; to attempt to forcibly remount, call drive.mount(\"/content/drive\", force_remount=True).\n"
          ],
          "name": "stdout"
        }
      ]
    },
    {
      "cell_type": "code",
      "metadata": {
        "colab_type": "code",
        "id": "4wCxeTR3u6yN",
        "colab": {}
      },
      "source": [
        "import numpy as np\n",
        "import pandas as pd\n",
        "import matplotlib.pyplot as plt\n",
        "import seaborn as sns\n",
        "import scipy.stats as ss\n",
        "%matplotlib inline\n",
        "\n",
        "pd.set_option('display.max_rows', 100)\n",
        "pd.set_option('display.max_columns', 100)\n",
        "pd.set_option('display.float_format', lambda x: '%.2f' % x)"
      ],
      "execution_count": 0,
      "outputs": []
    },
    {
      "cell_type": "markdown",
      "metadata": {
        "colab_type": "text",
        "id": "-LexknjbArnb"
      },
      "source": [
        "**Reading data**"
      ]
    },
    {
      "cell_type": "code",
      "metadata": {
        "id": "uMaEr8BlDxqb",
        "colab_type": "code",
        "colab": {}
      },
      "source": [
        "# Setting the path\n",
        "import os\n",
        "path = \"/content/drive/My Drive/Colab Notebooks (1)/LTFS Data Science FinHack 2\"\n",
        "os.chdir(path)"
      ],
      "execution_count": 0,
      "outputs": []
    },
    {
      "cell_type": "code",
      "metadata": {
        "id": "Op5SwGPgDxqi",
        "colab_type": "code",
        "colab": {}
      },
      "source": [
        "# Importing the dataset\n",
        "train = pd.read_csv(\"./Input/train_fwYjLYX.csv\")\n",
        "test = pd.read_csv(\"./Input/test_1eLl9Yf.csv\")\n",
        "#holidays = pd.read_csv(\"./Input/holiday_list_2017_2018_2019.csv\")\n",
        "Sample_submission = pd.read_csv(\"./Input/sample_submission_IIzFVsf.csv\")"
      ],
      "execution_count": 0,
      "outputs": []
    },
    {
      "cell_type": "markdown",
      "metadata": {
        "colab_type": "text",
        "id": "-iWd6d4FBz5q"
      },
      "source": [
        "## **Data Preprocessing**"
      ]
    },
    {
      "cell_type": "code",
      "metadata": {
        "colab_type": "code",
        "id": "2OYM4vA5B3Kf",
        "outputId": "01aa6019-aae6-4362-c05d-75e58f63596d",
        "colab": {
          "base_uri": "https://localhost:8080/",
          "height": 204
        }
      },
      "source": [
        "train.head()"
      ],
      "execution_count": 5,
      "outputs": [
        {
          "output_type": "execute_result",
          "data": {
            "text/html": [
              "<div>\n",
              "<style scoped>\n",
              "    .dataframe tbody tr th:only-of-type {\n",
              "        vertical-align: middle;\n",
              "    }\n",
              "\n",
              "    .dataframe tbody tr th {\n",
              "        vertical-align: top;\n",
              "    }\n",
              "\n",
              "    .dataframe thead th {\n",
              "        text-align: right;\n",
              "    }\n",
              "</style>\n",
              "<table border=\"1\" class=\"dataframe\">\n",
              "  <thead>\n",
              "    <tr style=\"text-align: right;\">\n",
              "      <th></th>\n",
              "      <th>application_date</th>\n",
              "      <th>segment</th>\n",
              "      <th>branch_id</th>\n",
              "      <th>state</th>\n",
              "      <th>zone</th>\n",
              "      <th>case_count</th>\n",
              "    </tr>\n",
              "  </thead>\n",
              "  <tbody>\n",
              "    <tr>\n",
              "      <th>0</th>\n",
              "      <td>2017-04-01</td>\n",
              "      <td>1</td>\n",
              "      <td>1.00</td>\n",
              "      <td>WEST BENGAL</td>\n",
              "      <td>EAST</td>\n",
              "      <td>40.00</td>\n",
              "    </tr>\n",
              "    <tr>\n",
              "      <th>1</th>\n",
              "      <td>2017-04-03</td>\n",
              "      <td>1</td>\n",
              "      <td>1.00</td>\n",
              "      <td>WEST BENGAL</td>\n",
              "      <td>EAST</td>\n",
              "      <td>5.00</td>\n",
              "    </tr>\n",
              "    <tr>\n",
              "      <th>2</th>\n",
              "      <td>2017-04-04</td>\n",
              "      <td>1</td>\n",
              "      <td>1.00</td>\n",
              "      <td>WEST BENGAL</td>\n",
              "      <td>EAST</td>\n",
              "      <td>4.00</td>\n",
              "    </tr>\n",
              "    <tr>\n",
              "      <th>3</th>\n",
              "      <td>2017-04-05</td>\n",
              "      <td>1</td>\n",
              "      <td>1.00</td>\n",
              "      <td>WEST BENGAL</td>\n",
              "      <td>EAST</td>\n",
              "      <td>113.00</td>\n",
              "    </tr>\n",
              "    <tr>\n",
              "      <th>4</th>\n",
              "      <td>2017-04-07</td>\n",
              "      <td>1</td>\n",
              "      <td>1.00</td>\n",
              "      <td>WEST BENGAL</td>\n",
              "      <td>EAST</td>\n",
              "      <td>76.00</td>\n",
              "    </tr>\n",
              "  </tbody>\n",
              "</table>\n",
              "</div>"
            ],
            "text/plain": [
              "  application_date  segment  branch_id        state  zone  case_count\n",
              "0       2017-04-01        1       1.00  WEST BENGAL  EAST       40.00\n",
              "1       2017-04-03        1       1.00  WEST BENGAL  EAST        5.00\n",
              "2       2017-04-04        1       1.00  WEST BENGAL  EAST        4.00\n",
              "3       2017-04-05        1       1.00  WEST BENGAL  EAST      113.00\n",
              "4       2017-04-07        1       1.00  WEST BENGAL  EAST       76.00"
            ]
          },
          "metadata": {
            "tags": []
          },
          "execution_count": 5
        }
      ]
    },
    {
      "cell_type": "code",
      "metadata": {
        "colab_type": "code",
        "id": "0oyr1g5CQa8n",
        "outputId": "2cecd977-5aa3-43da-c752-b071c3f9abb7",
        "colab": {
          "base_uri": "https://localhost:8080/",
          "height": 204
        }
      },
      "source": [
        "# Data preprocessing function\n",
        "train_v2 = pd.DataFrame(train.groupby(['application_date', 'segment'])['case_count'].sum()).reset_index()\n",
        "train_v2.head()"
      ],
      "execution_count": 6,
      "outputs": [
        {
          "output_type": "execute_result",
          "data": {
            "text/html": [
              "<div>\n",
              "<style scoped>\n",
              "    .dataframe tbody tr th:only-of-type {\n",
              "        vertical-align: middle;\n",
              "    }\n",
              "\n",
              "    .dataframe tbody tr th {\n",
              "        vertical-align: top;\n",
              "    }\n",
              "\n",
              "    .dataframe thead th {\n",
              "        text-align: right;\n",
              "    }\n",
              "</style>\n",
              "<table border=\"1\" class=\"dataframe\">\n",
              "  <thead>\n",
              "    <tr style=\"text-align: right;\">\n",
              "      <th></th>\n",
              "      <th>application_date</th>\n",
              "      <th>segment</th>\n",
              "      <th>case_count</th>\n",
              "    </tr>\n",
              "  </thead>\n",
              "  <tbody>\n",
              "    <tr>\n",
              "      <th>0</th>\n",
              "      <td>2017-04-01</td>\n",
              "      <td>1</td>\n",
              "      <td>299.00</td>\n",
              "    </tr>\n",
              "    <tr>\n",
              "      <th>1</th>\n",
              "      <td>2017-04-01</td>\n",
              "      <td>2</td>\n",
              "      <td>897.00</td>\n",
              "    </tr>\n",
              "    <tr>\n",
              "      <th>2</th>\n",
              "      <td>2017-04-02</td>\n",
              "      <td>2</td>\n",
              "      <td>605.00</td>\n",
              "    </tr>\n",
              "    <tr>\n",
              "      <th>3</th>\n",
              "      <td>2017-04-03</td>\n",
              "      <td>1</td>\n",
              "      <td>42.00</td>\n",
              "    </tr>\n",
              "    <tr>\n",
              "      <th>4</th>\n",
              "      <td>2017-04-03</td>\n",
              "      <td>2</td>\n",
              "      <td>2016.00</td>\n",
              "    </tr>\n",
              "  </tbody>\n",
              "</table>\n",
              "</div>"
            ],
            "text/plain": [
              "  application_date  segment  case_count\n",
              "0       2017-04-01        1      299.00\n",
              "1       2017-04-01        2      897.00\n",
              "2       2017-04-02        2      605.00\n",
              "3       2017-04-03        1       42.00\n",
              "4       2017-04-03        2     2016.00"
            ]
          },
          "metadata": {
            "tags": []
          },
          "execution_count": 6
        }
      ]
    },
    {
      "cell_type": "code",
      "metadata": {
        "id": "ibRJNbWomOoO",
        "colab_type": "code",
        "outputId": "775ca61a-0290-47bc-c2c8-d0d9702e224a",
        "colab": {
          "base_uri": "https://localhost:8080/",
          "height": 340
        }
      },
      "source": [
        "train_v2_segment1 = train_v2[train_v2['segment'] == 1]\n",
        "train_v2_segment2 = train_v2[train_v2['segment'] == 2]\n",
        "\n",
        "train_v2_segment1 = train_v2_segment1.drop(['segment'], axis = 1).reset_index()\n",
        "train_v2_segment2 = train_v2_segment2.drop(['segment'], axis = 1).reset_index()\n",
        "\n",
        "print(\"Shape of training data :\", train_v2.shape)\n",
        "print(\"Shape of training data for segment 1 :\", train_v2_segment1.shape)\n",
        "print(\"Shape of training data for segment 2 :\", train_v2_segment2.shape)\n",
        "print(\" \")\n",
        "print(\"Top 5 rows of training data - segment 1\")\n",
        "print(train_v2_segment1.head())\n",
        "print(\" \")\n",
        "print(\"Top 5 rows of training data - segment 2\")\n",
        "print(train_v2_segment2.head())"
      ],
      "execution_count": 7,
      "outputs": [
        {
          "output_type": "stream",
          "text": [
            "Shape of training data : (1650, 3)\n",
            "Shape of training data for segment 1 : (806, 3)\n",
            "Shape of training data for segment 2 : (844, 3)\n",
            " \n",
            "Top 5 rows of training data - segment 1\n",
            "   index application_date  case_count\n",
            "0      0       2017-04-01      299.00\n",
            "1      3       2017-04-03       42.00\n",
            "2      5       2017-04-04       23.00\n",
            "3      7       2017-04-05     1530.00\n",
            "4     10       2017-04-07     1341.00\n",
            " \n",
            "Top 5 rows of training data - segment 2\n",
            "   index application_date  case_count\n",
            "0      1       2017-04-01      897.00\n",
            "1      2       2017-04-02      605.00\n",
            "2      4       2017-04-03     2016.00\n",
            "3      6       2017-04-04     2245.00\n",
            "4      8       2017-04-05     2415.00\n"
          ],
          "name": "stdout"
        }
      ]
    },
    {
      "cell_type": "code",
      "metadata": {
        "id": "txXUn-sZ6G4p",
        "colab_type": "code",
        "colab": {
          "base_uri": "https://localhost:8080/",
          "height": 340
        },
        "outputId": "2212b419-e32c-4aa3-954f-65011fa5c87c"
      },
      "source": [
        "test_v2 = test\n",
        "test_segment1 = test_v2[test_v2['segment'] == 1]\n",
        "test_segment2 = test_v2[test_v2['segment'] == 2]\n",
        "\n",
        "test_segment1 = test_segment1.drop(['segment'], axis = 1).reset_index()\n",
        "test_segment2 = test_segment2.drop(['segment'], axis = 1).reset_index()\n",
        "\n",
        "print(\"Shape of test data :\", test_v2.shape)\n",
        "print(\"Shape of test data for segment 1 :\", test_segment1.shape)\n",
        "print(\"Shape of test data for segment 2 :\", test_segment2.shape)\n",
        "print(\" \")\n",
        "print(\"Top 5 rows of test data - segment 1\")\n",
        "print(test_segment1.head())\n",
        "print(\" \")\n",
        "print(\"Top 5 rows of test data - segment 2\")\n",
        "print(test_segment2.head())"
      ],
      "execution_count": 8,
      "outputs": [
        {
          "output_type": "stream",
          "text": [
            "Shape of test data : (180, 3)\n",
            "Shape of test data for segment 1 : (87, 3)\n",
            "Shape of test data for segment 2 : (93, 3)\n",
            " \n",
            "Top 5 rows of test data - segment 1\n",
            "   index  id application_date\n",
            "0      0   1       2019-07-06\n",
            "1      1   2       2019-07-07\n",
            "2      2   3       2019-07-08\n",
            "3      3   4       2019-07-09\n",
            "4      4   5       2019-07-10\n",
            " \n",
            "Top 5 rows of test data - segment 2\n",
            "   index  id application_date\n",
            "0     87  88       2019-07-24\n",
            "1     88  89       2019-07-25\n",
            "2     89  90       2019-07-26\n",
            "3     90  91       2019-07-27\n",
            "4     91  92       2019-07-28\n"
          ],
          "name": "stdout"
        }
      ]
    },
    {
      "cell_type": "markdown",
      "metadata": {
        "id": "7eEIeXP6qxRR",
        "colab_type": "text"
      },
      "source": [
        "## **Machine Learning - Segment 1**"
      ]
    },
    {
      "cell_type": "markdown",
      "metadata": {
        "id": "fjJrUUbKJa2B",
        "colab_type": "text"
      },
      "source": [
        "### **Data Preprocessing**"
      ]
    },
    {
      "cell_type": "code",
      "metadata": {
        "id": "aRjhaQHUnyrZ",
        "colab_type": "code",
        "colab": {}
      },
      "source": [
        "import warnings\n",
        "warnings.filterwarnings(\"ignore\")"
      ],
      "execution_count": 0,
      "outputs": []
    },
    {
      "cell_type": "code",
      "metadata": {
        "id": "UJZn5iiBrKfu",
        "colab_type": "code",
        "outputId": "db23a5f8-d4fb-4ed1-fa51-ea978206408f",
        "colab": {
          "base_uri": "https://localhost:8080/",
          "height": 68
        }
      },
      "source": [
        "from sklearn.preprocessing import MinMaxScaler\n",
        "scaler = MinMaxScaler(feature_range = (0, 1))\n",
        "\n",
        "Train_seg1_scaled = scaler.fit_transform(train_v2_segment1[['case_count']])\n",
        "\n",
        "features_set = []\n",
        "labels = []\n",
        "for i in range(87, 806):\n",
        "    features_set.append(Train_seg1_scaled[i-87:i, 0])\n",
        "    labels.append(Train_seg1_scaled[i, 0])\n",
        "\n",
        "features_set, labels = np.array(features_set), np.array(labels)\n",
        "features_set = np.reshape(features_set, (features_set.shape[0], features_set.shape[1], 1))\n",
        "\n",
        "print(\"Shape of feature_set :\", features_set.shape)\n",
        "print(\"Shape of labels :\", labels.shape)\n",
        "\n",
        "total_series_segment = train_v2_segment1['case_count']\n",
        "Test_seg1 = train_v2_segment1[['case_count']].tail(87)\n",
        "test_inputs = total_series_segment[len(total_series_segment) - len(Test_seg1) - 87:].values\n",
        "\n",
        "test_inputs = test_inputs.reshape(-1,1)\n",
        "test_inputs = scaler.transform(test_inputs)\n",
        "test_features = []\n",
        "for i in range(87, 174):\n",
        "    test_features.append(test_inputs[i-87:i, 0])\n",
        "\n",
        "test_features = np.array(test_features)\n",
        "test_features = np.reshape(test_features, (test_features.shape[0], test_features.shape[1], 1))\n",
        "\n",
        "print(\"Shape of feature_set :\", test_features.shape)"
      ],
      "execution_count": 10,
      "outputs": [
        {
          "output_type": "stream",
          "text": [
            "Shape of feature_set : (719, 87, 1)\n",
            "Shape of labels : (719,)\n",
            "Shape of feature_set : (87, 87, 1)\n"
          ],
          "name": "stdout"
        }
      ]
    },
    {
      "cell_type": "markdown",
      "metadata": {
        "id": "5cPUvmKsw2hH",
        "colab_type": "text"
      },
      "source": [
        "### **Deep Learning**"
      ]
    },
    {
      "cell_type": "code",
      "metadata": {
        "id": "v-4KEEnDxBNH",
        "colab_type": "code",
        "outputId": "e9673075-a81b-42bd-e1a4-2f5aeaaa4219",
        "colab": {
          "base_uri": "https://localhost:8080/",
          "height": 1000
        }
      },
      "source": [
        "import keras\n",
        "from keras.models import Sequential\n",
        "from keras.callbacks import ModelCheckpoint, TensorBoard, ReduceLROnPlateau\n",
        "from keras.preprocessing.image import ImageDataGenerator\n",
        "from keras.layers import Dense, Activation, Flatten, Dropout, BatchNormalization, LSTM\n",
        "from keras import regularizers, optimizers\n",
        "from keras.optimizers import SGD, Adam, RMSprop\n",
        "\n",
        "#Start Neural Network\n",
        "def lstm_model():\n",
        "  print('Building model...')\n",
        "  input_shape = (features_set.shape[1], 1)\n",
        "  model = Sequential()\n",
        "  #lstm 1st layer\n",
        "  model.add(LSTM(units=50, return_sequences=True, input_shape=input_shape))\n",
        "  model.add(Dropout(0.2))\n",
        "\n",
        "  #lstm 2nd layer\n",
        "  model.add(LSTM(units=50, return_sequences=True))\n",
        "  model.add(Dropout(0.2))\n",
        "  \n",
        "  #lstm 3rd layer\n",
        "  model.add(LSTM(units=50, return_sequences=True))\n",
        "  model.add(Dropout(0.2))\n",
        "\n",
        "  #lstm 4th layer\n",
        "  model.add(LSTM(units=50))\n",
        "  model.add(Dropout(0.2))\n",
        "  \n",
        "  #Final layer\n",
        "  model.add(Dense(units = 1))\n",
        "  \n",
        "  #Model Compilation\n",
        "  model.compile(optimizer = 'adam', loss = 'mean_squared_error', metrics = ['mae'])\n",
        "  print(model.summary())\n",
        "  return model\n",
        "\n",
        "EPOCH_COUNT = 50\n",
        "\n",
        "def train_model(features_set, labels):\n",
        "  model = lstm_model()\n",
        "  #checkpoint_callback = ModelCheckpoint('./Code/lstm1.h5', monitor='val_mae', verbose=1,save_best_only=True, mode='min')\n",
        "  #reducelr_callback = ReduceLROnPlateau(monitor='val_mae', factor=0.5, patience=5, min_delta=0.01,verbose=1)\n",
        "  #callbacks_list = [checkpoint_callback, reducelr_callback]\n",
        "\t# Fit the model and get training history.\n",
        "  print('Training...')\n",
        "  history = model.fit(features_set, labels, \n",
        "                      epochs = EPOCH_COUNT, \n",
        "                      batch_size = 30)\n",
        "  return model, history\n",
        "\n",
        "def show_summary_stats(history):\n",
        "  # List all data in history\n",
        "  print(history.history.keys())\n",
        "  # Summarize history for accuracy\n",
        "  plt.figure(figsize=(15,5))\n",
        "  plt.plot(history.history['mean_absolute_error'])\n",
        "  #plt.plot(history.history['val_acc'])\n",
        "  plt.title('model accuracy')\n",
        "  plt.ylabel('MAE')\n",
        "  plt.xlabel('epoch')\n",
        "  #plt.legend(['train', 'test'], loc='upper left')\n",
        "  plt.show()\n",
        "\n",
        "  # Summarize history for loss\n",
        "  plt.figure(figsize=(15,5))\n",
        "  plt.plot(history.history['loss'])\n",
        "  #plt.plot(history.history['val_loss'])\n",
        "  plt.title('model loss')\n",
        "  plt.ylabel('loss')\n",
        "  plt.xlabel('epoch')\n",
        "  #plt.legend(['train', 'test'], loc='upper left')\n",
        "  plt.show()\n",
        "\n",
        "model, history  = train_model(features_set, labels)\n",
        "show_summary_stats(history)"
      ],
      "execution_count": 11,
      "outputs": [
        {
          "output_type": "stream",
          "text": [
            "Using TensorFlow backend.\n"
          ],
          "name": "stderr"
        },
        {
          "output_type": "display_data",
          "data": {
            "text/html": [
              "<p style=\"color: red;\">\n",
              "The default version of TensorFlow in Colab will soon switch to TensorFlow 2.x.<br>\n",
              "We recommend you <a href=\"https://www.tensorflow.org/guide/migrate\" target=\"_blank\">upgrade</a> now \n",
              "or ensure your notebook will continue to use TensorFlow 1.x via the <code>%tensorflow_version 1.x</code> magic:\n",
              "<a href=\"https://colab.research.google.com/notebooks/tensorflow_version.ipynb\" target=\"_blank\">more info</a>.</p>\n"
            ],
            "text/plain": [
              "<IPython.core.display.HTML object>"
            ]
          },
          "metadata": {
            "tags": []
          }
        },
        {
          "output_type": "stream",
          "text": [
            "Building model...\n",
            "WARNING:tensorflow:From /usr/local/lib/python3.6/dist-packages/keras/backend/tensorflow_backend.py:66: The name tf.get_default_graph is deprecated. Please use tf.compat.v1.get_default_graph instead.\n",
            "\n",
            "WARNING:tensorflow:From /usr/local/lib/python3.6/dist-packages/keras/backend/tensorflow_backend.py:541: The name tf.placeholder is deprecated. Please use tf.compat.v1.placeholder instead.\n",
            "\n",
            "WARNING:tensorflow:From /usr/local/lib/python3.6/dist-packages/keras/backend/tensorflow_backend.py:4432: The name tf.random_uniform is deprecated. Please use tf.random.uniform instead.\n",
            "\n",
            "WARNING:tensorflow:From /usr/local/lib/python3.6/dist-packages/keras/backend/tensorflow_backend.py:148: The name tf.placeholder_with_default is deprecated. Please use tf.compat.v1.placeholder_with_default instead.\n",
            "\n",
            "WARNING:tensorflow:From /usr/local/lib/python3.6/dist-packages/keras/backend/tensorflow_backend.py:3733: calling dropout (from tensorflow.python.ops.nn_ops) with keep_prob is deprecated and will be removed in a future version.\n",
            "Instructions for updating:\n",
            "Please use `rate` instead of `keep_prob`. Rate should be set to `rate = 1 - keep_prob`.\n",
            "WARNING:tensorflow:From /usr/local/lib/python3.6/dist-packages/keras/optimizers.py:793: The name tf.train.Optimizer is deprecated. Please use tf.compat.v1.train.Optimizer instead.\n",
            "\n",
            "Model: \"sequential_1\"\n",
            "_________________________________________________________________\n",
            "Layer (type)                 Output Shape              Param #   \n",
            "=================================================================\n",
            "lstm_1 (LSTM)                (None, 87, 50)            10400     \n",
            "_________________________________________________________________\n",
            "dropout_1 (Dropout)          (None, 87, 50)            0         \n",
            "_________________________________________________________________\n",
            "lstm_2 (LSTM)                (None, 87, 50)            20200     \n",
            "_________________________________________________________________\n",
            "dropout_2 (Dropout)          (None, 87, 50)            0         \n",
            "_________________________________________________________________\n",
            "lstm_3 (LSTM)                (None, 87, 50)            20200     \n",
            "_________________________________________________________________\n",
            "dropout_3 (Dropout)          (None, 87, 50)            0         \n",
            "_________________________________________________________________\n",
            "lstm_4 (LSTM)                (None, 50)                20200     \n",
            "_________________________________________________________________\n",
            "dropout_4 (Dropout)          (None, 50)                0         \n",
            "_________________________________________________________________\n",
            "dense_1 (Dense)              (None, 1)                 51        \n",
            "=================================================================\n",
            "Total params: 71,051\n",
            "Trainable params: 71,051\n",
            "Non-trainable params: 0\n",
            "_________________________________________________________________\n",
            "None\n",
            "Training...\n",
            "WARNING:tensorflow:From /usr/local/lib/python3.6/dist-packages/tensorflow_core/python/ops/math_grad.py:1424: where (from tensorflow.python.ops.array_ops) is deprecated and will be removed in a future version.\n",
            "Instructions for updating:\n",
            "Use tf.where in 2.0, which has the same broadcast rule as np.where\n",
            "WARNING:tensorflow:From /usr/local/lib/python3.6/dist-packages/keras/backend/tensorflow_backend.py:1033: The name tf.assign_add is deprecated. Please use tf.compat.v1.assign_add instead.\n",
            "\n",
            "WARNING:tensorflow:From /usr/local/lib/python3.6/dist-packages/keras/backend/tensorflow_backend.py:1020: The name tf.assign is deprecated. Please use tf.compat.v1.assign instead.\n",
            "\n",
            "WARNING:tensorflow:From /usr/local/lib/python3.6/dist-packages/keras/backend/tensorflow_backend.py:3005: The name tf.Session is deprecated. Please use tf.compat.v1.Session instead.\n",
            "\n",
            "Epoch 1/50\n",
            "WARNING:tensorflow:From /usr/local/lib/python3.6/dist-packages/keras/backend/tensorflow_backend.py:190: The name tf.get_default_session is deprecated. Please use tf.compat.v1.get_default_session instead.\n",
            "\n",
            "WARNING:tensorflow:From /usr/local/lib/python3.6/dist-packages/keras/backend/tensorflow_backend.py:197: The name tf.ConfigProto is deprecated. Please use tf.compat.v1.ConfigProto instead.\n",
            "\n",
            "WARNING:tensorflow:From /usr/local/lib/python3.6/dist-packages/keras/backend/tensorflow_backend.py:207: The name tf.global_variables is deprecated. Please use tf.compat.v1.global_variables instead.\n",
            "\n",
            "WARNING:tensorflow:From /usr/local/lib/python3.6/dist-packages/keras/backend/tensorflow_backend.py:216: The name tf.is_variable_initialized is deprecated. Please use tf.compat.v1.is_variable_initialized instead.\n",
            "\n",
            "WARNING:tensorflow:From /usr/local/lib/python3.6/dist-packages/keras/backend/tensorflow_backend.py:223: The name tf.variables_initializer is deprecated. Please use tf.compat.v1.variables_initializer instead.\n",
            "\n",
            "719/719 [==============================] - 15s 20ms/step - loss: 0.0115 - mean_absolute_error: 0.0666\n",
            "Epoch 2/50\n",
            "719/719 [==============================] - 13s 18ms/step - loss: 0.0092 - mean_absolute_error: 0.0554\n",
            "Epoch 3/50\n",
            "719/719 [==============================] - 12s 16ms/step - loss: 0.0088 - mean_absolute_error: 0.0536\n",
            "Epoch 4/50\n",
            "719/719 [==============================] - 12s 17ms/step - loss: 0.0089 - mean_absolute_error: 0.0540\n",
            "Epoch 5/50\n",
            "719/719 [==============================] - 12s 17ms/step - loss: 0.0088 - mean_absolute_error: 0.0524\n",
            "Epoch 6/50\n",
            "719/719 [==============================] - 12s 17ms/step - loss: 0.0087 - mean_absolute_error: 0.0552\n",
            "Epoch 7/50\n",
            "719/719 [==============================] - 12s 17ms/step - loss: 0.0093 - mean_absolute_error: 0.0556\n",
            "Epoch 8/50\n",
            "719/719 [==============================] - 12s 17ms/step - loss: 0.0087 - mean_absolute_error: 0.0523\n",
            "Epoch 9/50\n",
            "719/719 [==============================] - 12s 17ms/step - loss: 0.0088 - mean_absolute_error: 0.0532\n",
            "Epoch 10/50\n",
            "719/719 [==============================] - 12s 17ms/step - loss: 0.0086 - mean_absolute_error: 0.0519\n",
            "Epoch 11/50\n",
            "719/719 [==============================] - 12s 17ms/step - loss: 0.0084 - mean_absolute_error: 0.0502\n",
            "Epoch 12/50\n",
            "719/719 [==============================] - 12s 17ms/step - loss: 0.0087 - mean_absolute_error: 0.0531\n",
            "Epoch 13/50\n",
            "719/719 [==============================] - 12s 17ms/step - loss: 0.0088 - mean_absolute_error: 0.0527\n",
            "Epoch 14/50\n",
            "719/719 [==============================] - 12s 17ms/step - loss: 0.0085 - mean_absolute_error: 0.0509\n",
            "Epoch 15/50\n",
            "719/719 [==============================] - 12s 16ms/step - loss: 0.0085 - mean_absolute_error: 0.0510\n",
            "Epoch 16/50\n",
            "719/719 [==============================] - 12s 17ms/step - loss: 0.0086 - mean_absolute_error: 0.0509\n",
            "Epoch 17/50\n",
            "719/719 [==============================] - 12s 17ms/step - loss: 0.0086 - mean_absolute_error: 0.0509\n",
            "Epoch 18/50\n",
            "719/719 [==============================] - 12s 17ms/step - loss: 0.0086 - mean_absolute_error: 0.0521\n",
            "Epoch 19/50\n",
            "719/719 [==============================] - 12s 17ms/step - loss: 0.0085 - mean_absolute_error: 0.0510\n",
            "Epoch 20/50\n",
            "719/719 [==============================] - 12s 17ms/step - loss: 0.0086 - mean_absolute_error: 0.0505\n",
            "Epoch 21/50\n",
            "719/719 [==============================] - 12s 17ms/step - loss: 0.0086 - mean_absolute_error: 0.0514\n",
            "Epoch 22/50\n",
            "719/719 [==============================] - 12s 17ms/step - loss: 0.0087 - mean_absolute_error: 0.0541\n",
            "Epoch 23/50\n",
            "719/719 [==============================] - 12s 17ms/step - loss: 0.0084 - mean_absolute_error: 0.0508\n",
            "Epoch 24/50\n",
            "719/719 [==============================] - 12s 16ms/step - loss: 0.0084 - mean_absolute_error: 0.0512\n",
            "Epoch 25/50\n",
            "719/719 [==============================] - 11s 16ms/step - loss: 0.0086 - mean_absolute_error: 0.0527\n",
            "Epoch 26/50\n",
            "719/719 [==============================] - 12s 16ms/step - loss: 0.0083 - mean_absolute_error: 0.0509\n",
            "Epoch 27/50\n",
            "719/719 [==============================] - 12s 17ms/step - loss: 0.0083 - mean_absolute_error: 0.0504\n",
            "Epoch 28/50\n",
            "719/719 [==============================] - 12s 17ms/step - loss: 0.0082 - mean_absolute_error: 0.0493\n",
            "Epoch 29/50\n",
            "719/719 [==============================] - 12s 16ms/step - loss: 0.0082 - mean_absolute_error: 0.0495\n",
            "Epoch 30/50\n",
            "719/719 [==============================] - 12s 16ms/step - loss: 0.0082 - mean_absolute_error: 0.0505\n",
            "Epoch 31/50\n",
            "719/719 [==============================] - 12s 16ms/step - loss: 0.0082 - mean_absolute_error: 0.0504\n",
            "Epoch 32/50\n",
            "719/719 [==============================] - 12s 17ms/step - loss: 0.0086 - mean_absolute_error: 0.0519\n",
            "Epoch 33/50\n",
            "719/719 [==============================] - 12s 16ms/step - loss: 0.0084 - mean_absolute_error: 0.0506\n",
            "Epoch 34/50\n",
            "719/719 [==============================] - 12s 16ms/step - loss: 0.0081 - mean_absolute_error: 0.0491\n",
            "Epoch 35/50\n",
            "719/719 [==============================] - 12s 16ms/step - loss: 0.0082 - mean_absolute_error: 0.0505\n",
            "Epoch 36/50\n",
            "719/719 [==============================] - 12s 17ms/step - loss: 0.0084 - mean_absolute_error: 0.0506\n",
            "Epoch 37/50\n",
            "719/719 [==============================] - 12s 17ms/step - loss: 0.0081 - mean_absolute_error: 0.0496\n",
            "Epoch 38/50\n",
            "719/719 [==============================] - 12s 16ms/step - loss: 0.0083 - mean_absolute_error: 0.0499\n",
            "Epoch 39/50\n",
            "719/719 [==============================] - 11s 16ms/step - loss: 0.0085 - mean_absolute_error: 0.0524\n",
            "Epoch 40/50\n",
            "719/719 [==============================] - 12s 17ms/step - loss: 0.0086 - mean_absolute_error: 0.0526\n",
            "Epoch 41/50\n",
            "719/719 [==============================] - 12s 16ms/step - loss: 0.0083 - mean_absolute_error: 0.0511\n",
            "Epoch 42/50\n",
            "719/719 [==============================] - 12s 17ms/step - loss: 0.0082 - mean_absolute_error: 0.0508\n",
            "Epoch 43/50\n",
            "719/719 [==============================] - 12s 16ms/step - loss: 0.0080 - mean_absolute_error: 0.0493\n",
            "Epoch 44/50\n",
            "719/719 [==============================] - 12s 16ms/step - loss: 0.0082 - mean_absolute_error: 0.0495\n",
            "Epoch 45/50\n",
            "719/719 [==============================] - 12s 16ms/step - loss: 0.0080 - mean_absolute_error: 0.0499\n",
            "Epoch 46/50\n",
            "719/719 [==============================] - 12s 16ms/step - loss: 0.0081 - mean_absolute_error: 0.0499\n",
            "Epoch 47/50\n",
            "719/719 [==============================] - 12s 17ms/step - loss: 0.0082 - mean_absolute_error: 0.0495\n",
            "Epoch 48/50\n",
            "719/719 [==============================] - 11s 16ms/step - loss: 0.0081 - mean_absolute_error: 0.0498\n",
            "Epoch 49/50\n",
            "719/719 [==============================] - 11s 16ms/step - loss: 0.0081 - mean_absolute_error: 0.0499\n",
            "Epoch 50/50\n",
            "719/719 [==============================] - 12s 16ms/step - loss: 0.0083 - mean_absolute_error: 0.0491\n",
            "dict_keys(['loss', 'mean_absolute_error'])\n"
          ],
          "name": "stdout"
        },
        {
          "output_type": "display_data",
          "data": {
            "image/png": "[encoded data removed]",
            "text/plain": [
              "<Figure size 1080x360 with 1 Axes>"
            ]
          },
          "metadata": {
            "tags": []
          }
        },
        {
          "output_type": "display_data",
          "data": {
            "image/png": "[encoded data removed]",
            "text/plain": [
              "<Figure size 1080x360 with 1 Axes>"
            ]
          },
          "metadata": {
            "tags": []
          }
        }
      ]
    },
    {
      "cell_type": "code",
      "metadata": {
        "id": "uPEeBj5BCoYb",
        "colab_type": "code",
        "colab": {
          "base_uri": "https://localhost:8080/",
          "height": 204
        },
        "outputId": "f48dfb45-d337-462a-9238-961cd88af270"
      },
      "source": [
        "y_pred_seg1 = model.predict(test_features)\n",
        "y_pred_seg1 = scaler.inverse_transform(y_pred_seg1)\n",
        "\n",
        "test_segment1['case_count'] = y_pred_seg1\n",
        "test_segment1['segment'] = 1\n",
        "test_segment1['case_count'] = test_segment1['case_count'].round(0)\n",
        "test_segment1 = test_segment1[['id', 'application_date', 'segment', 'case_count']]\n",
        "test_segment1.head()"
      ],
      "execution_count": 12,
      "outputs": [
        {
          "output_type": "execute_result",
          "data": {
            "text/html": [
              "<div>\n",
              "<style scoped>\n",
              "    .dataframe tbody tr th:only-of-type {\n",
              "        vertical-align: middle;\n",
              "    }\n",
              "\n",
              "    .dataframe tbody tr th {\n",
              "        vertical-align: top;\n",
              "    }\n",
              "\n",
              "    .dataframe thead th {\n",
              "        text-align: right;\n",
              "    }\n",
              "</style>\n",
              "<table border=\"1\" class=\"dataframe\">\n",
              "  <thead>\n",
              "    <tr style=\"text-align: right;\">\n",
              "      <th></th>\n",
              "      <th>id</th>\n",
              "      <th>application_date</th>\n",
              "      <th>segment</th>\n",
              "      <th>case_count</th>\n",
              "    </tr>\n",
              "  </thead>\n",
              "  <tbody>\n",
              "    <tr>\n",
              "      <th>0</th>\n",
              "      <td>1</td>\n",
              "      <td>2019-07-06</td>\n",
              "      <td>1</td>\n",
              "      <td>2955.00</td>\n",
              "    </tr>\n",
              "    <tr>\n",
              "      <th>1</th>\n",
              "      <td>2</td>\n",
              "      <td>2019-07-07</td>\n",
              "      <td>1</td>\n",
              "      <td>2959.00</td>\n",
              "    </tr>\n",
              "    <tr>\n",
              "      <th>2</th>\n",
              "      <td>3</td>\n",
              "      <td>2019-07-08</td>\n",
              "      <td>1</td>\n",
              "      <td>2966.00</td>\n",
              "    </tr>\n",
              "    <tr>\n",
              "      <th>3</th>\n",
              "      <td>4</td>\n",
              "      <td>2019-07-09</td>\n",
              "      <td>1</td>\n",
              "      <td>2975.00</td>\n",
              "    </tr>\n",
              "    <tr>\n",
              "      <th>4</th>\n",
              "      <td>5</td>\n",
              "      <td>2019-07-10</td>\n",
              "      <td>1</td>\n",
              "      <td>2986.00</td>\n",
              "    </tr>\n",
              "  </tbody>\n",
              "</table>\n",
              "</div>"
            ],
            "text/plain": [
              "   id application_date  segment  case_count\n",
              "0   1       2019-07-06        1     2955.00\n",
              "1   2       2019-07-07        1     2959.00\n",
              "2   3       2019-07-08        1     2966.00\n",
              "3   4       2019-07-09        1     2975.00\n",
              "4   5       2019-07-10        1     2986.00"
            ]
          },
          "metadata": {
            "tags": []
          },
          "execution_count": 12
        }
      ]
    },
    {
      "cell_type": "markdown",
      "metadata": {
        "id": "js_areC3KfTU",
        "colab_type": "text"
      },
      "source": [
        "## **Machine Learning - Segment 2**"
      ]
    },
    {
      "cell_type": "markdown",
      "metadata": {
        "id": "ZI1b8lULKkAa",
        "colab_type": "text"
      },
      "source": [
        "### **Data Preprocessing**"
      ]
    },
    {
      "cell_type": "code",
      "metadata": {
        "id": "Cj8OjH2dKqiE",
        "colab_type": "code",
        "colab": {
          "base_uri": "https://localhost:8080/",
          "height": 68
        },
        "outputId": "1b1c0238-c7c6-4bc8-fd43-b06cbdbc1f45"
      },
      "source": [
        "from sklearn.preprocessing import MinMaxScaler\n",
        "scaler = MinMaxScaler(feature_range = (0, 1))\n",
        "\n",
        "Train_seg2_scaled = scaler.fit_transform(train_v2_segment2[['case_count']])\n",
        "\n",
        "features_set = []\n",
        "labels = []\n",
        "for i in range(93, 844):\n",
        "    features_set.append(Train_seg2_scaled[i-93:i, 0])\n",
        "    labels.append(Train_seg2_scaled[i, 0])\n",
        "\n",
        "features_set, labels = np.array(features_set), np.array(labels)\n",
        "features_set = np.reshape(features_set, (features_set.shape[0], features_set.shape[1], 1))\n",
        "\n",
        "print(\"Shape of feature_set :\", features_set.shape)\n",
        "print(\"Shape of labels :\", labels.shape)\n",
        "\n",
        "total_series_segment = train_v2_segment2['case_count']\n",
        "Test_seg2 = train_v2_segment2[['case_count']].tail(93)\n",
        "test_inputs = total_series_segment[len(total_series_segment) - len(Test_seg2) - 93:].values\n",
        "\n",
        "test_inputs = test_inputs.reshape(-1,1)\n",
        "test_inputs = scaler.transform(test_inputs)\n",
        "test_features = []\n",
        "for i in range(93, 186):\n",
        "    test_features.append(test_inputs[i-93:i, 0])\n",
        "\n",
        "test_features = np.array(test_features)\n",
        "test_features = np.reshape(test_features, (test_features.shape[0], test_features.shape[1], 1))\n",
        "\n",
        "print(\"Shape of feature_set :\", test_features.shape)"
      ],
      "execution_count": 14,
      "outputs": [
        {
          "output_type": "stream",
          "text": [
            "Shape of feature_set : (751, 93, 1)\n",
            "Shape of labels : (751,)\n",
            "Shape of feature_set : (93, 93, 1)\n"
          ],
          "name": "stdout"
        }
      ]
    },
    {
      "cell_type": "markdown",
      "metadata": {
        "id": "4D_nA8_sKne8",
        "colab_type": "text"
      },
      "source": [
        "### **Deep Learning**"
      ]
    },
    {
      "cell_type": "code",
      "metadata": {
        "id": "seTcKuOFL-Ib",
        "colab_type": "code",
        "colab": {
          "base_uri": "https://localhost:8080/",
          "height": 1000
        },
        "outputId": "c4fb14b3-e124-4f4e-985c-349eec847102"
      },
      "source": [
        "import keras\n",
        "from keras.models import Sequential\n",
        "from keras.callbacks import ModelCheckpoint, TensorBoard, ReduceLROnPlateau\n",
        "from keras.preprocessing.image import ImageDataGenerator\n",
        "from keras.layers import Dense, Activation, Flatten, Dropout, BatchNormalization, LSTM\n",
        "from keras import regularizers, optimizers\n",
        "from keras.optimizers import SGD, Adam, RMSprop\n",
        "\n",
        "#Start Neural Network\n",
        "def lstm_model():\n",
        "  print('Building model...')\n",
        "  input_shape = (features_set.shape[1], 1)\n",
        "  model = Sequential()\n",
        "  #lstm 1st layer\n",
        "  model.add(LSTM(units=50, return_sequences=True, input_shape=input_shape))\n",
        "  model.add(Dropout(0.2))\n",
        "\n",
        "  #lstm 2nd layer\n",
        "  model.add(LSTM(units=50, return_sequences=True))\n",
        "  model.add(Dropout(0.2))\n",
        "  \n",
        "  #lstm 3rd layer\n",
        "  model.add(LSTM(units=50, return_sequences=True))\n",
        "  model.add(Dropout(0.2))\n",
        "\n",
        "  #lstm 4th layer\n",
        "  model.add(LSTM(units=50))\n",
        "  model.add(Dropout(0.2))\n",
        "  \n",
        "  #Final layer\n",
        "  model.add(Dense(units = 1))\n",
        "  \n",
        "  #Model Compilation\n",
        "  model.compile(optimizer = 'adam', loss = 'mean_squared_error', metrics = ['mae'])\n",
        "  print(model.summary())\n",
        "  return model\n",
        "\n",
        "EPOCH_COUNT = 50\n",
        "\n",
        "def train_model(features_set, labels):\n",
        "  model = lstm_model()\n",
        "  #checkpoint_callback = ModelCheckpoint('./Code/lstm1.h5', monitor='val_mae', verbose=1,save_best_only=True, mode='min')\n",
        "  #reducelr_callback = ReduceLROnPlateau(monitor='val_mae', factor=0.5, patience=5, min_delta=0.01,verbose=1)\n",
        "  #callbacks_list = [checkpoint_callback, reducelr_callback]\n",
        "\t# Fit the model and get training history.\n",
        "  print('Training...')\n",
        "  history = model.fit(features_set, labels, \n",
        "                      epochs = EPOCH_COUNT, \n",
        "                      batch_size = 30)\n",
        "  return model, history\n",
        "\n",
        "def show_summary_stats(history):\n",
        "  # List all data in history\n",
        "  print(history.history.keys())\n",
        "  # Summarize history for accuracy\n",
        "  plt.figure(figsize=(15,5))\n",
        "  plt.plot(history.history['mean_absolute_error'])\n",
        "  #plt.plot(history.history['val_acc'])\n",
        "  plt.title('model accuracy')\n",
        "  plt.ylabel('MAE')\n",
        "  plt.xlabel('epoch')\n",
        "  #plt.legend(['train', 'test'], loc='upper left')\n",
        "  plt.show()\n",
        "\n",
        "  # Summarize history for loss\n",
        "  plt.figure(figsize=(15,5))\n",
        "  plt.plot(history.history['loss'])\n",
        "  #plt.plot(history.history['val_loss'])\n",
        "  plt.title('model loss')\n",
        "  plt.ylabel('loss')\n",
        "  plt.xlabel('epoch')\n",
        "  #plt.legend(['train', 'test'], loc='upper left')\n",
        "  plt.show()\n",
        "\n",
        "model, history  = train_model(features_set, labels)\n",
        "show_summary_stats(history)"
      ],
      "execution_count": 15,
      "outputs": [
        {
          "output_type": "stream",
          "text": [
            "Building model...\n",
            "Model: \"sequential_2\"\n",
            "_________________________________________________________________\n",
            "Layer (type)                 Output Shape              Param #   \n",
            "=================================================================\n",
            "lstm_5 (LSTM)                (None, 93, 50)            10400     \n",
            "_________________________________________________________________\n",
            "dropout_5 (Dropout)          (None, 93, 50)            0         \n",
            "_________________________________________________________________\n",
            "lstm_6 (LSTM)                (None, 93, 50)            20200     \n",
            "_________________________________________________________________\n",
            "dropout_6 (Dropout)          (None, 93, 50)            0         \n",
            "_________________________________________________________________\n",
            "lstm_7 (LSTM)                (None, 93, 50)            20200     \n",
            "_________________________________________________________________\n",
            "dropout_7 (Dropout)          (None, 93, 50)            0         \n",
            "_________________________________________________________________\n",
            "lstm_8 (LSTM)                (None, 50)                20200     \n",
            "_________________________________________________________________\n",
            "dropout_8 (Dropout)          (None, 50)                0         \n",
            "_________________________________________________________________\n",
            "dense_2 (Dense)              (None, 1)                 51        \n",
            "=================================================================\n",
            "Total params: 71,051\n",
            "Trainable params: 71,051\n",
            "Non-trainable params: 0\n",
            "_________________________________________________________________\n",
            "None\n",
            "Training...\n",
            "Epoch 1/50\n",
            "751/751 [==============================] - 17s 22ms/step - loss: 0.0845 - mean_absolute_error: 0.2425\n",
            "Epoch 2/50\n",
            "751/751 [==============================] - 14s 19ms/step - loss: 0.0612 - mean_absolute_error: 0.2149\n",
            "Epoch 3/50\n",
            "751/751 [==============================] - 14s 19ms/step - loss: 0.0354 - mean_absolute_error: 0.1555\n",
            "Epoch 4/50\n",
            "751/751 [==============================] - 14s 19ms/step - loss: 0.0238 - mean_absolute_error: 0.1225\n",
            "Epoch 5/50\n",
            "751/751 [==============================] - 15s 19ms/step - loss: 0.0204 - mean_absolute_error: 0.1109\n",
            "Epoch 6/50\n",
            "751/751 [==============================] - 14s 18ms/step - loss: 0.0201 - mean_absolute_error: 0.1114\n",
            "Epoch 7/50\n",
            "751/751 [==============================] - 15s 19ms/step - loss: 0.0188 - mean_absolute_error: 0.1076\n",
            "Epoch 8/50\n",
            "751/751 [==============================] - 14s 19ms/step - loss: 0.0184 - mean_absolute_error: 0.1044\n",
            "Epoch 9/50\n",
            "751/751 [==============================] - 15s 19ms/step - loss: 0.0203 - mean_absolute_error: 0.1093\n",
            "Epoch 10/50\n",
            "751/751 [==============================] - 14s 19ms/step - loss: 0.0200 - mean_absolute_error: 0.1125\n",
            "Epoch 11/50\n",
            "751/751 [==============================] - 14s 19ms/step - loss: 0.0182 - mean_absolute_error: 0.1046\n",
            "Epoch 12/50\n",
            "751/751 [==============================] - 14s 18ms/step - loss: 0.0199 - mean_absolute_error: 0.1107\n",
            "Epoch 13/50\n",
            "751/751 [==============================] - 14s 19ms/step - loss: 0.0181 - mean_absolute_error: 0.1043\n",
            "Epoch 14/50\n",
            "751/751 [==============================] - 14s 19ms/step - loss: 0.0202 - mean_absolute_error: 0.1118\n",
            "Epoch 15/50\n",
            "751/751 [==============================] - 14s 19ms/step - loss: 0.0169 - mean_absolute_error: 0.1010\n",
            "Epoch 16/50\n",
            "751/751 [==============================] - 14s 19ms/step - loss: 0.0182 - mean_absolute_error: 0.1043\n",
            "Epoch 17/50\n",
            "751/751 [==============================] - 14s 19ms/step - loss: 0.0172 - mean_absolute_error: 0.1017\n",
            "Epoch 18/50\n",
            "751/751 [==============================] - 15s 19ms/step - loss: 0.0193 - mean_absolute_error: 0.1077\n",
            "Epoch 19/50\n",
            "751/751 [==============================] - 14s 19ms/step - loss: 0.0175 - mean_absolute_error: 0.1053\n",
            "Epoch 20/50\n",
            "751/751 [==============================] - 14s 19ms/step - loss: 0.0171 - mean_absolute_error: 0.1037\n",
            "Epoch 21/50\n",
            "751/751 [==============================] - 14s 19ms/step - loss: 0.0167 - mean_absolute_error: 0.1005\n",
            "Epoch 22/50\n",
            "751/751 [==============================] - 14s 19ms/step - loss: 0.0177 - mean_absolute_error: 0.1048\n",
            "Epoch 23/50\n",
            "751/751 [==============================] - 14s 19ms/step - loss: 0.0174 - mean_absolute_error: 0.1032\n",
            "Epoch 24/50\n",
            "751/751 [==============================] - 14s 19ms/step - loss: 0.0191 - mean_absolute_error: 0.1081\n",
            "Epoch 25/50\n",
            "751/751 [==============================] - 14s 19ms/step - loss: 0.0180 - mean_absolute_error: 0.1060\n",
            "Epoch 26/50\n",
            "751/751 [==============================] - 14s 19ms/step - loss: 0.0164 - mean_absolute_error: 0.0997\n",
            "Epoch 27/50\n",
            "751/751 [==============================] - 14s 18ms/step - loss: 0.0182 - mean_absolute_error: 0.1071\n",
            "Epoch 28/50\n",
            "751/751 [==============================] - 14s 18ms/step - loss: 0.0214 - mean_absolute_error: 0.1131\n",
            "Epoch 29/50\n",
            "751/751 [==============================] - 14s 19ms/step - loss: 0.0179 - mean_absolute_error: 0.1052\n",
            "Epoch 30/50\n",
            "751/751 [==============================] - 14s 19ms/step - loss: 0.0171 - mean_absolute_error: 0.1015\n",
            "Epoch 31/50\n",
            "751/751 [==============================] - 14s 19ms/step - loss: 0.0227 - mean_absolute_error: 0.1242\n",
            "Epoch 32/50\n",
            "751/751 [==============================] - 14s 19ms/step - loss: 0.0176 - mean_absolute_error: 0.1037\n",
            "Epoch 33/50\n",
            "751/751 [==============================] - 14s 19ms/step - loss: 0.0171 - mean_absolute_error: 0.1035\n",
            "Epoch 34/50\n",
            "751/751 [==============================] - 14s 19ms/step - loss: 0.0166 - mean_absolute_error: 0.0998\n",
            "Epoch 35/50\n",
            "751/751 [==============================] - 14s 19ms/step - loss: 0.0195 - mean_absolute_error: 0.1080\n",
            "Epoch 36/50\n",
            "751/751 [==============================] - 14s 19ms/step - loss: 0.0176 - mean_absolute_error: 0.1033\n",
            "Epoch 37/50\n",
            "751/751 [==============================] - 14s 18ms/step - loss: 0.0180 - mean_absolute_error: 0.1047\n",
            "Epoch 38/50\n",
            "751/751 [==============================] - 14s 18ms/step - loss: 0.0182 - mean_absolute_error: 0.1046\n",
            "Epoch 39/50\n",
            "751/751 [==============================] - 14s 19ms/step - loss: 0.0171 - mean_absolute_error: 0.1027\n",
            "Epoch 40/50\n",
            "751/751 [==============================] - 14s 19ms/step - loss: 0.0170 - mean_absolute_error: 0.1020\n",
            "Epoch 41/50\n",
            "751/751 [==============================] - 14s 18ms/step - loss: 0.0171 - mean_absolute_error: 0.1036\n",
            "Epoch 42/50\n",
            "751/751 [==============================] - 14s 19ms/step - loss: 0.0178 - mean_absolute_error: 0.1039\n",
            "Epoch 43/50\n",
            "751/751 [==============================] - 14s 19ms/step - loss: 0.0165 - mean_absolute_error: 0.1002\n",
            "Epoch 44/50\n",
            "751/751 [==============================] - 14s 19ms/step - loss: 0.0187 - mean_absolute_error: 0.1088\n",
            "Epoch 45/50\n",
            "751/751 [==============================] - 14s 18ms/step - loss: 0.0166 - mean_absolute_error: 0.0994\n",
            "Epoch 46/50\n",
            "751/751 [==============================] - 14s 19ms/step - loss: 0.0163 - mean_absolute_error: 0.1009\n",
            "Epoch 47/50\n",
            "751/751 [==============================] - 14s 19ms/step - loss: 0.0163 - mean_absolute_error: 0.0990\n",
            "Epoch 48/50\n",
            "751/751 [==============================] - 14s 19ms/step - loss: 0.0168 - mean_absolute_error: 0.1017\n",
            "Epoch 49/50\n",
            "751/751 [==============================] - 14s 18ms/step - loss: 0.0167 - mean_absolute_error: 0.0992\n",
            "Epoch 50/50\n",
            "751/751 [==============================] - 14s 19ms/step - loss: 0.0162 - mean_absolute_error: 0.1003\n",
            "dict_keys(['loss', 'mean_absolute_error'])\n"
          ],
          "name": "stdout"
        },
        {
          "output_type": "display_data",
          "data": {
            "image/png": "[encoded data removed]",
            "text/plain": [
              "<Figure size 1080x360 with 1 Axes>"
            ]
          },
          "metadata": {
            "tags": []
          }
        },
        {
          "output_type": "display_data",
          "data": {
            "image/png": "[encoded data removed]",
            "text/plain": [
              "<Figure size 1080x360 with 1 Axes>"
            ]
          },
          "metadata": {
            "tags": []
          }
        }
      ]
    },
    {
      "cell_type": "code",
      "metadata": {
        "id": "KlS_HP6WMT6p",
        "colab_type": "code",
        "colab": {
          "base_uri": "https://localhost:8080/",
          "height": 204
        },
        "outputId": "3ccdff3b-5095-4fcc-b22d-97188fe04485"
      },
      "source": [
        "y_pred_seg2 = model.predict(test_features)\n",
        "y_pred_seg2 = scaler.inverse_transform(y_pred_seg2)\n",
        "\n",
        "test_segment2['case_count'] = y_pred_seg2\n",
        "test_segment2['segment'] = 2\n",
        "test_segment2['case_count'] = test_segment2['case_count'].round(0)\n",
        "test_segment2 = test_segment2[['id', 'application_date', 'segment', 'case_count']]\n",
        "test_segment2.head()"
      ],
      "execution_count": 16,
      "outputs": [
        {
          "output_type": "execute_result",
          "data": {
            "text/html": [
              "<div>\n",
              "<style scoped>\n",
              "    .dataframe tbody tr th:only-of-type {\n",
              "        vertical-align: middle;\n",
              "    }\n",
              "\n",
              "    .dataframe tbody tr th {\n",
              "        vertical-align: top;\n",
              "    }\n",
              "\n",
              "    .dataframe thead th {\n",
              "        text-align: right;\n",
              "    }\n",
              "</style>\n",
              "<table border=\"1\" class=\"dataframe\">\n",
              "  <thead>\n",
              "    <tr style=\"text-align: right;\">\n",
              "      <th></th>\n",
              "      <th>id</th>\n",
              "      <th>application_date</th>\n",
              "      <th>segment</th>\n",
              "      <th>case_count</th>\n",
              "    </tr>\n",
              "  </thead>\n",
              "  <tbody>\n",
              "    <tr>\n",
              "      <th>0</th>\n",
              "      <td>88</td>\n",
              "      <td>2019-07-24</td>\n",
              "      <td>2</td>\n",
              "      <td>30837.00</td>\n",
              "    </tr>\n",
              "    <tr>\n",
              "      <th>1</th>\n",
              "      <td>89</td>\n",
              "      <td>2019-07-25</td>\n",
              "      <td>2</td>\n",
              "      <td>30004.00</td>\n",
              "    </tr>\n",
              "    <tr>\n",
              "      <th>2</th>\n",
              "      <td>90</td>\n",
              "      <td>2019-07-26</td>\n",
              "      <td>2</td>\n",
              "      <td>28797.00</td>\n",
              "    </tr>\n",
              "    <tr>\n",
              "      <th>3</th>\n",
              "      <td>91</td>\n",
              "      <td>2019-07-27</td>\n",
              "      <td>2</td>\n",
              "      <td>27256.00</td>\n",
              "    </tr>\n",
              "    <tr>\n",
              "      <th>4</th>\n",
              "      <td>92</td>\n",
              "      <td>2019-07-28</td>\n",
              "      <td>2</td>\n",
              "      <td>25431.00</td>\n",
              "    </tr>\n",
              "  </tbody>\n",
              "</table>\n",
              "</div>"
            ],
            "text/plain": [
              "   id application_date  segment  case_count\n",
              "0  88       2019-07-24        2    30837.00\n",
              "1  89       2019-07-25        2    30004.00\n",
              "2  90       2019-07-26        2    28797.00\n",
              "3  91       2019-07-27        2    27256.00\n",
              "4  92       2019-07-28        2    25431.00"
            ]
          },
          "metadata": {
            "tags": []
          },
          "execution_count": 16
        }
      ]
    },
    {
      "cell_type": "code",
      "metadata": {
        "id": "7KbtkfS1N9hq",
        "colab_type": "code",
        "colab": {}
      },
      "source": [
        "submission = pd.concat([test_segment1, test_segment2],axis = 0)\n",
        "submission.to_csv(\"./Output/Submission_lstm_v1.csv\", index = False)"
      ],
      "execution_count": 0,
      "outputs": []
    }
  ]
}