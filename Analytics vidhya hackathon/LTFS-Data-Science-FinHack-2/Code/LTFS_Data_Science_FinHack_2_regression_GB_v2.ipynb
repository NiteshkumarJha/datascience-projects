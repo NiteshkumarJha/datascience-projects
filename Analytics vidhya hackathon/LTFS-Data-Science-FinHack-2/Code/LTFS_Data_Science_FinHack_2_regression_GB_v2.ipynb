{
  "nbformat": 4,
  "nbformat_minor": 0,
  "metadata": {
    "accelerator": "GPU",
    "colab": {
      "name": "LTFS_Data_Science_FinHack_2_regression_v5.ipynb",
      "provenance": [],
      "collapsed_sections": [],
      "toc_visible": true
    },
    "kernelspec": {
      "name": "python3",
      "display_name": "Python 3"
    },
    "language_info": {
      "codemirror_mode": {
        "name": "ipython",
        "version": 3
      },
      "file_extension": ".py",
      "mimetype": "text/x-python",
      "name": "python",
      "nbconvert_exporter": "python",
      "pygments_lexer": "ipython3",
      "version": "3.7.1"
    }
  },
  "cells": [
    {
      "cell_type": "markdown",
      "metadata": {
        "colab_type": "text",
        "id": "lW6Vh68CvHr9"
      },
      "source": [
        "# **LTFS Data Science FinHack 2**\n",
        "\n",
        "## **Problem statement**\n",
        "\n",
        "LTFS receives a lot of requests for its various finance offerings that include housing loan, two-wheeler loan, real estate financing and micro loans. The number of applications received is something that varies a lot with season. Going through these applications is a manual process and is tedious. Accurately forecasting the number of cases received can help with resource and manpower management resulting into quick response on applications and more efficient processing.\n",
        "\n",
        "We have been appointed with the task of forecasting daily cases for **next 3 months for 2 different business segments** at the **country level** keeping in consideration the following major Indian festivals (inclusive but not exhaustive list): Diwali, Dussehra, Ganesh Chaturthi, Navratri, Holi etc. (We are free to use any publicly available open source external datasets). Some other examples could be:\n",
        "\n",
        " + Weather\n",
        " + Macroeconomic variables\n",
        "\n",
        "we also note that the external dataset must belong to a reliable source.\n",
        "\n",
        "## **Data Dictionary**\n",
        "\n",
        "The train data has been provided in the following way:\n",
        "\n",
        " + For business segment 1, historical data has been made available at branch ID level\n",
        " + For business segment 2, historical data has been made available at State level.\n",
        " \n",
        "\n",
        "## **Train File**\n",
        "\n",
        "|Variable|\tDefinition|\n",
        "|:------:|:----------:|\n",
        "|application_date|Date of application|\n",
        "|application_date|\tDate of application|\n",
        "|segment|\tBusiness Segment (1/2)|\n",
        "|branch_id|\tAnonymised id for branch at which application was received|\n",
        "|state|\tState in which application was received (Karnataka, MP etc.)|\n",
        "|zone|\tZone of state in which application was received (Central, East etc.)|\n",
        "|case_count|\t(Target) Number of cases/applications received|\n",
        "\n",
        "## **Additional data**\n",
        "\n",
        "We have sourced holidays data from this [link](https://www.calendarlabs.com/holidays/india/2019).It contains below columns\n",
        "\n",
        "|Variable|\tDefinition|\n",
        "|:------:|:----------:|\n",
        "|DAY|\tName of day on which holiday occurs|\n",
        "|DATE| Date on which holiday occurs|\n",
        "| HOLIDAY|\tName of Holiday|\n",
        "\n",
        "## **Test File**\n",
        "\n",
        "Forecasting needs to be done at country level for the dates provided in test set for each segment.\n",
        "\n",
        "|Variable|\tDefinition|\n",
        "|:------:|:----------:|\n",
        "|id|\tUnique id for each sample in test set|\n",
        "|application_date|\tDate of application|\n",
        "| segment|\tBusiness Segment (1/2)|\n",
        "\n",
        "## **Evaluation**\n",
        "\n",
        "**Evaluation Metric**\n",
        "\n",
        "The evaluation metric for scoring the forecasts is MAPE (Mean Absolute Percentage Error) M with the formula:\n",
        "\n",
        "$$M = \\frac{100}{n}\\sum_{t = 1}^{n}|\\frac{A_t - F_t}{A_t}|$$\n",
        " \n",
        "Where $A_t$ is the actual value and $F_t$ is the forecast value.\n",
        "\n",
        "\n",
        "The Final score is calculated using $MAPE$ for both the segments using the formula:\n",
        "\n",
        "$Final Score = 0.5*MAPE_{Segment1} + 0.5*MAPE_{Segment2}$\n"
      ]
    },
    {
      "cell_type": "markdown",
      "metadata": {
        "colab_type": "text",
        "id": "N-vGpTKiAR1Y"
      },
      "source": [
        "## **Getting started**"
      ]
    },
    {
      "cell_type": "code",
      "metadata": {
        "id": "GaKrN1sOWRnq",
        "colab_type": "code",
        "outputId": "7dc7efe4-bac5-490f-ad66-09ee8332739d",
        "colab": {
          "base_uri": "https://localhost:8080/",
          "height": 54
        }
      },
      "source": [
        "from google.colab import drive\n",
        "drive.mount('/content/drive')"
      ],
      "execution_count": 1,
      "outputs": [
        {
          "output_type": "stream",
          "text": [
            "Drive already mounted at /content/drive; to attempt to forcibly remount, call drive.mount(\"/content/drive\", force_remount=True).\n"
          ],
          "name": "stdout"
        }
      ]
    },
    {
      "cell_type": "markdown",
      "metadata": {
        "colab_type": "text",
        "id": "xYFLOVn80m5U"
      },
      "source": [
        "**Importing libraries**"
      ]
    },
    {
      "cell_type": "code",
      "metadata": {
        "colab_type": "code",
        "id": "4wCxeTR3u6yN",
        "colab": {}
      },
      "source": [
        "import numpy as np\n",
        "import pandas as pd\n",
        "import matplotlib.pyplot as plt\n",
        "import seaborn as sns\n",
        "import scipy.stats as ss\n",
        "%matplotlib inline\n",
        "\n",
        "pd.set_option('display.max_rows', 100)\n",
        "pd.set_option('display.max_columns', 100)\n",
        "pd.set_option('display.float_format', lambda x: '%.2f' % x)"
      ],
      "execution_count": 0,
      "outputs": []
    },
    {
      "cell_type": "markdown",
      "metadata": {
        "colab_type": "text",
        "id": "-LexknjbArnb"
      },
      "source": [
        "**Reading data**"
      ]
    },
    {
      "cell_type": "code",
      "metadata": {
        "id": "6OPMktscUJes",
        "colab_type": "code",
        "colab": {}
      },
      "source": [
        "# Setting the path\n",
        "import os\n",
        "path = \"/content/drive/My Drive/Colab Notebooks (1)/LTFS Data Science FinHack 2\"\n",
        "os.chdir(path)"
      ],
      "execution_count": 0,
      "outputs": []
    },
    {
      "cell_type": "code",
      "metadata": {
        "id": "KqGoC-ezUJey",
        "colab_type": "code",
        "colab": {}
      },
      "source": [
        "# Importing the dataset\n",
        "train = pd.read_csv(\"./Input/train_fwYjLYX.csv\")\n",
        "holidays = pd.read_csv(\"./Input/holiday_list_2017_2018_2019.csv\")\n",
        "test = pd.read_csv(\"./Input/test_1eLl9Yf.csv\")\n",
        "Sample_submission = pd.read_csv(\"./Input/sample_submission_IIzFVsf.csv\")"
      ],
      "execution_count": 0,
      "outputs": []
    },
    {
      "cell_type": "markdown",
      "metadata": {
        "colab_type": "text",
        "id": "-iWd6d4FBz5q"
      },
      "source": [
        "## **Data Preprocessing**"
      ]
    },
    {
      "cell_type": "code",
      "metadata": {
        "colab_type": "code",
        "id": "2OYM4vA5B3Kf",
        "outputId": "14b5fe9c-9d20-4f61-e827-13b9b384fa2a",
        "colab": {
          "base_uri": "https://localhost:8080/",
          "height": 204
        }
      },
      "source": [
        "train.head()"
      ],
      "execution_count": 5,
      "outputs": [
        {
          "output_type": "execute_result",
          "data": {
            "text/html": [
              "<div>\n",
              "<style scoped>\n",
              "    .dataframe tbody tr th:only-of-type {\n",
              "        vertical-align: middle;\n",
              "    }\n",
              "\n",
              "    .dataframe tbody tr th {\n",
              "        vertical-align: top;\n",
              "    }\n",
              "\n",
              "    .dataframe thead th {\n",
              "        text-align: right;\n",
              "    }\n",
              "</style>\n",
              "<table border=\"1\" class=\"dataframe\">\n",
              "  <thead>\n",
              "    <tr style=\"text-align: right;\">\n",
              "      <th></th>\n",
              "      <th>application_date</th>\n",
              "      <th>segment</th>\n",
              "      <th>branch_id</th>\n",
              "      <th>state</th>\n",
              "      <th>zone</th>\n",
              "      <th>case_count</th>\n",
              "    </tr>\n",
              "  </thead>\n",
              "  <tbody>\n",
              "    <tr>\n",
              "      <th>0</th>\n",
              "      <td>2017-04-01</td>\n",
              "      <td>1</td>\n",
              "      <td>1.00</td>\n",
              "      <td>WEST BENGAL</td>\n",
              "      <td>EAST</td>\n",
              "      <td>40.00</td>\n",
              "    </tr>\n",
              "    <tr>\n",
              "      <th>1</th>\n",
              "      <td>2017-04-03</td>\n",
              "      <td>1</td>\n",
              "      <td>1.00</td>\n",
              "      <td>WEST BENGAL</td>\n",
              "      <td>EAST</td>\n",
              "      <td>5.00</td>\n",
              "    </tr>\n",
              "    <tr>\n",
              "      <th>2</th>\n",
              "      <td>2017-04-04</td>\n",
              "      <td>1</td>\n",
              "      <td>1.00</td>\n",
              "      <td>WEST BENGAL</td>\n",
              "      <td>EAST</td>\n",
              "      <td>4.00</td>\n",
              "    </tr>\n",
              "    <tr>\n",
              "      <th>3</th>\n",
              "      <td>2017-04-05</td>\n",
              "      <td>1</td>\n",
              "      <td>1.00</td>\n",
              "      <td>WEST BENGAL</td>\n",
              "      <td>EAST</td>\n",
              "      <td>113.00</td>\n",
              "    </tr>\n",
              "    <tr>\n",
              "      <th>4</th>\n",
              "      <td>2017-04-07</td>\n",
              "      <td>1</td>\n",
              "      <td>1.00</td>\n",
              "      <td>WEST BENGAL</td>\n",
              "      <td>EAST</td>\n",
              "      <td>76.00</td>\n",
              "    </tr>\n",
              "  </tbody>\n",
              "</table>\n",
              "</div>"
            ],
            "text/plain": [
              "  application_date  segment  branch_id        state  zone  case_count\n",
              "0       2017-04-01        1       1.00  WEST BENGAL  EAST       40.00\n",
              "1       2017-04-03        1       1.00  WEST BENGAL  EAST        5.00\n",
              "2       2017-04-04        1       1.00  WEST BENGAL  EAST        4.00\n",
              "3       2017-04-05        1       1.00  WEST BENGAL  EAST      113.00\n",
              "4       2017-04-07        1       1.00  WEST BENGAL  EAST       76.00"
            ]
          },
          "metadata": {
            "tags": []
          },
          "execution_count": 5
        }
      ]
    },
    {
      "cell_type": "code",
      "metadata": {
        "colab_type": "code",
        "id": "0oyr1g5CQa8n",
        "outputId": "b9417726-fdf4-4fd8-f6a6-4569b4bfff4d",
        "colab": {
          "base_uri": "https://localhost:8080/",
          "height": 204
        }
      },
      "source": [
        "# Data preprocessing function\n",
        "train_v2 = pd.DataFrame(train.groupby(['application_date', 'segment'])['case_count'].sum()).reset_index()\n",
        "train_v2.head()"
      ],
      "execution_count": 6,
      "outputs": [
        {
          "output_type": "execute_result",
          "data": {
            "text/html": [
              "<div>\n",
              "<style scoped>\n",
              "    .dataframe tbody tr th:only-of-type {\n",
              "        vertical-align: middle;\n",
              "    }\n",
              "\n",
              "    .dataframe tbody tr th {\n",
              "        vertical-align: top;\n",
              "    }\n",
              "\n",
              "    .dataframe thead th {\n",
              "        text-align: right;\n",
              "    }\n",
              "</style>\n",
              "<table border=\"1\" class=\"dataframe\">\n",
              "  <thead>\n",
              "    <tr style=\"text-align: right;\">\n",
              "      <th></th>\n",
              "      <th>application_date</th>\n",
              "      <th>segment</th>\n",
              "      <th>case_count</th>\n",
              "    </tr>\n",
              "  </thead>\n",
              "  <tbody>\n",
              "    <tr>\n",
              "      <th>0</th>\n",
              "      <td>2017-04-01</td>\n",
              "      <td>1</td>\n",
              "      <td>299.00</td>\n",
              "    </tr>\n",
              "    <tr>\n",
              "      <th>1</th>\n",
              "      <td>2017-04-01</td>\n",
              "      <td>2</td>\n",
              "      <td>897.00</td>\n",
              "    </tr>\n",
              "    <tr>\n",
              "      <th>2</th>\n",
              "      <td>2017-04-02</td>\n",
              "      <td>2</td>\n",
              "      <td>605.00</td>\n",
              "    </tr>\n",
              "    <tr>\n",
              "      <th>3</th>\n",
              "      <td>2017-04-03</td>\n",
              "      <td>1</td>\n",
              "      <td>42.00</td>\n",
              "    </tr>\n",
              "    <tr>\n",
              "      <th>4</th>\n",
              "      <td>2017-04-03</td>\n",
              "      <td>2</td>\n",
              "      <td>2016.00</td>\n",
              "    </tr>\n",
              "  </tbody>\n",
              "</table>\n",
              "</div>"
            ],
            "text/plain": [
              "  application_date  segment  case_count\n",
              "0       2017-04-01        1      299.00\n",
              "1       2017-04-01        2      897.00\n",
              "2       2017-04-02        2      605.00\n",
              "3       2017-04-03        1       42.00\n",
              "4       2017-04-03        2     2016.00"
            ]
          },
          "metadata": {
            "tags": []
          },
          "execution_count": 6
        }
      ]
    },
    {
      "cell_type": "code",
      "metadata": {
        "id": "qXg-9jbWW-Cd",
        "colab_type": "code",
        "outputId": "cc6f269a-0627-44a8-ee98-2d8c7dde439c",
        "colab": {
          "base_uri": "https://localhost:8080/",
          "height": 204
        }
      },
      "source": [
        "holidays.head()"
      ],
      "execution_count": 7,
      "outputs": [
        {
          "output_type": "execute_result",
          "data": {
            "text/html": [
              "<div>\n",
              "<style scoped>\n",
              "    .dataframe tbody tr th:only-of-type {\n",
              "        vertical-align: middle;\n",
              "    }\n",
              "\n",
              "    .dataframe tbody tr th {\n",
              "        vertical-align: top;\n",
              "    }\n",
              "\n",
              "    .dataframe thead th {\n",
              "        text-align: right;\n",
              "    }\n",
              "</style>\n",
              "<table border=\"1\" class=\"dataframe\">\n",
              "  <thead>\n",
              "    <tr style=\"text-align: right;\">\n",
              "      <th></th>\n",
              "      <th>DAY</th>\n",
              "      <th>DATE</th>\n",
              "      <th>HOLIDAY</th>\n",
              "    </tr>\n",
              "  </thead>\n",
              "  <tbody>\n",
              "    <tr>\n",
              "      <th>0</th>\n",
              "      <td>Sunday</td>\n",
              "      <td>01-Jan-17</td>\n",
              "      <td>New Year's Day</td>\n",
              "    </tr>\n",
              "    <tr>\n",
              "      <th>1</th>\n",
              "      <td>Saturday</td>\n",
              "      <td>14-Jan-17</td>\n",
              "      <td>Makar Sankranti / Pongal</td>\n",
              "    </tr>\n",
              "    <tr>\n",
              "      <th>2</th>\n",
              "      <td>Thursday</td>\n",
              "      <td>26-Jan-17</td>\n",
              "      <td>Republic Day</td>\n",
              "    </tr>\n",
              "    <tr>\n",
              "      <th>3</th>\n",
              "      <td>Friday</td>\n",
              "      <td>24-Feb-17</td>\n",
              "      <td>Maha Shivaratri</td>\n",
              "    </tr>\n",
              "    <tr>\n",
              "      <th>4</th>\n",
              "      <td>Monday</td>\n",
              "      <td>13-Mar-17</td>\n",
              "      <td>Holi</td>\n",
              "    </tr>\n",
              "  </tbody>\n",
              "</table>\n",
              "</div>"
            ],
            "text/plain": [
              "        DAY       DATE                   HOLIDAY\n",
              "0    Sunday  01-Jan-17            New Year's Day\n",
              "1  Saturday  14-Jan-17  Makar Sankranti / Pongal\n",
              "2  Thursday  26-Jan-17              Republic Day\n",
              "3    Friday  24-Feb-17           Maha Shivaratri\n",
              "4    Monday  13-Mar-17                      Holi"
            ]
          },
          "metadata": {
            "tags": []
          },
          "execution_count": 7
        }
      ]
    },
    {
      "cell_type": "code",
      "metadata": {
        "id": "f-IvUoHfXGdU",
        "colab_type": "code",
        "outputId": "d9c98083-90d7-48b1-df17-97fe2dc56adc",
        "colab": {
          "base_uri": "https://localhost:8080/",
          "height": 204
        }
      },
      "source": [
        "holidays['application_date'] = pd.to_datetime(holidays['DATE'])\n",
        "holidays = holidays[['application_date', 'HOLIDAY']]\n",
        "holidays.head()"
      ],
      "execution_count": 8,
      "outputs": [
        {
          "output_type": "execute_result",
          "data": {
            "text/html": [
              "<div>\n",
              "<style scoped>\n",
              "    .dataframe tbody tr th:only-of-type {\n",
              "        vertical-align: middle;\n",
              "    }\n",
              "\n",
              "    .dataframe tbody tr th {\n",
              "        vertical-align: top;\n",
              "    }\n",
              "\n",
              "    .dataframe thead th {\n",
              "        text-align: right;\n",
              "    }\n",
              "</style>\n",
              "<table border=\"1\" class=\"dataframe\">\n",
              "  <thead>\n",
              "    <tr style=\"text-align: right;\">\n",
              "      <th></th>\n",
              "      <th>application_date</th>\n",
              "      <th>HOLIDAY</th>\n",
              "    </tr>\n",
              "  </thead>\n",
              "  <tbody>\n",
              "    <tr>\n",
              "      <th>0</th>\n",
              "      <td>2017-01-01</td>\n",
              "      <td>New Year's Day</td>\n",
              "    </tr>\n",
              "    <tr>\n",
              "      <th>1</th>\n",
              "      <td>2017-01-14</td>\n",
              "      <td>Makar Sankranti / Pongal</td>\n",
              "    </tr>\n",
              "    <tr>\n",
              "      <th>2</th>\n",
              "      <td>2017-01-26</td>\n",
              "      <td>Republic Day</td>\n",
              "    </tr>\n",
              "    <tr>\n",
              "      <th>3</th>\n",
              "      <td>2017-02-24</td>\n",
              "      <td>Maha Shivaratri</td>\n",
              "    </tr>\n",
              "    <tr>\n",
              "      <th>4</th>\n",
              "      <td>2017-03-13</td>\n",
              "      <td>Holi</td>\n",
              "    </tr>\n",
              "  </tbody>\n",
              "</table>\n",
              "</div>"
            ],
            "text/plain": [
              "  application_date                   HOLIDAY\n",
              "0       2017-01-01            New Year's Day\n",
              "1       2017-01-14  Makar Sankranti / Pongal\n",
              "2       2017-01-26              Republic Day\n",
              "3       2017-02-24           Maha Shivaratri\n",
              "4       2017-03-13                      Holi"
            ]
          },
          "metadata": {
            "tags": []
          },
          "execution_count": 8
        }
      ]
    },
    {
      "cell_type": "code",
      "metadata": {
        "id": "ZJQyJqH5jMYk",
        "colab_type": "code",
        "outputId": "1219e67d-47e8-4c1d-8c29-54be45e5580d",
        "colab": {
          "base_uri": "https://localhost:8080/",
          "height": 153
        }
      },
      "source": [
        "print(holidays[holidays['HOLIDAY'].str.contains('Diwali')])\n",
        "print(holidays[holidays['HOLIDAY'].str.contains('Dus')])"
      ],
      "execution_count": 9,
      "outputs": [
        {
          "output_type": "stream",
          "text": [
            "   application_date             HOLIDAY\n",
            "22       2017-10-19  Diwali / Deepavali\n",
            "47       2018-11-07  Diwali / Deepavali\n",
            "73       2019-10-27  Diwali / Deepavali\n",
            "   application_date            HOLIDAY\n",
            "19       2017-09-30  Dussehra / Dasara\n",
            "46       2018-10-19  Dussehra / Dasara\n",
            "72       2019-10-08  Dussehra / Dasara\n"
          ],
          "name": "stdout"
        }
      ]
    },
    {
      "cell_type": "code",
      "metadata": {
        "id": "pIqK_fuNeweL",
        "colab_type": "code",
        "outputId": "93f05f1d-3d65-4a29-e1a3-fffdc44e5079",
        "colab": {
          "base_uri": "https://localhost:8080/",
          "height": 765
        }
      },
      "source": [
        "Diwali_HOLIDAY = pd.DataFrame()\n",
        "diwali = [\"2017-10-17\", \"2017-10-18\", \"2017-10-19\", \"2017-10-20\", \"2017-10-21\",\n",
        "          \"2018-11-05\", \"2018-11-06\", \"2018-11-07\", \"2018-11-08\", \"2018-11-09\",\n",
        "          \"2019-10-25\", \"2019-10-26\", \"2019-10-27\", \"2019-10-28\", \"2019-10-29\"]\n",
        "\n",
        "Diwali_HOLIDAY['application_date'] = diwali\n",
        "Diwali_HOLIDAY['application_date'] = pd.to_datetime(Diwali_HOLIDAY['application_date'])\n",
        "Diwali_HOLIDAY['Diwali_HOLIDAY'] = 1\n",
        "# temp\n",
        "print(Diwali_HOLIDAY)\n",
        "\n",
        "Dussehra_HOLIDAY = pd.DataFrame()\n",
        "Dussehra = [\"2017-09-22\",\"2017-09-23\",\"2017-09-24\", \"2017-09-25\", \"2017-09-26\",\n",
        "            \"2017-09-27\", \"2017-09-28\", \"2017-09-29\", \"2017-09-30\",\n",
        "            \"2018-10-11\", \"2018-10-12\", \"2018-10-13\", \"2018-10-14\", \"2018-10-15\",\n",
        "            \"2018-10-16\", \"2018-10-17\", \"2018-10-18\", \"2018-10-19\",\n",
        "            \"2019-09-30\", \"2019-10-01\", \"2019-10-02\", \"2019-10-03\", \"2019-10-04\",\n",
        "            \"2019-10-05\", \"2019-10-06\", \"2019-10-07\", \"2019-10-08\"]\n",
        "\n",
        "Dussehra_HOLIDAY['application_date'] = Dussehra\n",
        "Dussehra_HOLIDAY['application_date'] = pd.to_datetime(Dussehra_HOLIDAY['application_date'])\n",
        "Dussehra_HOLIDAY['Dussehra_HOLIDAY'] = 1\n",
        "# temp\n",
        "print(Dussehra_HOLIDAY)"
      ],
      "execution_count": 10,
      "outputs": [
        {
          "output_type": "stream",
          "text": [
            "   application_date  Diwali_HOLIDAY\n",
            "0        2017-10-17               1\n",
            "1        2017-10-18               1\n",
            "2        2017-10-19               1\n",
            "3        2017-10-20               1\n",
            "4        2017-10-21               1\n",
            "5        2018-11-05               1\n",
            "6        2018-11-06               1\n",
            "7        2018-11-07               1\n",
            "8        2018-11-08               1\n",
            "9        2018-11-09               1\n",
            "10       2019-10-25               1\n",
            "11       2019-10-26               1\n",
            "12       2019-10-27               1\n",
            "13       2019-10-28               1\n",
            "14       2019-10-29               1\n",
            "   application_date  Dussehra_HOLIDAY\n",
            "0        2017-09-22                 1\n",
            "1        2017-09-23                 1\n",
            "2        2017-09-24                 1\n",
            "3        2017-09-25                 1\n",
            "4        2017-09-26                 1\n",
            "5        2017-09-27                 1\n",
            "6        2017-09-28                 1\n",
            "7        2017-09-29                 1\n",
            "8        2017-09-30                 1\n",
            "9        2018-10-11                 1\n",
            "10       2018-10-12                 1\n",
            "11       2018-10-13                 1\n",
            "12       2018-10-14                 1\n",
            "13       2018-10-15                 1\n",
            "14       2018-10-16                 1\n",
            "15       2018-10-17                 1\n",
            "16       2018-10-18                 1\n",
            "17       2018-10-19                 1\n",
            "18       2019-09-30                 1\n",
            "19       2019-10-01                 1\n",
            "20       2019-10-02                 1\n",
            "21       2019-10-03                 1\n",
            "22       2019-10-04                 1\n",
            "23       2019-10-05                 1\n",
            "24       2019-10-06                 1\n",
            "25       2019-10-07                 1\n",
            "26       2019-10-08                 1\n"
          ],
          "name": "stdout"
        }
      ]
    },
    {
      "cell_type": "markdown",
      "metadata": {
        "id": "NDoUFlLHptdk",
        "colab_type": "text"
      },
      "source": [
        "## **Exploratory data analysis**"
      ]
    },
    {
      "cell_type": "markdown",
      "metadata": {
        "id": "4BKGQ6t1IcZ5",
        "colab_type": "text"
      },
      "source": [
        "### **Glimpse of data**"
      ]
    },
    {
      "cell_type": "code",
      "metadata": {
        "id": "SyZpb5FQIfBp",
        "colab_type": "code",
        "outputId": "80731999-a829-4846-df69-5631e278a4ea",
        "colab": {
          "base_uri": "https://localhost:8080/",
          "height": 34
        }
      },
      "source": [
        "# Shape of data\n",
        "print(\"Shape of training data :\", train_v2.shape)"
      ],
      "execution_count": 11,
      "outputs": [
        {
          "output_type": "stream",
          "text": [
            "Shape of training data : (1650, 3)\n"
          ],
          "name": "stdout"
        }
      ]
    },
    {
      "cell_type": "code",
      "metadata": {
        "id": "Je8KHJ1YIe85",
        "colab_type": "code",
        "outputId": "57f01ff9-222d-4321-9122-a70e2c341b0a",
        "colab": {
          "base_uri": "https://localhost:8080/",
          "height": 204
        }
      },
      "source": [
        "# Top 5 rows\n",
        "train_v2.head()"
      ],
      "execution_count": 12,
      "outputs": [
        {
          "output_type": "execute_result",
          "data": {
            "text/html": [
              "<div>\n",
              "<style scoped>\n",
              "    .dataframe tbody tr th:only-of-type {\n",
              "        vertical-align: middle;\n",
              "    }\n",
              "\n",
              "    .dataframe tbody tr th {\n",
              "        vertical-align: top;\n",
              "    }\n",
              "\n",
              "    .dataframe thead th {\n",
              "        text-align: right;\n",
              "    }\n",
              "</style>\n",
              "<table border=\"1\" class=\"dataframe\">\n",
              "  <thead>\n",
              "    <tr style=\"text-align: right;\">\n",
              "      <th></th>\n",
              "      <th>application_date</th>\n",
              "      <th>segment</th>\n",
              "      <th>case_count</th>\n",
              "    </tr>\n",
              "  </thead>\n",
              "  <tbody>\n",
              "    <tr>\n",
              "      <th>0</th>\n",
              "      <td>2017-04-01</td>\n",
              "      <td>1</td>\n",
              "      <td>299.00</td>\n",
              "    </tr>\n",
              "    <tr>\n",
              "      <th>1</th>\n",
              "      <td>2017-04-01</td>\n",
              "      <td>2</td>\n",
              "      <td>897.00</td>\n",
              "    </tr>\n",
              "    <tr>\n",
              "      <th>2</th>\n",
              "      <td>2017-04-02</td>\n",
              "      <td>2</td>\n",
              "      <td>605.00</td>\n",
              "    </tr>\n",
              "    <tr>\n",
              "      <th>3</th>\n",
              "      <td>2017-04-03</td>\n",
              "      <td>1</td>\n",
              "      <td>42.00</td>\n",
              "    </tr>\n",
              "    <tr>\n",
              "      <th>4</th>\n",
              "      <td>2017-04-03</td>\n",
              "      <td>2</td>\n",
              "      <td>2016.00</td>\n",
              "    </tr>\n",
              "  </tbody>\n",
              "</table>\n",
              "</div>"
            ],
            "text/plain": [
              "  application_date  segment  case_count\n",
              "0       2017-04-01        1      299.00\n",
              "1       2017-04-01        2      897.00\n",
              "2       2017-04-02        2      605.00\n",
              "3       2017-04-03        1       42.00\n",
              "4       2017-04-03        2     2016.00"
            ]
          },
          "metadata": {
            "tags": []
          },
          "execution_count": 12
        }
      ]
    },
    {
      "cell_type": "code",
      "metadata": {
        "id": "B4fOuAiFIsuX",
        "colab_type": "code",
        "outputId": "d8cbe327-2ecb-44e3-c22a-dfd08265184f",
        "colab": {
          "base_uri": "https://localhost:8080/",
          "height": 153
        }
      },
      "source": [
        "## Info of data\n",
        "train_v2.info()"
      ],
      "execution_count": 13,
      "outputs": [
        {
          "output_type": "stream",
          "text": [
            "<class 'pandas.core.frame.DataFrame'>\n",
            "RangeIndex: 1650 entries, 0 to 1649\n",
            "Data columns (total 3 columns):\n",
            "application_date    1650 non-null object\n",
            "segment             1650 non-null int64\n",
            "case_count          1650 non-null float64\n",
            "dtypes: float64(1), int64(1), object(1)\n",
            "memory usage: 38.8+ KB\n"
          ],
          "name": "stdout"
        }
      ]
    },
    {
      "cell_type": "markdown",
      "metadata": {
        "id": "xne11Z8GI5Ri",
        "colab_type": "text"
      },
      "source": [
        "### **Univariate analysis**"
      ]
    },
    {
      "cell_type": "markdown",
      "metadata": {
        "id": "Jzqy-e_YHugu",
        "colab_type": "text"
      },
      "source": [
        "#### **Target variable**"
      ]
    },
    {
      "cell_type": "code",
      "metadata": {
        "id": "bygv4sDiyLoN",
        "colab_type": "code",
        "outputId": "d8602166-fc87-4779-f9da-19173b768fed",
        "colab": {
          "base_uri": "https://localhost:8080/",
          "height": 170
        }
      },
      "source": [
        "train_v2['case_count'].describe()"
      ],
      "execution_count": 14,
      "outputs": [
        {
          "output_type": "execute_result",
          "data": {
            "text/plain": [
              "count    1650.00\n",
              "mean     9038.25\n",
              "std      9660.13\n",
              "min         1.00\n",
              "25%      2415.50\n",
              "50%      3933.50\n",
              "75%     13872.00\n",
              "max     43340.00\n",
              "Name: case_count, dtype: float64"
            ]
          },
          "metadata": {
            "tags": []
          },
          "execution_count": 14
        }
      ]
    },
    {
      "cell_type": "code",
      "metadata": {
        "id": "zfaF_p5Jq-jg",
        "colab_type": "code",
        "outputId": "89f1d81c-1b21-4a01-8c09-57a562232505",
        "colab": {
          "base_uri": "https://localhost:8080/",
          "height": 777
        }
      },
      "source": [
        "#sns.distplot(train_v2['case_count']);\n",
        "sns.distplot(train_v2['case_count'],\n",
        "                  bins=30,\n",
        "                  kde=False,\n",
        "                  color='skyblue',\n",
        "                  hist_kws={\"linewidth\": 15,'alpha':1});\n",
        "\n",
        "from statsmodels.graphics.gofplots import qqplot\n",
        "\n",
        "# q-q plot\n",
        "qqplot(train_v2['case_count'], line='s')\n",
        "plt.show()\n",
        "\n",
        "# boxplot\n",
        "sns.boxplot(y = train_v2['case_count']);"
      ],
      "execution_count": 15,
      "outputs": [
        {
          "output_type": "display_data",
          "data": {
            "image/png": "[encoded data removed]",
            "text/plain": [
              "<Figure size 432x288 with 1 Axes>"
            ]
          },
          "metadata": {
            "tags": []
          }
        },
        {
          "output_type": "display_data",
          "data": {
            "image/png": "[encoded data removed]",
            "text/plain": [
              "<Figure size 432x288 with 1 Axes>"
            ]
          },
          "metadata": {
            "tags": []
          }
        },
        {
          "output_type": "display_data",
          "data": {
            "image/png": "[encoded data removed]",
            "text/plain": [
              "<Figure size 432x288 with 1 Axes>"
            ]
          },
          "metadata": {
            "tags": []
          }
        }
      ]
    },
    {
      "cell_type": "code",
      "metadata": {
        "id": "IHauG2DZ42L-",
        "colab_type": "code",
        "outputId": "ded7b8d0-1d62-4a51-b008-d0e18375f633",
        "colab": {
          "base_uri": "https://localhost:8080/",
          "height": 777
        }
      },
      "source": [
        "sns.distplot(np.log(train_v2['case_count']),\n",
        "                  bins=30,\n",
        "                  kde=False,\n",
        "                  color='skyblue',\n",
        "                  hist_kws={\"linewidth\": 15,'alpha':1});\n",
        "\n",
        "from statsmodels.graphics.gofplots import qqplot\n",
        "\n",
        "# q-q plot\n",
        "qqplot(np.log(train_v2['case_count']), line='s')\n",
        "plt.show()\n",
        "\n",
        "# boxplot\n",
        "sns.boxplot(y = np.log(train_v2['case_count']));"
      ],
      "execution_count": 16,
      "outputs": [
        {
          "output_type": "display_data",
          "data": {
            "image/png": "[encoded data removed]",
            "text/plain": [
              "<Figure size 432x288 with 1 Axes>"
            ]
          },
          "metadata": {
            "tags": []
          }
        },
        {
          "output_type": "display_data",
          "data": {
            "image/png": "[encoded data removed]",
            "text/plain": [
              "<Figure size 432x288 with 1 Axes>"
            ]
          },
          "metadata": {
            "tags": []
          }
        },
        {
          "output_type": "display_data",
          "data": {
            "image/png": "[encoded data removed]",
            "text/plain": [
              "<Figure size 432x288 with 1 Axes>"
            ]
          },
          "metadata": {
            "tags": []
          }
        }
      ]
    },
    {
      "cell_type": "code",
      "metadata": {
        "id": "9A6qOqx3J82y",
        "colab_type": "code",
        "outputId": "3fa5f65c-71c8-48dc-c1f0-b071e7d3202d",
        "colab": {
          "base_uri": "https://localhost:8080/",
          "height": 335
        }
      },
      "source": [
        "train_v2.drop(['segment'], axis = 1).set_index('application_date').plot(figsize = (15,5));"
      ],
      "execution_count": 17,
      "outputs": [
        {
          "output_type": "display_data",
          "data": {
            "image/png": "[encoded data removed]",
            "text/plain": [
              "<Figure size 1080x360 with 1 Axes>"
            ]
          },
          "metadata": {
            "tags": []
          }
        }
      ]
    },
    {
      "cell_type": "markdown",
      "metadata": {
        "id": "eJkOdTNeLo6Z",
        "colab_type": "text"
      },
      "source": [
        "### **Bivariate analysis**"
      ]
    },
    {
      "cell_type": "code",
      "metadata": {
        "id": "1pwv9IPg6MAE",
        "colab_type": "code",
        "outputId": "db807c1d-6737-47bc-b1c7-0c6a308e27bc",
        "colab": {
          "base_uri": "https://localhost:8080/",
          "height": 334
        }
      },
      "source": [
        "# Function for freq summary\n",
        "cat_cols = ['segment']\n",
        "def plot_box(data, cols, col_y = 'case_count'):\n",
        "    for col in cols:\n",
        "      fig = plt.figure(figsize=(10,5))\n",
        "      sns.set_style(\"whitegrid\")\n",
        "      sns.boxplot(col, col_y, data=data)\n",
        "      plt.xlabel(col) # Set text for the x axis\n",
        "      plt.ylabel(col_y)# Set text for y axis\n",
        "      plt.show()\n",
        "        \n",
        "plot_box(train_v2, cat_cols)"
      ],
      "execution_count": 18,
      "outputs": [
        {
          "output_type": "display_data",
          "data": {
            "image/png": "[encoded data removed]",
            "text/plain": [
              "<Figure size 720x360 with 1 Axes>"
            ]
          },
          "metadata": {
            "tags": []
          }
        }
      ]
    },
    {
      "cell_type": "code",
      "metadata": {
        "id": "Le12ZBS_snjb",
        "colab_type": "code",
        "colab": {}
      },
      "source": [
        "# import scipy.stats as st\n",
        "# def get_best_distribution(data):\n",
        "#     dist_names = [\"norm\", \"gamma\", \"lognorm\", \"expon\", \"exponweib\", \"weibull_max\", \"weibull_min\", \n",
        "#                   \"pareto\", \"genextreme\"]\n",
        "#     dist_results = []\n",
        "#     params = {}\n",
        "#     for dist_name in dist_names:\n",
        "#         dist = getattr(st, dist_name)\n",
        "#         param = dist.fit(data)\n",
        "\n",
        "#         params[dist_name] = param\n",
        "#         # Applying the Kolmogorov-Smirnov test\n",
        "#         D, p = st.kstest(data, dist_name, args=param)\n",
        "#         print(\"p value for \"+dist_name+\" = \"+str(p))\n",
        "#         dist_results.append((dist_name, p))\n",
        "\n",
        "#     # select the best fitted distribution\n",
        "#     best_dist, best_p = (max(dist_results, key=lambda item: item[1]))\n",
        "#     # store the name of the best fit and its p value\n",
        "\n",
        "#     print(\"Best fitting distribution: \"+str(best_dist))\n",
        "#     print(\"Best p value: \"+ str(best_p))\n",
        "#     print(\"Parameters for the best fit: \"+ str(params[best_dist]))\n",
        "\n",
        "#     return best_dist, best_p, params[best_dist]\n",
        "\n",
        "# get_best_distribution(train_v2['case_count'])"
      ],
      "execution_count": 0,
      "outputs": []
    },
    {
      "cell_type": "code",
      "metadata": {
        "id": "PDeKmOdscHv4",
        "colab_type": "code",
        "outputId": "2b0a65f2-fb37-4186-a446-7d44dcb58461",
        "colab": {
          "base_uri": "https://localhost:8080/",
          "height": 142
        }
      },
      "source": [
        "train_v2.groupby('segment')['case_count'].describe()"
      ],
      "execution_count": 20,
      "outputs": [
        {
          "output_type": "execute_result",
          "data": {
            "text/html": [
              "<div>\n",
              "<style scoped>\n",
              "    .dataframe tbody tr th:only-of-type {\n",
              "        vertical-align: middle;\n",
              "    }\n",
              "\n",
              "    .dataframe tbody tr th {\n",
              "        vertical-align: top;\n",
              "    }\n",
              "\n",
              "    .dataframe thead th {\n",
              "        text-align: right;\n",
              "    }\n",
              "</style>\n",
              "<table border=\"1\" class=\"dataframe\">\n",
              "  <thead>\n",
              "    <tr style=\"text-align: right;\">\n",
              "      <th></th>\n",
              "      <th>count</th>\n",
              "      <th>mean</th>\n",
              "      <th>std</th>\n",
              "      <th>min</th>\n",
              "      <th>25%</th>\n",
              "      <th>50%</th>\n",
              "      <th>75%</th>\n",
              "      <th>max</th>\n",
              "    </tr>\n",
              "    <tr>\n",
              "      <th>segment</th>\n",
              "      <th></th>\n",
              "      <th></th>\n",
              "      <th></th>\n",
              "      <th></th>\n",
              "      <th></th>\n",
              "      <th></th>\n",
              "      <th></th>\n",
              "      <th></th>\n",
              "    </tr>\n",
              "  </thead>\n",
              "  <tbody>\n",
              "    <tr>\n",
              "      <th>1</th>\n",
              "      <td>806.00</td>\n",
              "      <td>2714.69</td>\n",
              "      <td>2042.42</td>\n",
              "      <td>1.00</td>\n",
              "      <td>1633.25</td>\n",
              "      <td>2602.00</td>\n",
              "      <td>3333.00</td>\n",
              "      <td>21885.00</td>\n",
              "    </tr>\n",
              "    <tr>\n",
              "      <th>2</th>\n",
              "      <td>844.00</td>\n",
              "      <td>15077.10</td>\n",
              "      <td>10188.90</td>\n",
              "      <td>206.00</td>\n",
              "      <td>5946.00</td>\n",
              "      <td>12679.00</td>\n",
              "      <td>24217.25</td>\n",
              "      <td>43340.00</td>\n",
              "    </tr>\n",
              "  </tbody>\n",
              "</table>\n",
              "</div>"
            ],
            "text/plain": [
              "         count     mean      std    min     25%      50%      75%      max\n",
              "segment                                                                   \n",
              "1       806.00  2714.69  2042.42   1.00 1633.25  2602.00  3333.00 21885.00\n",
              "2       844.00 15077.10 10188.90 206.00 5946.00 12679.00 24217.25 43340.00"
            ]
          },
          "metadata": {
            "tags": []
          },
          "execution_count": 20
        }
      ]
    },
    {
      "cell_type": "markdown",
      "metadata": {
        "colab_type": "text",
        "id": "-9XPZmIF03e3"
      },
      "source": [
        "## **Feature engineering**"
      ]
    },
    {
      "cell_type": "code",
      "metadata": {
        "colab_type": "code",
        "id": "Hjw7wu0Xwl-g",
        "colab": {}
      },
      "source": [
        "def feature_eng(train_v2):\n",
        "    train_v2['application_date'] = pd.to_datetime(train_v2['application_date'])\n",
        "\n",
        "    train_v2 = pd.merge(train_v2, holidays, on = 'application_date', how = 'left')\n",
        "    train_v2['HOLIDAY'] = train_v2['HOLIDAY'].fillna('Non-Holiday')\n",
        "    train_v2['Holiday_flag'] = np.where(train_v2['HOLIDAY'] == 'Non-Holiday', 0, 1)\n",
        "\n",
        "    train_v2 = pd.merge(train_v2, Diwali_HOLIDAY, on = 'application_date', how = 'left')\n",
        "    train_v2['Diwali_HOLIDAY'] = train_v2['Diwali_HOLIDAY'].fillna(0)\n",
        "\n",
        "    train_v2 = pd.merge(train_v2, Dussehra_HOLIDAY, on = 'application_date', how = 'left')\n",
        "    train_v2['Dussehra_HOLIDAY'] = train_v2['Dussehra_HOLIDAY'].fillna(0)\n",
        "\n",
        "    train_v2['year'] = train_v2['application_date'].dt.year\n",
        "    train_v2['Month'] = train_v2['application_date'].dt.month\n",
        "    train_v2['Date'] = train_v2['application_date'].dt.day\n",
        "    train_v2['weekday'] = train_v2['application_date'].dt.weekday_name\n",
        "\n",
        "    Seasons = {6: 'Monsoon', 7: 'Monsoon', 8: 'Monsoon', 9: 'Monsoon',\n",
        "               10: 'Winter', 11: 'Winter', 12: 'Winter', 1: 'Winter',\n",
        "               2: 'Summer', 3: 'Summer', 4: 'Summer', 5: 'Summer'}\n",
        "  \n",
        "    train_v2['Seasons'] = train_v2['Month'].map(Seasons)\n",
        "\n",
        "    train_v2['segment'] = np.where(train_v2['segment'] == 1, 1, 0)\n",
        "\n",
        "    Month_Index = {4: 0.5, 5: 1, 6: 1, 7: 1, 8: 1, 9: 1, 10: 1, 11: 1, 12: 1, 1: 1, 2: 1, 3: 1.5}\n",
        "\n",
        "    train_v2['Month_Index'] = train_v2['Month'].map(Month_Index)\n",
        "\n",
        "    Date_index = {1 : 0.5,2 : 0.5,3 : 0.5,4 : 0.5,5 : 0.5,6 : 0.5,7 : 0.5,8 : 0.5,9 : 0.5,10 : 0.5,\n",
        "                  11 : 1,12 : 1,13 : 1.5,14 : 1.5,15 : 1.5,16 : 1.5,17 : 1.5,18 : 1.5,19 : 1.5,20 : 1.5,21 : 1.5,\n",
        "                  22 : 1.5,23 : 1,24 : 1,25 : 1,26 : 1,27 : 1,28 : 1,29 : 0.5,30 : 0.5,31 : 0.5}\n",
        "\n",
        "    train_v2['Date_index'] = train_v2['Date'].map(Date_index)\n",
        "\n",
        "    dummy_col = ['weekday', 'Seasons']\n",
        "    temp = train_v2[dummy_col]\n",
        "    temp = pd.get_dummies(temp)\n",
        "\n",
        "    train_v2 = train_v2.drop(dummy_col, axis = 1)\n",
        "    train_v2 = pd.concat([train_v2, temp], axis = 1)\n",
        "\n",
        "    train_v2 = train_v2.drop(['application_date','HOLIDAY'], axis = 1)\n",
        "  \n",
        "    return train_v2"
      ],
      "execution_count": 0,
      "outputs": []
    },
    {
      "cell_type": "code",
      "metadata": {
        "id": "V5h9JBTOYeGo",
        "colab_type": "code",
        "outputId": "f31f6516-29c1-40eb-fca2-3c847aae1d99",
        "colab": {
          "base_uri": "https://localhost:8080/",
          "height": 224
        }
      },
      "source": [
        "train_v2 = feature_eng(train_v2)\n",
        "train_v2.head()"
      ],
      "execution_count": 22,
      "outputs": [
        {
          "output_type": "execute_result",
          "data": {
            "text/html": [
              "<div>\n",
              "<style scoped>\n",
              "    .dataframe tbody tr th:only-of-type {\n",
              "        vertical-align: middle;\n",
              "    }\n",
              "\n",
              "    .dataframe tbody tr th {\n",
              "        vertical-align: top;\n",
              "    }\n",
              "\n",
              "    .dataframe thead th {\n",
              "        text-align: right;\n",
              "    }\n",
              "</style>\n",
              "<table border=\"1\" class=\"dataframe\">\n",
              "  <thead>\n",
              "    <tr style=\"text-align: right;\">\n",
              "      <th></th>\n",
              "      <th>segment</th>\n",
              "      <th>case_count</th>\n",
              "      <th>Holiday_flag</th>\n",
              "      <th>Diwali_HOLIDAY</th>\n",
              "      <th>Dussehra_HOLIDAY</th>\n",
              "      <th>year</th>\n",
              "      <th>Month</th>\n",
              "      <th>Date</th>\n",
              "      <th>Month_Index</th>\n",
              "      <th>Date_index</th>\n",
              "      <th>weekday_Friday</th>\n",
              "      <th>weekday_Monday</th>\n",
              "      <th>weekday_Saturday</th>\n",
              "      <th>weekday_Sunday</th>\n",
              "      <th>weekday_Thursday</th>\n",
              "      <th>weekday_Tuesday</th>\n",
              "      <th>weekday_Wednesday</th>\n",
              "      <th>Seasons_Monsoon</th>\n",
              "      <th>Seasons_Summer</th>\n",
              "      <th>Seasons_Winter</th>\n",
              "    </tr>\n",
              "  </thead>\n",
              "  <tbody>\n",
              "    <tr>\n",
              "      <th>0</th>\n",
              "      <td>1</td>\n",
              "      <td>299.00</td>\n",
              "      <td>0</td>\n",
              "      <td>0.00</td>\n",
              "      <td>0.00</td>\n",
              "      <td>2017</td>\n",
              "      <td>4</td>\n",
              "      <td>1</td>\n",
              "      <td>0.50</td>\n",
              "      <td>0.50</td>\n",
              "      <td>0</td>\n",
              "      <td>0</td>\n",
              "      <td>1</td>\n",
              "      <td>0</td>\n",
              "      <td>0</td>\n",
              "      <td>0</td>\n",
              "      <td>0</td>\n",
              "      <td>0</td>\n",
              "      <td>1</td>\n",
              "      <td>0</td>\n",
              "    </tr>\n",
              "    <tr>\n",
              "      <th>1</th>\n",
              "      <td>0</td>\n",
              "      <td>897.00</td>\n",
              "      <td>0</td>\n",
              "      <td>0.00</td>\n",
              "      <td>0.00</td>\n",
              "      <td>2017</td>\n",
              "      <td>4</td>\n",
              "      <td>1</td>\n",
              "      <td>0.50</td>\n",
              "      <td>0.50</td>\n",
              "      <td>0</td>\n",
              "      <td>0</td>\n",
              "      <td>1</td>\n",
              "      <td>0</td>\n",
              "      <td>0</td>\n",
              "      <td>0</td>\n",
              "      <td>0</td>\n",
              "      <td>0</td>\n",
              "      <td>1</td>\n",
              "      <td>0</td>\n",
              "    </tr>\n",
              "    <tr>\n",
              "      <th>2</th>\n",
              "      <td>0</td>\n",
              "      <td>605.00</td>\n",
              "      <td>0</td>\n",
              "      <td>0.00</td>\n",
              "      <td>0.00</td>\n",
              "      <td>2017</td>\n",
              "      <td>4</td>\n",
              "      <td>2</td>\n",
              "      <td>0.50</td>\n",
              "      <td>0.50</td>\n",
              "      <td>0</td>\n",
              "      <td>0</td>\n",
              "      <td>0</td>\n",
              "      <td>1</td>\n",
              "      <td>0</td>\n",
              "      <td>0</td>\n",
              "      <td>0</td>\n",
              "      <td>0</td>\n",
              "      <td>1</td>\n",
              "      <td>0</td>\n",
              "    </tr>\n",
              "    <tr>\n",
              "      <th>3</th>\n",
              "      <td>1</td>\n",
              "      <td>42.00</td>\n",
              "      <td>0</td>\n",
              "      <td>0.00</td>\n",
              "      <td>0.00</td>\n",
              "      <td>2017</td>\n",
              "      <td>4</td>\n",
              "      <td>3</td>\n",
              "      <td>0.50</td>\n",
              "      <td>0.50</td>\n",
              "      <td>0</td>\n",
              "      <td>1</td>\n",
              "      <td>0</td>\n",
              "      <td>0</td>\n",
              "      <td>0</td>\n",
              "      <td>0</td>\n",
              "      <td>0</td>\n",
              "      <td>0</td>\n",
              "      <td>1</td>\n",
              "      <td>0</td>\n",
              "    </tr>\n",
              "    <tr>\n",
              "      <th>4</th>\n",
              "      <td>0</td>\n",
              "      <td>2016.00</td>\n",
              "      <td>0</td>\n",
              "      <td>0.00</td>\n",
              "      <td>0.00</td>\n",
              "      <td>2017</td>\n",
              "      <td>4</td>\n",
              "      <td>3</td>\n",
              "      <td>0.50</td>\n",
              "      <td>0.50</td>\n",
              "      <td>0</td>\n",
              "      <td>1</td>\n",
              "      <td>0</td>\n",
              "      <td>0</td>\n",
              "      <td>0</td>\n",
              "      <td>0</td>\n",
              "      <td>0</td>\n",
              "      <td>0</td>\n",
              "      <td>1</td>\n",
              "      <td>0</td>\n",
              "    </tr>\n",
              "  </tbody>\n",
              "</table>\n",
              "</div>"
            ],
            "text/plain": [
              "   segment  case_count  Holiday_flag  Diwali_HOLIDAY  Dussehra_HOLIDAY  year  \\\n",
              "0        1      299.00             0            0.00              0.00  2017   \n",
              "1        0      897.00             0            0.00              0.00  2017   \n",
              "2        0      605.00             0            0.00              0.00  2017   \n",
              "3        1       42.00             0            0.00              0.00  2017   \n",
              "4        0     2016.00             0            0.00              0.00  2017   \n",
              "\n",
              "   Month  Date  Month_Index  Date_index  weekday_Friday  weekday_Monday  \\\n",
              "0      4     1         0.50        0.50               0               0   \n",
              "1      4     1         0.50        0.50               0               0   \n",
              "2      4     2         0.50        0.50               0               0   \n",
              "3      4     3         0.50        0.50               0               1   \n",
              "4      4     3         0.50        0.50               0               1   \n",
              "\n",
              "   weekday_Saturday  weekday_Sunday  weekday_Thursday  weekday_Tuesday  \\\n",
              "0                 1               0                 0                0   \n",
              "1                 1               0                 0                0   \n",
              "2                 0               1                 0                0   \n",
              "3                 0               0                 0                0   \n",
              "4                 0               0                 0                0   \n",
              "\n",
              "   weekday_Wednesday  Seasons_Monsoon  Seasons_Summer  Seasons_Winter  \n",
              "0                  0                0               1               0  \n",
              "1                  0                0               1               0  \n",
              "2                  0                0               1               0  \n",
              "3                  0                0               1               0  \n",
              "4                  0                0               1               0  "
            ]
          },
          "metadata": {
            "tags": []
          },
          "execution_count": 22
        }
      ]
    },
    {
      "cell_type": "markdown",
      "metadata": {
        "colab_type": "text",
        "id": "Fzr862rsNmhw"
      },
      "source": [
        "## **Machine Learning**"
      ]
    },
    {
      "cell_type": "markdown",
      "metadata": {
        "id": "vIWgdqBBQYAv",
        "colab_type": "text"
      },
      "source": [
        "### **Splitting data into train and test**"
      ]
    },
    {
      "cell_type": "code",
      "metadata": {
        "id": "9WyywRAq0aXL",
        "colab_type": "code",
        "colab": {}
      },
      "source": [
        "import warnings\n",
        "warnings.filterwarnings(\"ignore\")"
      ],
      "execution_count": 0,
      "outputs": []
    },
    {
      "cell_type": "code",
      "metadata": {
        "id": "Z8zvfmB4PCqk",
        "colab_type": "code",
        "outputId": "556a8edf-e17e-4ec2-8f6a-0e81b41c60e0",
        "colab": {
          "base_uri": "https://localhost:8080/",
          "height": 68
        }
      },
      "source": [
        "train_size = int(len(train_v2) * 0.947)\n",
        "Train, Test = train_v2[0:train_size], train_v2[train_size:len(train_v2)]\n",
        "print('Observations: %d' % (len(train_v2)))\n",
        "print('Training Observations: %d' % (len(Train)))\n",
        "print('Testing Observations: %d' % (len(Test)))"
      ],
      "execution_count": 23,
      "outputs": [
        {
          "output_type": "stream",
          "text": [
            "Observations: 1650\n",
            "Training Observations: 1562\n",
            "Testing Observations: 88\n"
          ],
          "name": "stdout"
        }
      ]
    },
    {
      "cell_type": "code",
      "metadata": {
        "id": "aTY3p7GfbwZV",
        "colab_type": "code",
        "colab": {
          "base_uri": "https://localhost:8080/",
          "height": 102
        },
        "outputId": "c9905a3d-eab0-4677-eb85-26f173ca19a6"
      },
      "source": [
        "print(\"Starting date of training data is :\" , str(Train['year'][0])+\"-\"+str(Train['Month'][0])+\"-\"+str(Train['Date'][0]))\n",
        "print(\"End date of training data is :\" , str(Train['year'][1561])+\"-\"+str(Train['Month'][1561])+\"-\"+str(Train['Date'][1561]))\n",
        "print(\" \")\n",
        "print(\"Starting date of test data is :\" , str(Test['year'][1562])+\"-\"+str(Test['Month'][1562])+\"-\"+str(Test['Date'][1562]))\n",
        "print(\"End date of test data is :\" , str(Test['year'][1649])+\"-\"+str(Test['Month'][1649])+\"-\"+str(Test['Date'][1649]))"
      ],
      "execution_count": 24,
      "outputs": [
        {
          "output_type": "stream",
          "text": [
            "Starting date of training data is : 2017-4-1\n",
            "End date of training data is : 2019-5-31\n",
            " \n",
            "Starting date of test data is : 2019-6-1\n",
            "End date of test data is : 2019-7-23\n"
          ],
          "name": "stdout"
        }
      ]
    },
    {
      "cell_type": "code",
      "metadata": {
        "id": "6IpLJMfldDYK",
        "colab_type": "code",
        "colab": {
          "base_uri": "https://localhost:8080/",
          "height": 224
        },
        "outputId": "17b1dfac-26d0-4228-8418-17c01453d439"
      },
      "source": [
        "Test.tail()"
      ],
      "execution_count": 25,
      "outputs": [
        {
          "output_type": "execute_result",
          "data": {
            "text/html": [
              "<div>\n",
              "<style scoped>\n",
              "    .dataframe tbody tr th:only-of-type {\n",
              "        vertical-align: middle;\n",
              "    }\n",
              "\n",
              "    .dataframe tbody tr th {\n",
              "        vertical-align: top;\n",
              "    }\n",
              "\n",
              "    .dataframe thead th {\n",
              "        text-align: right;\n",
              "    }\n",
              "</style>\n",
              "<table border=\"1\" class=\"dataframe\">\n",
              "  <thead>\n",
              "    <tr style=\"text-align: right;\">\n",
              "      <th></th>\n",
              "      <th>segment</th>\n",
              "      <th>case_count</th>\n",
              "      <th>Holiday_flag</th>\n",
              "      <th>Diwali_HOLIDAY</th>\n",
              "      <th>Dussehra_HOLIDAY</th>\n",
              "      <th>year</th>\n",
              "      <th>Month</th>\n",
              "      <th>Date</th>\n",
              "      <th>Month_Index</th>\n",
              "      <th>Date_index</th>\n",
              "      <th>weekday_Friday</th>\n",
              "      <th>weekday_Monday</th>\n",
              "      <th>weekday_Saturday</th>\n",
              "      <th>weekday_Sunday</th>\n",
              "      <th>weekday_Thursday</th>\n",
              "      <th>weekday_Tuesday</th>\n",
              "      <th>weekday_Wednesday</th>\n",
              "      <th>Seasons_Monsoon</th>\n",
              "      <th>Seasons_Summer</th>\n",
              "      <th>Seasons_Winter</th>\n",
              "    </tr>\n",
              "  </thead>\n",
              "  <tbody>\n",
              "    <tr>\n",
              "      <th>1645</th>\n",
              "      <td>0</td>\n",
              "      <td>29778.00</td>\n",
              "      <td>0</td>\n",
              "      <td>0.00</td>\n",
              "      <td>0.00</td>\n",
              "      <td>2019</td>\n",
              "      <td>7</td>\n",
              "      <td>19</td>\n",
              "      <td>1.00</td>\n",
              "      <td>1.50</td>\n",
              "      <td>1</td>\n",
              "      <td>0</td>\n",
              "      <td>0</td>\n",
              "      <td>0</td>\n",
              "      <td>0</td>\n",
              "      <td>0</td>\n",
              "      <td>0</td>\n",
              "      <td>1</td>\n",
              "      <td>0</td>\n",
              "      <td>0</td>\n",
              "    </tr>\n",
              "    <tr>\n",
              "      <th>1646</th>\n",
              "      <td>0</td>\n",
              "      <td>26123.00</td>\n",
              "      <td>0</td>\n",
              "      <td>0.00</td>\n",
              "      <td>0.00</td>\n",
              "      <td>2019</td>\n",
              "      <td>7</td>\n",
              "      <td>20</td>\n",
              "      <td>1.00</td>\n",
              "      <td>1.50</td>\n",
              "      <td>0</td>\n",
              "      <td>0</td>\n",
              "      <td>1</td>\n",
              "      <td>0</td>\n",
              "      <td>0</td>\n",
              "      <td>0</td>\n",
              "      <td>0</td>\n",
              "      <td>1</td>\n",
              "      <td>0</td>\n",
              "      <td>0</td>\n",
              "    </tr>\n",
              "    <tr>\n",
              "      <th>1647</th>\n",
              "      <td>0</td>\n",
              "      <td>12267.00</td>\n",
              "      <td>0</td>\n",
              "      <td>0.00</td>\n",
              "      <td>0.00</td>\n",
              "      <td>2019</td>\n",
              "      <td>7</td>\n",
              "      <td>21</td>\n",
              "      <td>1.00</td>\n",
              "      <td>1.50</td>\n",
              "      <td>0</td>\n",
              "      <td>0</td>\n",
              "      <td>0</td>\n",
              "      <td>1</td>\n",
              "      <td>0</td>\n",
              "      <td>0</td>\n",
              "      <td>0</td>\n",
              "      <td>1</td>\n",
              "      <td>0</td>\n",
              "      <td>0</td>\n",
              "    </tr>\n",
              "    <tr>\n",
              "      <th>1648</th>\n",
              "      <td>0</td>\n",
              "      <td>27292.00</td>\n",
              "      <td>0</td>\n",
              "      <td>0.00</td>\n",
              "      <td>0.00</td>\n",
              "      <td>2019</td>\n",
              "      <td>7</td>\n",
              "      <td>22</td>\n",
              "      <td>1.00</td>\n",
              "      <td>1.50</td>\n",
              "      <td>0</td>\n",
              "      <td>1</td>\n",
              "      <td>0</td>\n",
              "      <td>0</td>\n",
              "      <td>0</td>\n",
              "      <td>0</td>\n",
              "      <td>0</td>\n",
              "      <td>1</td>\n",
              "      <td>0</td>\n",
              "      <td>0</td>\n",
              "    </tr>\n",
              "    <tr>\n",
              "      <th>1649</th>\n",
              "      <td>0</td>\n",
              "      <td>29183.00</td>\n",
              "      <td>0</td>\n",
              "      <td>0.00</td>\n",
              "      <td>0.00</td>\n",
              "      <td>2019</td>\n",
              "      <td>7</td>\n",
              "      <td>23</td>\n",
              "      <td>1.00</td>\n",
              "      <td>1.00</td>\n",
              "      <td>0</td>\n",
              "      <td>0</td>\n",
              "      <td>0</td>\n",
              "      <td>0</td>\n",
              "      <td>0</td>\n",
              "      <td>1</td>\n",
              "      <td>0</td>\n",
              "      <td>1</td>\n",
              "      <td>0</td>\n",
              "      <td>0</td>\n",
              "    </tr>\n",
              "  </tbody>\n",
              "</table>\n",
              "</div>"
            ],
            "text/plain": [
              "      segment  case_count  Holiday_flag  Diwali_HOLIDAY  Dussehra_HOLIDAY  \\\n",
              "1645        0    29778.00             0            0.00              0.00   \n",
              "1646        0    26123.00             0            0.00              0.00   \n",
              "1647        0    12267.00             0            0.00              0.00   \n",
              "1648        0    27292.00             0            0.00              0.00   \n",
              "1649        0    29183.00             0            0.00              0.00   \n",
              "\n",
              "      year  Month  Date  Month_Index  Date_index  weekday_Friday  \\\n",
              "1645  2019      7    19         1.00        1.50               1   \n",
              "1646  2019      7    20         1.00        1.50               0   \n",
              "1647  2019      7    21         1.00        1.50               0   \n",
              "1648  2019      7    22         1.00        1.50               0   \n",
              "1649  2019      7    23         1.00        1.00               0   \n",
              "\n",
              "      weekday_Monday  weekday_Saturday  weekday_Sunday  weekday_Thursday  \\\n",
              "1645               0                 0               0                 0   \n",
              "1646               0                 1               0                 0   \n",
              "1647               0                 0               1                 0   \n",
              "1648               1                 0               0                 0   \n",
              "1649               0                 0               0                 0   \n",
              "\n",
              "      weekday_Tuesday  weekday_Wednesday  Seasons_Monsoon  Seasons_Summer  \\\n",
              "1645                0                  0                1               0   \n",
              "1646                0                  0                1               0   \n",
              "1647                0                  0                1               0   \n",
              "1648                0                  0                1               0   \n",
              "1649                1                  0                1               0   \n",
              "\n",
              "      Seasons_Winter  \n",
              "1645               0  \n",
              "1646               0  \n",
              "1647               0  \n",
              "1648               0  \n",
              "1649               0  "
            ]
          },
          "metadata": {
            "tags": []
          },
          "execution_count": 25
        }
      ]
    },
    {
      "cell_type": "markdown",
      "metadata": {
        "colab_type": "text",
        "id": "5uGscrl28YVj"
      },
      "source": [
        "### **Creating X and y**"
      ]
    },
    {
      "cell_type": "code",
      "metadata": {
        "colab_type": "code",
        "id": "77zMeiRZ8Rkt",
        "outputId": "42d5e14b-a6fb-4abb-b71d-9601e3cd1bff",
        "colab": {
          "base_uri": "https://localhost:8080/",
          "height": 258
        }
      },
      "source": [
        "X_train = Train.drop(['case_count'], axis = 1)\n",
        "y_train = np.log(Train['case_count'])\n",
        "#y_train = Train['case_count']\n",
        "\n",
        "print(\"Shape of features :\", X_train.shape)\n",
        "print(\"Shape of labels :\", y_train.shape)\n",
        "\n",
        "X_train.head()"
      ],
      "execution_count": 26,
      "outputs": [
        {
          "output_type": "stream",
          "text": [
            "Shape of features : (1562, 19)\n",
            "Shape of labels : (1562,)\n"
          ],
          "name": "stdout"
        },
        {
          "output_type": "execute_result",
          "data": {
            "text/html": [
              "<div>\n",
              "<style scoped>\n",
              "    .dataframe tbody tr th:only-of-type {\n",
              "        vertical-align: middle;\n",
              "    }\n",
              "\n",
              "    .dataframe tbody tr th {\n",
              "        vertical-align: top;\n",
              "    }\n",
              "\n",
              "    .dataframe thead th {\n",
              "        text-align: right;\n",
              "    }\n",
              "</style>\n",
              "<table border=\"1\" class=\"dataframe\">\n",
              "  <thead>\n",
              "    <tr style=\"text-align: right;\">\n",
              "      <th></th>\n",
              "      <th>segment</th>\n",
              "      <th>Holiday_flag</th>\n",
              "      <th>Diwali_HOLIDAY</th>\n",
              "      <th>Dussehra_HOLIDAY</th>\n",
              "      <th>year</th>\n",
              "      <th>Month</th>\n",
              "      <th>Date</th>\n",
              "      <th>Month_Index</th>\n",
              "      <th>Date_index</th>\n",
              "      <th>weekday_Friday</th>\n",
              "      <th>weekday_Monday</th>\n",
              "      <th>weekday_Saturday</th>\n",
              "      <th>weekday_Sunday</th>\n",
              "      <th>weekday_Thursday</th>\n",
              "      <th>weekday_Tuesday</th>\n",
              "      <th>weekday_Wednesday</th>\n",
              "      <th>Seasons_Monsoon</th>\n",
              "      <th>Seasons_Summer</th>\n",
              "      <th>Seasons_Winter</th>\n",
              "    </tr>\n",
              "  </thead>\n",
              "  <tbody>\n",
              "    <tr>\n",
              "      <th>0</th>\n",
              "      <td>1</td>\n",
              "      <td>0</td>\n",
              "      <td>0.00</td>\n",
              "      <td>0.00</td>\n",
              "      <td>2017</td>\n",
              "      <td>4</td>\n",
              "      <td>1</td>\n",
              "      <td>0.50</td>\n",
              "      <td>0.50</td>\n",
              "      <td>0</td>\n",
              "      <td>0</td>\n",
              "      <td>1</td>\n",
              "      <td>0</td>\n",
              "      <td>0</td>\n",
              "      <td>0</td>\n",
              "      <td>0</td>\n",
              "      <td>0</td>\n",
              "      <td>1</td>\n",
              "      <td>0</td>\n",
              "    </tr>\n",
              "    <tr>\n",
              "      <th>1</th>\n",
              "      <td>0</td>\n",
              "      <td>0</td>\n",
              "      <td>0.00</td>\n",
              "      <td>0.00</td>\n",
              "      <td>2017</td>\n",
              "      <td>4</td>\n",
              "      <td>1</td>\n",
              "      <td>0.50</td>\n",
              "      <td>0.50</td>\n",
              "      <td>0</td>\n",
              "      <td>0</td>\n",
              "      <td>1</td>\n",
              "      <td>0</td>\n",
              "      <td>0</td>\n",
              "      <td>0</td>\n",
              "      <td>0</td>\n",
              "      <td>0</td>\n",
              "      <td>1</td>\n",
              "      <td>0</td>\n",
              "    </tr>\n",
              "    <tr>\n",
              "      <th>2</th>\n",
              "      <td>0</td>\n",
              "      <td>0</td>\n",
              "      <td>0.00</td>\n",
              "      <td>0.00</td>\n",
              "      <td>2017</td>\n",
              "      <td>4</td>\n",
              "      <td>2</td>\n",
              "      <td>0.50</td>\n",
              "      <td>0.50</td>\n",
              "      <td>0</td>\n",
              "      <td>0</td>\n",
              "      <td>0</td>\n",
              "      <td>1</td>\n",
              "      <td>0</td>\n",
              "      <td>0</td>\n",
              "      <td>0</td>\n",
              "      <td>0</td>\n",
              "      <td>1</td>\n",
              "      <td>0</td>\n",
              "    </tr>\n",
              "    <tr>\n",
              "      <th>3</th>\n",
              "      <td>1</td>\n",
              "      <td>0</td>\n",
              "      <td>0.00</td>\n",
              "      <td>0.00</td>\n",
              "      <td>2017</td>\n",
              "      <td>4</td>\n",
              "      <td>3</td>\n",
              "      <td>0.50</td>\n",
              "      <td>0.50</td>\n",
              "      <td>0</td>\n",
              "      <td>1</td>\n",
              "      <td>0</td>\n",
              "      <td>0</td>\n",
              "      <td>0</td>\n",
              "      <td>0</td>\n",
              "      <td>0</td>\n",
              "      <td>0</td>\n",
              "      <td>1</td>\n",
              "      <td>0</td>\n",
              "    </tr>\n",
              "    <tr>\n",
              "      <th>4</th>\n",
              "      <td>0</td>\n",
              "      <td>0</td>\n",
              "      <td>0.00</td>\n",
              "      <td>0.00</td>\n",
              "      <td>2017</td>\n",
              "      <td>4</td>\n",
              "      <td>3</td>\n",
              "      <td>0.50</td>\n",
              "      <td>0.50</td>\n",
              "      <td>0</td>\n",
              "      <td>1</td>\n",
              "      <td>0</td>\n",
              "      <td>0</td>\n",
              "      <td>0</td>\n",
              "      <td>0</td>\n",
              "      <td>0</td>\n",
              "      <td>0</td>\n",
              "      <td>1</td>\n",
              "      <td>0</td>\n",
              "    </tr>\n",
              "  </tbody>\n",
              "</table>\n",
              "</div>"
            ],
            "text/plain": [
              "   segment  Holiday_flag  Diwali_HOLIDAY  Dussehra_HOLIDAY  year  Month  Date  \\\n",
              "0        1             0            0.00              0.00  2017      4     1   \n",
              "1        0             0            0.00              0.00  2017      4     1   \n",
              "2        0             0            0.00              0.00  2017      4     2   \n",
              "3        1             0            0.00              0.00  2017      4     3   \n",
              "4        0             0            0.00              0.00  2017      4     3   \n",
              "\n",
              "   Month_Index  Date_index  weekday_Friday  weekday_Monday  weekday_Saturday  \\\n",
              "0         0.50        0.50               0               0                 1   \n",
              "1         0.50        0.50               0               0                 1   \n",
              "2         0.50        0.50               0               0                 0   \n",
              "3         0.50        0.50               0               1                 0   \n",
              "4         0.50        0.50               0               1                 0   \n",
              "\n",
              "   weekday_Sunday  weekday_Thursday  weekday_Tuesday  weekday_Wednesday  \\\n",
              "0               0                 0                0                  0   \n",
              "1               0                 0                0                  0   \n",
              "2               1                 0                0                  0   \n",
              "3               0                 0                0                  0   \n",
              "4               0                 0                0                  0   \n",
              "\n",
              "   Seasons_Monsoon  Seasons_Summer  Seasons_Winter  \n",
              "0                0               1               0  \n",
              "1                0               1               0  \n",
              "2                0               1               0  \n",
              "3                0               1               0  \n",
              "4                0               1               0  "
            ]
          },
          "metadata": {
            "tags": []
          },
          "execution_count": 26
        }
      ]
    },
    {
      "cell_type": "code",
      "metadata": {
        "id": "zVmCJ4cMQ673",
        "colab_type": "code",
        "outputId": "c0048a04-d71f-437e-e5f2-8064f325f98e",
        "colab": {
          "base_uri": "https://localhost:8080/",
          "height": 258
        }
      },
      "source": [
        "X_test = Test.drop(['case_count'], axis = 1)\n",
        "y_test = np.log(Test['case_count'])\n",
        "#y_test = Test['case_count']\n",
        "\n",
        "print(\"Shape of features :\", X_test.shape)\n",
        "print(\"Shape of labels :\", y_test.shape)\n",
        "\n",
        "X_test.head()"
      ],
      "execution_count": 27,
      "outputs": [
        {
          "output_type": "stream",
          "text": [
            "Shape of features : (88, 19)\n",
            "Shape of labels : (88,)\n"
          ],
          "name": "stdout"
        },
        {
          "output_type": "execute_result",
          "data": {
            "text/html": [
              "<div>\n",
              "<style scoped>\n",
              "    .dataframe tbody tr th:only-of-type {\n",
              "        vertical-align: middle;\n",
              "    }\n",
              "\n",
              "    .dataframe tbody tr th {\n",
              "        vertical-align: top;\n",
              "    }\n",
              "\n",
              "    .dataframe thead th {\n",
              "        text-align: right;\n",
              "    }\n",
              "</style>\n",
              "<table border=\"1\" class=\"dataframe\">\n",
              "  <thead>\n",
              "    <tr style=\"text-align: right;\">\n",
              "      <th></th>\n",
              "      <th>segment</th>\n",
              "      <th>Holiday_flag</th>\n",
              "      <th>Diwali_HOLIDAY</th>\n",
              "      <th>Dussehra_HOLIDAY</th>\n",
              "      <th>year</th>\n",
              "      <th>Month</th>\n",
              "      <th>Date</th>\n",
              "      <th>Month_Index</th>\n",
              "      <th>Date_index</th>\n",
              "      <th>weekday_Friday</th>\n",
              "      <th>weekday_Monday</th>\n",
              "      <th>weekday_Saturday</th>\n",
              "      <th>weekday_Sunday</th>\n",
              "      <th>weekday_Thursday</th>\n",
              "      <th>weekday_Tuesday</th>\n",
              "      <th>weekday_Wednesday</th>\n",
              "      <th>Seasons_Monsoon</th>\n",
              "      <th>Seasons_Summer</th>\n",
              "      <th>Seasons_Winter</th>\n",
              "    </tr>\n",
              "  </thead>\n",
              "  <tbody>\n",
              "    <tr>\n",
              "      <th>1562</th>\n",
              "      <td>1</td>\n",
              "      <td>0</td>\n",
              "      <td>0.00</td>\n",
              "      <td>0.00</td>\n",
              "      <td>2019</td>\n",
              "      <td>6</td>\n",
              "      <td>1</td>\n",
              "      <td>1.00</td>\n",
              "      <td>0.50</td>\n",
              "      <td>0</td>\n",
              "      <td>0</td>\n",
              "      <td>1</td>\n",
              "      <td>0</td>\n",
              "      <td>0</td>\n",
              "      <td>0</td>\n",
              "      <td>0</td>\n",
              "      <td>1</td>\n",
              "      <td>0</td>\n",
              "      <td>0</td>\n",
              "    </tr>\n",
              "    <tr>\n",
              "      <th>1563</th>\n",
              "      <td>0</td>\n",
              "      <td>0</td>\n",
              "      <td>0.00</td>\n",
              "      <td>0.00</td>\n",
              "      <td>2019</td>\n",
              "      <td>6</td>\n",
              "      <td>1</td>\n",
              "      <td>1.00</td>\n",
              "      <td>0.50</td>\n",
              "      <td>0</td>\n",
              "      <td>0</td>\n",
              "      <td>1</td>\n",
              "      <td>0</td>\n",
              "      <td>0</td>\n",
              "      <td>0</td>\n",
              "      <td>0</td>\n",
              "      <td>1</td>\n",
              "      <td>0</td>\n",
              "      <td>0</td>\n",
              "    </tr>\n",
              "    <tr>\n",
              "      <th>1564</th>\n",
              "      <td>1</td>\n",
              "      <td>0</td>\n",
              "      <td>0.00</td>\n",
              "      <td>0.00</td>\n",
              "      <td>2019</td>\n",
              "      <td>6</td>\n",
              "      <td>2</td>\n",
              "      <td>1.00</td>\n",
              "      <td>0.50</td>\n",
              "      <td>0</td>\n",
              "      <td>0</td>\n",
              "      <td>0</td>\n",
              "      <td>1</td>\n",
              "      <td>0</td>\n",
              "      <td>0</td>\n",
              "      <td>0</td>\n",
              "      <td>1</td>\n",
              "      <td>0</td>\n",
              "      <td>0</td>\n",
              "    </tr>\n",
              "    <tr>\n",
              "      <th>1565</th>\n",
              "      <td>0</td>\n",
              "      <td>0</td>\n",
              "      <td>0.00</td>\n",
              "      <td>0.00</td>\n",
              "      <td>2019</td>\n",
              "      <td>6</td>\n",
              "      <td>2</td>\n",
              "      <td>1.00</td>\n",
              "      <td>0.50</td>\n",
              "      <td>0</td>\n",
              "      <td>0</td>\n",
              "      <td>0</td>\n",
              "      <td>1</td>\n",
              "      <td>0</td>\n",
              "      <td>0</td>\n",
              "      <td>0</td>\n",
              "      <td>1</td>\n",
              "      <td>0</td>\n",
              "      <td>0</td>\n",
              "    </tr>\n",
              "    <tr>\n",
              "      <th>1566</th>\n",
              "      <td>1</td>\n",
              "      <td>0</td>\n",
              "      <td>0.00</td>\n",
              "      <td>0.00</td>\n",
              "      <td>2019</td>\n",
              "      <td>6</td>\n",
              "      <td>3</td>\n",
              "      <td>1.00</td>\n",
              "      <td>0.50</td>\n",
              "      <td>0</td>\n",
              "      <td>1</td>\n",
              "      <td>0</td>\n",
              "      <td>0</td>\n",
              "      <td>0</td>\n",
              "      <td>0</td>\n",
              "      <td>0</td>\n",
              "      <td>1</td>\n",
              "      <td>0</td>\n",
              "      <td>0</td>\n",
              "    </tr>\n",
              "  </tbody>\n",
              "</table>\n",
              "</div>"
            ],
            "text/plain": [
              "      segment  Holiday_flag  Diwali_HOLIDAY  Dussehra_HOLIDAY  year  Month  \\\n",
              "1562        1             0            0.00              0.00  2019      6   \n",
              "1563        0             0            0.00              0.00  2019      6   \n",
              "1564        1             0            0.00              0.00  2019      6   \n",
              "1565        0             0            0.00              0.00  2019      6   \n",
              "1566        1             0            0.00              0.00  2019      6   \n",
              "\n",
              "      Date  Month_Index  Date_index  weekday_Friday  weekday_Monday  \\\n",
              "1562     1         1.00        0.50               0               0   \n",
              "1563     1         1.00        0.50               0               0   \n",
              "1564     2         1.00        0.50               0               0   \n",
              "1565     2         1.00        0.50               0               0   \n",
              "1566     3         1.00        0.50               0               1   \n",
              "\n",
              "      weekday_Saturday  weekday_Sunday  weekday_Thursday  weekday_Tuesday  \\\n",
              "1562                 1               0                 0                0   \n",
              "1563                 1               0                 0                0   \n",
              "1564                 0               1                 0                0   \n",
              "1565                 0               1                 0                0   \n",
              "1566                 0               0                 0                0   \n",
              "\n",
              "      weekday_Wednesday  Seasons_Monsoon  Seasons_Summer  Seasons_Winter  \n",
              "1562                  0                1               0               0  \n",
              "1563                  0                1               0               0  \n",
              "1564                  0                1               0               0  \n",
              "1565                  0                1               0               0  \n",
              "1566                  0                1               0               0  "
            ]
          },
          "metadata": {
            "tags": []
          },
          "execution_count": 27
        }
      ]
    },
    {
      "cell_type": "markdown",
      "metadata": {
        "colab_type": "text",
        "id": "aDeSbMvS-Xyk"
      },
      "source": [
        "### **Model evualuation**"
      ]
    },
    {
      "cell_type": "code",
      "metadata": {
        "colab_type": "code",
        "id": "fZRne4q2-aRo",
        "colab": {}
      },
      "source": [
        "import sklearn.metrics as sklm\n",
        "from sklearn.svm import LinearSVR, SVR\n",
        "from sklearn.linear_model import LinearRegression, SGDRegressor, Lasso, Ridge,  PassiveAggressiveRegressor, Perceptron, ElasticNet, LassoLars, BayesianRidge, HuberRegressor\n",
        "from sklearn.neighbors import KNeighborsRegressor, NearestCentroid\n",
        "from sklearn.tree import DecisionTreeRegressor\n",
        "from sklearn.ensemble import AdaBoostRegressor, RandomForestRegressor, GradientBoostingRegressor \n",
        "from xgboost import XGBRegressor\n",
        "from sklearn.feature_selection import SelectFromModel\n",
        "from sklearn.pipeline import Pipeline\n",
        "from time import time\n",
        "from sklearn.metrics import mean_squared_error, mean_absolute_error, median_absolute_error, r2_score"
      ],
      "execution_count": 0,
      "outputs": []
    },
    {
      "cell_type": "code",
      "metadata": {
        "colab_type": "code",
        "id": "6xF8DfKa_uWz",
        "colab": {}
      },
      "source": [
        "def mape(y_true, y_pred):\n",
        "  mape = np.mean(np.abs((y_true - y_pred) / y_true)) * 100\n",
        "  return mape"
      ],
      "execution_count": 0,
      "outputs": []
    },
    {
      "cell_type": "code",
      "metadata": {
        "colab_type": "code",
        "id": "MZpR0QC6-dZl",
        "colab": {}
      },
      "source": [
        "def accuracy_summary(Regressor, X_train, y_train, X_test, y_test):\n",
        "    t0 = time()\n",
        "    model = Regressor.fit(X_train, y_train)\n",
        "    y_pred = model.predict(X_test)\n",
        "    train_test_time = time() - t0\n",
        "    #accuracy = r2_score(y_validation, y_pred)\n",
        "    accuracy = mape(y_test, y_pred)\n",
        "    return accuracy, train_test_time"
      ],
      "execution_count": 0,
      "outputs": []
    },
    {
      "cell_type": "code",
      "metadata": {
        "colab_type": "code",
        "id": "kt8kvUyF-l2y",
        "colab": {}
      },
      "source": [
        "seed = 123\n",
        "names = [\"Linear Regression\", \"Lasso\",\"Ridge\", \"ElasticNet\", \"LassoLars\", \"BayesianRidge\",\n",
        "         \"HuberRegressor\",\"SGDRegressor\", \"Linear SVR\", \n",
        "         \"Support Vector Machine with RBF kernel\",\"Passive-Aggresive\",\"KNeighborsRegressor\",\n",
        "         \"DecisionTreeRegressor\",\"RandomForestRegressor\",\"AdaBoostRegressor\", \n",
        "         \"GradientBoostingRegressor\", \"XGBRegressor-linear\"]\n",
        "\n",
        "Regressors = [\n",
        "    LinearRegression(),\n",
        "    Lasso(random_state=seed),\n",
        "    Ridge(random_state=seed),\n",
        "    ElasticNet(random_state=seed),\n",
        "    LassoLars(),\n",
        "    BayesianRidge(),\n",
        "    HuberRegressor(),\n",
        "    SGDRegressor(random_state=seed),\n",
        "    LinearSVR(random_state=seed),\n",
        "    SVR(),\n",
        "    PassiveAggressiveRegressor(random_state=seed),\n",
        "    KNeighborsRegressor(),\n",
        "    DecisionTreeRegressor(random_state=seed),\n",
        "    RandomForestRegressor(random_state=seed, n_estimators=500),\n",
        "    AdaBoostRegressor(random_state=seed, n_estimators=500),\n",
        "    GradientBoostingRegressor(loss = 'huber', random_state=seed, n_estimators=500),\n",
        "    XGBRegressor(n_estimators=500, random_state=seed),\n",
        "    XGBRegressor(n_estimators=500, random_state=seed, objective='count:poisson'),\n",
        "    XGBRegressor(n_estimators=500, random_state=seed, objective='reg:gamma'),\n",
        "    XGBRegressor(n_estimators=500, random_state=seed, objective='reg:tweedie')\n",
        "    ]\n",
        "\n",
        "zipped_reg = zip(names,Regressors)\n",
        "\n",
        "def Regressor_comparator(Regressor=zipped_reg):\n",
        "    result = []\n",
        "    for n,c in Regressor:\n",
        "        checker_pipeline = Pipeline([\n",
        "            ('Regressor', c)\n",
        "        ])\n",
        "        print(\"Validation result for {}\".format(n))\n",
        "        print (c)\n",
        "        reg_accuracy,tt_time = accuracy_summary(checker_pipeline, X_train, y_train, X_test, y_test)\n",
        "        result.append((n,reg_accuracy,tt_time))\n",
        "    return result"
      ],
      "execution_count": 0,
      "outputs": []
    },
    {
      "cell_type": "code",
      "metadata": {
        "colab_type": "code",
        "id": "m7q5S7sv-quc",
        "outputId": "e4e3d7df-884d-47d2-84ff-bfdc3e8078af",
        "colab": {
          "base_uri": "https://localhost:8080/",
          "height": 1000
        }
      },
      "source": [
        "Regression_result = Regressor_comparator()\n",
        "Regression_result"
      ],
      "execution_count": 32,
      "outputs": [
        {
          "output_type": "stream",
          "text": [
            "Validation result for Linear Regression\n",
            "LinearRegression(copy_X=True, fit_intercept=True, n_jobs=None, normalize=False)\n",
            "Validation result for Lasso\n",
            "Lasso(alpha=1.0, copy_X=True, fit_intercept=True, max_iter=1000,\n",
            "      normalize=False, positive=False, precompute=False, random_state=123,\n",
            "      selection='cyclic', tol=0.0001, warm_start=False)\n",
            "Validation result for Ridge\n",
            "Ridge(alpha=1.0, copy_X=True, fit_intercept=True, max_iter=None,\n",
            "      normalize=False, random_state=123, solver='auto', tol=0.001)\n",
            "Validation result for ElasticNet\n",
            "ElasticNet(alpha=1.0, copy_X=True, fit_intercept=True, l1_ratio=0.5,\n",
            "           max_iter=1000, normalize=False, positive=False, precompute=False,\n",
            "           random_state=123, selection='cyclic', tol=0.0001, warm_start=False)\n",
            "Validation result for LassoLars\n",
            "LassoLars(alpha=1.0, copy_X=True, eps=2.220446049250313e-16, fit_intercept=True,\n",
            "          fit_path=True, max_iter=500, normalize=True, positive=False,\n",
            "          precompute='auto', verbose=False)\n",
            "Validation result for BayesianRidge\n",
            "BayesianRidge(alpha_1=1e-06, alpha_2=1e-06, alpha_init=None,\n",
            "              compute_score=False, copy_X=True, fit_intercept=True,\n",
            "              lambda_1=1e-06, lambda_2=1e-06, lambda_init=None, n_iter=300,\n",
            "              normalize=False, tol=0.001, verbose=False)\n",
            "Validation result for HuberRegressor\n",
            "HuberRegressor(alpha=0.0001, epsilon=1.35, fit_intercept=True, max_iter=100,\n",
            "               tol=1e-05, warm_start=False)\n",
            "Validation result for SGDRegressor\n",
            "SGDRegressor(alpha=0.0001, average=False, early_stopping=False, epsilon=0.1,\n",
            "             eta0=0.01, fit_intercept=True, l1_ratio=0.15,\n",
            "             learning_rate='invscaling', loss='squared_loss', max_iter=1000,\n",
            "             n_iter_no_change=5, penalty='l2', power_t=0.25, random_state=123,\n",
            "             shuffle=True, tol=0.001, validation_fraction=0.1, verbose=0,\n",
            "             warm_start=False)\n",
            "Validation result for Linear SVR\n",
            "LinearSVR(C=1.0, dual=True, epsilon=0.0, fit_intercept=True,\n",
            "          intercept_scaling=1.0, loss='epsilon_insensitive', max_iter=1000,\n",
            "          random_state=123, tol=0.0001, verbose=0)\n"
          ],
          "name": "stdout"
        },
        {
          "output_type": "stream",
          "text": [
            "/usr/local/lib/python3.6/dist-packages/sklearn/linear_model/_huber.py:296: ConvergenceWarning: lbfgs failed to converge (status=1):\n",
            "STOP: TOTAL NO. of ITERATIONS REACHED LIMIT.\n",
            "\n",
            "Increase the number of iterations (max_iter) or scale the data as shown in:\n",
            "    https://scikit-learn.org/stable/modules/preprocessing.html\n",
            "  self.n_iter_ = _check_optimize_result(\"lbfgs\", opt_res, self.max_iter)\n",
            "/usr/local/lib/python3.6/dist-packages/sklearn/svm/_base.py:947: ConvergenceWarning: Liblinear failed to converge, increase the number of iterations.\n",
            "  \"the number of iterations.\", ConvergenceWarning)\n"
          ],
          "name": "stderr"
        },
        {
          "output_type": "stream",
          "text": [
            "Validation result for Support Vector Machine with RBF kernel\n",
            "SVR(C=1.0, cache_size=200, coef0=0.0, degree=3, epsilon=0.1, gamma='scale',\n",
            "    kernel='rbf', max_iter=-1, shrinking=True, tol=0.001, verbose=False)\n",
            "Validation result for Passive-Aggresive\n",
            "PassiveAggressiveRegressor(C=1.0, average=False, early_stopping=False,\n",
            "                           epsilon=0.1, fit_intercept=True,\n",
            "                           loss='epsilon_insensitive', max_iter=1000,\n",
            "                           n_iter_no_change=5, random_state=123, shuffle=True,\n",
            "                           tol=0.001, validation_fraction=0.1, verbose=0,\n",
            "                           warm_start=False)\n",
            "Validation result for KNeighborsRegressor\n",
            "KNeighborsRegressor(algorithm='auto', leaf_size=30, metric='minkowski',\n",
            "                    metric_params=None, n_jobs=None, n_neighbors=5, p=2,\n",
            "                    weights='uniform')\n",
            "Validation result for DecisionTreeRegressor\n",
            "DecisionTreeRegressor(ccp_alpha=0.0, criterion='mse', max_depth=None,\n",
            "                      max_features=None, max_leaf_nodes=None,\n",
            "                      min_impurity_decrease=0.0, min_impurity_split=None,\n",
            "                      min_samples_leaf=1, min_samples_split=2,\n",
            "                      min_weight_fraction_leaf=0.0, presort='deprecated',\n",
            "                      random_state=123, splitter='best')\n",
            "Validation result for RandomForestRegressor\n",
            "RandomForestRegressor(bootstrap=True, ccp_alpha=0.0, criterion='mse',\n",
            "                      max_depth=None, max_features='auto', max_leaf_nodes=None,\n",
            "                      max_samples=None, min_impurity_decrease=0.0,\n",
            "                      min_impurity_split=None, min_samples_leaf=1,\n",
            "                      min_samples_split=2, min_weight_fraction_leaf=0.0,\n",
            "                      n_estimators=500, n_jobs=None, oob_score=False,\n",
            "                      random_state=123, verbose=0, warm_start=False)\n",
            "Validation result for AdaBoostRegressor\n",
            "AdaBoostRegressor(base_estimator=None, learning_rate=1.0, loss='linear',\n",
            "                  n_estimators=500, random_state=123)\n",
            "Validation result for GradientBoostingRegressor\n",
            "GradientBoostingRegressor(alpha=0.9, ccp_alpha=0.0, criterion='friedman_mse',\n",
            "                          init=None, learning_rate=0.1, loss='huber',\n",
            "                          max_depth=3, max_features=None, max_leaf_nodes=None,\n",
            "                          min_impurity_decrease=0.0, min_impurity_split=None,\n",
            "                          min_samples_leaf=1, min_samples_split=2,\n",
            "                          min_weight_fraction_leaf=0.0, n_estimators=500,\n",
            "                          n_iter_no_change=None, presort='deprecated',\n",
            "                          random_state=123, subsample=1.0, tol=0.0001,\n",
            "                          validation_fraction=0.1, verbose=0, warm_start=False)\n",
            "Validation result for XGBRegressor-linear\n",
            "XGBRegressor(base_score=0.5, booster='gbtree', colsample_bylevel=1,\n",
            "             colsample_bynode=1, colsample_bytree=1, gamma=0,\n",
            "             importance_type='gain', learning_rate=0.1, max_delta_step=0,\n",
            "             max_depth=3, min_child_weight=1, missing=None, n_estimators=500,\n",
            "             n_jobs=1, nthread=None, objective='reg:linear', random_state=123,\n",
            "             reg_alpha=0, reg_lambda=1, scale_pos_weight=1, seed=None,\n",
            "             silent=None, subsample=1, verbosity=1)\n",
            "[21:05:43] WARNING: /workspace/src/objective/regression_obj.cu:152: reg:linear is now deprecated in favor of reg:squarederror.\n"
          ],
          "name": "stdout"
        },
        {
          "output_type": "stream",
          "text": [
            "/usr/local/lib/python3.6/dist-packages/xgboost/core.py:587: FutureWarning: Series.base is deprecated and will be removed in a future version\n",
            "  if getattr(data, 'base', None) is not None and \\\n"
          ],
          "name": "stderr"
        },
        {
          "output_type": "execute_result",
          "data": {
            "text/plain": [
              "[('Linear Regression', 9.752376000005963, 0.0054552555084228516),\n",
              " ('Lasso', 11.055611812164662, 0.006846427917480469),\n",
              " ('Ridge', 9.724894564298996, 0.003997087478637695),\n",
              " ('ElasticNet', 11.203638775021684, 0.004336357116699219),\n",
              " ('LassoLars', 11.126797847162557, 0.0038869380950927734),\n",
              " ('BayesianRidge', 9.688027208078122, 0.005193948745727539),\n",
              " ('HuberRegressor', 7.559702814418657, 0.09488415718078613),\n",
              " ('SGDRegressor', 1.568009938710261e+16, 0.04260134696960449),\n",
              " ('Linear SVR', 13.083198825418574, 0.14217615127563477),\n",
              " ('Support Vector Machine with RBF kernel',\n",
              "  10.99220781240498,\n",
              "  0.23093485832214355),\n",
              " ('Passive-Aggresive', 12.403670658022493, 0.004151105880737305),\n",
              " ('KNeighborsRegressor', 8.919526894434298, 0.0060007572174072266),\n",
              " ('DecisionTreeRegressor', 7.890728879691472, 0.008643627166748047),\n",
              " ('RandomForestRegressor', 5.236120840386866, 2.5588481426239014),\n",
              " ('AdaBoostRegressor', 8.426761680626567, 0.05571126937866211),\n",
              " ('GradientBoostingRegressor', 4.979982839629559, 1.3706090450286865),\n",
              " ('XGBRegressor-linear', 6.038797959590951, 0.6867961883544922)]"
            ]
          },
          "metadata": {
            "tags": []
          },
          "execution_count": 32
        }
      ]
    },
    {
      "cell_type": "code",
      "metadata": {
        "colab_type": "code",
        "id": "4WfeYtrQ-z4I",
        "outputId": "4f293f33-3da3-4a6c-d8d7-f4041fd7f84f",
        "colab": {
          "base_uri": "https://localhost:8080/",
          "height": 576
        }
      },
      "source": [
        "Regression_result_df = pd.DataFrame(Regression_result)\n",
        "Regression_result_df.columns = ['Regressor', 'MAPE', 'Train and test time']\n",
        "Regression_result_df = Regression_result_df.sort_values(by='MAPE', ascending=True)\n",
        "Regression_result_df['MAPE'] = Regression_result_df['MAPE'].round(1).astype(str) + '%'\n",
        "Regression_result_df"
      ],
      "execution_count": 33,
      "outputs": [
        {
          "output_type": "execute_result",
          "data": {
            "text/html": [
              "<div>\n",
              "<style scoped>\n",
              "    .dataframe tbody tr th:only-of-type {\n",
              "        vertical-align: middle;\n",
              "    }\n",
              "\n",
              "    .dataframe tbody tr th {\n",
              "        vertical-align: top;\n",
              "    }\n",
              "\n",
              "    .dataframe thead th {\n",
              "        text-align: right;\n",
              "    }\n",
              "</style>\n",
              "<table border=\"1\" class=\"dataframe\">\n",
              "  <thead>\n",
              "    <tr style=\"text-align: right;\">\n",
              "      <th></th>\n",
              "      <th>Regressor</th>\n",
              "      <th>MAPE</th>\n",
              "      <th>Train and test time</th>\n",
              "    </tr>\n",
              "  </thead>\n",
              "  <tbody>\n",
              "    <tr>\n",
              "      <th>15</th>\n",
              "      <td>GradientBoostingRegressor</td>\n",
              "      <td>5.0%</td>\n",
              "      <td>1.37</td>\n",
              "    </tr>\n",
              "    <tr>\n",
              "      <th>13</th>\n",
              "      <td>RandomForestRegressor</td>\n",
              "      <td>5.2%</td>\n",
              "      <td>2.56</td>\n",
              "    </tr>\n",
              "    <tr>\n",
              "      <th>16</th>\n",
              "      <td>XGBRegressor-linear</td>\n",
              "      <td>6.0%</td>\n",
              "      <td>0.69</td>\n",
              "    </tr>\n",
              "    <tr>\n",
              "      <th>6</th>\n",
              "      <td>HuberRegressor</td>\n",
              "      <td>7.6%</td>\n",
              "      <td>0.09</td>\n",
              "    </tr>\n",
              "    <tr>\n",
              "      <th>12</th>\n",
              "      <td>DecisionTreeRegressor</td>\n",
              "      <td>7.9%</td>\n",
              "      <td>0.01</td>\n",
              "    </tr>\n",
              "    <tr>\n",
              "      <th>14</th>\n",
              "      <td>AdaBoostRegressor</td>\n",
              "      <td>8.4%</td>\n",
              "      <td>0.06</td>\n",
              "    </tr>\n",
              "    <tr>\n",
              "      <th>11</th>\n",
              "      <td>KNeighborsRegressor</td>\n",
              "      <td>8.9%</td>\n",
              "      <td>0.01</td>\n",
              "    </tr>\n",
              "    <tr>\n",
              "      <th>5</th>\n",
              "      <td>BayesianRidge</td>\n",
              "      <td>9.7%</td>\n",
              "      <td>0.01</td>\n",
              "    </tr>\n",
              "    <tr>\n",
              "      <th>2</th>\n",
              "      <td>Ridge</td>\n",
              "      <td>9.7%</td>\n",
              "      <td>0.00</td>\n",
              "    </tr>\n",
              "    <tr>\n",
              "      <th>0</th>\n",
              "      <td>Linear Regression</td>\n",
              "      <td>9.8%</td>\n",
              "      <td>0.01</td>\n",
              "    </tr>\n",
              "    <tr>\n",
              "      <th>9</th>\n",
              "      <td>Support Vector Machine with RBF kernel</td>\n",
              "      <td>11.0%</td>\n",
              "      <td>0.23</td>\n",
              "    </tr>\n",
              "    <tr>\n",
              "      <th>1</th>\n",
              "      <td>Lasso</td>\n",
              "      <td>11.1%</td>\n",
              "      <td>0.01</td>\n",
              "    </tr>\n",
              "    <tr>\n",
              "      <th>4</th>\n",
              "      <td>LassoLars</td>\n",
              "      <td>11.1%</td>\n",
              "      <td>0.00</td>\n",
              "    </tr>\n",
              "    <tr>\n",
              "      <th>3</th>\n",
              "      <td>ElasticNet</td>\n",
              "      <td>11.2%</td>\n",
              "      <td>0.00</td>\n",
              "    </tr>\n",
              "    <tr>\n",
              "      <th>10</th>\n",
              "      <td>Passive-Aggresive</td>\n",
              "      <td>12.4%</td>\n",
              "      <td>0.00</td>\n",
              "    </tr>\n",
              "    <tr>\n",
              "      <th>8</th>\n",
              "      <td>Linear SVR</td>\n",
              "      <td>13.1%</td>\n",
              "      <td>0.14</td>\n",
              "    </tr>\n",
              "    <tr>\n",
              "      <th>7</th>\n",
              "      <td>SGDRegressor</td>\n",
              "      <td>1.5680099387102612e+16%</td>\n",
              "      <td>0.04</td>\n",
              "    </tr>\n",
              "  </tbody>\n",
              "</table>\n",
              "</div>"
            ],
            "text/plain": [
              "                                 Regressor                     MAPE  \\\n",
              "15               GradientBoostingRegressor                     5.0%   \n",
              "13                   RandomForestRegressor                     5.2%   \n",
              "16                     XGBRegressor-linear                     6.0%   \n",
              "6                           HuberRegressor                     7.6%   \n",
              "12                   DecisionTreeRegressor                     7.9%   \n",
              "14                       AdaBoostRegressor                     8.4%   \n",
              "11                     KNeighborsRegressor                     8.9%   \n",
              "5                            BayesianRidge                     9.7%   \n",
              "2                                    Ridge                     9.7%   \n",
              "0                        Linear Regression                     9.8%   \n",
              "9   Support Vector Machine with RBF kernel                    11.0%   \n",
              "1                                    Lasso                    11.1%   \n",
              "4                                LassoLars                    11.1%   \n",
              "3                               ElasticNet                    11.2%   \n",
              "10                       Passive-Aggresive                    12.4%   \n",
              "8                               Linear SVR                    13.1%   \n",
              "7                             SGDRegressor  1.5680099387102612e+16%   \n",
              "\n",
              "    Train and test time  \n",
              "15                 1.37  \n",
              "13                 2.56  \n",
              "16                 0.69  \n",
              "6                  0.09  \n",
              "12                 0.01  \n",
              "14                 0.06  \n",
              "11                 0.01  \n",
              "5                  0.01  \n",
              "2                  0.00  \n",
              "0                  0.01  \n",
              "9                  0.23  \n",
              "1                  0.01  \n",
              "4                  0.00  \n",
              "3                  0.00  \n",
              "10                 0.00  \n",
              "8                  0.14  \n",
              "7                  0.04  "
            ]
          },
          "metadata": {
            "tags": []
          },
          "execution_count": 33
        }
      ]
    },
    {
      "cell_type": "markdown",
      "metadata": {
        "colab_type": "text",
        "id": "WqHJdOlW_Sgn"
      },
      "source": [
        "### **Tuning Gradient model**"
      ]
    },
    {
      "cell_type": "markdown",
      "metadata": {
        "id": "vXArN0nSoQXs",
        "colab_type": "text"
      },
      "source": [
        "#### **Baseline Model**"
      ]
    },
    {
      "cell_type": "code",
      "metadata": {
        "colab_type": "code",
        "id": "-rqEqLG9_Q0m",
        "colab": {}
      },
      "source": [
        "GB_baseline = GradientBoostingRegressor(alpha=0.9, ccp_alpha=0.0, criterion='friedman_mse',\n",
        "                          init=None, learning_rate=0.1, loss='huber',\n",
        "                          max_depth=3, max_features=None, max_leaf_nodes=None,\n",
        "                          min_impurity_decrease=0.0, min_impurity_split=None,\n",
        "                          min_samples_leaf=1, min_samples_split=2,\n",
        "                          min_weight_fraction_leaf=0.0, n_estimators=500,\n",
        "                          n_iter_no_change=None, presort='deprecated',\n",
        "                          random_state=123, subsample=1.0, tol=0.0001,\n",
        "                          validation_fraction=0.1, verbose=0, warm_start=False)\n",
        "\n",
        "GB_baseline = GB_baseline.fit(X_train, y_train)\n",
        "y_predict_train = GB_baseline.predict(X_train)\n",
        "y_predict_test = GB_baseline.predict(X_test)"
      ],
      "execution_count": 0,
      "outputs": []
    },
    {
      "cell_type": "code",
      "metadata": {
        "colab_type": "code",
        "id": "TTcURRk_Ar17",
        "colab": {}
      },
      "source": [
        "import math\n",
        "def print_metrics(y_true, y_predicted):\n",
        "    ## First compute R^2 and the adjusted R^2\n",
        "    r2 = sklm.r2_score(y_true, y_predicted)\n",
        "    MAPE = mape(y_true, y_predicted)\n",
        "    # r2_adj = r2 - (y_true.shape[0] - 1)/(y_true.shape[0] - n_parameters - 1) * (1 - r2)\n",
        "    \n",
        "    ## Print the usual metrics and the R^2 values\n",
        "    print('Mean Square Error      = ' + str(sklm.mean_squared_error(y_true, y_predicted)))\n",
        "    print('Root Mean Square Error = ' + str(math.sqrt(sklm.mean_squared_error(y_true, y_predicted))))\n",
        "    print('Mean Absolute Error    = ' + str(sklm.mean_absolute_error(y_true, y_predicted)))\n",
        "    print('Median Absolute Error  = ' + str(sklm.median_absolute_error(y_true, y_predicted)))\n",
        "    print('R^2                    = ' + str(r2))\n",
        "    print('MAPE                    = ' + str(MAPE))"
      ],
      "execution_count": 0,
      "outputs": []
    },
    {
      "cell_type": "code",
      "metadata": {
        "id": "UUT0GTkkebdb",
        "colab_type": "code",
        "colab": {
          "base_uri": "https://localhost:8080/",
          "height": 272
        },
        "outputId": "26e1958a-3f6a-4aae-88ed-435081a9b9de"
      },
      "source": [
        "print(\"Training accuracy\")\n",
        "print_metrics(np.exp(y_train), np.exp(y_predict_train))\n",
        "print(\" \")\n",
        "print(\"Test accuracy\")\n",
        "print_metrics(np.exp(y_test), np.exp(y_predict_test))"
      ],
      "execution_count": 51,
      "outputs": [
        {
          "output_type": "stream",
          "text": [
            "Training accuracy\n",
            "Mean Square Error      = 4330105.208451932\n",
            "Root Mean Square Error = 2080.8904844926205\n",
            "Mean Absolute Error    = 1142.8351372956888\n",
            "Median Absolute Error  = 483.1984061568885\n",
            "R^2                    = 0.9527135882192396\n",
            "MAPE                    = 113.56951328694693\n",
            " \n",
            "Test accuracy\n",
            "Mean Square Error      = 4949726.663387507\n",
            "Root Mean Square Error = 2224.798117445155\n",
            "Mean Absolute Error    = 1496.2071874744072\n",
            "Median Absolute Error  = 912.5144207255817\n",
            "R^2                    = 0.9581122529180325\n",
            "MAPE                    = 374.07783367659164\n"
          ],
          "name": "stdout"
        }
      ]
    },
    {
      "cell_type": "code",
      "metadata": {
        "id": "1rJs9ThhpzH6",
        "colab_type": "code",
        "outputId": "c5afd1bf-cb70-458b-da42-1f8c883107d8",
        "colab": {
          "base_uri": "https://localhost:8080/",
          "height": 340
        }
      },
      "source": [
        "# Print the name and gini importance of each feature\n",
        "for feature in zip(X_train.columns.to_list(), GB_baseline.feature_importances_):\n",
        "    print(feature)"
      ],
      "execution_count": 52,
      "outputs": [
        {
          "output_type": "stream",
          "text": [
            "('segment', 0.5644358235848957)\n",
            "('Holiday_flag', 0.0013721612874243944)\n",
            "('Diwali_HOLIDAY', 0.003222697146422082)\n",
            "('Dussehra_HOLIDAY', 0.006308930347709596)\n",
            "('year', 0.07291370879108716)\n",
            "('Month', 0.019611686616212876)\n",
            "('Date', 0.0907170129826674)\n",
            "('Month_Index', 0.005738520614229526)\n",
            "('Date_index', 0.1951516072531558)\n",
            "('weekday_Friday', 0.0007357999358865732)\n",
            "('weekday_Monday', 0.0016516866677345407)\n",
            "('weekday_Saturday', 0.0020851353102352985)\n",
            "('weekday_Sunday', 0.0302539026936612)\n",
            "('weekday_Thursday', 0.0007669073182058709)\n",
            "('weekday_Tuesday', 0.0003810841728584247)\n",
            "('weekday_Wednesday', 0.000912712853399733)\n",
            "('Seasons_Monsoon', 0.001139851295685212)\n",
            "('Seasons_Summer', 0.002506184300527231)\n",
            "('Seasons_Winter', 9.458682800145836e-05)\n"
          ],
          "name": "stdout"
        }
      ]
    },
    {
      "cell_type": "code",
      "metadata": {
        "id": "GR8YyqSuqcv2",
        "colab_type": "code",
        "outputId": "325a476c-1b58-4bb4-e91b-012a618c57f7",
        "colab": {
          "base_uri": "https://localhost:8080/",
          "height": 621
        }
      },
      "source": [
        "features = X_train.columns.to_list()\n",
        "importances = GB_baseline.feature_importances_\n",
        "indices = np.argsort(importances)\n",
        "\n",
        "plt.figure(figsize = (9,10))\n",
        "plt.title('Feature Importances')\n",
        "plt.barh(range(len(indices)), importances[indices], color='b', align='center')\n",
        "plt.yticks(range(len(indices)), [features[i] for i in indices])\n",
        "plt.xlabel('Relative Importance')\n",
        "plt.show();"
      ],
      "execution_count": 53,
      "outputs": [
        {
          "output_type": "display_data",
          "data": {
            "image/png": "[encoded data removed]",
            "text/plain": [
              "<Figure size 648x720 with 1 Axes>"
            ]
          },
          "metadata": {
            "tags": []
          }
        }
      ]
    },
    {
      "cell_type": "code",
      "metadata": {
        "id": "D9oRnjnMTvpV",
        "colab_type": "code",
        "outputId": "e3b3a2c7-a1f9-423f-92ad-455aa13efbc6",
        "colab": {
          "base_uri": "https://localhost:8080/",
          "height": 238
        }
      },
      "source": [
        "import sklearn.model_selection as ms\n",
        "from sklearn.model_selection import TimeSeriesSplit\n",
        "from sklearn.metrics import make_scorer\n",
        "import numpy.random as nr\n",
        "nr.seed(321)\n",
        "outside = ms.TimeSeriesSplit(n_splits=10)\n",
        "\n",
        "nr.seed(498)\n",
        "#scoring = \n",
        "#custom_scorer = make_scorer(mape, greater_is_better=False)\n",
        "cv_estimate = ms.cross_val_score(GB_baseline, X_train, y_train, \n",
        "                                 cv = outside) # Use the outside folds\n",
        "print('Mean performance metric = %4.3f' % np.mean(cv_estimate))\n",
        "print('SDT of the metric       = %4.3f' % np.std(cv_estimate))\n",
        "print('Outcomes by cv fold')\n",
        "for i, x in enumerate(cv_estimate):\n",
        "    print('Fold %2d    %4.3f' % (i+1, x))"
      ],
      "execution_count": 54,
      "outputs": [
        {
          "output_type": "stream",
          "text": [
            "Mean performance metric = 0.583\n",
            "SDT of the metric       = 0.157\n",
            "Outcomes by cv fold\n",
            "Fold  1    0.584\n",
            "Fold  2    0.313\n",
            "Fold  3    0.423\n",
            "Fold  4    0.543\n",
            "Fold  5    0.509\n",
            "Fold  6    0.827\n",
            "Fold  7    0.788\n",
            "Fold  8    0.530\n",
            "Fold  9    0.773\n",
            "Fold 10    0.546\n"
          ],
          "name": "stdout"
        }
      ]
    },
    {
      "cell_type": "markdown",
      "metadata": {
        "id": "EyhV0IwsojWZ",
        "colab_type": "text"
      },
      "source": [
        "#### **learning_rate**"
      ]
    },
    {
      "cell_type": "code",
      "metadata": {
        "id": "yvs3am4Jgjn9",
        "colab_type": "code",
        "colab": {}
      },
      "source": [
        "import numpy.random as nr\n",
        "import sklearn.model_selection as ms\n",
        "\n",
        "nr.seed(123)\n",
        "inside = ms.TimeSeriesSplit(n_splits=10)\n",
        "nr.seed(321)\n",
        "outside = ms.TimeSeriesSplit(n_splits=10)"
      ],
      "execution_count": 0,
      "outputs": []
    },
    {
      "cell_type": "code",
      "metadata": {
        "id": "VbV5h4E3otnZ",
        "colab_type": "code",
        "colab": {
          "base_uri": "https://localhost:8080/",
          "height": 34
        },
        "outputId": "33f03bb9-5696-4e20-b717-38f980fda5af"
      },
      "source": [
        "nr.seed(3456)\n",
        "## Define the dictionary for the grid search and the model object to search on\n",
        "param_grid = {\"learning_rate\": [0.1, 0.05, 0.01, 0.005, 0.001]}\n",
        "\n",
        "## Perform the grid search over the parameters\n",
        "\n",
        "clf = ms.GridSearchCV(estimator = GB_baseline, param_grid = param_grid,\n",
        "                      cv = inside, # Use the inside folds\n",
        "                      return_train_score = True)\n",
        "\n",
        "## Fit the cross validated grid search over the data \n",
        "clf.fit(X_train, y_train)\n",
        "\n",
        "## And print the best parameter value\n",
        "clf.best_params_, clf.best_score_"
      ],
      "execution_count": 57,
      "outputs": [
        {
          "output_type": "execute_result",
          "data": {
            "text/plain": [
              "({'learning_rate': 0.01}, 0.7040183775923203)"
            ]
          },
          "metadata": {
            "tags": []
          },
          "execution_count": 57
        }
      ]
    },
    {
      "cell_type": "markdown",
      "metadata": {
        "id": "YNenGXj3pN8X",
        "colab_type": "text"
      },
      "source": [
        "#### **n_estimators**"
      ]
    },
    {
      "cell_type": "code",
      "metadata": {
        "id": "965Qw-6Jildm",
        "colab_type": "code",
        "colab": {
          "base_uri": "https://localhost:8080/",
          "height": 34
        },
        "outputId": "951edeb7-ea62-4808-c692-9b5bd1f365f7"
      },
      "source": [
        "GB_2 = GradientBoostingRegressor(alpha=0.9, ccp_alpha=0.0, criterion='friedman_mse',\n",
        "                          init=None, learning_rate=0.01, loss='huber',\n",
        "                          max_depth=3, max_features=None, max_leaf_nodes=None,\n",
        "                          min_impurity_decrease=0.0, min_impurity_split=None,\n",
        "                          min_samples_leaf=1, min_samples_split=2,\n",
        "                          min_weight_fraction_leaf=0.0, n_estimators=500,\n",
        "                          n_iter_no_change=None, presort='deprecated',\n",
        "                          random_state=123, subsample=1.0, tol=0.0001,\n",
        "                          validation_fraction=0.1, verbose=0, warm_start=False)\n",
        "\n",
        "nr.seed(3456)\n",
        "## Define the dictionary for the grid search and the model object to search on\n",
        "param_grid = {\"n_estimators\": [100, 200, 300, 400, 500, 600, 700, 800, 900, 1000]}\n",
        "\n",
        "## Perform the grid search over the parameters\n",
        "\n",
        "clf = ms.GridSearchCV(estimator = GB_2, param_grid = param_grid,\n",
        "                      cv = inside, # Use the inside folds\n",
        "                      return_train_score = True)\n",
        "\n",
        "## Fit the cross validated grid search over the data \n",
        "clf.fit(X_train, y_train)\n",
        "\n",
        "## And print the best parameter value\n",
        "clf.best_params_, clf.best_score_"
      ],
      "execution_count": 59,
      "outputs": [
        {
          "output_type": "execute_result",
          "data": {
            "text/plain": [
              "({'n_estimators': 500}, 0.7040183775923203)"
            ]
          },
          "metadata": {
            "tags": []
          },
          "execution_count": 59
        }
      ]
    },
    {
      "cell_type": "markdown",
      "metadata": {
        "id": "mNCARyj6qp1c",
        "colab_type": "text"
      },
      "source": [
        "#### **max_depth**"
      ]
    },
    {
      "cell_type": "code",
      "metadata": {
        "id": "_X5i_CPDji49",
        "colab_type": "code",
        "colab": {
          "base_uri": "https://localhost:8080/",
          "height": 34
        },
        "outputId": "010cd95a-bfb8-4ec6-c5ca-3b418f15613f"
      },
      "source": [
        "nr.seed(3456)\n",
        "GB_3 = GradientBoostingRegressor(alpha=0.9, ccp_alpha=0.0, criterion='friedman_mse',\n",
        "                          init=None, learning_rate=0.01, loss='huber',\n",
        "                          max_depth=3, max_features=None, max_leaf_nodes=None,\n",
        "                          min_impurity_decrease=0.0, min_impurity_split=None,\n",
        "                          min_samples_leaf=1, min_samples_split=2,\n",
        "                          min_weight_fraction_leaf=0.0, n_estimators=500,\n",
        "                          n_iter_no_change=None, presort='deprecated',\n",
        "                          random_state=123, subsample=1.0, tol=0.0001,\n",
        "                          validation_fraction=0.1, verbose=0, warm_start=False)\n",
        "\n",
        "## Define the dictionary for the grid search and the model object to search on\n",
        "param_grid = {'max_depth':range(2,11,2)}\n",
        "\n",
        "## Perform the grid search over the parameters\n",
        "\n",
        "clf = ms.GridSearchCV(estimator = GB_3, param_grid = param_grid,\n",
        "                      cv = inside, # Use the inside folds\n",
        "                      return_train_score = True)\n",
        "\n",
        "## Fit the cross validated grid search over the data \n",
        "clf.fit(X_train, y_train)\n",
        "\n",
        "## And print the best parameter value\n",
        "clf.best_params_, clf.best_score_"
      ],
      "execution_count": 60,
      "outputs": [
        {
          "output_type": "execute_result",
          "data": {
            "text/plain": [
              "({'max_depth': 2}, 0.6928179011725975)"
            ]
          },
          "metadata": {
            "tags": []
          },
          "execution_count": 60
        }
      ]
    },
    {
      "cell_type": "markdown",
      "metadata": {
        "id": "mRyiROeZsagc",
        "colab_type": "text"
      },
      "source": [
        "#### **min_samples_split**"
      ]
    },
    {
      "cell_type": "code",
      "metadata": {
        "id": "NleM9MOcshHr",
        "colab_type": "code",
        "colab": {
          "base_uri": "https://localhost:8080/",
          "height": 34
        },
        "outputId": "315fffee-18d5-4bfe-c1a1-d3215fdee172"
      },
      "source": [
        "nr.seed(3456)\n",
        "GB_4 = GradientBoostingRegressor(alpha=0.9, ccp_alpha=0.0, criterion='friedman_mse',\n",
        "                          init=None, learning_rate=0.01, loss='huber',\n",
        "                          max_depth=3, max_features=None, max_leaf_nodes=None,\n",
        "                          min_impurity_decrease=0.0, min_impurity_split=None,\n",
        "                          min_samples_leaf=1, min_samples_split=2,\n",
        "                          min_weight_fraction_leaf=0.0, n_estimators=500,\n",
        "                          n_iter_no_change=None, presort='deprecated',\n",
        "                          random_state=123, subsample=1.0, tol=0.0001,\n",
        "                          validation_fraction=0.1, verbose=0, warm_start=False)\n",
        "\n",
        "## Define the dictionary for the grid search and the model object to search on\n",
        "param_grid = {'min_samples_split':range(15,41,5)}\n",
        "\n",
        "## Perform the grid search over the parameters\n",
        "\n",
        "clf = ms.GridSearchCV(estimator = GB_4, param_grid = param_grid,\n",
        "                      cv = inside, # Use the inside folds\n",
        "                      return_train_score = True)\n",
        "\n",
        "## Fit the cross validated grid search over the data \n",
        "clf.fit(X_train, y_train)\n",
        "\n",
        "## And print the best parameter value\n",
        "clf.best_params_, clf.best_score_"
      ],
      "execution_count": 62,
      "outputs": [
        {
          "output_type": "execute_result",
          "data": {
            "text/plain": [
              "({'min_samples_split': 25}, 0.7073369527352126)"
            ]
          },
          "metadata": {
            "tags": []
          },
          "execution_count": 62
        }
      ]
    },
    {
      "cell_type": "markdown",
      "metadata": {
        "id": "dV8FFn78vn0R",
        "colab_type": "text"
      },
      "source": [
        "#### **min_samples_leaf**"
      ]
    },
    {
      "cell_type": "code",
      "metadata": {
        "id": "Uc014kJHuAFF",
        "colab_type": "code",
        "colab": {
          "base_uri": "https://localhost:8080/",
          "height": 34
        },
        "outputId": "df42f9c8-e5c7-405e-e5c4-98b738b2f807"
      },
      "source": [
        "nr.seed(3456)\n",
        "GB_5 = GradientBoostingRegressor(alpha=0.9, ccp_alpha=0.0, criterion='friedman_mse',\n",
        "                          init=None, learning_rate=0.01, loss='huber',\n",
        "                          max_depth=3, max_features=None, max_leaf_nodes=None,\n",
        "                          min_impurity_decrease=0.0, min_impurity_split=None,\n",
        "                          min_samples_leaf=1, min_samples_split=25,\n",
        "                          min_weight_fraction_leaf=0.0, n_estimators=500,\n",
        "                          n_iter_no_change=None, presort='deprecated',\n",
        "                          random_state=123, subsample=1.0, tol=0.0001,\n",
        "                          validation_fraction=0.1, verbose=0, warm_start=False)\n",
        "\n",
        "## Define the dictionary for the grid search and the model object to search on\n",
        "param_grid = {'min_samples_leaf':range(1,7,1)}\n",
        "\n",
        "## Perform the grid search over the parameters\n",
        "\n",
        "clf = ms.GridSearchCV(estimator = GB_5, param_grid = param_grid,\n",
        "                      cv = inside, # Use the inside folds\n",
        "                      return_train_score = True)\n",
        "\n",
        "## Fit the cross validated grid search over the data \n",
        "clf.fit(X_train, y_train)\n",
        "\n",
        "## And print the best parameter value\n",
        "clf.best_params_, clf.best_score_"
      ],
      "execution_count": 64,
      "outputs": [
        {
          "output_type": "execute_result",
          "data": {
            "text/plain": [
              "({'min_samples_leaf': 4}, 0.7083256514775959)"
            ]
          },
          "metadata": {
            "tags": []
          },
          "execution_count": 64
        }
      ]
    },
    {
      "cell_type": "markdown",
      "metadata": {
        "id": "aGOZpqWjvuIq",
        "colab_type": "text"
      },
      "source": [
        "#### **max_features**"
      ]
    },
    {
      "cell_type": "code",
      "metadata": {
        "id": "HGS8K6KBvhkI",
        "colab_type": "code",
        "colab": {
          "base_uri": "https://localhost:8080/",
          "height": 34
        },
        "outputId": "72468472-b698-467e-bf91-6f2636b4b147"
      },
      "source": [
        "nr.seed(3456)\n",
        "GB_6 = GradientBoostingRegressor(alpha=0.9, ccp_alpha=0.0, criterion='friedman_mse',\n",
        "                          init=None, learning_rate=0.01, loss='huber',\n",
        "                          max_depth=3, max_features=None, max_leaf_nodes=None,\n",
        "                          min_impurity_decrease=0.0, min_impurity_split=None,\n",
        "                          min_samples_leaf=4, min_samples_split=25,\n",
        "                          min_weight_fraction_leaf=0.0, n_estimators=500,\n",
        "                          n_iter_no_change=None, presort='deprecated',\n",
        "                          random_state=123, subsample=1.0, tol=0.0001,\n",
        "                          validation_fraction=0.1, verbose=0, warm_start=False)\n",
        "\n",
        "## Define the dictionary for the grid search and the model object to search on\n",
        "param_grid = {'max_features': range(11,20,1)}\n",
        "\n",
        "## Perform the grid search over the parameters\n",
        "\n",
        "clf = ms.GridSearchCV(estimator = GB_6, param_grid = param_grid,\n",
        "                      cv = inside, # Use the inside folds\n",
        "                      return_train_score = True)\n",
        "\n",
        "## Fit the cross validated grid search over the data \n",
        "clf.fit(X_train, y_train)\n",
        "\n",
        "## And print the best parameter value\n",
        "clf.best_params_, clf.best_score_"
      ],
      "execution_count": 68,
      "outputs": [
        {
          "output_type": "execute_result",
          "data": {
            "text/plain": [
              "({'max_features': 19}, 0.7083256514775959)"
            ]
          },
          "metadata": {
            "tags": []
          },
          "execution_count": 68
        }
      ]
    },
    {
      "cell_type": "markdown",
      "metadata": {
        "id": "ZhQ9xD9ax-Kp",
        "colab_type": "text"
      },
      "source": [
        "#### **subsample**"
      ]
    },
    {
      "cell_type": "code",
      "metadata": {
        "id": "N1kj2hJNyJPL",
        "colab_type": "code",
        "colab": {
          "base_uri": "https://localhost:8080/",
          "height": 34
        },
        "outputId": "3231f587-9b44-4439-8637-a95cc8cee967"
      },
      "source": [
        "nr.seed(3456)\n",
        "GB_7 = GradientBoostingRegressor(alpha=0.9, ccp_alpha=0.0, criterion='friedman_mse',\n",
        "                          init=None, learning_rate=0.01, loss='huber',\n",
        "                          max_depth=3, max_features=None, max_leaf_nodes=None,\n",
        "                          min_impurity_decrease=0.0, min_impurity_split=None,\n",
        "                          min_samples_leaf=4, min_samples_split=25,\n",
        "                          min_weight_fraction_leaf=0.0, n_estimators=500,\n",
        "                          n_iter_no_change=None, presort='deprecated',\n",
        "                          random_state=123, subsample=1.0, tol=0.0001,\n",
        "                          validation_fraction=0.1, verbose=0, warm_start=False)\n",
        "\n",
        "## Define the dictionary for the grid search and the model object to search on\n",
        "param_grid = {'subsample': [0.6,0.7,0.8,0.9,1.0]}\n",
        "\n",
        "## Perform the grid search over the parameters\n",
        "\n",
        "clf = ms.GridSearchCV(estimator = GB_7, param_grid = param_grid,\n",
        "                      cv = inside, # Use the inside folds\n",
        "                      return_train_score = True)\n",
        "\n",
        "## Fit the cross validated grid search over the data \n",
        "clf.fit(X_train, y_train)\n",
        "\n",
        "## And print the best parameter value\n",
        "clf.best_params_, clf.best_score_"
      ],
      "execution_count": 70,
      "outputs": [
        {
          "output_type": "execute_result",
          "data": {
            "text/plain": [
              "({'subsample': 1.0}, 0.7083256514775959)"
            ]
          },
          "metadata": {
            "tags": []
          },
          "execution_count": 70
        }
      ]
    },
    {
      "cell_type": "markdown",
      "metadata": {
        "id": "exNVQuS3yxCI",
        "colab_type": "text"
      },
      "source": [
        "#### **alpha**"
      ]
    },
    {
      "cell_type": "code",
      "metadata": {
        "id": "QhhRd-aCy1CW",
        "colab_type": "code",
        "colab": {
          "base_uri": "https://localhost:8080/",
          "height": 34
        },
        "outputId": "3cbbb887-ec38-4b91-cfcd-8db326c4c3b2"
      },
      "source": [
        "nr.seed(3456)\n",
        "GB_8 = GradientBoostingRegressor(alpha=0.9, ccp_alpha=0.0, criterion='friedman_mse',\n",
        "                          init=None, learning_rate=0.01, loss='huber',\n",
        "                          max_depth=3, max_features=None, max_leaf_nodes=None,\n",
        "                          min_impurity_decrease=0.0, min_impurity_split=None,\n",
        "                          min_samples_leaf=4, min_samples_split=25,\n",
        "                          min_weight_fraction_leaf=0.0, n_estimators=500,\n",
        "                          n_iter_no_change=None, presort='deprecated',\n",
        "                          random_state=123, subsample=1.0, tol=0.0001,\n",
        "                          validation_fraction=0.1, verbose=0, warm_start=False)\n",
        "\n",
        "## Define the dictionary for the grid search and the model object to search on\n",
        "param_grid = {'alpha': [0.5,0.55,0.6]}\n",
        "\n",
        "## Perform the grid search over the parameters\n",
        "\n",
        "clf = ms.GridSearchCV(estimator = GB_8, param_grid = param_grid,\n",
        "                      cv = inside, # Use the inside folds\n",
        "                      return_train_score = True)\n",
        "\n",
        "## Fit the cross validated grid search over the data \n",
        "clf.fit(X_train, y_train)\n",
        "\n",
        "## And print the best parameter value\n",
        "clf.best_params_, clf.best_score_"
      ],
      "execution_count": 75,
      "outputs": [
        {
          "output_type": "execute_result",
          "data": {
            "text/plain": [
              "({'alpha': 0.55}, 0.7272263239446819)"
            ]
          },
          "metadata": {
            "tags": []
          },
          "execution_count": 75
        }
      ]
    },
    {
      "cell_type": "markdown",
      "metadata": {
        "id": "0uQteOdDz_kQ",
        "colab_type": "text"
      },
      "source": [
        "#### **loss**"
      ]
    },
    {
      "cell_type": "code",
      "metadata": {
        "id": "n846dnHNzkft",
        "colab_type": "code",
        "colab": {
          "base_uri": "https://localhost:8080/",
          "height": 34
        },
        "outputId": "519aef8b-3302-497d-8eff-c7dc29886862"
      },
      "source": [
        "GB_9 = GradientBoostingRegressor(alpha=0.55, ccp_alpha=0.0, criterion='friedman_mse',\n",
        "                          init=None, learning_rate=0.01, loss='huber',\n",
        "                          max_depth=3, max_features=None, max_leaf_nodes=None,\n",
        "                          min_impurity_decrease=0.0, min_impurity_split=None,\n",
        "                          min_samples_leaf=4, min_samples_split=25,\n",
        "                          min_weight_fraction_leaf=0.0, n_estimators=500,\n",
        "                          n_iter_no_change=None, presort='deprecated',\n",
        "                          random_state=123, subsample=1.0, tol=0.0001,\n",
        "                          validation_fraction=0.1, verbose=0, warm_start=False)\n",
        "\n",
        "## Define the dictionary for the grid search and the model object to search on\n",
        "param_grid = {'loss': ['huber','ls', 'lad', 'quantile']}\n",
        "\n",
        "## Perform the grid search over the parameters\n",
        "\n",
        "clf = ms.GridSearchCV(estimator = GB_9, param_grid = param_grid,\n",
        "                      cv = inside, # Use the inside folds\n",
        "                      return_train_score = True)\n",
        "\n",
        "## Fit the cross validated grid search over the data \n",
        "clf.fit(X_train, y_train)\n",
        "\n",
        "## And print the best parameter value\n",
        "clf.best_params_, clf.best_score_"
      ],
      "execution_count": 76,
      "outputs": [
        {
          "output_type": "execute_result",
          "data": {
            "text/plain": [
              "({'loss': 'huber'}, 0.7272263239446819)"
            ]
          },
          "metadata": {
            "tags": []
          },
          "execution_count": 76
        }
      ]
    },
    {
      "cell_type": "markdown",
      "metadata": {
        "id": "h95k34w112ps",
        "colab_type": "text"
      },
      "source": [
        "### **Final Model**"
      ]
    },
    {
      "cell_type": "code",
      "metadata": {
        "id": "19rbbSvj28sZ",
        "colab_type": "code",
        "colab": {
          "base_uri": "https://localhost:8080/",
          "height": 510
        },
        "outputId": "20176d11-88e7-4569-a480-0d203f615355"
      },
      "source": [
        "GB_Fin = GradientBoostingRegressor(alpha=0.55, ccp_alpha=0.0, criterion='friedman_mse',\n",
        "                          init=None, learning_rate=0.01, loss='huber',\n",
        "                          max_depth=3, max_features=None, max_leaf_nodes=None,\n",
        "                          min_impurity_decrease=0.0, min_impurity_split=None,\n",
        "                          min_samples_leaf=4, min_samples_split=25,\n",
        "                          min_weight_fraction_leaf=0.0, n_estimators=500,\n",
        "                          n_iter_no_change=None, presort='deprecated',\n",
        "                          random_state=123, subsample=1.0, tol=0.0001,\n",
        "                          validation_fraction=0.1, verbose=0, warm_start=False)\n",
        "\n",
        "GB_Fin = GB_Fin.fit(X_train, y_train)\n",
        "y_predict_train = GB_Fin.predict(X_train)\n",
        "y_predict_test = GB_Fin.predict(X_test)\n",
        "\n",
        "print(\"Training accuracy\")\n",
        "print_metrics(np.exp(y_train), np.exp(y_predict_train))\n",
        "print(\" \")\n",
        "print(\"Test accuracy\")\n",
        "print_metrics(np.exp(y_test), np.exp(y_predict_test))\n",
        "\n",
        "print(\"Cross-validation accuracy\")\n",
        "nr.seed(498)\n",
        "#scoring = \n",
        "#custom_scorer = make_scorer(mape, greater_is_better=False)\n",
        "cv_estimate = ms.cross_val_score(GB_Fin, X_train, y_train, \n",
        "                                 cv = outside) # Use the outside folds\n",
        "print('Mean performance metric = %4.3f' % np.mean(cv_estimate))\n",
        "print('SDT of the metric       = %4.3f' % np.std(cv_estimate))\n",
        "print('Outcomes by cv fold')\n",
        "for i, x in enumerate(cv_estimate):\n",
        "    print('Fold %2d    %4.3f' % (i+1, x))"
      ],
      "execution_count": 79,
      "outputs": [
        {
          "output_type": "stream",
          "text": [
            "Training accuracy\n",
            "Mean Square Error      = 8880707.1323121\n",
            "Root Mean Square Error = 2980.0515318215726\n",
            "Mean Absolute Error    = 1745.9747461914992\n",
            "Median Absolute Error  = 719.7319757169604\n",
            "R^2                    = 0.9030192676281465\n",
            "MAPE                    = 323.5218363126402\n",
            " \n",
            "Test accuracy\n",
            "Mean Square Error      = 6968312.657639188\n",
            "Root Mean Square Error = 2639.7561738992463\n",
            "Mean Absolute Error    = 1978.2084914343366\n",
            "Median Absolute Error  = 1319.1138912118859\n",
            "R^2                    = 0.9410296895078444\n",
            "MAPE                    = 306.90406297326825\n",
            "Cross-validation accuracy\n",
            "Mean performance metric = 0.727\n",
            "SDT of the metric       = 0.111\n",
            "Outcomes by cv fold\n",
            "Fold  1    0.561\n",
            "Fold  2    0.737\n",
            "Fold  3    0.746\n",
            "Fold  4    0.568\n",
            "Fold  5    0.596\n",
            "Fold  6    0.848\n",
            "Fold  7    0.783\n",
            "Fold  8    0.712\n",
            "Fold  9    0.857\n",
            "Fold 10    0.863\n"
          ],
          "name": "stdout"
        }
      ]
    },
    {
      "cell_type": "code",
      "metadata": {
        "id": "LQSjZFcS_uwj",
        "colab_type": "code",
        "colab": {
          "base_uri": "https://localhost:8080/",
          "height": 119
        },
        "outputId": "eecc9d23-be59-42b3-a16a-1471c6e7937c"
      },
      "source": [
        "print_metrics(y_test, y_predict_test)"
      ],
      "execution_count": 109,
      "outputs": [
        {
          "output_type": "stream",
          "text": [
            "Mean Square Error      = 0.47760942283662067\n",
            "Root Mean Square Error = 0.6910929191046749\n",
            "Mean Absolute Error    = 0.3143894919501784\n",
            "Median Absolute Error  = 0.13577120900970208\n",
            "R^2                    = 0.6582386074471618\n",
            "MAPE                    = 5.4525330168122785\n"
          ],
          "name": "stdout"
        }
      ]
    },
    {
      "cell_type": "code",
      "metadata": {
        "id": "sKkQUWbQB6M_",
        "colab_type": "code",
        "colab": {
          "base_uri": "https://localhost:8080/",
          "height": 258
        },
        "outputId": "1e5b8f45-fc93-4d68-f59c-f8f96b18309d"
      },
      "source": [
        "X_train = train_v2.drop(['case_count'], axis = 1)\n",
        "y_train = np.log(train_v2['case_count'])\n",
        "#y_train = Train['case_count']\n",
        "\n",
        "print(\"Shape of features :\", X_train.shape)\n",
        "print(\"Shape of labels :\", y_train.shape)\n",
        "\n",
        "X_train.head()"
      ],
      "execution_count": 111,
      "outputs": [
        {
          "output_type": "stream",
          "text": [
            "Shape of features : (1650, 19)\n",
            "Shape of labels : (1650,)\n"
          ],
          "name": "stdout"
        },
        {
          "output_type": "execute_result",
          "data": {
            "text/html": [
              "<div>\n",
              "<style scoped>\n",
              "    .dataframe tbody tr th:only-of-type {\n",
              "        vertical-align: middle;\n",
              "    }\n",
              "\n",
              "    .dataframe tbody tr th {\n",
              "        vertical-align: top;\n",
              "    }\n",
              "\n",
              "    .dataframe thead th {\n",
              "        text-align: right;\n",
              "    }\n",
              "</style>\n",
              "<table border=\"1\" class=\"dataframe\">\n",
              "  <thead>\n",
              "    <tr style=\"text-align: right;\">\n",
              "      <th></th>\n",
              "      <th>segment</th>\n",
              "      <th>Holiday_flag</th>\n",
              "      <th>Diwali_HOLIDAY</th>\n",
              "      <th>Dussehra_HOLIDAY</th>\n",
              "      <th>year</th>\n",
              "      <th>Month</th>\n",
              "      <th>Date</th>\n",
              "      <th>Month_Index</th>\n",
              "      <th>Date_index</th>\n",
              "      <th>weekday_Friday</th>\n",
              "      <th>weekday_Monday</th>\n",
              "      <th>weekday_Saturday</th>\n",
              "      <th>weekday_Sunday</th>\n",
              "      <th>weekday_Thursday</th>\n",
              "      <th>weekday_Tuesday</th>\n",
              "      <th>weekday_Wednesday</th>\n",
              "      <th>Seasons_Monsoon</th>\n",
              "      <th>Seasons_Summer</th>\n",
              "      <th>Seasons_Winter</th>\n",
              "    </tr>\n",
              "  </thead>\n",
              "  <tbody>\n",
              "    <tr>\n",
              "      <th>0</th>\n",
              "      <td>1</td>\n",
              "      <td>0</td>\n",
              "      <td>0.00</td>\n",
              "      <td>0.00</td>\n",
              "      <td>2017</td>\n",
              "      <td>4</td>\n",
              "      <td>1</td>\n",
              "      <td>0.50</td>\n",
              "      <td>0.50</td>\n",
              "      <td>0</td>\n",
              "      <td>0</td>\n",
              "      <td>1</td>\n",
              "      <td>0</td>\n",
              "      <td>0</td>\n",
              "      <td>0</td>\n",
              "      <td>0</td>\n",
              "      <td>0</td>\n",
              "      <td>1</td>\n",
              "      <td>0</td>\n",
              "    </tr>\n",
              "    <tr>\n",
              "      <th>1</th>\n",
              "      <td>0</td>\n",
              "      <td>0</td>\n",
              "      <td>0.00</td>\n",
              "      <td>0.00</td>\n",
              "      <td>2017</td>\n",
              "      <td>4</td>\n",
              "      <td>1</td>\n",
              "      <td>0.50</td>\n",
              "      <td>0.50</td>\n",
              "      <td>0</td>\n",
              "      <td>0</td>\n",
              "      <td>1</td>\n",
              "      <td>0</td>\n",
              "      <td>0</td>\n",
              "      <td>0</td>\n",
              "      <td>0</td>\n",
              "      <td>0</td>\n",
              "      <td>1</td>\n",
              "      <td>0</td>\n",
              "    </tr>\n",
              "    <tr>\n",
              "      <th>2</th>\n",
              "      <td>0</td>\n",
              "      <td>0</td>\n",
              "      <td>0.00</td>\n",
              "      <td>0.00</td>\n",
              "      <td>2017</td>\n",
              "      <td>4</td>\n",
              "      <td>2</td>\n",
              "      <td>0.50</td>\n",
              "      <td>0.50</td>\n",
              "      <td>0</td>\n",
              "      <td>0</td>\n",
              "      <td>0</td>\n",
              "      <td>1</td>\n",
              "      <td>0</td>\n",
              "      <td>0</td>\n",
              "      <td>0</td>\n",
              "      <td>0</td>\n",
              "      <td>1</td>\n",
              "      <td>0</td>\n",
              "    </tr>\n",
              "    <tr>\n",
              "      <th>3</th>\n",
              "      <td>1</td>\n",
              "      <td>0</td>\n",
              "      <td>0.00</td>\n",
              "      <td>0.00</td>\n",
              "      <td>2017</td>\n",
              "      <td>4</td>\n",
              "      <td>3</td>\n",
              "      <td>0.50</td>\n",
              "      <td>0.50</td>\n",
              "      <td>0</td>\n",
              "      <td>1</td>\n",
              "      <td>0</td>\n",
              "      <td>0</td>\n",
              "      <td>0</td>\n",
              "      <td>0</td>\n",
              "      <td>0</td>\n",
              "      <td>0</td>\n",
              "      <td>1</td>\n",
              "      <td>0</td>\n",
              "    </tr>\n",
              "    <tr>\n",
              "      <th>4</th>\n",
              "      <td>0</td>\n",
              "      <td>0</td>\n",
              "      <td>0.00</td>\n",
              "      <td>0.00</td>\n",
              "      <td>2017</td>\n",
              "      <td>4</td>\n",
              "      <td>3</td>\n",
              "      <td>0.50</td>\n",
              "      <td>0.50</td>\n",
              "      <td>0</td>\n",
              "      <td>1</td>\n",
              "      <td>0</td>\n",
              "      <td>0</td>\n",
              "      <td>0</td>\n",
              "      <td>0</td>\n",
              "      <td>0</td>\n",
              "      <td>0</td>\n",
              "      <td>1</td>\n",
              "      <td>0</td>\n",
              "    </tr>\n",
              "  </tbody>\n",
              "</table>\n",
              "</div>"
            ],
            "text/plain": [
              "   segment  Holiday_flag  Diwali_HOLIDAY  Dussehra_HOLIDAY  year  Month  Date  \\\n",
              "0        1             0            0.00              0.00  2017      4     1   \n",
              "1        0             0            0.00              0.00  2017      4     1   \n",
              "2        0             0            0.00              0.00  2017      4     2   \n",
              "3        1             0            0.00              0.00  2017      4     3   \n",
              "4        0             0            0.00              0.00  2017      4     3   \n",
              "\n",
              "   Month_Index  Date_index  weekday_Friday  weekday_Monday  weekday_Saturday  \\\n",
              "0         0.50        0.50               0               0                 1   \n",
              "1         0.50        0.50               0               0                 1   \n",
              "2         0.50        0.50               0               0                 0   \n",
              "3         0.50        0.50               0               1                 0   \n",
              "4         0.50        0.50               0               1                 0   \n",
              "\n",
              "   weekday_Sunday  weekday_Thursday  weekday_Tuesday  weekday_Wednesday  \\\n",
              "0               0                 0                0                  0   \n",
              "1               0                 0                0                  0   \n",
              "2               1                 0                0                  0   \n",
              "3               0                 0                0                  0   \n",
              "4               0                 0                0                  0   \n",
              "\n",
              "   Seasons_Monsoon  Seasons_Summer  Seasons_Winter  \n",
              "0                0               1               0  \n",
              "1                0               1               0  \n",
              "2                0               1               0  \n",
              "3                0               1               0  \n",
              "4                0               1               0  "
            ]
          },
          "metadata": {
            "tags": []
          },
          "execution_count": 111
        }
      ]
    },
    {
      "cell_type": "code",
      "metadata": {
        "id": "_67hfc_aBZ2o",
        "colab_type": "code",
        "colab": {
          "base_uri": "https://localhost:8080/",
          "height": 391
        },
        "outputId": "4a84151b-621d-4cda-ef5b-4dcd7beeb737"
      },
      "source": [
        "GB_Fin = GradientBoostingRegressor(alpha=0.55, ccp_alpha=0.0, criterion='friedman_mse',\n",
        "                          init=None, learning_rate=0.01, loss='huber',\n",
        "                          max_depth=3, max_features=None, max_leaf_nodes=None,\n",
        "                          min_impurity_decrease=0.0, min_impurity_split=None,\n",
        "                          min_samples_leaf=4, min_samples_split=25,\n",
        "                          min_weight_fraction_leaf=0.0, n_estimators=500,\n",
        "                          n_iter_no_change=None, presort='deprecated',\n",
        "                          random_state=123, subsample=1.0, tol=0.0001,\n",
        "                          validation_fraction=0.1, verbose=0, warm_start=False)\n",
        "\n",
        "GB_Fin = GB_Fin.fit(X_train, y_train)\n",
        "y_predict_train = GB_Fin.predict(X_train)\n",
        "#y_predict_test = GB_Fin.predict(X_test)\n",
        "\n",
        "print(\"Training accuracy\")\n",
        "print_metrics(np.exp(y_train), np.exp(y_predict_train))\n",
        "print(\" \")\n",
        "# print(\"Test accuracy\")\n",
        "# print_metrics(np.exp(y_test), np.exp(y_predict_test))\n",
        "\n",
        "print(\"Cross-validation accuracy\")\n",
        "nr.seed(498)\n",
        "#scoring = \n",
        "#custom_scorer = make_scorer(mape, greater_is_better=False)\n",
        "cv_estimate = ms.cross_val_score(GB_Fin, X_train, y_train, \n",
        "                                 cv = outside) # Use the outside folds\n",
        "print('Mean performance metric = %4.3f' % np.mean(cv_estimate))\n",
        "print('SDT of the metric       = %4.3f' % np.std(cv_estimate))\n",
        "print('Outcomes by cv fold')\n",
        "for i, x in enumerate(cv_estimate):\n",
        "    print('Fold %2d    %4.3f' % (i+1, x))"
      ],
      "execution_count": 113,
      "outputs": [
        {
          "output_type": "stream",
          "text": [
            "Training accuracy\n",
            "Mean Square Error      = 8842991.144010687\n",
            "Root Mean Square Error = 2973.716722219971\n",
            "Mean Absolute Error    = 1760.663314155413\n",
            "Median Absolute Error  = 745.0563130566222\n",
            "R^2                    = 0.9051807455028503\n",
            "MAPE                    = 345.52754758793225\n",
            " \n",
            "Cross-validation accuracy\n",
            "Mean performance metric = 0.697\n",
            "SDT of the metric       = 0.127\n",
            "Outcomes by cv fold\n",
            "Fold  1    0.541\n",
            "Fold  2    0.746\n",
            "Fold  3    0.715\n",
            "Fold  4    0.529\n",
            "Fold  5    0.504\n",
            "Fold  6    0.830\n",
            "Fold  7    0.676\n",
            "Fold  8    0.833\n",
            "Fold  9    0.876\n",
            "Fold 10    0.724\n"
          ],
          "name": "stdout"
        }
      ]
    },
    {
      "cell_type": "markdown",
      "metadata": {
        "colab_type": "text",
        "id": "V5qXzcMYCOJm"
      },
      "source": [
        "## **Predicting test data**"
      ]
    },
    {
      "cell_type": "code",
      "metadata": {
        "colab_type": "code",
        "id": "clMJ3POJCSLs",
        "outputId": "b86612db-3093-430b-d040-01e41c6b5c28",
        "colab": {
          "base_uri": "https://localhost:8080/",
          "height": 34
        }
      },
      "source": [
        "test = pd.read_csv(\"./Input/test_1eLl9Yf.csv\")\n",
        "test_v2 = test.drop(['id'], axis = 1)\n",
        "test_v2 = feature_eng(test_v2)\n",
        "test_v2 = test_v2.drop_duplicates()\n",
        "print(\"Shape of features :\", test_v2.shape)"
      ],
      "execution_count": 114,
      "outputs": [
        {
          "output_type": "stream",
          "text": [
            "Shape of features : (180, 18)\n"
          ],
          "name": "stdout"
        }
      ]
    },
    {
      "cell_type": "code",
      "metadata": {
        "colab_type": "code",
        "id": "9JYwdTC-CuHK",
        "outputId": "3cc04e13-be3c-4437-e0ba-91c3cea6fc7d",
        "colab": {
          "base_uri": "https://localhost:8080/",
          "height": 241
        }
      },
      "source": [
        "feature_list = X_train.columns.tolist()\n",
        "dummy_add = list(set(feature_list) - set(test_v2.columns))\n",
        "print(dummy_add)\n",
        "\n",
        "for newcol in dummy_add:\n",
        "    test_v2[newcol] = 0\n",
        "\n",
        "test_v2 = test_v2[feature_list]\n",
        "test_v2.head()"
      ],
      "execution_count": 115,
      "outputs": [
        {
          "output_type": "stream",
          "text": [
            "['Seasons_Summer']\n"
          ],
          "name": "stdout"
        },
        {
          "output_type": "execute_result",
          "data": {
            "text/html": [
              "<div>\n",
              "<style scoped>\n",
              "    .dataframe tbody tr th:only-of-type {\n",
              "        vertical-align: middle;\n",
              "    }\n",
              "\n",
              "    .dataframe tbody tr th {\n",
              "        vertical-align: top;\n",
              "    }\n",
              "\n",
              "    .dataframe thead th {\n",
              "        text-align: right;\n",
              "    }\n",
              "</style>\n",
              "<table border=\"1\" class=\"dataframe\">\n",
              "  <thead>\n",
              "    <tr style=\"text-align: right;\">\n",
              "      <th></th>\n",
              "      <th>segment</th>\n",
              "      <th>Holiday_flag</th>\n",
              "      <th>Diwali_HOLIDAY</th>\n",
              "      <th>Dussehra_HOLIDAY</th>\n",
              "      <th>year</th>\n",
              "      <th>Month</th>\n",
              "      <th>Date</th>\n",
              "      <th>Month_Index</th>\n",
              "      <th>Date_index</th>\n",
              "      <th>weekday_Friday</th>\n",
              "      <th>weekday_Monday</th>\n",
              "      <th>weekday_Saturday</th>\n",
              "      <th>weekday_Sunday</th>\n",
              "      <th>weekday_Thursday</th>\n",
              "      <th>weekday_Tuesday</th>\n",
              "      <th>weekday_Wednesday</th>\n",
              "      <th>Seasons_Monsoon</th>\n",
              "      <th>Seasons_Summer</th>\n",
              "      <th>Seasons_Winter</th>\n",
              "    </tr>\n",
              "  </thead>\n",
              "  <tbody>\n",
              "    <tr>\n",
              "      <th>0</th>\n",
              "      <td>1</td>\n",
              "      <td>0</td>\n",
              "      <td>0.00</td>\n",
              "      <td>0.00</td>\n",
              "      <td>2019</td>\n",
              "      <td>7</td>\n",
              "      <td>6</td>\n",
              "      <td>1.00</td>\n",
              "      <td>0.50</td>\n",
              "      <td>0</td>\n",
              "      <td>0</td>\n",
              "      <td>1</td>\n",
              "      <td>0</td>\n",
              "      <td>0</td>\n",
              "      <td>0</td>\n",
              "      <td>0</td>\n",
              "      <td>1</td>\n",
              "      <td>0</td>\n",
              "      <td>0</td>\n",
              "    </tr>\n",
              "    <tr>\n",
              "      <th>1</th>\n",
              "      <td>1</td>\n",
              "      <td>0</td>\n",
              "      <td>0.00</td>\n",
              "      <td>0.00</td>\n",
              "      <td>2019</td>\n",
              "      <td>7</td>\n",
              "      <td>7</td>\n",
              "      <td>1.00</td>\n",
              "      <td>0.50</td>\n",
              "      <td>0</td>\n",
              "      <td>0</td>\n",
              "      <td>0</td>\n",
              "      <td>1</td>\n",
              "      <td>0</td>\n",
              "      <td>0</td>\n",
              "      <td>0</td>\n",
              "      <td>1</td>\n",
              "      <td>0</td>\n",
              "      <td>0</td>\n",
              "    </tr>\n",
              "    <tr>\n",
              "      <th>2</th>\n",
              "      <td>1</td>\n",
              "      <td>0</td>\n",
              "      <td>0.00</td>\n",
              "      <td>0.00</td>\n",
              "      <td>2019</td>\n",
              "      <td>7</td>\n",
              "      <td>8</td>\n",
              "      <td>1.00</td>\n",
              "      <td>0.50</td>\n",
              "      <td>0</td>\n",
              "      <td>1</td>\n",
              "      <td>0</td>\n",
              "      <td>0</td>\n",
              "      <td>0</td>\n",
              "      <td>0</td>\n",
              "      <td>0</td>\n",
              "      <td>1</td>\n",
              "      <td>0</td>\n",
              "      <td>0</td>\n",
              "    </tr>\n",
              "    <tr>\n",
              "      <th>3</th>\n",
              "      <td>1</td>\n",
              "      <td>0</td>\n",
              "      <td>0.00</td>\n",
              "      <td>0.00</td>\n",
              "      <td>2019</td>\n",
              "      <td>7</td>\n",
              "      <td>9</td>\n",
              "      <td>1.00</td>\n",
              "      <td>0.50</td>\n",
              "      <td>0</td>\n",
              "      <td>0</td>\n",
              "      <td>0</td>\n",
              "      <td>0</td>\n",
              "      <td>0</td>\n",
              "      <td>1</td>\n",
              "      <td>0</td>\n",
              "      <td>1</td>\n",
              "      <td>0</td>\n",
              "      <td>0</td>\n",
              "    </tr>\n",
              "    <tr>\n",
              "      <th>4</th>\n",
              "      <td>1</td>\n",
              "      <td>0</td>\n",
              "      <td>0.00</td>\n",
              "      <td>0.00</td>\n",
              "      <td>2019</td>\n",
              "      <td>7</td>\n",
              "      <td>10</td>\n",
              "      <td>1.00</td>\n",
              "      <td>0.50</td>\n",
              "      <td>0</td>\n",
              "      <td>0</td>\n",
              "      <td>0</td>\n",
              "      <td>0</td>\n",
              "      <td>0</td>\n",
              "      <td>0</td>\n",
              "      <td>1</td>\n",
              "      <td>1</td>\n",
              "      <td>0</td>\n",
              "      <td>0</td>\n",
              "    </tr>\n",
              "  </tbody>\n",
              "</table>\n",
              "</div>"
            ],
            "text/plain": [
              "   segment  Holiday_flag  Diwali_HOLIDAY  Dussehra_HOLIDAY  year  Month  Date  \\\n",
              "0        1             0            0.00              0.00  2019      7     6   \n",
              "1        1             0            0.00              0.00  2019      7     7   \n",
              "2        1             0            0.00              0.00  2019      7     8   \n",
              "3        1             0            0.00              0.00  2019      7     9   \n",
              "4        1             0            0.00              0.00  2019      7    10   \n",
              "\n",
              "   Month_Index  Date_index  weekday_Friday  weekday_Monday  weekday_Saturday  \\\n",
              "0         1.00        0.50               0               0                 1   \n",
              "1         1.00        0.50               0               0                 0   \n",
              "2         1.00        0.50               0               1                 0   \n",
              "3         1.00        0.50               0               0                 0   \n",
              "4         1.00        0.50               0               0                 0   \n",
              "\n",
              "   weekday_Sunday  weekday_Thursday  weekday_Tuesday  weekday_Wednesday  \\\n",
              "0               0                 0                0                  0   \n",
              "1               1                 0                0                  0   \n",
              "2               0                 0                0                  0   \n",
              "3               0                 0                1                  0   \n",
              "4               0                 0                0                  1   \n",
              "\n",
              "   Seasons_Monsoon  Seasons_Summer  Seasons_Winter  \n",
              "0                1               0               0  \n",
              "1                1               0               0  \n",
              "2                1               0               0  \n",
              "3                1               0               0  \n",
              "4                1               0               0  "
            ]
          },
          "metadata": {
            "tags": []
          },
          "execution_count": 115
        }
      ]
    },
    {
      "cell_type": "code",
      "metadata": {
        "colab_type": "code",
        "id": "hC8GpD_5kFBM",
        "outputId": "6be6310e-bcb8-4b2a-ff59-db87b8a3998f",
        "colab": {
          "base_uri": "https://localhost:8080/",
          "height": 204
        }
      },
      "source": [
        "test['case_count'] = np.exp(GB_Fin.predict(test_v2))\n",
        "test['case_count'] = test['case_count'].round(0)\n",
        "test.head()"
      ],
      "execution_count": 116,
      "outputs": [
        {
          "output_type": "execute_result",
          "data": {
            "text/html": [
              "<div>\n",
              "<style scoped>\n",
              "    .dataframe tbody tr th:only-of-type {\n",
              "        vertical-align: middle;\n",
              "    }\n",
              "\n",
              "    .dataframe tbody tr th {\n",
              "        vertical-align: top;\n",
              "    }\n",
              "\n",
              "    .dataframe thead th {\n",
              "        text-align: right;\n",
              "    }\n",
              "</style>\n",
              "<table border=\"1\" class=\"dataframe\">\n",
              "  <thead>\n",
              "    <tr style=\"text-align: right;\">\n",
              "      <th></th>\n",
              "      <th>id</th>\n",
              "      <th>application_date</th>\n",
              "      <th>segment</th>\n",
              "      <th>case_count</th>\n",
              "    </tr>\n",
              "  </thead>\n",
              "  <tbody>\n",
              "    <tr>\n",
              "      <th>0</th>\n",
              "      <td>1</td>\n",
              "      <td>2019-07-06</td>\n",
              "      <td>1</td>\n",
              "      <td>2694.00</td>\n",
              "    </tr>\n",
              "    <tr>\n",
              "      <th>1</th>\n",
              "      <td>2</td>\n",
              "      <td>2019-07-07</td>\n",
              "      <td>1</td>\n",
              "      <td>1506.00</td>\n",
              "    </tr>\n",
              "    <tr>\n",
              "      <th>2</th>\n",
              "      <td>3</td>\n",
              "      <td>2019-07-08</td>\n",
              "      <td>1</td>\n",
              "      <td>3452.00</td>\n",
              "    </tr>\n",
              "    <tr>\n",
              "      <th>3</th>\n",
              "      <td>4</td>\n",
              "      <td>2019-07-09</td>\n",
              "      <td>1</td>\n",
              "      <td>3348.00</td>\n",
              "    </tr>\n",
              "    <tr>\n",
              "      <th>4</th>\n",
              "      <td>5</td>\n",
              "      <td>2019-07-10</td>\n",
              "      <td>1</td>\n",
              "      <td>3348.00</td>\n",
              "    </tr>\n",
              "  </tbody>\n",
              "</table>\n",
              "</div>"
            ],
            "text/plain": [
              "   id application_date  segment  case_count\n",
              "0   1       2019-07-06        1     2694.00\n",
              "1   2       2019-07-07        1     1506.00\n",
              "2   3       2019-07-08        1     3452.00\n",
              "3   4       2019-07-09        1     3348.00\n",
              "4   5       2019-07-10        1     3348.00"
            ]
          },
          "metadata": {
            "tags": []
          },
          "execution_count": 116
        }
      ]
    },
    {
      "cell_type": "code",
      "metadata": {
        "id": "HQ1M8Df-UJir",
        "colab_type": "code",
        "colab": {}
      },
      "source": [
        "Submission = test[['id', 'application_date', 'segment', 'case_count']]\n",
        "\n",
        "Submission.to_csv(\"./Output/Submission_GB_v2.csv\", index = False)"
      ],
      "execution_count": 0,
      "outputs": []
    }
  ]
}