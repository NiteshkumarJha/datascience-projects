{
 "cells": [
  {
   "cell_type": "markdown",
   "metadata": {
    "colab_type": "text",
    "id": "a2zIPpwWcsq2"
   },
   "source": [
    "# Sentiments Analysis"
   ]
  },
  {
   "cell_type": "markdown",
   "metadata": {
    "colab_type": "text",
    "id": "q0yS8Hr7Np55"
   },
   "source": [
    "## 1. Introduction\n",
    "\n"
   ]
  },
  {
   "cell_type": "markdown",
   "metadata": {
    "colab_type": "text",
    "id": "c4KbOgLKc3Dg"
   },
   "source": [
    "## 2. Getting Started"
   ]
  },
  {
   "cell_type": "code",
   "execution_count": 1,
   "metadata": {
    "colab": {},
    "colab_type": "code",
    "id": "MHOv5rs7dYtp"
   },
   "outputs": [],
   "source": [
    "# Importing the libraries\n",
    "import numpy as np\n",
    "import matplotlib.pyplot as plt\n",
    "import pandas as pd\n",
    "import seaborn as sns\n",
    "import matplotlib.pyplot as plt\n",
    "%matplotlib inline"
   ]
  },
  {
   "cell_type": "code",
   "execution_count": 2,
   "metadata": {
    "colab": {},
    "colab_type": "code",
    "id": "J4nMRopCdgsR"
   },
   "outputs": [],
   "source": [
    "# Importing the dataset\n",
    "Train = pd.read_csv(\"E:/Data Science/Innoplexus/Input/train_F3WbcTw.csv\")\n",
    "Test = pd.read_csv(\"E:/Data Science/Innoplexus/Input/test_tOlRoBf.csv\")\n",
    "Sample_submission = pd.read_csv(\"E:/Data Science/Innoplexus/Input/sample_submission_i5xnIZD.csv\")"
   ]
  },
  {
   "cell_type": "markdown",
   "metadata": {
    "colab_type": "text",
    "id": "_eTZh4pjfuA4"
   },
   "source": [
    "## 2. Understanding the data"
   ]
  },
  {
   "cell_type": "code",
   "execution_count": 3,
   "metadata": {
    "colab": {
     "base_uri": "https://localhost:8080/",
     "height": 51
    },
    "colab_type": "code",
    "id": "_F44h0sPfwPV",
    "outputId": "416a5c2e-afeb-4c81-8758-c729d9e43b9a"
   },
   "outputs": [
    {
     "name": "stdout",
     "output_type": "stream",
     "text": [
      "Number of rows and columns in train dataset: (5279, 4)\n",
      "Number of rows and columns in test dataset: (2924, 3)\n"
     ]
    }
   ],
   "source": [
    "# Shape of data\n",
    "print(\"Number of rows and columns in train dataset:\",Train.shape)\n",
    "print(\"Number of rows and columns in test dataset:\",Test.shape)"
   ]
  },
  {
   "cell_type": "code",
   "execution_count": 4,
   "metadata": {
    "colab": {
     "base_uri": "https://localhost:8080/",
     "height": 306
    },
    "colab_type": "code",
    "id": "l77DMHffgD1O",
    "outputId": "e89bc103-dd72-4bb3-b224-49be1ab80670"
   },
   "outputs": [
    {
     "name": "stdout",
     "output_type": "stream",
     "text": [
      "-----------------Variable Structure of training data--------------\n",
      "<class 'pandas.core.frame.DataFrame'>\n",
      "RangeIndex: 5279 entries, 0 to 5278\n",
      "Data columns (total 4 columns):\n",
      "unique_hash    5279 non-null object\n",
      "text           5279 non-null object\n",
      "drug           5279 non-null object\n",
      "sentiment      5279 non-null int64\n",
      "dtypes: int64(1), object(3)\n",
      "memory usage: 165.0+ KB\n",
      "-----------------Variable Structure of test data------------------\n",
      "<class 'pandas.core.frame.DataFrame'>\n",
      "RangeIndex: 2924 entries, 0 to 2923\n",
      "Data columns (total 3 columns):\n",
      "unique_hash    2924 non-null object\n",
      "text           2924 non-null object\n",
      "drug           2924 non-null object\n",
      "dtypes: object(3)\n",
      "memory usage: 68.6+ KB\n"
     ]
    }
   ],
   "source": [
    "# Variable structure\n",
    "print(\"-----------------Variable Structure of training data--------------\")\n",
    "Train.info()\n",
    "print(\"-----------------Variable Structure of test data------------------\")\n",
    "Test.info()"
   ]
  },
  {
   "cell_type": "markdown",
   "metadata": {
    "colab_type": "text",
    "id": "tk6TW3Mngfc4"
   },
   "source": [
    " \n",
    "> No missing value has been observed in this data.\n",
    "\n",
    "Let's reconfirm missing value in another step as well."
   ]
  },
  {
   "cell_type": "code",
   "execution_count": 5,
   "metadata": {
    "colab": {
     "base_uri": "https://localhost:8080/",
     "height": 51
    },
    "colab_type": "code",
    "id": "xXFuAs-miU6e",
    "outputId": "d6fafd6f-ba0a-4ca0-9a81-950a90d0080e"
   },
   "outputs": [
    {
     "name": "stdout",
     "output_type": "stream",
     "text": [
      "Missing value in Train data: 0\n",
      "Missing value in Test data: 0\n"
     ]
    }
   ],
   "source": [
    "print(\"Missing value in Train data:\", Train.isnull().sum().sum())\n",
    "print(\"Missing value in Test data:\", Test.isnull().sum().sum())"
   ]
  },
  {
   "cell_type": "markdown",
   "metadata": {
    "colab_type": "text",
    "id": "9si-H-weilgW"
   },
   "source": [
    "> It got confirmed that this dataset does not contain any missing value.\n",
    "\n",
    "Let's look at top 5 rowsof train dataset:"
   ]
  },
  {
   "cell_type": "code",
   "execution_count": 6,
   "metadata": {
    "colab": {
     "base_uri": "https://localhost:8080/",
     "height": 204
    },
    "colab_type": "code",
    "id": "yPjOX8wYi08s",
    "outputId": "eea0c7de-245b-4e88-e418-75fe5ac092d7"
   },
   "outputs": [
    {
     "data": {
      "text/html": [
       "<div>\n",
       "<style scoped>\n",
       "    .dataframe tbody tr th:only-of-type {\n",
       "        vertical-align: middle;\n",
       "    }\n",
       "\n",
       "    .dataframe tbody tr th {\n",
       "        vertical-align: top;\n",
       "    }\n",
       "\n",
       "    .dataframe thead th {\n",
       "        text-align: right;\n",
       "    }\n",
       "</style>\n",
       "<table border=\"1\" class=\"dataframe\">\n",
       "  <thead>\n",
       "    <tr style=\"text-align: right;\">\n",
       "      <th></th>\n",
       "      <th>unique_hash</th>\n",
       "      <th>text</th>\n",
       "      <th>drug</th>\n",
       "      <th>sentiment</th>\n",
       "    </tr>\n",
       "  </thead>\n",
       "  <tbody>\n",
       "    <tr>\n",
       "      <th>0</th>\n",
       "      <td>2e180be4c9214c1f5ab51fd8cc32bc80c9f612e0</td>\n",
       "      <td>Autoimmune diseases tend to come in clusters. ...</td>\n",
       "      <td>gilenya</td>\n",
       "      <td>2</td>\n",
       "    </tr>\n",
       "    <tr>\n",
       "      <th>1</th>\n",
       "      <td>9eba8f80e7e20f3a2f48685530748fbfa95943e4</td>\n",
       "      <td>I can completely understand why you’d want to ...</td>\n",
       "      <td>gilenya</td>\n",
       "      <td>2</td>\n",
       "    </tr>\n",
       "    <tr>\n",
       "      <th>2</th>\n",
       "      <td>fe809672251f6bd0d986e00380f48d047c7e7b76</td>\n",
       "      <td>Interesting that it only targets S1P-1/5 recep...</td>\n",
       "      <td>fingolimod</td>\n",
       "      <td>2</td>\n",
       "    </tr>\n",
       "    <tr>\n",
       "      <th>3</th>\n",
       "      <td>bd22104dfa9ec80db4099523e03fae7a52735eb6</td>\n",
       "      <td>Very interesting, grand merci. Now I wonder wh...</td>\n",
       "      <td>ocrevus</td>\n",
       "      <td>2</td>\n",
       "    </tr>\n",
       "    <tr>\n",
       "      <th>4</th>\n",
       "      <td>b227688381f9b25e5b65109dd00f7f895e838249</td>\n",
       "      <td>Hi everybody, My latest MRI results for Brain ...</td>\n",
       "      <td>gilenya</td>\n",
       "      <td>1</td>\n",
       "    </tr>\n",
       "  </tbody>\n",
       "</table>\n",
       "</div>"
      ],
      "text/plain": [
       "                                unique_hash  \\\n",
       "0  2e180be4c9214c1f5ab51fd8cc32bc80c9f612e0   \n",
       "1  9eba8f80e7e20f3a2f48685530748fbfa95943e4   \n",
       "2  fe809672251f6bd0d986e00380f48d047c7e7b76   \n",
       "3  bd22104dfa9ec80db4099523e03fae7a52735eb6   \n",
       "4  b227688381f9b25e5b65109dd00f7f895e838249   \n",
       "\n",
       "                                                text        drug  sentiment  \n",
       "0  Autoimmune diseases tend to come in clusters. ...     gilenya          2  \n",
       "1  I can completely understand why you’d want to ...     gilenya          2  \n",
       "2  Interesting that it only targets S1P-1/5 recep...  fingolimod          2  \n",
       "3  Very interesting, grand merci. Now I wonder wh...     ocrevus          2  \n",
       "4  Hi everybody, My latest MRI results for Brain ...     gilenya          1  "
      ]
     },
     "execution_count": 6,
     "metadata": {},
     "output_type": "execute_result"
    }
   ],
   "source": [
    "# Top 5 rows\n",
    "Train.head(5)"
   ]
  },
  {
   "cell_type": "markdown",
   "metadata": {
    "colab_type": "text",
    "id": "xl_hvGJfjBYI"
   },
   "source": [
    "Now, let's look at distribution of label:"
   ]
  },
  {
   "cell_type": "code",
   "execution_count": 8,
   "metadata": {
    "colab": {
     "base_uri": "https://localhost:8080/",
     "height": 102
    },
    "colab_type": "code",
    "id": "Tg8CGCUZgPtG",
    "outputId": "7967de1e-0930-4653-902d-aa8a975c8ef8"
   },
   "outputs": [
    {
     "name": "stdout",
     "output_type": "stream",
     "text": [
      "The unique number of Product Categories:  3\n",
      "Below are the distribution of each categories in Train data:\n"
     ]
    },
    {
     "data": {
      "text/plain": [
       "2    0.724569\n",
       "1    0.158553\n",
       "0    0.116878\n",
       "Name: sentiment, dtype: float64"
      ]
     },
     "execution_count": 8,
     "metadata": {},
     "output_type": "execute_result"
    }
   ],
   "source": [
    "# Checking distribution of Product_Category\n",
    "print(\"The unique number of Product Categories: \",len(Train['sentiment'].unique()))\n",
    "print(\"Below are the distribution of each categories in Train data:\")\n",
    "Train['sentiment'].value_counts(normalize = True)"
   ]
  },
  {
   "cell_type": "code",
   "execution_count": 9,
   "metadata": {
    "colab": {
     "base_uri": "https://localhost:8080/",
     "height": 337
    },
    "colab_type": "code",
    "id": "vk1DlkaqlheA",
    "outputId": "fa1e4f08-8bab-4a68-f68d-534dcbdf65fd"
   },
   "outputs": [
    {
     "data": {
      "image/png": "[encoded data removed]",
      "text/plain": [
       "<Figure size 504x360 with 1 Axes>"
      ]
     },
     "metadata": {
      "needs_background": "light"
     },
     "output_type": "display_data"
    }
   ],
   "source": [
    "plt.figure(figsize=(7,5))\n",
    "sns.countplot(x = 'sentiment', data = Train);"
   ]
  },
  {
   "cell_type": "markdown",
   "metadata": {
    "colab_type": "text",
    "id": "gaY2H8iOm-x1"
   },
   "source": [
    "> It is clearly visible from above analysis that we are dealing with **unbalanced classification** problem."
   ]
  },
  {
   "cell_type": "markdown",
   "metadata": {
    "colab_type": "text",
    "id": "ivFH6hHMnnjU"
   },
   "source": [
    "## 3. Data Preprocessing\n",
    "\n",
    "Let's preprocess our data for building classification model. As we already discussed above that our main variable of interest is **text and drug**. On this variable, we are going to apply various NLP techniques."
   ]
  },
  {
   "cell_type": "code",
   "execution_count": 12,
   "metadata": {},
   "outputs": [
    {
     "data": {
      "text/html": [
       "<div>\n",
       "<style scoped>\n",
       "    .dataframe tbody tr th:only-of-type {\n",
       "        vertical-align: middle;\n",
       "    }\n",
       "\n",
       "    .dataframe tbody tr th {\n",
       "        vertical-align: top;\n",
       "    }\n",
       "\n",
       "    .dataframe thead th {\n",
       "        text-align: right;\n",
       "    }\n",
       "</style>\n",
       "<table border=\"1\" class=\"dataframe\">\n",
       "  <thead>\n",
       "    <tr style=\"text-align: right;\">\n",
       "      <th></th>\n",
       "      <th>unique_hash</th>\n",
       "      <th>text</th>\n",
       "      <th>drug</th>\n",
       "      <th>sentiment</th>\n",
       "      <th>text_new</th>\n",
       "    </tr>\n",
       "  </thead>\n",
       "  <tbody>\n",
       "    <tr>\n",
       "      <th>0</th>\n",
       "      <td>2e180be4c9214c1f5ab51fd8cc32bc80c9f612e0</td>\n",
       "      <td>Autoimmune diseases tend to come in clusters. ...</td>\n",
       "      <td>gilenya</td>\n",
       "      <td>2</td>\n",
       "      <td>gilenya Autoimmune diseases tend to come in cl...</td>\n",
       "    </tr>\n",
       "    <tr>\n",
       "      <th>1</th>\n",
       "      <td>9eba8f80e7e20f3a2f48685530748fbfa95943e4</td>\n",
       "      <td>I can completely understand why you’d want to ...</td>\n",
       "      <td>gilenya</td>\n",
       "      <td>2</td>\n",
       "      <td>gilenya I can completely understand why you’d ...</td>\n",
       "    </tr>\n",
       "    <tr>\n",
       "      <th>2</th>\n",
       "      <td>fe809672251f6bd0d986e00380f48d047c7e7b76</td>\n",
       "      <td>Interesting that it only targets S1P-1/5 recep...</td>\n",
       "      <td>fingolimod</td>\n",
       "      <td>2</td>\n",
       "      <td>fingolimod Interesting that it only targets S1...</td>\n",
       "    </tr>\n",
       "    <tr>\n",
       "      <th>3</th>\n",
       "      <td>bd22104dfa9ec80db4099523e03fae7a52735eb6</td>\n",
       "      <td>Very interesting, grand merci. Now I wonder wh...</td>\n",
       "      <td>ocrevus</td>\n",
       "      <td>2</td>\n",
       "      <td>ocrevus Very interesting, grand merci. Now I w...</td>\n",
       "    </tr>\n",
       "    <tr>\n",
       "      <th>4</th>\n",
       "      <td>b227688381f9b25e5b65109dd00f7f895e838249</td>\n",
       "      <td>Hi everybody, My latest MRI results for Brain ...</td>\n",
       "      <td>gilenya</td>\n",
       "      <td>1</td>\n",
       "      <td>gilenya Hi everybody, My latest MRI results fo...</td>\n",
       "    </tr>\n",
       "  </tbody>\n",
       "</table>\n",
       "</div>"
      ],
      "text/plain": [
       "                                unique_hash  \\\n",
       "0  2e180be4c9214c1f5ab51fd8cc32bc80c9f612e0   \n",
       "1  9eba8f80e7e20f3a2f48685530748fbfa95943e4   \n",
       "2  fe809672251f6bd0d986e00380f48d047c7e7b76   \n",
       "3  bd22104dfa9ec80db4099523e03fae7a52735eb6   \n",
       "4  b227688381f9b25e5b65109dd00f7f895e838249   \n",
       "\n",
       "                                                text        drug  sentiment  \\\n",
       "0  Autoimmune diseases tend to come in clusters. ...     gilenya          2   \n",
       "1  I can completely understand why you’d want to ...     gilenya          2   \n",
       "2  Interesting that it only targets S1P-1/5 recep...  fingolimod          2   \n",
       "3  Very interesting, grand merci. Now I wonder wh...     ocrevus          2   \n",
       "4  Hi everybody, My latest MRI results for Brain ...     gilenya          1   \n",
       "\n",
       "                                            text_new  \n",
       "0  gilenya Autoimmune diseases tend to come in cl...  \n",
       "1  gilenya I can completely understand why you’d ...  \n",
       "2  fingolimod Interesting that it only targets S1...  \n",
       "3  ocrevus Very interesting, grand merci. Now I w...  \n",
       "4  gilenya Hi everybody, My latest MRI results fo...  "
      ]
     },
     "execution_count": 12,
     "metadata": {},
     "output_type": "execute_result"
    }
   ],
   "source": [
    "Train['text_new'] = Train['drug'] + ' ' + Train['text']\n",
    "Train.head(5)"
   ]
  },
  {
   "cell_type": "markdown",
   "metadata": {
    "colab_type": "text",
    "id": "OLjBTggzlmf0"
   },
   "source": [
    "### 3.1 Making lowercase\n",
    "\n",
    "At first, we will convert all words in **tweet** as lowercase. This is generally a good idea as many text classification tools rely on counting the occurrences of words. If both upper and lower case versions of the same word are found in the text then the algorithm will count them as different words even though the meaning is the same. "
   ]
  },
  {
   "cell_type": "code",
   "execution_count": 13,
   "metadata": {
    "colab": {
     "base_uri": "https://localhost:8080/",
     "height": 204
    },
    "colab_type": "code",
    "id": "LtNDS31Jln0q",
    "outputId": "1de82e3c-5799-4b5a-89e6-41a7407d83a0"
   },
   "outputs": [
    {
     "data": {
      "text/html": [
       "<div>\n",
       "<style scoped>\n",
       "    .dataframe tbody tr th:only-of-type {\n",
       "        vertical-align: middle;\n",
       "    }\n",
       "\n",
       "    .dataframe tbody tr th {\n",
       "        vertical-align: top;\n",
       "    }\n",
       "\n",
       "    .dataframe thead th {\n",
       "        text-align: right;\n",
       "    }\n",
       "</style>\n",
       "<table border=\"1\" class=\"dataframe\">\n",
       "  <thead>\n",
       "    <tr style=\"text-align: right;\">\n",
       "      <th></th>\n",
       "      <th>unique_hash</th>\n",
       "      <th>text</th>\n",
       "      <th>drug</th>\n",
       "      <th>sentiment</th>\n",
       "      <th>text_new</th>\n",
       "    </tr>\n",
       "  </thead>\n",
       "  <tbody>\n",
       "    <tr>\n",
       "      <th>0</th>\n",
       "      <td>2e180be4c9214c1f5ab51fd8cc32bc80c9f612e0</td>\n",
       "      <td>Autoimmune diseases tend to come in clusters. ...</td>\n",
       "      <td>gilenya</td>\n",
       "      <td>2</td>\n",
       "      <td>gilenya autoimmune diseases tend to come in cl...</td>\n",
       "    </tr>\n",
       "    <tr>\n",
       "      <th>1</th>\n",
       "      <td>9eba8f80e7e20f3a2f48685530748fbfa95943e4</td>\n",
       "      <td>I can completely understand why you’d want to ...</td>\n",
       "      <td>gilenya</td>\n",
       "      <td>2</td>\n",
       "      <td>gilenya i can completely understand why you’d ...</td>\n",
       "    </tr>\n",
       "    <tr>\n",
       "      <th>2</th>\n",
       "      <td>fe809672251f6bd0d986e00380f48d047c7e7b76</td>\n",
       "      <td>Interesting that it only targets S1P-1/5 recep...</td>\n",
       "      <td>fingolimod</td>\n",
       "      <td>2</td>\n",
       "      <td>fingolimod interesting that it only targets s1...</td>\n",
       "    </tr>\n",
       "    <tr>\n",
       "      <th>3</th>\n",
       "      <td>bd22104dfa9ec80db4099523e03fae7a52735eb6</td>\n",
       "      <td>Very interesting, grand merci. Now I wonder wh...</td>\n",
       "      <td>ocrevus</td>\n",
       "      <td>2</td>\n",
       "      <td>ocrevus very interesting, grand merci. now i w...</td>\n",
       "    </tr>\n",
       "    <tr>\n",
       "      <th>4</th>\n",
       "      <td>b227688381f9b25e5b65109dd00f7f895e838249</td>\n",
       "      <td>Hi everybody, My latest MRI results for Brain ...</td>\n",
       "      <td>gilenya</td>\n",
       "      <td>1</td>\n",
       "      <td>gilenya hi everybody, my latest mri results fo...</td>\n",
       "    </tr>\n",
       "  </tbody>\n",
       "</table>\n",
       "</div>"
      ],
      "text/plain": [
       "                                unique_hash  \\\n",
       "0  2e180be4c9214c1f5ab51fd8cc32bc80c9f612e0   \n",
       "1  9eba8f80e7e20f3a2f48685530748fbfa95943e4   \n",
       "2  fe809672251f6bd0d986e00380f48d047c7e7b76   \n",
       "3  bd22104dfa9ec80db4099523e03fae7a52735eb6   \n",
       "4  b227688381f9b25e5b65109dd00f7f895e838249   \n",
       "\n",
       "                                                text        drug  sentiment  \\\n",
       "0  Autoimmune diseases tend to come in clusters. ...     gilenya          2   \n",
       "1  I can completely understand why you’d want to ...     gilenya          2   \n",
       "2  Interesting that it only targets S1P-1/5 recep...  fingolimod          2   \n",
       "3  Very interesting, grand merci. Now I wonder wh...     ocrevus          2   \n",
       "4  Hi everybody, My latest MRI results for Brain ...     gilenya          1   \n",
       "\n",
       "                                            text_new  \n",
       "0  gilenya autoimmune diseases tend to come in cl...  \n",
       "1  gilenya i can completely understand why you’d ...  \n",
       "2  fingolimod interesting that it only targets s1...  \n",
       "3  ocrevus very interesting, grand merci. now i w...  \n",
       "4  gilenya hi everybody, my latest mri results fo...  "
      ]
     },
     "execution_count": 13,
     "metadata": {},
     "output_type": "execute_result"
    }
   ],
   "source": [
    "# Making lowercase\n",
    "Train['text_new'] = Train['text_new'].str.lower()\n",
    "Train.head(5)"
   ]
  },
  {
   "cell_type": "markdown",
   "metadata": {
    "colab_type": "text",
    "id": "4llNxA54oRH1"
   },
   "source": [
    "### 3.2 Removing Punctuations, Numbers, and Special Characters\n",
    "\n",
    "Since punctuations, numbers and special characters do not help much, It is better to remove them from the tweet. Here we will replace everything except characters and hashtags with spaces."
   ]
  },
  {
   "cell_type": "code",
   "execution_count": 14,
   "metadata": {
    "colab": {
     "base_uri": "https://localhost:8080/",
     "height": 204
    },
    "colab_type": "code",
    "id": "Y1fAXb1no9vJ",
    "outputId": "96cda233-075e-4c15-b145-cb9d9b6342ae"
   },
   "outputs": [
    {
     "data": {
      "text/html": [
       "<div>\n",
       "<style scoped>\n",
       "    .dataframe tbody tr th:only-of-type {\n",
       "        vertical-align: middle;\n",
       "    }\n",
       "\n",
       "    .dataframe tbody tr th {\n",
       "        vertical-align: top;\n",
       "    }\n",
       "\n",
       "    .dataframe thead th {\n",
       "        text-align: right;\n",
       "    }\n",
       "</style>\n",
       "<table border=\"1\" class=\"dataframe\">\n",
       "  <thead>\n",
       "    <tr style=\"text-align: right;\">\n",
       "      <th></th>\n",
       "      <th>unique_hash</th>\n",
       "      <th>text</th>\n",
       "      <th>drug</th>\n",
       "      <th>sentiment</th>\n",
       "      <th>text_new</th>\n",
       "    </tr>\n",
       "  </thead>\n",
       "  <tbody>\n",
       "    <tr>\n",
       "      <th>0</th>\n",
       "      <td>2e180be4c9214c1f5ab51fd8cc32bc80c9f612e0</td>\n",
       "      <td>Autoimmune diseases tend to come in clusters. ...</td>\n",
       "      <td>gilenya</td>\n",
       "      <td>2</td>\n",
       "      <td>gilenya autoimmune diseases tend to come in cl...</td>\n",
       "    </tr>\n",
       "    <tr>\n",
       "      <th>1</th>\n",
       "      <td>9eba8f80e7e20f3a2f48685530748fbfa95943e4</td>\n",
       "      <td>I can completely understand why you’d want to ...</td>\n",
       "      <td>gilenya</td>\n",
       "      <td>2</td>\n",
       "      <td>gilenya i can completely understand why you d ...</td>\n",
       "    </tr>\n",
       "    <tr>\n",
       "      <th>2</th>\n",
       "      <td>fe809672251f6bd0d986e00380f48d047c7e7b76</td>\n",
       "      <td>Interesting that it only targets S1P-1/5 recep...</td>\n",
       "      <td>fingolimod</td>\n",
       "      <td>2</td>\n",
       "      <td>fingolimod interesting that it only targets s ...</td>\n",
       "    </tr>\n",
       "    <tr>\n",
       "      <th>3</th>\n",
       "      <td>bd22104dfa9ec80db4099523e03fae7a52735eb6</td>\n",
       "      <td>Very interesting, grand merci. Now I wonder wh...</td>\n",
       "      <td>ocrevus</td>\n",
       "      <td>2</td>\n",
       "      <td>ocrevus very interesting  grand merci  now i w...</td>\n",
       "    </tr>\n",
       "    <tr>\n",
       "      <th>4</th>\n",
       "      <td>b227688381f9b25e5b65109dd00f7f895e838249</td>\n",
       "      <td>Hi everybody, My latest MRI results for Brain ...</td>\n",
       "      <td>gilenya</td>\n",
       "      <td>1</td>\n",
       "      <td>gilenya hi everybody  my latest mri results fo...</td>\n",
       "    </tr>\n",
       "  </tbody>\n",
       "</table>\n",
       "</div>"
      ],
      "text/plain": [
       "                                unique_hash  \\\n",
       "0  2e180be4c9214c1f5ab51fd8cc32bc80c9f612e0   \n",
       "1  9eba8f80e7e20f3a2f48685530748fbfa95943e4   \n",
       "2  fe809672251f6bd0d986e00380f48d047c7e7b76   \n",
       "3  bd22104dfa9ec80db4099523e03fae7a52735eb6   \n",
       "4  b227688381f9b25e5b65109dd00f7f895e838249   \n",
       "\n",
       "                                                text        drug  sentiment  \\\n",
       "0  Autoimmune diseases tend to come in clusters. ...     gilenya          2   \n",
       "1  I can completely understand why you’d want to ...     gilenya          2   \n",
       "2  Interesting that it only targets S1P-1/5 recep...  fingolimod          2   \n",
       "3  Very interesting, grand merci. Now I wonder wh...     ocrevus          2   \n",
       "4  Hi everybody, My latest MRI results for Brain ...     gilenya          1   \n",
       "\n",
       "                                            text_new  \n",
       "0  gilenya autoimmune diseases tend to come in cl...  \n",
       "1  gilenya i can completely understand why you d ...  \n",
       "2  fingolimod interesting that it only targets s ...  \n",
       "3  ocrevus very interesting  grand merci  now i w...  \n",
       "4  gilenya hi everybody  my latest mri results fo...  "
      ]
     },
     "execution_count": 14,
     "metadata": {},
     "output_type": "execute_result"
    }
   ],
   "source": [
    "# remove special characters, numbers, punctuations\n",
    "Train['text_new'] = Train['text_new'].str.replace(\"[^a-zA-Z]\", \" \")\n",
    "Train.head(5)"
   ]
  },
  {
   "cell_type": "markdown",
   "metadata": {
    "colab_type": "text",
    "id": "-ajPk8pPs2to"
   },
   "source": [
    "### 3.3 Removing Stop Words\n",
    "\n",
    "'Stop words'are commonly used words that are unlikely to have any benefit in natural language processing. These includes words such as ‘a’, ‘the’, ‘is’.\n",
    "\n",
    "In this step, we are removing all such words."
   ]
  },
  {
   "cell_type": "code",
   "execution_count": 15,
   "metadata": {
    "colab": {
     "base_uri": "https://localhost:8080/",
     "height": 238
    },
    "colab_type": "code",
    "id": "m4rDpSWFtCsw",
    "outputId": "4c2c4ecf-dedc-43d4-b122-5de559be58d9"
   },
   "outputs": [
    {
     "name": "stderr",
     "output_type": "stream",
     "text": [
      "[nltk_data] Downloading package stopwords to\n",
      "[nltk_data]     C:\\Users\\LENOVO\\AppData\\Roaming\\nltk_data...\n",
      "[nltk_data]   Unzipping corpora\\stopwords.zip.\n"
     ]
    },
    {
     "data": {
      "text/html": [
       "<div>\n",
       "<style scoped>\n",
       "    .dataframe tbody tr th:only-of-type {\n",
       "        vertical-align: middle;\n",
       "    }\n",
       "\n",
       "    .dataframe tbody tr th {\n",
       "        vertical-align: top;\n",
       "    }\n",
       "\n",
       "    .dataframe thead th {\n",
       "        text-align: right;\n",
       "    }\n",
       "</style>\n",
       "<table border=\"1\" class=\"dataframe\">\n",
       "  <thead>\n",
       "    <tr style=\"text-align: right;\">\n",
       "      <th></th>\n",
       "      <th>unique_hash</th>\n",
       "      <th>text</th>\n",
       "      <th>drug</th>\n",
       "      <th>sentiment</th>\n",
       "      <th>text_new</th>\n",
       "    </tr>\n",
       "  </thead>\n",
       "  <tbody>\n",
       "    <tr>\n",
       "      <th>0</th>\n",
       "      <td>2e180be4c9214c1f5ab51fd8cc32bc80c9f612e0</td>\n",
       "      <td>Autoimmune diseases tend to come in clusters. ...</td>\n",
       "      <td>gilenya</td>\n",
       "      <td>2</td>\n",
       "      <td>gilenya autoimmune diseases tend come clusters...</td>\n",
       "    </tr>\n",
       "    <tr>\n",
       "      <th>1</th>\n",
       "      <td>9eba8f80e7e20f3a2f48685530748fbfa95943e4</td>\n",
       "      <td>I can completely understand why you’d want to ...</td>\n",
       "      <td>gilenya</td>\n",
       "      <td>2</td>\n",
       "      <td>gilenya completely understand want try results...</td>\n",
       "    </tr>\n",
       "    <tr>\n",
       "      <th>2</th>\n",
       "      <td>fe809672251f6bd0d986e00380f48d047c7e7b76</td>\n",
       "      <td>Interesting that it only targets S1P-1/5 recep...</td>\n",
       "      <td>fingolimod</td>\n",
       "      <td>2</td>\n",
       "      <td>fingolimod interesting targets p receptors rat...</td>\n",
       "    </tr>\n",
       "    <tr>\n",
       "      <th>3</th>\n",
       "      <td>bd22104dfa9ec80db4099523e03fae7a52735eb6</td>\n",
       "      <td>Very interesting, grand merci. Now I wonder wh...</td>\n",
       "      <td>ocrevus</td>\n",
       "      <td>2</td>\n",
       "      <td>ocrevus interesting grand merci wonder lemtrad...</td>\n",
       "    </tr>\n",
       "    <tr>\n",
       "      <th>4</th>\n",
       "      <td>b227688381f9b25e5b65109dd00f7f895e838249</td>\n",
       "      <td>Hi everybody, My latest MRI results for Brain ...</td>\n",
       "      <td>gilenya</td>\n",
       "      <td>1</td>\n",
       "      <td>gilenya hi everybody latest mri results brain ...</td>\n",
       "    </tr>\n",
       "  </tbody>\n",
       "</table>\n",
       "</div>"
      ],
      "text/plain": [
       "                                unique_hash  \\\n",
       "0  2e180be4c9214c1f5ab51fd8cc32bc80c9f612e0   \n",
       "1  9eba8f80e7e20f3a2f48685530748fbfa95943e4   \n",
       "2  fe809672251f6bd0d986e00380f48d047c7e7b76   \n",
       "3  bd22104dfa9ec80db4099523e03fae7a52735eb6   \n",
       "4  b227688381f9b25e5b65109dd00f7f895e838249   \n",
       "\n",
       "                                                text        drug  sentiment  \\\n",
       "0  Autoimmune diseases tend to come in clusters. ...     gilenya          2   \n",
       "1  I can completely understand why you’d want to ...     gilenya          2   \n",
       "2  Interesting that it only targets S1P-1/5 recep...  fingolimod          2   \n",
       "3  Very interesting, grand merci. Now I wonder wh...     ocrevus          2   \n",
       "4  Hi everybody, My latest MRI results for Brain ...     gilenya          1   \n",
       "\n",
       "                                            text_new  \n",
       "0  gilenya autoimmune diseases tend come clusters...  \n",
       "1  gilenya completely understand want try results...  \n",
       "2  fingolimod interesting targets p receptors rat...  \n",
       "3  ocrevus interesting grand merci wonder lemtrad...  \n",
       "4  gilenya hi everybody latest mri results brain ...  "
      ]
     },
     "execution_count": 15,
     "metadata": {},
     "output_type": "execute_result"
    }
   ],
   "source": [
    "# removing stop words\n",
    "import nltk\n",
    "nltk.download('stopwords')\n",
    "from nltk.corpus import stopwords\n",
    "\n",
    "stop = set(stopwords.words(\"english\"))                  \n",
    "\n",
    "Train['text_new'] = Train['text_new'].apply(lambda x: ' '.join(x for x in x.split() if x not in stop))\n",
    "Train.head(5)"
   ]
  },
  {
   "cell_type": "markdown",
   "metadata": {
    "colab_type": "text",
    "id": "KFAi8f3olJvA"
   },
   "source": [
    "### 3.4 Tokenization\n",
    "\n",
    "Tokenization refers to dividing the text into a sequence of words or sentences.\n",
    "\n"
   ]
  },
  {
   "cell_type": "code",
   "execution_count": 16,
   "metadata": {
    "colab": {
     "base_uri": "https://localhost:8080/",
     "height": 119
    },
    "colab_type": "code",
    "id": "WQjHSFZKcnRF",
    "outputId": "be8cdecc-667a-4d7e-8092-6e5a87df51e5"
   },
   "outputs": [
    {
     "data": {
      "text/plain": [
       "0    [gilenya, autoimmune, diseases, tend, come, cl...\n",
       "1    [gilenya, completely, understand, want, try, r...\n",
       "2    [fingolimod, interesting, targets, p, receptor...\n",
       "3    [ocrevus, interesting, grand, merci, wonder, l...\n",
       "4    [gilenya, hi, everybody, latest, mri, results,...\n",
       "Name: text_new, dtype: object"
      ]
     },
     "execution_count": 16,
     "metadata": {},
     "output_type": "execute_result"
    }
   ],
   "source": [
    "# Tokenize the words for it to use\n",
    "tokenized_tweet = Train['text_new'].apply(lambda x: x.split())\n",
    "tokenized_tweet[0:5,]"
   ]
  },
  {
   "cell_type": "markdown",
   "metadata": {
    "colab_type": "text",
    "id": "O4W2zKsAuRBX"
   },
   "source": [
    "### 3.5 Lemmatization\n",
    "\n",
    "\n",
    "Lemmatization is a more effective option than stemming because it converts the word into its root word, rather than just stripping the suffices. It makes use of the vocabulary and does a morphological analysis to obtain the root word. Therefore, we usually prefer using lemmatization over stemming."
   ]
  },
  {
   "cell_type": "code",
   "execution_count": 17,
   "metadata": {
    "colab": {
     "base_uri": "https://localhost:8080/",
     "height": 153
    },
    "colab_type": "code",
    "id": "pw584Rm1ctYO",
    "outputId": "183001b1-cb34-49e8-998a-964f51bdbb49"
   },
   "outputs": [
    {
     "name": "stderr",
     "output_type": "stream",
     "text": [
      "[nltk_data] Downloading package wordnet to\n",
      "[nltk_data]     C:\\Users\\LENOVO\\AppData\\Roaming\\nltk_data...\n",
      "[nltk_data]   Unzipping corpora\\wordnet.zip.\n"
     ]
    },
    {
     "data": {
      "text/plain": [
       "0    [gilenya, autoimmune, disease, tend, come, clu...\n",
       "1    [gilenya, completely, understand, want, try, r...\n",
       "2    [fingolimod, interesting, target, p, receptor,...\n",
       "3    [ocrevus, interesting, grand, merci, wonder, l...\n",
       "4    [gilenya, hi, everybody, latest, mri, result, ...\n",
       "Name: text_new, dtype: object"
      ]
     },
     "execution_count": 17,
     "metadata": {},
     "output_type": "execute_result"
    }
   ],
   "source": [
    "# Lemmatization\n",
    "nltk.download('wordnet')\n",
    "from nltk.stem.wordnet import WordNetLemmatizer\n",
    "lemmatizer = WordNetLemmatizer()\n",
    "tokenized_tweet = tokenized_tweet.apply(lambda x: [lemmatizer.lemmatize(i) for i in x])\n",
    "tokenized_tweet[0:5,]"
   ]
  },
  {
   "cell_type": "code",
   "execution_count": 18,
   "metadata": {
    "colab": {
     "base_uri": "https://localhost:8080/",
     "height": 204
    },
    "colab_type": "code",
    "id": "sgpjO6Wzettr",
    "outputId": "e9d18544-1977-49b5-c2e0-467448e1400c"
   },
   "outputs": [
    {
     "data": {
      "text/html": [
       "<div>\n",
       "<style scoped>\n",
       "    .dataframe tbody tr th:only-of-type {\n",
       "        vertical-align: middle;\n",
       "    }\n",
       "\n",
       "    .dataframe tbody tr th {\n",
       "        vertical-align: top;\n",
       "    }\n",
       "\n",
       "    .dataframe thead th {\n",
       "        text-align: right;\n",
       "    }\n",
       "</style>\n",
       "<table border=\"1\" class=\"dataframe\">\n",
       "  <thead>\n",
       "    <tr style=\"text-align: right;\">\n",
       "      <th></th>\n",
       "      <th>unique_hash</th>\n",
       "      <th>text</th>\n",
       "      <th>drug</th>\n",
       "      <th>sentiment</th>\n",
       "      <th>text_new</th>\n",
       "    </tr>\n",
       "  </thead>\n",
       "  <tbody>\n",
       "    <tr>\n",
       "      <th>0</th>\n",
       "      <td>2e180be4c9214c1f5ab51fd8cc32bc80c9f612e0</td>\n",
       "      <td>Autoimmune diseases tend to come in clusters. ...</td>\n",
       "      <td>gilenya</td>\n",
       "      <td>2</td>\n",
       "      <td>gilenya autoimmune disease tend come cluster g...</td>\n",
       "    </tr>\n",
       "    <tr>\n",
       "      <th>1</th>\n",
       "      <td>9eba8f80e7e20f3a2f48685530748fbfa95943e4</td>\n",
       "      <td>I can completely understand why you’d want to ...</td>\n",
       "      <td>gilenya</td>\n",
       "      <td>2</td>\n",
       "      <td>gilenya completely understand want try result ...</td>\n",
       "    </tr>\n",
       "    <tr>\n",
       "      <th>2</th>\n",
       "      <td>fe809672251f6bd0d986e00380f48d047c7e7b76</td>\n",
       "      <td>Interesting that it only targets S1P-1/5 recep...</td>\n",
       "      <td>fingolimod</td>\n",
       "      <td>2</td>\n",
       "      <td>fingolimod interesting target p receptor rathe...</td>\n",
       "    </tr>\n",
       "    <tr>\n",
       "      <th>3</th>\n",
       "      <td>bd22104dfa9ec80db4099523e03fae7a52735eb6</td>\n",
       "      <td>Very interesting, grand merci. Now I wonder wh...</td>\n",
       "      <td>ocrevus</td>\n",
       "      <td>2</td>\n",
       "      <td>ocrevus interesting grand merci wonder lemtrad...</td>\n",
       "    </tr>\n",
       "    <tr>\n",
       "      <th>4</th>\n",
       "      <td>b227688381f9b25e5b65109dd00f7f895e838249</td>\n",
       "      <td>Hi everybody, My latest MRI results for Brain ...</td>\n",
       "      <td>gilenya</td>\n",
       "      <td>1</td>\n",
       "      <td>gilenya hi everybody latest mri result brain c...</td>\n",
       "    </tr>\n",
       "  </tbody>\n",
       "</table>\n",
       "</div>"
      ],
      "text/plain": [
       "                                unique_hash  \\\n",
       "0  2e180be4c9214c1f5ab51fd8cc32bc80c9f612e0   \n",
       "1  9eba8f80e7e20f3a2f48685530748fbfa95943e4   \n",
       "2  fe809672251f6bd0d986e00380f48d047c7e7b76   \n",
       "3  bd22104dfa9ec80db4099523e03fae7a52735eb6   \n",
       "4  b227688381f9b25e5b65109dd00f7f895e838249   \n",
       "\n",
       "                                                text        drug  sentiment  \\\n",
       "0  Autoimmune diseases tend to come in clusters. ...     gilenya          2   \n",
       "1  I can completely understand why you’d want to ...     gilenya          2   \n",
       "2  Interesting that it only targets S1P-1/5 recep...  fingolimod          2   \n",
       "3  Very interesting, grand merci. Now I wonder wh...     ocrevus          2   \n",
       "4  Hi everybody, My latest MRI results for Brain ...     gilenya          1   \n",
       "\n",
       "                                            text_new  \n",
       "0  gilenya autoimmune disease tend come cluster g...  \n",
       "1  gilenya completely understand want try result ...  \n",
       "2  fingolimod interesting target p receptor rathe...  \n",
       "3  ocrevus interesting grand merci wonder lemtrad...  \n",
       "4  gilenya hi everybody latest mri result brain c...  "
      ]
     },
     "execution_count": 18,
     "metadata": {},
     "output_type": "execute_result"
    }
   ],
   "source": [
    "for i in range(len(tokenized_tweet)):\n",
    "  tokenized_tweet[i] = ' '.join(tokenized_tweet[i])\n",
    "  \n",
    "Train['text_new'] = tokenized_tweet\n",
    "Train.head(5)"
   ]
  },
  {
   "cell_type": "markdown",
   "metadata": {
    "colab_type": "text",
    "id": "7Sugl5j_oqXf"
   },
   "source": [
    "### 3.6 Wordcloud"
   ]
  },
  {
   "cell_type": "code",
   "execution_count": 20,
   "metadata": {},
   "outputs": [
    {
     "name": "stdout",
     "output_type": "stream",
     "text": [
      "Collecting wordcloud\n",
      "  Downloading https://files.pythonhosted.org/packages/23/4e/1254d26ce5d36facdcbb5820e7e434328aed68e99938c75c9d4e2fee5efb/wordcloud-1.5.0-cp37-cp37m-win_amd64.whl (153kB)\n",
      "Requirement already satisfied: pillow in c:\\programdata\\anaconda3\\lib\\site-packages (from wordcloud) (5.3.0)\n",
      "Requirement already satisfied: numpy>=1.6.1 in c:\\programdata\\anaconda3\\lib\\site-packages (from wordcloud) (1.15.4)\n",
      "Installing collected packages: wordcloud\n",
      "Successfully installed wordcloud-1.5.0\n"
     ]
    }
   ],
   "source": [
    "!pip install wordcloud"
   ]
  },
  {
   "cell_type": "code",
   "execution_count": 21,
   "metadata": {
    "colab": {
     "base_uri": "https://localhost:8080/",
     "height": 400
    },
    "colab_type": "code",
    "id": "JSei-2f9oifa",
    "outputId": "551453ee-4076-44a1-d3d0-c414416cb2d6"
   },
   "outputs": [
    {
     "data": {
      "image/png": "[encoded data removed]",
      "text/plain": [
       "<Figure size 720x504 with 1 Axes>"
      ]
     },
     "metadata": {
      "needs_background": "light"
     },
     "output_type": "display_data"
    }
   ],
   "source": [
    "## 3.6 Wordcloud\n",
    "from wordcloud import WordCloud, STOPWORDS\n",
    "stopwords = set(STOPWORDS)\n",
    "\n",
    "all_words = ' '.join([text for text in Train['text_new']])\n",
    "wordcloud = WordCloud(width = 800, height = 500, random_state = 123, min_font_size = 10, max_font_size = 110,\n",
    "                stopwords = stopwords).generate(all_words)\n",
    "plt.figure(figsize = (10,7))\n",
    "plt.imshow(wordcloud, interpolation= 'bilinear')\n",
    "plt.show();"
   ]
  },
  {
   "cell_type": "markdown",
   "metadata": {
    "colab_type": "text",
    "id": "mY_-BcDanRrJ"
   },
   "source": [
    "### 3.7 Collecting all preprocessing steps in one function\n",
    "\n",
    "Let's create a function for all above steps so that it can be reusable with minimum time of coding."
   ]
  },
  {
   "cell_type": "code",
   "execution_count": 22,
   "metadata": {
    "colab": {},
    "colab_type": "code",
    "id": "M_P9boa0nmRy"
   },
   "outputs": [],
   "source": [
    "# Creating function for preprocessing\n",
    "def clean_and_tokenize_tweets(data):\n",
    "    data['text_new'] = data['drug'] + ' ' + data['text']\n",
    "    # Making lowercase\n",
    "    data['text_new'] = data['text_new'].str.lower()\n",
    "  \n",
    "    # remove special characters, numbers, punctuations\n",
    "    data['text_new'] = data['text_new'].str.replace(\"[^a-zA-Z]\", \" \")\n",
    "  \n",
    "    # removing stop words\n",
    "    import nltk\n",
    "    nltk.download('stopwords')\n",
    "    from nltk.corpus import stopwords\n",
    "    stop = set(stopwords.words(\"english\"))                  \n",
    "    data['text_new'] = data['text_new'].apply(lambda x: ' '.join([word for word in x.split() if word not in (stop)]))\n",
    "  \n",
    "    # Tokenize the words for it to use\n",
    "    tokenized_tweet = data['text_new'].apply(lambda x: x.split())\n",
    "  \n",
    "    # Lemmatization\n",
    "    nltk.download('wordnet')\n",
    "    from nltk.stem.wordnet import WordNetLemmatizer\n",
    "    lemmatizer = WordNetLemmatizer()\n",
    "    tokenized_tweet = tokenized_tweet.apply(lambda x: [lemmatizer.lemmatize(i) for i in x])\n",
    "  \n",
    "    # Stiching back together\n",
    "    for i in range(len(tokenized_tweet)):\n",
    "        tokenized_tweet[i] = ' '.join(tokenized_tweet[i])\n",
    "    \n",
    "    data['text_new'] = tokenized_tweet\n",
    "    return data\n"
   ]
  },
  {
   "cell_type": "code",
   "execution_count": 23,
   "metadata": {
    "colab": {
     "base_uri": "https://localhost:8080/",
     "height": 272
    },
    "colab_type": "code",
    "id": "97MjROM_pWBt",
    "outputId": "ea8cfe11-869e-4de1-9394-a5f9b837c1ed"
   },
   "outputs": [
    {
     "name": "stderr",
     "output_type": "stream",
     "text": [
      "[nltk_data] Downloading package stopwords to\n",
      "[nltk_data]     C:\\Users\\LENOVO\\AppData\\Roaming\\nltk_data...\n",
      "[nltk_data]   Package stopwords is already up-to-date!\n",
      "[nltk_data] Downloading package wordnet to\n",
      "[nltk_data]     C:\\Users\\LENOVO\\AppData\\Roaming\\nltk_data...\n",
      "[nltk_data]   Package wordnet is already up-to-date!\n"
     ]
    },
    {
     "data": {
      "text/html": [
       "<div>\n",
       "<style scoped>\n",
       "    .dataframe tbody tr th:only-of-type {\n",
       "        vertical-align: middle;\n",
       "    }\n",
       "\n",
       "    .dataframe tbody tr th {\n",
       "        vertical-align: top;\n",
       "    }\n",
       "\n",
       "    .dataframe thead th {\n",
       "        text-align: right;\n",
       "    }\n",
       "</style>\n",
       "<table border=\"1\" class=\"dataframe\">\n",
       "  <thead>\n",
       "    <tr style=\"text-align: right;\">\n",
       "      <th></th>\n",
       "      <th>unique_hash</th>\n",
       "      <th>text</th>\n",
       "      <th>drug</th>\n",
       "      <th>sentiment</th>\n",
       "      <th>text_new</th>\n",
       "    </tr>\n",
       "  </thead>\n",
       "  <tbody>\n",
       "    <tr>\n",
       "      <th>0</th>\n",
       "      <td>2e180be4c9214c1f5ab51fd8cc32bc80c9f612e0</td>\n",
       "      <td>Autoimmune diseases tend to come in clusters. ...</td>\n",
       "      <td>gilenya</td>\n",
       "      <td>2</td>\n",
       "      <td>gilenya autoimmune disease tend come cluster g...</td>\n",
       "    </tr>\n",
       "    <tr>\n",
       "      <th>1</th>\n",
       "      <td>9eba8f80e7e20f3a2f48685530748fbfa95943e4</td>\n",
       "      <td>I can completely understand why you’d want to ...</td>\n",
       "      <td>gilenya</td>\n",
       "      <td>2</td>\n",
       "      <td>gilenya completely understand want try result ...</td>\n",
       "    </tr>\n",
       "    <tr>\n",
       "      <th>2</th>\n",
       "      <td>fe809672251f6bd0d986e00380f48d047c7e7b76</td>\n",
       "      <td>Interesting that it only targets S1P-1/5 recep...</td>\n",
       "      <td>fingolimod</td>\n",
       "      <td>2</td>\n",
       "      <td>fingolimod interesting target p receptor rathe...</td>\n",
       "    </tr>\n",
       "    <tr>\n",
       "      <th>3</th>\n",
       "      <td>bd22104dfa9ec80db4099523e03fae7a52735eb6</td>\n",
       "      <td>Very interesting, grand merci. Now I wonder wh...</td>\n",
       "      <td>ocrevus</td>\n",
       "      <td>2</td>\n",
       "      <td>ocrevus interesting grand merci wonder lemtrad...</td>\n",
       "    </tr>\n",
       "    <tr>\n",
       "      <th>4</th>\n",
       "      <td>b227688381f9b25e5b65109dd00f7f895e838249</td>\n",
       "      <td>Hi everybody, My latest MRI results for Brain ...</td>\n",
       "      <td>gilenya</td>\n",
       "      <td>1</td>\n",
       "      <td>gilenya hi everybody latest mri result brain c...</td>\n",
       "    </tr>\n",
       "  </tbody>\n",
       "</table>\n",
       "</div>"
      ],
      "text/plain": [
       "                                unique_hash  \\\n",
       "0  2e180be4c9214c1f5ab51fd8cc32bc80c9f612e0   \n",
       "1  9eba8f80e7e20f3a2f48685530748fbfa95943e4   \n",
       "2  fe809672251f6bd0d986e00380f48d047c7e7b76   \n",
       "3  bd22104dfa9ec80db4099523e03fae7a52735eb6   \n",
       "4  b227688381f9b25e5b65109dd00f7f895e838249   \n",
       "\n",
       "                                                text        drug  sentiment  \\\n",
       "0  Autoimmune diseases tend to come in clusters. ...     gilenya          2   \n",
       "1  I can completely understand why you’d want to ...     gilenya          2   \n",
       "2  Interesting that it only targets S1P-1/5 recep...  fingolimod          2   \n",
       "3  Very interesting, grand merci. Now I wonder wh...     ocrevus          2   \n",
       "4  Hi everybody, My latest MRI results for Brain ...     gilenya          1   \n",
       "\n",
       "                                            text_new  \n",
       "0  gilenya autoimmune disease tend come cluster g...  \n",
       "1  gilenya completely understand want try result ...  \n",
       "2  fingolimod interesting target p receptor rathe...  \n",
       "3  ocrevus interesting grand merci wonder lemtrad...  \n",
       "4  gilenya hi everybody latest mri result brain c...  "
      ]
     },
     "execution_count": 23,
     "metadata": {},
     "output_type": "execute_result"
    }
   ],
   "source": [
    "# Applying Preprocessing function on Training data\n",
    "Train_data = clean_and_tokenize_tweets(Train)\n",
    "Train_data.head(5)"
   ]
  },
  {
   "cell_type": "code",
   "execution_count": 24,
   "metadata": {
    "colab": {
     "base_uri": "https://localhost:8080/",
     "height": 272
    },
    "colab_type": "code",
    "id": "9JEJaQzNpXMC",
    "outputId": "3bfebd04-2fb4-4226-d950-877ada631f6e"
   },
   "outputs": [
    {
     "name": "stderr",
     "output_type": "stream",
     "text": [
      "[nltk_data] Downloading package stopwords to\n",
      "[nltk_data]     C:\\Users\\LENOVO\\AppData\\Roaming\\nltk_data...\n",
      "[nltk_data]   Package stopwords is already up-to-date!\n",
      "[nltk_data] Downloading package wordnet to\n",
      "[nltk_data]     C:\\Users\\LENOVO\\AppData\\Roaming\\nltk_data...\n",
      "[nltk_data]   Package wordnet is already up-to-date!\n"
     ]
    },
    {
     "data": {
      "text/html": [
       "<div>\n",
       "<style scoped>\n",
       "    .dataframe tbody tr th:only-of-type {\n",
       "        vertical-align: middle;\n",
       "    }\n",
       "\n",
       "    .dataframe tbody tr th {\n",
       "        vertical-align: top;\n",
       "    }\n",
       "\n",
       "    .dataframe thead th {\n",
       "        text-align: right;\n",
       "    }\n",
       "</style>\n",
       "<table border=\"1\" class=\"dataframe\">\n",
       "  <thead>\n",
       "    <tr style=\"text-align: right;\">\n",
       "      <th></th>\n",
       "      <th>unique_hash</th>\n",
       "      <th>text</th>\n",
       "      <th>drug</th>\n",
       "      <th>text_new</th>\n",
       "    </tr>\n",
       "  </thead>\n",
       "  <tbody>\n",
       "    <tr>\n",
       "      <th>0</th>\n",
       "      <td>9e9a8166b84114aca147bf409f6f956635034c08</td>\n",
       "      <td>256 (previously stable on natalizumab), with 5...</td>\n",
       "      <td>fingolimod</td>\n",
       "      <td>fingolimod previously stable natalizumab switc...</td>\n",
       "    </tr>\n",
       "    <tr>\n",
       "      <th>1</th>\n",
       "      <td>e747e6822c867571afe7b907b51f0f2ca67b0e1a</td>\n",
       "      <td>On fingolimod and have been since December 201...</td>\n",
       "      <td>fingolimod</td>\n",
       "      <td>fingolimod fingolimod since december way descr...</td>\n",
       "    </tr>\n",
       "    <tr>\n",
       "      <th>2</th>\n",
       "      <td>50b6d851bcff4f35afe354937949e9948975adf7</td>\n",
       "      <td>Apparently it's shingles! :-/ I do have a few ...</td>\n",
       "      <td>humira</td>\n",
       "      <td>humira apparently shingle red spot left breast...</td>\n",
       "    </tr>\n",
       "    <tr>\n",
       "      <th>3</th>\n",
       "      <td>7f82ec2176ae6ab0b5d20b5ffc767ac829f384ae</td>\n",
       "      <td>If the Docetaxel doing once a week x3 weeks th...</td>\n",
       "      <td>tagrisso</td>\n",
       "      <td>tagrisso docetaxel week x week week claim le h...</td>\n",
       "    </tr>\n",
       "    <tr>\n",
       "      <th>4</th>\n",
       "      <td>8b37d169dee5bdae27060949242fb54feb6a7f7f</td>\n",
       "      <td>CC, Stelara worked in a matter of days for me....</td>\n",
       "      <td>stelara</td>\n",
       "      <td>stelara cc stelara worked matter day gi willin...</td>\n",
       "    </tr>\n",
       "  </tbody>\n",
       "</table>\n",
       "</div>"
      ],
      "text/plain": [
       "                                unique_hash  \\\n",
       "0  9e9a8166b84114aca147bf409f6f956635034c08   \n",
       "1  e747e6822c867571afe7b907b51f0f2ca67b0e1a   \n",
       "2  50b6d851bcff4f35afe354937949e9948975adf7   \n",
       "3  7f82ec2176ae6ab0b5d20b5ffc767ac829f384ae   \n",
       "4  8b37d169dee5bdae27060949242fb54feb6a7f7f   \n",
       "\n",
       "                                                text        drug  \\\n",
       "0  256 (previously stable on natalizumab), with 5...  fingolimod   \n",
       "1  On fingolimod and have been since December 201...  fingolimod   \n",
       "2  Apparently it's shingles! :-/ I do have a few ...      humira   \n",
       "3  If the Docetaxel doing once a week x3 weeks th...    tagrisso   \n",
       "4  CC, Stelara worked in a matter of days for me....     stelara   \n",
       "\n",
       "                                            text_new  \n",
       "0  fingolimod previously stable natalizumab switc...  \n",
       "1  fingolimod fingolimod since december way descr...  \n",
       "2  humira apparently shingle red spot left breast...  \n",
       "3  tagrisso docetaxel week x week week claim le h...  \n",
       "4  stelara cc stelara worked matter day gi willin...  "
      ]
     },
     "execution_count": 24,
     "metadata": {},
     "output_type": "execute_result"
    }
   ],
   "source": [
    "# Applying Preprocessing function on Test data\n",
    "Test_data = clean_and_tokenize_tweets(Test)\n",
    "Test_data.head(5)"
   ]
  },
  {
   "cell_type": "markdown",
   "metadata": {
    "colab_type": "text",
    "id": "4Ij9HVm0v39Z"
   },
   "source": [
    "## 4. Building a Classifier\n",
    "\n",
    "After cleanup, it is time to build the classifier to identify Product Categories. At first, we are dividing our data into train and test set."
   ]
  },
  {
   "cell_type": "markdown",
   "metadata": {
    "colab_type": "text",
    "id": "ZAmSeBFAr2RC"
   },
   "source": [
    "### 4.1 Dividing data into train and validation set\n",
    "\n",
    "Before training the model, let's split the training data into a training and validation set.\n",
    "\n"
   ]
  },
  {
   "cell_type": "code",
   "execution_count": 25,
   "metadata": {
    "colab": {
     "base_uri": "https://localhost:8080/",
     "height": 119
    },
    "colab_type": "code",
    "id": "lCGaqq92sgcw",
    "outputId": "276e91c0-0d8e-40cf-a56a-c3ff82fde789"
   },
   "outputs": [
    {
     "name": "stdout",
     "output_type": "stream",
     "text": [
      "Number of rows and columns in train dataset: (4223,)\n",
      "Number of rows and columns in validation dataset: (528,)\n",
      "Number of rows and columns in test dataset: (528,)\n",
      "Number of rows and columns in target variable for training: (4223,)\n",
      "Number of rows and columns in target variable for validation: (528,)\n",
      "Number of rows and columns in target variable for test: (528,)\n"
     ]
    }
   ],
   "source": [
    "# Dividing data into train and validation set\n",
    "from sklearn.model_selection import train_test_split\n",
    "\n",
    "validation_percent = 0.20\n",
    "test_percent = 0.50\n",
    "seed = 786\n",
    "\n",
    "X_train, X_validation, y_train, y_validation = train_test_split(Train_data['text_new'], Train_data['sentiment'], test_size = validation_percent, random_state = seed, stratify = Train_data['sentiment'])\n",
    "X_validation, X_test, y_validation, y_test = train_test_split(X_validation, y_validation, test_size = test_percent, random_state = seed, stratify = y_validation)\n",
    "\n",
    "# Shape of data\n",
    "print(\"Number of rows and columns in train dataset:\",X_train.shape)\n",
    "print(\"Number of rows and columns in validation dataset:\",X_validation.shape)\n",
    "print(\"Number of rows and columns in test dataset:\",X_test.shape)\n",
    "\n",
    "print(\"Number of rows and columns in target variable for training:\",y_train.shape)\n",
    "print(\"Number of rows and columns in target variable for validation:\",y_validation.shape)\n",
    "print(\"Number of rows and columns in target variable for test:\",y_test.shape)\n"
   ]
  },
  {
   "cell_type": "markdown",
   "metadata": {
    "colab_type": "text",
    "id": "5SnD0BzOvt-a"
   },
   "source": [
    "### 4.2 Training\n",
    "\n",
    " In the training stage, we are creating a pipeline with following two steps:\n",
    " \n",
    "  1. Extracting Features from Cleaned Tweets\n",
    "      + Bag of words and \n",
    "      + TF-IDF.\n",
    "  2. Building classifier\n",
    "\n",
    "**Extracting Features from Cleaned Tweets**\n",
    "---\n",
    "To analyze a preprocessed data, it needs to be converted into features. Depending upon the usage, text features can be constructed using assorted techniques – Bag-of-Words, TF-IDF, and Word Embeddings. Here, we are using TF-IDF.\n",
    "\n",
    "**Bag of Words (BoW)**\n",
    "\n",
    "Bag of Words (BoW) refers to the representation of text which describes the presence of words within the text data. The intuition behind this is that two similar text fields will contain similar kind of words, and will therefore have a similar bag of words. Further, that from the text alone we can learn something about the meaning of the document.\n",
    "\n",
    "**TF-IDF Features**\n",
    "\n",
    "This is another method which is based on the frequency method but it is different to the **bag-of-words** approach in the sense that it takes into account, not just the occurrence of a word in a single document (or tweet) but in the entire corpus.\n",
    "\n",
    "TF-IDF works by penalizing the common words by assigning them lower weights while giving importance to words which are rare in the entire corpus but appear in good numbers in few documents.\n",
    "\n",
    "Let’s have a look at the important terms related to TF-IDF:\n",
    "\n",
    " + TF = (Number of times term t appears in a document)/(Number of terms in the document)\n",
    " + IDF = log(N/n), where, N is the number of documents and n is the number of documents a term t has appeared in.\n",
    " + TF-IDF = TF*IDF\n",
    "\n",
    "\n",
    " **Building classifier**\n",
    "---\n",
    "We are starting with simple models and then we will proceed with more complex models. Below are the schematic of our classifier training:\n",
    "\n",
    "**Classifier tested**: We are testing below classifier in this problem:\n",
    "\n",
    " 1. Logistic regression classifier\n",
    " 2. Naive Bayes classifier\n",
    " 3. Stochastic gradient descent classifier\n",
    " 4. Support vector machine with Gaussian kernel\n",
    " 5. K-Nearest Neighbor classifier\n",
    " 6. Decision Tree classifier\n",
    " 7. Random Forest classifier\n",
    " 8. Gradient boosting classifier\n",
    " 9. Extreme gradient boosting classifier\n",
    "\n",
    "\n",
    "**Validation scheme**: We are using below method of validating our classifier\n",
    "\n",
    " 1. External validation: hold-out sample data\n",
    " 2. Internal validation: 10-Fold cross validation\n",
    " \n",
    " **Validation metric:** We are testing performance of model based on **F1 Score** metric. Below is the short detail on **F1 Score**:\n",
    " \n",
    " To understand **F1 Score**, let's understand two more metric in detail which are **Precision** and **Recall**. Below are the formula for the same.\n",
    " \n",
    " $Precision: \\frac{True Positive}{True Positive + False Positive}$\n",
    " \n",
    " $Recall: \\frac{True Positive}{True Positive + False Negative}$\n",
    " \n",
    " <br>\n",
    " <br>\n",
    " \n",
    " Hence, **F1 Score** can be defined as\n",
    " \n",
    " $F1: \\frac{2*Precision * Recall}{Precision + Recall}$\n",
    " \n",
    " First, let's import all important libraries for this problem statement.\n"
   ]
  },
  {
   "cell_type": "code",
   "execution_count": 26,
   "metadata": {
    "colab": {},
    "colab_type": "code",
    "id": "oM-j4AJTa9Dr"
   },
   "outputs": [],
   "source": [
    "def warn(*args, **kwargs):\n",
    "    pass\n",
    "import warnings\n",
    "warnings.warn = warn"
   ]
  },
  {
   "cell_type": "code",
   "execution_count": 27,
   "metadata": {
    "colab": {},
    "colab_type": "code",
    "id": "iIPi1ROQqKS6"
   },
   "outputs": [],
   "source": [
    "from sklearn.pipeline import Pipeline\n",
    "from sklearn.feature_extraction.text import CountVectorizer, TfidfTransformer, TfidfVectorizer\n",
    "from sklearn.linear_model import LogisticRegression, SGDClassifier\n",
    "from sklearn.naive_bayes import GaussianNB\n",
    "from sklearn.metrics import f1_score, classification_report\n",
    "from sklearn.model_selection import StratifiedKFold, cross_val_score"
   ]
  },
  {
   "cell_type": "markdown",
   "metadata": {
    "colab_type": "text",
    "id": "8FTH05rvYtOC"
   },
   "source": [
    "#### 4.2.1 Iteration 1: BoW + Logistic Regression\n",
    "\n",
    "Let's crete basic model and perform validation using validation data and cross validation."
   ]
  },
  {
   "cell_type": "code",
   "execution_count": 28,
   "metadata": {
    "colab": {
     "base_uri": "https://localhost:8080/",
     "height": 204
    },
    "colab_type": "code",
    "id": "9hWtvsCIzBVR",
    "outputId": "9137a195-ec7b-4610-ca57-964a8e785d73"
   },
   "outputs": [
    {
     "name": "stdout",
     "output_type": "stream",
     "text": [
      "              precision    recall  f1-score   support\n",
      "\n",
      "           0       0.24      0.13      0.17        61\n",
      "           1       0.47      0.33      0.39        84\n",
      "           2       0.77      0.87      0.82       383\n",
      "\n",
      "   micro avg       0.70      0.70      0.70       528\n",
      "   macro avg       0.49      0.45      0.46       528\n",
      "weighted avg       0.66      0.70      0.67       528\n",
      "\n",
      "F1 Score for hold-out sample data: 45.86\n",
      "F1 Score based on cross validation: 44.36\n"
     ]
    }
   ],
   "source": [
    "# Fitting Logistic Regression model\n",
    "seed = 786\n",
    "\n",
    "#pipeline_LR = Pipeline([\n",
    "    #('vect', CountVectorizer()),\n",
    "    #('tfidf',  TfidfTransformer()),\n",
    "    #('LR', LogisticRegression(random_state=seed)),\n",
    "#])\n",
    "\n",
    "pipeline_LR = Pipeline([\n",
    "    ('vect', CountVectorizer()),\n",
    "    ('LR', LogisticRegression(random_state=seed)),\n",
    "])\n",
    "\n",
    "model_LR = pipeline_LR.fit(X_train, y_train)\n",
    "\n",
    "# Scoring based on F1 score for hold out sample\n",
    "y_predict_LR = model_LR.predict(X_validation)\n",
    "scores_holdout = f1_score(y_validation, y_predict_LR, average=\"macro\")\n",
    "print(classification_report(y_validation, y_predict_LR))\n",
    "print(\"F1 Score for hold-out sample data:\", round(scores_holdout*100,2))\n",
    "\n",
    "# Scoring based on F1 score for cross validation\n",
    "skf = StratifiedKFold(n_splits=10, random_state=seed)\n",
    "scores_cv = cross_val_score(model_LR, X_train, y_train, cv=skf, scoring='f1_macro')\n",
    "print(\"F1 Score based on cross validation:\" , round(scores_cv.mean()*100,2))"
   ]
  },
  {
   "cell_type": "code",
   "execution_count": 29,
   "metadata": {},
   "outputs": [
    {
     "name": "stdout",
     "output_type": "stream",
     "text": [
      "              precision    recall  f1-score   support\n",
      "\n",
      "           0       0.00      0.00      0.00        61\n",
      "           1       0.70      0.08      0.15        84\n",
      "           2       0.74      1.00      0.85       383\n",
      "\n",
      "   micro avg       0.74      0.74      0.74       528\n",
      "   macro avg       0.48      0.36      0.33       528\n",
      "weighted avg       0.65      0.74      0.64       528\n",
      "\n",
      "F1 Score for hold-out sample data: 33.23\n",
      "F1 Score based on cross validation: 32.31\n"
     ]
    }
   ],
   "source": [
    "# Fitting Logistic Regression model\n",
    "seed = 786\n",
    "\n",
    "pipeline_LR = Pipeline([\n",
    "    ('vect', CountVectorizer()),\n",
    "    ('tfidf',  TfidfTransformer()),\n",
    "    ('LR', LogisticRegression(random_state=seed)),\n",
    "])\n",
    "\n",
    "model_LR = pipeline_LR.fit(X_train, y_train)\n",
    "\n",
    "# Scoring based on F1 score for hold out sample\n",
    "y_predict_LR = model_LR.predict(X_validation)\n",
    "scores_holdout = f1_score(y_validation, y_predict_LR, average=\"macro\")\n",
    "print(classification_report(y_validation, y_predict_LR))\n",
    "print(\"F1 Score for hold-out sample data:\", round(scores_holdout*100,2))\n",
    "\n",
    "# Scoring based on F1 score for cross validation\n",
    "skf = StratifiedKFold(n_splits=10, random_state=seed)\n",
    "scores_cv = cross_val_score(model_LR, X_train, y_train, cv=skf, scoring='f1_macro')\n",
    "print(\"F1 Score based on cross validation:\" , round(scores_cv.mean()*100,2))"
   ]
  },
  {
   "cell_type": "markdown",
   "metadata": {
    "colab_type": "text",
    "id": "hXQHmtDk38PQ"
   },
   "source": [
    "Let's optimize further this model by performing hyperparameter tuning."
   ]
  },
  {
   "cell_type": "code",
   "execution_count": 0,
   "metadata": {
    "colab": {
     "base_uri": "https://localhost:8080/",
     "height": 578
    },
    "colab_type": "code",
    "id": "vUSa2PZY0ve4",
    "outputId": "29d33811-7776-400f-c7ca-6f97f4345cd8"
   },
   "outputs": [
    {
     "name": "stdout",
     "output_type": "stream",
     "text": [
      "Automatically created module for IPython interactive environment\n",
      "# Tuning hyper-parameters for f1\n",
      "\n",
      "Best parameters set found on development set:\n",
      "\n",
      "{'LR__C': 1, 'LR__penalty': 'l2'}\n",
      "\n",
      "Grid scores on development set:\n",
      "\n",
      "0.846 (+/-0.029) for {'LR__C': 1, 'LR__penalty': 'l1'}\n",
      "0.847 (+/-0.033) for {'LR__C': 1, 'LR__penalty': 'l2'}\n",
      "0.826 (+/-0.031) for {'LR__C': 10, 'LR__penalty': 'l1'}\n",
      "0.830 (+/-0.025) for {'LR__C': 10, 'LR__penalty': 'l2'}\n",
      "0.820 (+/-0.031) for {'LR__C': 100, 'LR__penalty': 'l1'}\n",
      "0.816 (+/-0.027) for {'LR__C': 100, 'LR__penalty': 'l2'}\n",
      "0.822 (+/-0.023) for {'LR__C': 500, 'LR__penalty': 'l1'}\n",
      "0.815 (+/-0.025) for {'LR__C': 500, 'LR__penalty': 'l2'}\n",
      "\n",
      "Detailed classification report:\n",
      "\n",
      "The model is trained on the full development set.\n",
      "The scores are computed on the full evaluation set.\n",
      "\n",
      "              precision    recall  f1-score   support\n",
      "\n",
      "           0       0.92      0.91      0.91       589\n",
      "           1       0.74      0.77      0.76       203\n",
      "\n",
      "    accuracy                           0.87       792\n",
      "   macro avg       0.83      0.84      0.84       792\n",
      "weighted avg       0.87      0.87      0.87       792\n",
      "\n",
      "\n"
     ]
    }
   ],
   "source": [
    "# Hyperparameter tuning\n",
    "from sklearn.model_selection import GridSearchCV\n",
    "\n",
    "print(__doc__)\n",
    "# Set the parameters by cross-validation\n",
    "tuned_parameters = [{'LR__penalty': ['l1','l2'],\n",
    "                     'LR__C': [1, 10, 100, 500]\n",
    "                     }]\n",
    "\n",
    "scores = ['f1']\n",
    "\n",
    "for score in scores:\n",
    "    print(\"# Tuning hyper-parameters for %s\" % score)\n",
    "    print()\n",
    "\n",
    "    clf = GridSearchCV(\n",
    "        estimator=pipeline_LR,\n",
    "        param_grid=tuned_parameters,\n",
    "        cv=10, scoring='%s_macro' % score)\n",
    "    clf.fit(X_train, y_train)\n",
    "\n",
    "    print(\"Best parameters set found on development set:\")\n",
    "    print()\n",
    "    print(clf.best_params_)\n",
    "    print()\n",
    "    print(\"Grid scores on development set:\")\n",
    "    print()\n",
    "    means = clf.cv_results_['mean_test_score']\n",
    "    stds = clf.cv_results_['std_test_score']\n",
    "    for mean, std, params in zip(means, stds, clf.cv_results_['params']):\n",
    "        print(\"%0.3f (+/-%0.03f) for %r\"\n",
    "              % (mean, std * 2, params))\n",
    "    print()\n",
    "\n",
    "    print(\"Detailed classification report:\")\n",
    "    print()\n",
    "    print(\"The model is trained on the full development set.\")\n",
    "    print(\"The scores are computed on the full evaluation set.\")\n",
    "    print()\n",
    "    y_true, y_pred = y_validation, clf.predict(X_validation)\n",
    "    print(classification_report(y_true, y_pred))\n",
    "    print()\n"
   ]
  },
  {
   "cell_type": "markdown",
   "metadata": {
    "colab_type": "text",
    "id": "vqLlhC2S3geN"
   },
   "source": [
    "#### 4.2.2 Iteration 2:  BoW + Naive Bayes\n",
    "\n",
    "We are using **Pipeline** from **`sklearn`** library to stich both preprocessing of text data and classifier testing. "
   ]
  },
  {
   "cell_type": "code",
   "execution_count": 30,
   "metadata": {
    "colab": {},
    "colab_type": "code",
    "id": "4ce8tE0P17Gi"
   },
   "outputs": [],
   "source": [
    "from sklearn.base import TransformerMixin\n",
    "class DenseTransformer(TransformerMixin):\n",
    "\n",
    "    def fit(self, X, y=None, **fit_params):\n",
    "        return self\n",
    "\n",
    "    def transform(self, X, y=None, **fit_params):\n",
    "        return X.todense()"
   ]
  },
  {
   "cell_type": "code",
   "execution_count": 31,
   "metadata": {
    "colab": {
     "base_uri": "https://localhost:8080/",
     "height": 204
    },
    "colab_type": "code",
    "id": "243bIcei0f8V",
    "outputId": "f5dec9f9-0747-4902-bb57-8597639088cc"
   },
   "outputs": [
    {
     "name": "stdout",
     "output_type": "stream",
     "text": [
      "              precision    recall  f1-score   support\n",
      "\n",
      "           0       0.20      0.11      0.15        61\n",
      "           1       0.20      0.27      0.23        84\n",
      "           2       0.75      0.74      0.75       383\n",
      "\n",
      "   micro avg       0.59      0.59      0.59       528\n",
      "   macro avg       0.38      0.38      0.37       528\n",
      "weighted avg       0.60      0.59      0.59       528\n",
      "\n",
      "F1 Score for hold-out sample data: 37.35\n",
      "F1 Score based on cross validation: 37.47\n"
     ]
    }
   ],
   "source": [
    "# Fitting Naive Bayes model\n",
    "from sklearn.naive_bayes import GaussianNB\n",
    "pipeline_NB = Pipeline([\n",
    "    ('vect', CountVectorizer()),\n",
    "    ('to_dense', DenseTransformer()),\n",
    "    ('NB', GaussianNB()),\n",
    "])\n",
    "\n",
    "model_NB = pipeline_NB.fit(X_train, y_train)\n",
    "\n",
    "# Scoring based on F1 score\n",
    "y_predict_NB = model_NB.predict(X_validation)\n",
    "scores_holdout = f1_score(y_validation, y_predict_NB, average=\"macro\")\n",
    "print(classification_report(y_validation, y_predict_NB))\n",
    "print(\"F1 Score for hold-out sample data:\", round(scores_holdout*100,2))\n",
    "\n",
    "# Scoring based on F1 score for cross validation\n",
    "scores_cv = cross_val_score(model_NB, X_train, y_train, cv=skf, scoring='f1_macro')\n",
    "print(\"F1 Score based on cross validation:\" , round(scores_cv.mean()*100,2))"
   ]
  },
  {
   "cell_type": "markdown",
   "metadata": {
    "colab_type": "text",
    "id": "NNRi_Je04Fdm"
   },
   "source": [
    "#### 4.2.3 Iteration 3:  BoW + Stochastic gradient descent"
   ]
  },
  {
   "cell_type": "code",
   "execution_count": 32,
   "metadata": {
    "colab": {
     "base_uri": "https://localhost:8080/",
     "height": 204
    },
    "colab_type": "code",
    "id": "oa7OvoPz4P0I",
    "outputId": "89054a48-b797-4e7b-d0bd-52eaa6ec3540"
   },
   "outputs": [
    {
     "name": "stdout",
     "output_type": "stream",
     "text": [
      "              precision    recall  f1-score   support\n",
      "\n",
      "           0       0.22      0.23      0.22        61\n",
      "           1       0.34      0.20      0.25        84\n",
      "           2       0.76      0.82      0.79       383\n",
      "\n",
      "   micro avg       0.66      0.66      0.66       528\n",
      "   macro avg       0.44      0.42      0.42       528\n",
      "weighted avg       0.63      0.66      0.64       528\n",
      "\n",
      "F1 Score for hold-out sample data: 42.27\n",
      "F1 Score based on cross validation: 41.51\n"
     ]
    }
   ],
   "source": [
    "# Stochastic gradient descent\n",
    "seed = 786\n",
    "\n",
    "pipeline_SGD = Pipeline([\n",
    "    ('vect', CountVectorizer()),\n",
    "    ('SGD', SGDClassifier(random_state=seed)),\n",
    "])\n",
    "\n",
    "model_SGD = pipeline_SGD.fit(X_train, y_train)\n",
    "\n",
    "# Scoring based on F1 score\n",
    "y_predict_SGD = model_SGD.predict(X_validation)\n",
    "scores_holdout = f1_score(y_validation, y_predict_SGD, average=\"macro\")\n",
    "print(classification_report(y_validation, y_predict_SGD))\n",
    "print(\"F1 Score for hold-out sample data:\", round(scores_holdout*100,2))\n",
    "\n",
    "# Scoring based on F1 score for cross validation\n",
    "scores_cv = cross_val_score(model_SGD, X_train, y_train, cv=skf, scoring='f1_macro')\n",
    "print(\"F1 Score based on cross validation:\" , round(scores_cv.mean()*100,2))"
   ]
  },
  {
   "cell_type": "code",
   "execution_count": 0,
   "metadata": {
    "colab": {
     "base_uri": "https://localhost:8080/",
     "height": 612
    },
    "colab_type": "code",
    "id": "9ixohX24ITZe",
    "outputId": "8fe9054e-5a0d-44aa-8051-c46c3131a254"
   },
   "outputs": [
    {
     "name": "stdout",
     "output_type": "stream",
     "text": [
      "Automatically created module for IPython interactive environment\n",
      "# Tuning hyper-parameters for f1\n",
      "\n",
      "Best parameters set found on development set:\n",
      "\n",
      "{'SGD__loss': 'log', 'SGD__penalty': 'l2'}\n",
      "\n",
      "Grid scores on development set:\n",
      "\n",
      "0.816 (+/-0.026) for {'SGD__loss': 'hinge', 'SGD__penalty': 'l1'}\n",
      "0.827 (+/-0.026) for {'SGD__loss': 'hinge', 'SGD__penalty': 'l2'}\n",
      "0.825 (+/-0.029) for {'SGD__loss': 'log', 'SGD__penalty': 'l1'}\n",
      "0.839 (+/-0.035) for {'SGD__loss': 'log', 'SGD__penalty': 'l2'}\n",
      "0.801 (+/-0.036) for {'SGD__loss': 'modified_huber', 'SGD__penalty': 'l1'}\n",
      "0.818 (+/-0.018) for {'SGD__loss': 'modified_huber', 'SGD__penalty': 'l2'}\n",
      "0.795 (+/-0.027) for {'SGD__loss': 'squared_hinge', 'SGD__penalty': 'l1'}\n",
      "0.823 (+/-0.017) for {'SGD__loss': 'squared_hinge', 'SGD__penalty': 'l2'}\n",
      "0.804 (+/-0.032) for {'SGD__loss': 'perceptron', 'SGD__penalty': 'l1'}\n",
      "0.815 (+/-0.036) for {'SGD__loss': 'perceptron', 'SGD__penalty': 'l2'}\n",
      "\n",
      "Detailed classification report:\n",
      "\n",
      "The model is trained on the full development set.\n",
      "The scores are computed on the full evaluation set.\n",
      "\n",
      "              precision    recall  f1-score   support\n",
      "\n",
      "           0       0.91      0.90      0.91       589\n",
      "           1       0.73      0.75      0.74       203\n",
      "\n",
      "    accuracy                           0.86       792\n",
      "   macro avg       0.82      0.83      0.82       792\n",
      "weighted avg       0.87      0.86      0.86       792\n",
      "\n",
      "\n"
     ]
    }
   ],
   "source": [
    "# Hyperparameter tuning\n",
    "from sklearn.model_selection import GridSearchCV\n",
    "\n",
    "print(__doc__)\n",
    "# Set the parameters by cross-validation\n",
    "tuned_parameters = [{'SGD__penalty': ['l1','l2'],\n",
    "                     'SGD__loss': ['hinge','log', 'modified_huber','squared_hinge','perceptron']\n",
    "                     }]\n",
    "\n",
    "scores = ['f1']\n",
    "\n",
    "for score in scores:\n",
    "    print(\"# Tuning hyper-parameters for %s\" % score)\n",
    "    print()\n",
    "\n",
    "    clf = GridSearchCV(\n",
    "        estimator=pipeline_SGD,\n",
    "        param_grid=tuned_parameters,\n",
    "        cv=10, scoring='%s_macro' % score)\n",
    "    clf.fit(X_train, y_train)\n",
    "\n",
    "    print(\"Best parameters set found on development set:\")\n",
    "    print()\n",
    "    print(clf.best_params_)\n",
    "    print()\n",
    "    print(\"Grid scores on development set:\")\n",
    "    print()\n",
    "    means = clf.cv_results_['mean_test_score']\n",
    "    stds = clf.cv_results_['std_test_score']\n",
    "    for mean, std, params in zip(means, stds, clf.cv_results_['params']):\n",
    "        print(\"%0.3f (+/-%0.03f) for %r\"\n",
    "              % (mean, std * 2, params))\n",
    "    print()\n",
    "\n",
    "    print(\"Detailed classification report:\")\n",
    "    print()\n",
    "    print(\"The model is trained on the full development set.\")\n",
    "    print(\"The scores are computed on the full evaluation set.\")\n",
    "    print()\n",
    "    y_true, y_pred = y_validation, clf.predict(X_validation)\n",
    "    print(classification_report(y_true, y_pred))\n",
    "    print()\n"
   ]
  },
  {
   "cell_type": "code",
   "execution_count": 33,
   "metadata": {
    "colab": {
     "base_uri": "https://localhost:8080/",
     "height": 204
    },
    "colab_type": "code",
    "id": "CL10UKVZJbLd",
    "outputId": "77b431e0-b170-4e44-b007-d14c4c7f000d"
   },
   "outputs": [
    {
     "name": "stdout",
     "output_type": "stream",
     "text": [
      "              precision    recall  f1-score   support\n",
      "\n",
      "           0       0.21      0.21      0.21        61\n",
      "           1       0.36      0.29      0.32        84\n",
      "           2       0.76      0.80      0.78       383\n",
      "\n",
      "   micro avg       0.65      0.65      0.65       528\n",
      "   macro avg       0.44      0.43      0.44       528\n",
      "weighted avg       0.63      0.65      0.64       528\n",
      "\n",
      "F1 Score for hold-out sample data: 43.67\n",
      "F1 Score based on cross validation: 41.47\n"
     ]
    }
   ],
   "source": [
    "# Stochastic gradient descent\n",
    "seed = 786\n",
    "\n",
    "pipeline_SGD = Pipeline([\n",
    "    ('vect', CountVectorizer()),\n",
    "    ('SGD', SGDClassifier(random_state=seed, loss= 'log', penalty = 'l2')),\n",
    "])\n",
    "\n",
    "model_SGD = pipeline_SGD.fit(X_train, y_train)\n",
    "\n",
    "# Scoring based on F1 score\n",
    "y_predict_SGD = model_SGD.predict(X_validation)\n",
    "scores_holdout = f1_score(y_validation, y_predict_SGD, average=\"macro\")\n",
    "print(classification_report(y_validation, y_predict_SGD))\n",
    "print(\"F1 Score for hold-out sample data:\", round(scores_holdout*100,2))\n",
    "\n",
    "# Scoring based on F1 score for cross validation\n",
    "scores_cv = cross_val_score(model_SGD, X_train, y_train, cv=skf, scoring='f1_macro')\n",
    "print(\"F1 Score based on cross validation:\" , round(scores_cv.mean()*100,2))"
   ]
  },
  {
   "cell_type": "markdown",
   "metadata": {
    "colab_type": "text",
    "id": "DTXAK7nqa4dS"
   },
   "source": [
    "#### 4.2.4 Iteration 4:  BoW + Support Vector Machine with Gaussion kernel"
   ]
  },
  {
   "cell_type": "code",
   "execution_count": 34,
   "metadata": {
    "colab": {
     "base_uri": "https://localhost:8080/",
     "height": 204
    },
    "colab_type": "code",
    "id": "T4euFhDSbAx8",
    "outputId": "27cc7ace-60c6-440f-d128-218ec6da4d36"
   },
   "outputs": [
    {
     "name": "stdout",
     "output_type": "stream",
     "text": [
      "              precision    recall  f1-score   support\n",
      "\n",
      "           0       0.00      0.00      0.00        61\n",
      "           1       0.50      0.01      0.02        84\n",
      "           2       0.73      1.00      0.84       383\n",
      "\n",
      "   micro avg       0.73      0.73      0.73       528\n",
      "   macro avg       0.41      0.34      0.29       528\n",
      "weighted avg       0.61      0.73      0.61       528\n",
      "\n",
      "F1 Score for hold-out sample data: 28.79\n",
      "F1 Score based on cross validation: 29.1\n"
     ]
    }
   ],
   "source": [
    "# Support Vector Machine with Gaussion kernel\n",
    "from sklearn.svm import SVC\n",
    "seed = 786\n",
    "\n",
    "pipeline_SVM = Pipeline([\n",
    "    ('vect', CountVectorizer()),\n",
    "    ('SVM', SVC(kernel='rbf', random_state=seed, gamma=0.01, C=1)),\n",
    "])\n",
    "\n",
    "model_SVM = pipeline_SVM.fit(X_train, y_train)\n",
    "\n",
    "# Scoring based on F1 score\n",
    "y_predict_SVM = model_SVM.predict(X_validation)\n",
    "scores_holdout = f1_score(y_validation, y_predict_SVM, average=\"macro\")\n",
    "print(classification_report(y_validation, y_predict_SVM))\n",
    "print(\"F1 Score for hold-out sample data:\", round(scores_holdout*100,2))\n",
    "\n",
    "# Scoring based on F1 score for cross validation\n",
    "scores_cv = cross_val_score(model_SVM, X_train, y_train, cv=skf, scoring='f1_macro')\n",
    "print(\"F1 Score based on cross validation:\" , round(scores_cv.mean()*100,2))\n"
   ]
  },
  {
   "cell_type": "code",
   "execution_count": 0,
   "metadata": {
    "colab": {
     "base_uri": "https://localhost:8080/",
     "height": 986
    },
    "colab_type": "code",
    "id": "d1JMIKLmKTMd",
    "outputId": "9259d1f8-4d55-44b2-d159-3e279d8fcb30"
   },
   "outputs": [
    {
     "name": "stdout",
     "output_type": "stream",
     "text": [
      "Automatically created module for IPython interactive environment\n",
      "# Tuning hyper-parameters for f1\n",
      "\n",
      "Best parameters set found on development set:\n",
      "\n",
      "{'SVM__C': 100, 'SVM__degree': 3, 'SVM__gamma': 0.1, 'SVM__kernel': 'poly'}\n",
      "\n",
      "Grid scores on development set:\n",
      "\n",
      "0.427 (+/-0.000) for {'SVM__C': 1, 'SVM__degree': 3, 'SVM__gamma': 0.0001, 'SVM__kernel': 'poly'}\n",
      "0.427 (+/-0.000) for {'SVM__C': 1, 'SVM__degree': 3, 'SVM__gamma': 0.001, 'SVM__kernel': 'poly'}\n",
      "0.427 (+/-0.000) for {'SVM__C': 1, 'SVM__degree': 3, 'SVM__gamma': 0.01, 'SVM__kernel': 'poly'}\n",
      "0.831 (+/-0.022) for {'SVM__C': 1, 'SVM__degree': 3, 'SVM__gamma': 0.1, 'SVM__kernel': 'poly'}\n",
      "0.427 (+/-0.000) for {'SVM__C': 1, 'SVM__degree': 5, 'SVM__gamma': 0.0001, 'SVM__kernel': 'poly'}\n",
      "0.427 (+/-0.000) for {'SVM__C': 1, 'SVM__degree': 5, 'SVM__gamma': 0.001, 'SVM__kernel': 'poly'}\n",
      "0.427 (+/-0.000) for {'SVM__C': 1, 'SVM__degree': 5, 'SVM__gamma': 0.01, 'SVM__kernel': 'poly'}\n",
      "0.710 (+/-0.022) for {'SVM__C': 1, 'SVM__degree': 5, 'SVM__gamma': 0.1, 'SVM__kernel': 'poly'}\n",
      "0.427 (+/-0.000) for {'SVM__C': 10, 'SVM__degree': 3, 'SVM__gamma': 0.0001, 'SVM__kernel': 'poly'}\n",
      "0.427 (+/-0.000) for {'SVM__C': 10, 'SVM__degree': 3, 'SVM__gamma': 0.001, 'SVM__kernel': 'poly'}\n",
      "0.427 (+/-0.000) for {'SVM__C': 10, 'SVM__degree': 3, 'SVM__gamma': 0.01, 'SVM__kernel': 'poly'}\n",
      "0.837 (+/-0.017) for {'SVM__C': 10, 'SVM__degree': 3, 'SVM__gamma': 0.1, 'SVM__kernel': 'poly'}\n",
      "0.427 (+/-0.000) for {'SVM__C': 10, 'SVM__degree': 5, 'SVM__gamma': 0.0001, 'SVM__kernel': 'poly'}\n",
      "0.427 (+/-0.000) for {'SVM__C': 10, 'SVM__degree': 5, 'SVM__gamma': 0.001, 'SVM__kernel': 'poly'}\n",
      "0.427 (+/-0.000) for {'SVM__C': 10, 'SVM__degree': 5, 'SVM__gamma': 0.01, 'SVM__kernel': 'poly'}\n",
      "0.707 (+/-0.022) for {'SVM__C': 10, 'SVM__degree': 5, 'SVM__gamma': 0.1, 'SVM__kernel': 'poly'}\n",
      "0.427 (+/-0.000) for {'SVM__C': 100, 'SVM__degree': 3, 'SVM__gamma': 0.0001, 'SVM__kernel': 'poly'}\n",
      "0.427 (+/-0.000) for {'SVM__C': 100, 'SVM__degree': 3, 'SVM__gamma': 0.001, 'SVM__kernel': 'poly'}\n",
      "0.516 (+/-0.040) for {'SVM__C': 100, 'SVM__degree': 3, 'SVM__gamma': 0.01, 'SVM__kernel': 'poly'}\n",
      "0.839 (+/-0.017) for {'SVM__C': 100, 'SVM__degree': 3, 'SVM__gamma': 0.1, 'SVM__kernel': 'poly'}\n",
      "0.427 (+/-0.000) for {'SVM__C': 100, 'SVM__degree': 5, 'SVM__gamma': 0.0001, 'SVM__kernel': 'poly'}\n",
      "0.427 (+/-0.000) for {'SVM__C': 100, 'SVM__degree': 5, 'SVM__gamma': 0.001, 'SVM__kernel': 'poly'}\n",
      "0.427 (+/-0.000) for {'SVM__C': 100, 'SVM__degree': 5, 'SVM__gamma': 0.01, 'SVM__kernel': 'poly'}\n",
      "0.726 (+/-0.024) for {'SVM__C': 100, 'SVM__degree': 5, 'SVM__gamma': 0.1, 'SVM__kernel': 'poly'}\n",
      "0.427 (+/-0.000) for {'SVM__C': 1000, 'SVM__degree': 3, 'SVM__gamma': 0.0001, 'SVM__kernel': 'poly'}\n",
      "0.427 (+/-0.000) for {'SVM__C': 1000, 'SVM__degree': 3, 'SVM__gamma': 0.001, 'SVM__kernel': 'poly'}\n",
      "0.831 (+/-0.022) for {'SVM__C': 1000, 'SVM__degree': 3, 'SVM__gamma': 0.01, 'SVM__kernel': 'poly'}\n",
      "0.748 (+/-0.052) for {'SVM__C': 1000, 'SVM__degree': 3, 'SVM__gamma': 0.1, 'SVM__kernel': 'poly'}\n",
      "0.427 (+/-0.000) for {'SVM__C': 1000, 'SVM__degree': 5, 'SVM__gamma': 0.0001, 'SVM__kernel': 'poly'}\n",
      "0.427 (+/-0.000) for {'SVM__C': 1000, 'SVM__degree': 5, 'SVM__gamma': 0.001, 'SVM__kernel': 'poly'}\n",
      "0.427 (+/-0.001) for {'SVM__C': 1000, 'SVM__degree': 5, 'SVM__gamma': 0.01, 'SVM__kernel': 'poly'}\n",
      "0.720 (+/-0.127) for {'SVM__C': 1000, 'SVM__degree': 5, 'SVM__gamma': 0.1, 'SVM__kernel': 'poly'}\n",
      "\n",
      "Detailed classification report:\n",
      "\n",
      "The model is trained on the full development set.\n",
      "The scores are computed on the full evaluation set.\n",
      "\n",
      "              precision    recall  f1-score   support\n",
      "\n",
      "           0       0.94      0.87      0.91       589\n",
      "           1       0.70      0.84      0.76       203\n",
      "\n",
      "    accuracy                           0.86       792\n",
      "   macro avg       0.82      0.86      0.83       792\n",
      "weighted avg       0.88      0.86      0.87       792\n",
      "\n",
      "\n"
     ]
    }
   ],
   "source": [
    "# Hyperparameter tuning\n",
    "from sklearn.model_selection import GridSearchCV\n",
    "\n",
    "print(__doc__)\n",
    "# Set the parameters by cross-validation\n",
    "tuned_parameters = [{'SVM__kernel': ['poly'],\n",
    "                     'SVM__degree': [3,5],\n",
    "                     'SVM__C': [1,10,100,1000],\n",
    "                     'SVM__gamma': [0.0001,0.001,0.01,0.1]\n",
    "                     }]\n",
    "\n",
    "scores = ['f1']\n",
    "\n",
    "for score in scores:\n",
    "    print(\"# Tuning hyper-parameters for %s\" % score)\n",
    "    print()\n",
    "\n",
    "    clf = GridSearchCV(\n",
    "        estimator=pipeline_SVM,\n",
    "        param_grid=tuned_parameters,\n",
    "        cv=10, scoring='%s_macro' % score)\n",
    "    clf.fit(X_train, y_train)\n",
    "\n",
    "    print(\"Best parameters set found on development set:\")\n",
    "    print()\n",
    "    print(clf.best_params_)\n",
    "    print()\n",
    "    print(\"Grid scores on development set:\")\n",
    "    print()\n",
    "    means = clf.cv_results_['mean_test_score']\n",
    "    stds = clf.cv_results_['std_test_score']\n",
    "    for mean, std, params in zip(means, stds, clf.cv_results_['params']):\n",
    "        print(\"%0.3f (+/-%0.03f) for %r\"\n",
    "              % (mean, std * 2, params))\n",
    "    print()\n",
    "\n",
    "    print(\"Detailed classification report:\")\n",
    "    print()\n",
    "    print(\"The model is trained on the full development set.\")\n",
    "    print(\"The scores are computed on the full evaluation set.\")\n",
    "    print()\n",
    "    y_true, y_pred = y_validation, clf.predict(X_validation)\n",
    "    print(classification_report(y_true, y_pred))\n",
    "    print()\n"
   ]
  },
  {
   "cell_type": "code",
   "execution_count": 0,
   "metadata": {
    "colab": {
     "base_uri": "https://localhost:8080/",
     "height": 204
    },
    "colab_type": "code",
    "id": "qqKVsZIQNeLR",
    "outputId": "49b67601-79d6-4b7e-c66f-6e6652bd9fa5"
   },
   "outputs": [
    {
     "name": "stdout",
     "output_type": "stream",
     "text": [
      "              precision    recall  f1-score   support\n",
      "\n",
      "           0       0.92      0.90      0.91       589\n",
      "           1       0.73      0.79      0.76       203\n",
      "\n",
      "    accuracy                           0.87       792\n",
      "   macro avg       0.83      0.84      0.84       792\n",
      "weighted avg       0.88      0.87      0.87       792\n",
      "\n",
      "F1 Score for hold-out sample data: 83.53\n",
      "F1 Score based on cross validation: 86.14\n"
     ]
    }
   ],
   "source": [
    "# Support Vector Machine with Gaussion kernel\n",
    "from sklearn.svm import SVC\n",
    "seed = 786\n",
    "\n",
    "pipeline_SVM = Pipeline([\n",
    "    ('vect', CountVectorizer()),\n",
    "    ('SVM', SVC(kernel='sigmoid', random_state=seed, gamma=0.001, C=100)),\n",
    "])\n",
    "\n",
    "model_SVM = pipeline_SVM.fit(X_train, y_train)\n",
    "\n",
    "# Scoring based on F1 score\n",
    "y_predict_SVM = model_SVM.predict(X_validation)\n",
    "scores_holdout = f1_score(y_validation, y_predict_SVM, average=\"macro\")\n",
    "print(classification_report(y_validation, y_predict_SVM))\n",
    "print(\"F1 Score for hold-out sample data:\", round(scores_holdout*100,2))\n",
    "\n",
    "# Scoring based on F1 score for cross validation\n",
    "scores_cv = cross_val_score(model_SVM, X_train, y_train, cv=skf, scoring='f1_macro')\n",
    "print(\"F1 Score based on cross validation:\" , round(scores_cv.mean()*100,2))\n"
   ]
  },
  {
   "cell_type": "markdown",
   "metadata": {
    "colab_type": "text",
    "id": "DEqjVx-3cdRN"
   },
   "source": [
    "#### 4.2.5 Iteration 5:  BoW + KNN\n",
    "\n"
   ]
  },
  {
   "cell_type": "code",
   "execution_count": 0,
   "metadata": {
    "colab": {
     "base_uri": "https://localhost:8080/",
     "height": 204
    },
    "colab_type": "code",
    "id": "VSS0UNxjbAqZ",
    "outputId": "b7d66997-e598-46f6-e6a2-3c9c74803f60"
   },
   "outputs": [
    {
     "name": "stdout",
     "output_type": "stream",
     "text": [
      "              precision    recall  f1-score   support\n",
      "\n",
      "           0       0.91      0.85      0.88      1179\n",
      "           1       0.63      0.76      0.69       405\n",
      "\n",
      "    accuracy                           0.82      1584\n",
      "   macro avg       0.77      0.80      0.78      1584\n",
      "weighted avg       0.84      0.82      0.83      1584\n",
      "\n",
      "F1 Score for hold-out sample data: 78.34\n",
      "F1 Score based on cross validation: 78.0\n"
     ]
    }
   ],
   "source": [
    "# KNN\n",
    "from sklearn.neighbors import KNeighborsClassifier\n",
    "seed = 786\n",
    "\n",
    "pipeline_KNN = Pipeline([\n",
    "    ('vect', CountVectorizer()),\n",
    "    ('KNN', KNeighborsClassifier(n_neighbors = 25)),\n",
    "])\n",
    "\n",
    "model_KNN = pipeline_KNN.fit(X_train, y_train)\n",
    "\n",
    "# Scoring based on F1 score\n",
    "y_predict_KNN = model_KNN.predict(X_validation)\n",
    "scores_holdout = f1_score(y_validation, y_predict_KNN, average=\"macro\")\n",
    "print(classification_report(y_validation, y_predict_KNN))\n",
    "print(\"F1 Score for hold-out sample data:\", round(scores_holdout*100,2))\n",
    "\n",
    "# Scoring based on F1 score for cross validation\n",
    "scores_cv = cross_val_score(model_KNN, X_train, y_train, cv=skf, scoring='f1_macro')\n",
    "print(\"F1 Score based on cross validation:\" , round(scores_cv.mean()*100,2))\n"
   ]
  },
  {
   "cell_type": "markdown",
   "metadata": {
    "colab_type": "text",
    "id": "YJAOoO_WezXt"
   },
   "source": [
    "#### 4.2.6 Iteration 6:  BoW + Decision Tree"
   ]
  },
  {
   "cell_type": "code",
   "execution_count": 0,
   "metadata": {
    "colab": {
     "base_uri": "https://localhost:8080/",
     "height": 204
    },
    "colab_type": "code",
    "id": "398YDGF2e9jT",
    "outputId": "30e6d4ca-2e18-4ae6-bd22-cf2bca95081e"
   },
   "outputs": [
    {
     "name": "stdout",
     "output_type": "stream",
     "text": [
      "              precision    recall  f1-score   support\n",
      "\n",
      "           0       0.88      0.90      0.89      1179\n",
      "           1       0.69      0.64      0.66       405\n",
      "\n",
      "    accuracy                           0.84      1584\n",
      "   macro avg       0.79      0.77      0.78      1584\n",
      "weighted avg       0.83      0.84      0.83      1584\n",
      "\n",
      "F1 Score for hold-out sample data: 77.79\n",
      "F1 Score based on cross validation: 77.86\n"
     ]
    }
   ],
   "source": [
    "# Decision Tree\n",
    "from sklearn.tree import DecisionTreeClassifier\n",
    "seed = 786\n",
    "\n",
    "pipeline_DT = Pipeline([\n",
    "    ('vect', CountVectorizer()),\n",
    "    ('DT', DecisionTreeClassifier(criterion='entropy', max_features = 'sqrt', random_state=seed)),\n",
    "])\n",
    "\n",
    "model_DT = pipeline_DT.fit(X_train, y_train)\n",
    "\n",
    "# Scoring based on F1 score\n",
    "y_predict_DT = model_DT.predict(X_validation)\n",
    "scores_holdout = f1_score(y_validation, y_predict_DT, average=\"macro\")\n",
    "print(classification_report(y_validation, y_predict_DT))\n",
    "print(\"F1 Score for hold-out sample data:\", round(scores_holdout*100,2))\n",
    "\n",
    "# Scoring based on F1 score for cross validation\n",
    "scores_cv = cross_val_score(model_DT, X_train, y_train, cv=skf, scoring='f1_macro')\n",
    "print(\"F1 Score based on cross validation:\" , round(scores_cv.mean()*100,2))\n"
   ]
  },
  {
   "cell_type": "markdown",
   "metadata": {
    "colab_type": "text",
    "id": "fmdFjGzCgqPf"
   },
   "source": [
    "#### 4.2.7 Iteration 7:  BoW + RandomForest"
   ]
  },
  {
   "cell_type": "code",
   "execution_count": 0,
   "metadata": {
    "colab": {
     "base_uri": "https://localhost:8080/",
     "height": 646
    },
    "colab_type": "code",
    "id": "dzzBXKPUospL",
    "outputId": "2539911a-5b9c-46a4-cc7c-91a8e19baa76"
   },
   "outputs": [
    {
     "name": "stdout",
     "output_type": "stream",
     "text": [
      "Automatically created module for IPython interactive environment\n",
      "# Tuning hyper-parameters for f1\n",
      "\n",
      "Best parameters set found on development set:\n",
      "\n",
      "{'RF__criterion': 'entropy', 'RF__max_features': 'sqrt', 'RF__n_estimators': 750}\n",
      "\n",
      "Grid scores on development set:\n",
      "\n",
      "0.856 (+/-0.017) for {'RF__criterion': 'entropy', 'RF__max_features': 'sqrt', 'RF__n_estimators': 500}\n",
      "0.857 (+/-0.017) for {'RF__criterion': 'entropy', 'RF__max_features': 'sqrt', 'RF__n_estimators': 750}\n",
      "0.857 (+/-0.017) for {'RF__criterion': 'entropy', 'RF__max_features': 'sqrt', 'RF__n_estimators': 1000}\n",
      "0.852 (+/-0.022) for {'RF__criterion': 'entropy', 'RF__max_features': 'log2', 'RF__n_estimators': 500}\n",
      "0.853 (+/-0.022) for {'RF__criterion': 'entropy', 'RF__max_features': 'log2', 'RF__n_estimators': 750}\n",
      "0.854 (+/-0.020) for {'RF__criterion': 'entropy', 'RF__max_features': 'log2', 'RF__n_estimators': 1000}\n",
      "0.855 (+/-0.016) for {'RF__criterion': 'gini', 'RF__max_features': 'sqrt', 'RF__n_estimators': 500}\n",
      "0.856 (+/-0.015) for {'RF__criterion': 'gini', 'RF__max_features': 'sqrt', 'RF__n_estimators': 750}\n",
      "0.857 (+/-0.013) for {'RF__criterion': 'gini', 'RF__max_features': 'sqrt', 'RF__n_estimators': 1000}\n",
      "0.852 (+/-0.021) for {'RF__criterion': 'gini', 'RF__max_features': 'log2', 'RF__n_estimators': 500}\n",
      "0.854 (+/-0.018) for {'RF__criterion': 'gini', 'RF__max_features': 'log2', 'RF__n_estimators': 750}\n",
      "0.854 (+/-0.019) for {'RF__criterion': 'gini', 'RF__max_features': 'log2', 'RF__n_estimators': 1000}\n",
      "\n",
      "Detailed classification report:\n",
      "\n",
      "The model is trained on the full development set.\n",
      "The scores are computed on the full evaluation set.\n",
      "\n",
      "              precision    recall  f1-score   support\n",
      "\n",
      "           0       0.92      0.92      0.92       589\n",
      "           1       0.77      0.78      0.77       203\n",
      "\n",
      "    accuracy                           0.88       792\n",
      "   macro avg       0.85      0.85      0.85       792\n",
      "weighted avg       0.88      0.88      0.88       792\n",
      "\n",
      "\n"
     ]
    }
   ],
   "source": [
    "# Hyperparameter tuning\n",
    "from sklearn.model_selection import GridSearchCV\n",
    "from sklearn.ensemble import RandomForestClassifier\n",
    "seed = 786\n",
    "\n",
    "pipeline_RF = Pipeline([\n",
    "    ('vect', CountVectorizer()),\n",
    "    ('RF', RandomForestClassifier(n_estimators=500, criterion='entropy', max_features = 'sqrt', random_state=seed)),\n",
    "])\n",
    "\n",
    "model_RF = pipeline_RF.fit(X_train, y_train)\n",
    "\n",
    "print(__doc__)\n",
    "# Set the parameters by cross-validation\n",
    "#Number of trees\n",
    "n_estimators = [500,750,1000]\n",
    "# Criterion\n",
    "criterion = ['entropy', 'gini']\n",
    "# Number of features to consider at every split\n",
    "max_features = ['sqrt', 'log2']\n",
    "# Maximum number of levels in tree\n",
    "max_depth = [10, 30, 50, 70, 90, 110]\n",
    "max_depth.append(None)\n",
    "# Minimum number of samples required to split a node\n",
    "min_samples_split = [3, 5, 10]\n",
    "# Minimum number of samples required at each leaf node\n",
    "min_samples_leaf = [1, 2, 4]\n",
    "# Method of selecting samples for training each tree\n",
    "bootstrap = [True, False]\n",
    "\n",
    "tuned_parameters = [{'RF__criterion': criterion,\n",
    "                     'RF__max_features': max_features,\n",
    "                     'RF__n_estimators': n_estimators \n",
    "             }]\n",
    "\n",
    "scores = ['f1']\n",
    "\n",
    "for score in scores:\n",
    "    print(\"# Tuning hyper-parameters for %s\" % score)\n",
    "    print()\n",
    "\n",
    "    clf = GridSearchCV(\n",
    "        estimator=pipeline_RF,\n",
    "        param_grid=tuned_parameters,\n",
    "        cv=5, scoring='%s_macro' % score)\n",
    "    clf.fit(X_train, y_train)\n",
    "\n",
    "    print(\"Best parameters set found on development set:\")\n",
    "    print()\n",
    "    print(clf.best_params_)\n",
    "    print()\n",
    "    print(\"Grid scores on development set:\")\n",
    "    print()\n",
    "    means = clf.cv_results_['mean_test_score']\n",
    "    stds = clf.cv_results_['std_test_score']\n",
    "    for mean, std, params in zip(means, stds, clf.cv_results_['params']):\n",
    "        print(\"%0.3f (+/-%0.03f) for %r\"\n",
    "              % (mean, std * 2, params))\n",
    "    print()\n",
    "\n",
    "    print(\"Detailed classification report:\")\n",
    "    print()\n",
    "    print(\"The model is trained on the full development set.\")\n",
    "    print(\"The scores are computed on the full evaluation set.\")\n",
    "    print()\n",
    "    y_true, y_pred = y_validation, clf.predict(X_validation)\n",
    "    print(classification_report(y_true, y_pred))\n",
    "    print()\n"
   ]
  },
  {
   "cell_type": "code",
   "execution_count": 0,
   "metadata": {
    "colab": {
     "base_uri": "https://localhost:8080/",
     "height": 204
    },
    "colab_type": "code",
    "id": "cp_KtL2Ug28M",
    "outputId": "6f286d56-6761-4bef-ce92-59ec439062e3"
   },
   "outputs": [
    {
     "name": "stdout",
     "output_type": "stream",
     "text": [
      "              precision    recall  f1-score   support\n",
      "\n",
      "           0       0.92      0.92      0.92       589\n",
      "           1       0.77      0.78      0.77       203\n",
      "\n",
      "    accuracy                           0.88       792\n",
      "   macro avg       0.85      0.85      0.85       792\n",
      "weighted avg       0.88      0.88      0.88       792\n",
      "\n",
      "F1 Score for hold-out sample data: 84.67\n",
      "F1 Score based on cross validation: 85.45\n"
     ]
    }
   ],
   "source": [
    "# RandomForest\n",
    "from sklearn.ensemble import RandomForestClassifier\n",
    "seed = 786\n",
    "\n",
    "pipeline_RF = Pipeline([\n",
    "    ('vect', CountVectorizer()),\n",
    "    ('RF', RandomForestClassifier(n_estimators=750, criterion='entropy', max_features = 'sqrt', random_state=seed)),\n",
    "])\n",
    "\n",
    "model_RF = pipeline_RF.fit(X_train, y_train)\n",
    "\n",
    "# Scoring based on F1 score\n",
    "y_predict_RF = model_RF.predict(X_validation)\n",
    "scores_holdout = f1_score(y_validation, y_predict_RF, average=\"macro\")\n",
    "print(classification_report(y_validation, y_predict_RF))\n",
    "print(\"F1 Score for hold-out sample data:\", round(scores_holdout*100,2))\n",
    "\n",
    "# Scoring based on F1 score for cross validation\n",
    "skf = StratifiedKFold(n_splits=10, random_state=seed)\n",
    "scores_cv = cross_val_score(model_RF, X_train, y_train, cv=skf, scoring='f1_macro')\n",
    "print(\"F1 Score based on cross validation:\" , round(scores_cv.mean()*100,2))"
   ]
  },
  {
   "cell_type": "markdown",
   "metadata": {
    "colab_type": "text",
    "id": "qfildb7himxp"
   },
   "source": [
    "#### 4.2.8 Iteration 8:  BoW + Gradient boosting"
   ]
  },
  {
   "cell_type": "code",
   "execution_count": 0,
   "metadata": {
    "colab": {
     "base_uri": "https://localhost:8080/",
     "height": 204
    },
    "colab_type": "code",
    "id": "qc-8Px9kiulF",
    "outputId": "1be8e6fe-e4c4-4c43-e436-c484023a277b"
   },
   "outputs": [
    {
     "name": "stdout",
     "output_type": "stream",
     "text": [
      "              precision    recall  f1-score   support\n",
      "\n",
      "           0       0.90      0.94      0.92      1768\n",
      "           1       0.80      0.71      0.75       608\n",
      "\n",
      "    accuracy                           0.88      2376\n",
      "   macro avg       0.85      0.82      0.84      2376\n",
      "weighted avg       0.88      0.88      0.88      2376\n",
      "\n",
      "F1 Score for hold-out sample data: 83.62\n",
      "F1 Score based on cross validation: 83.46\n"
     ]
    }
   ],
   "source": [
    "# Gradient boosting\n",
    "from sklearn.ensemble import GradientBoostingClassifier\n",
    "seed = 786\n",
    "\n",
    "pipeline_GB = Pipeline([\n",
    "    ('vect', CountVectorizer()),\n",
    "    ('tfidf',  TfidfTransformer()),\n",
    "    ('GB', GradientBoostingClassifier(n_estimators=700, max_features = 'sqrt', random_state=seed)),\n",
    "])\n",
    "\n",
    "model_GB = pipeline_GB.fit(X_train, y_train)\n",
    "\n",
    "# Scoring based on F1 score\n",
    "y_predict_GB = model_GB.predict(X_validation)\n",
    "scores_holdout = f1_score(y_validation, y_predict_GB, average=\"macro\")\n",
    "print(classification_report(y_validation, y_predict_GB))\n",
    "print(\"F1 Score for hold-out sample data:\", round(scores_holdout*100,2))\n",
    "\n",
    "# Scoring based on F1 score for cross validation\n",
    "scores_cv = cross_val_score(model_GB, X_train, y_train, cv=skf, scoring='f1_macro')\n",
    "print(\"F1 Score based on cross validation:\" , round(scores_cv.mean()*100,2))"
   ]
  },
  {
   "cell_type": "markdown",
   "metadata": {
    "colab_type": "text",
    "id": "GCAQxPFpizfT"
   },
   "source": [
    "#### 4.2.9 Iteration 9:  BoW + Extreme gradient boosting"
   ]
  },
  {
   "cell_type": "code",
   "execution_count": 0,
   "metadata": {
    "colab": {
     "base_uri": "https://localhost:8080/",
     "height": 204
    },
    "colab_type": "code",
    "id": "WAasE98KkQtq",
    "outputId": "330bb310-30f4-4614-e9c1-d535bae3c5ca"
   },
   "outputs": [
    {
     "name": "stdout",
     "output_type": "stream",
     "text": [
      "              precision    recall  f1-score   support\n",
      "\n",
      "           0       0.92      0.92      0.92      1768\n",
      "           1       0.77      0.77      0.77       608\n",
      "\n",
      "    accuracy                           0.88      2376\n",
      "   macro avg       0.84      0.85      0.85      2376\n",
      "weighted avg       0.88      0.88      0.88      2376\n",
      "\n",
      "F1 Score for hold-out sample data: 84.58\n",
      "F1 Score based on cross validation: 84.67\n"
     ]
    }
   ],
   "source": [
    "# Extreme gradient boosting\n",
    "from xgboost import XGBClassifier\n",
    "seed = 786\n",
    "\n",
    "pipeline_XGB = Pipeline([\n",
    "    ('vect', CountVectorizer()),\n",
    "    ('tfidf',  TfidfTransformer()),\n",
    "    ('XGB', XGBClassifier(max_depth = 3, n_estimators=500, learning_rate = 0.1, max_features = 'sqrt', random_state=seed)),\n",
    "])\n",
    "\n",
    "model_XGB = pipeline_XGB.fit(X_train, y_train)\n",
    "\n",
    "# Scoring based on F1 score\n",
    "y_predict_XGB = model_XGB.predict(X_validation)\n",
    "scores_holdout = f1_score(y_validation, y_predict_XGB, average=\"macro\")\n",
    "print(classification_report(y_validation, y_predict_XGB))\n",
    "print(\"F1 Score for hold-out sample data:\", round(scores_holdout*100,2))\n",
    "\n",
    "# Scoring based on F1 score for cross validation\n",
    "scores_cv = cross_val_score(model_XGB, X_train, y_train, cv=skf, scoring='f1_macro')\n",
    "print(\"F1 Score based on cross validation:\" , round(scores_cv.mean()*100,2))\n"
   ]
  },
  {
   "cell_type": "markdown",
   "metadata": {
    "colab_type": "text",
    "id": "oEZt4fVQX2Z8"
   },
   "source": [
    "#### 4.2.10 Test data"
   ]
  },
  {
   "cell_type": "code",
   "execution_count": 0,
   "metadata": {
    "colab": {
     "base_uri": "https://localhost:8080/",
     "height": 187
    },
    "colab_type": "code",
    "id": "EdNqMIpTXyhM",
    "outputId": "cf4d0962-5fda-4aea-94d8-7e381181a373"
   },
   "outputs": [
    {
     "name": "stdout",
     "output_type": "stream",
     "text": [
      "              precision    recall  f1-score   support\n",
      "\n",
      "           0       0.96      0.92      0.94       590\n",
      "           1       0.79      0.89      0.84       202\n",
      "\n",
      "    accuracy                           0.91       792\n",
      "   macro avg       0.88      0.91      0.89       792\n",
      "weighted avg       0.92      0.91      0.91       792\n",
      "\n",
      "F1 Score for hold-out sample data: 88.97\n"
     ]
    }
   ],
   "source": [
    "# Scoring based on F1 score\n",
    "y_predict_SVM = model_SVM.predict(X_test)\n",
    "scores_holdout = f1_score(y_test, y_predict_SVM, average=\"macro\")\n",
    "print(classification_report(y_test, y_predict_SVM))\n",
    "print(\"F1 Score for hold-out sample data:\", round(scores_holdout*100,2))"
   ]
  },
  {
   "cell_type": "markdown",
   "metadata": {
    "colab_type": "text",
    "id": "S4B27SoZb2Mv"
   },
   "source": [
    "> Out of above all tested method, **RandomForest classifier** performs better compare to other methods."
   ]
  },
  {
   "cell_type": "markdown",
   "metadata": {
    "colab_type": "text",
    "id": "-TvGUg885or_"
   },
   "source": [
    "## 5. Predicting Output\n",
    "\n",
    "Let's predict **label** based on above finalized classifier."
   ]
  },
  {
   "cell_type": "code",
   "execution_count": 0,
   "metadata": {
    "colab": {
     "base_uri": "https://localhost:8080/",
     "height": 204
    },
    "colab_type": "code",
    "id": "C31YuNU8byo4",
    "outputId": "7c064e4d-b94c-436c-c4bc-98b3ceb2fe6b"
   },
   "outputs": [
    {
     "data": {
      "text/html": [
       "<div>\n",
       "<style scoped>\n",
       "    .dataframe tbody tr th:only-of-type {\n",
       "        vertical-align: middle;\n",
       "    }\n",
       "\n",
       "    .dataframe tbody tr th {\n",
       "        vertical-align: top;\n",
       "    }\n",
       "\n",
       "    .dataframe thead th {\n",
       "        text-align: right;\n",
       "    }\n",
       "</style>\n",
       "<table border=\"1\" class=\"dataframe\">\n",
       "  <thead>\n",
       "    <tr style=\"text-align: right;\">\n",
       "      <th></th>\n",
       "      <th>id</th>\n",
       "      <th>label</th>\n",
       "    </tr>\n",
       "  </thead>\n",
       "  <tbody>\n",
       "    <tr>\n",
       "      <th>0</th>\n",
       "      <td>7921</td>\n",
       "      <td>1</td>\n",
       "    </tr>\n",
       "    <tr>\n",
       "      <th>1</th>\n",
       "      <td>7922</td>\n",
       "      <td>1</td>\n",
       "    </tr>\n",
       "    <tr>\n",
       "      <th>2</th>\n",
       "      <td>7923</td>\n",
       "      <td>1</td>\n",
       "    </tr>\n",
       "    <tr>\n",
       "      <th>3</th>\n",
       "      <td>7924</td>\n",
       "      <td>1</td>\n",
       "    </tr>\n",
       "    <tr>\n",
       "      <th>4</th>\n",
       "      <td>7925</td>\n",
       "      <td>1</td>\n",
       "    </tr>\n",
       "  </tbody>\n",
       "</table>\n",
       "</div>"
      ],
      "text/plain": [
       "     id  label\n",
       "0  7921      1\n",
       "1  7922      1\n",
       "2  7923      1\n",
       "3  7924      1\n",
       "4  7925      1"
      ]
     },
     "execution_count": 42,
     "metadata": {
      "tags": []
     },
     "output_type": "execute_result"
    }
   ],
   "source": [
    "# Predicting the output\n",
    "Test_data['y_predict_SVM'] = model_SVM.predict(Test_data['tweet_tidy'])\n",
    "Submission = Test_data[['id','y_predict_SVM']]\n",
    "Submission = Submission.rename(columns = {'y_predict_SVM':'label'})\n",
    "Submission.head(5)"
   ]
  },
  {
   "cell_type": "code",
   "execution_count": 0,
   "metadata": {
    "colab": {},
    "colab_type": "code",
    "id": "A1qtD8vZbzGF"
   },
   "outputs": [],
   "source": [
    "# Exporting output\n",
    "Submission.to_csv(\"/content/gdrive/My Drive/Colab/Sentiment analysis/Output/Output_v3.csv\", index = False)"
   ]
  }
 ],
 "metadata": {
  "accelerator": "GPU",
  "colab": {
   "collapsed_sections": [],
   "name": "Sentiments Analysis",
   "provenance": [],
   "toc_visible": true,
   "version": "0.3.2"
  },
  "kernelspec": {
   "display_name": "Python 3",
   "language": "python",
   "name": "python3"
  },
  "language_info": {
   "codemirror_mode": {
    "name": "ipython",
    "version": 3
   },
   "file_extension": ".py",
   "mimetype": "text/x-python",
   "name": "python",
   "nbconvert_exporter": "python",
   "pygments_lexer": "ipython3",
   "version": "3.7.1"
  }
 },
 "nbformat": 4,
 "nbformat_minor": 1
}
