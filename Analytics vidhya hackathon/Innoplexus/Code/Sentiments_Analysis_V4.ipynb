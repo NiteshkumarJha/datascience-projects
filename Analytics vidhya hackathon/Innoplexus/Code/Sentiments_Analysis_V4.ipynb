{
 "cells": [
  {
   "cell_type": "markdown",
   "metadata": {
    "colab_type": "text",
    "id": "a2zIPpwWcsq2"
   },
   "source": [
    "# Sentiments Analysis"
   ]
  },
  {
   "cell_type": "markdown",
   "metadata": {
    "colab_type": "text",
    "id": "q0yS8Hr7Np55"
   },
   "source": [
    "## 1. Introduction\n",
    "\n"
   ]
  },
  {
   "cell_type": "markdown",
   "metadata": {
    "colab_type": "text",
    "id": "c4KbOgLKc3Dg"
   },
   "source": [
    "## 2. Getting Started"
   ]
  },
  {
   "cell_type": "code",
   "execution_count": 1,
   "metadata": {},
   "outputs": [],
   "source": [
    "def warn(*args, **kwargs):\n",
    "    pass\n",
    "import warnings\n",
    "warnings.warn = warn"
   ]
  },
  {
   "cell_type": "code",
   "execution_count": 2,
   "metadata": {
    "colab": {},
    "colab_type": "code",
    "id": "MHOv5rs7dYtp"
   },
   "outputs": [],
   "source": [
    "# Importing the libraries\n",
    "import numpy as np\n",
    "import matplotlib.pyplot as plt\n",
    "import pandas as pd\n",
    "import seaborn as sns\n",
    "import matplotlib.pyplot as plt\n",
    "%matplotlib inline"
   ]
  },
  {
   "cell_type": "code",
   "execution_count": 3,
   "metadata": {},
   "outputs": [],
   "source": [
    "# Setting the path\n",
    "import os\n",
    "os.chdir(\"C:/Users/datal/Desktop/New\")"
   ]
  },
  {
   "cell_type": "code",
   "execution_count": 4,
   "metadata": {
    "colab": {},
    "colab_type": "code",
    "id": "J4nMRopCdgsR"
   },
   "outputs": [],
   "source": [
    "# Importing the dataset\n",
    "Train = pd.read_csv(\"./Input/train_F3WbcTw.csv\")\n",
    "Test = pd.read_csv(\"./Input/test_tOlRoBf.csv\")\n",
    "Sample_submission = pd.read_csv(\"./Input/sample_submission_i5xnIZD.csv\")"
   ]
  },
  {
   "cell_type": "markdown",
   "metadata": {
    "colab_type": "text",
    "id": "_eTZh4pjfuA4"
   },
   "source": [
    "## 2. Understanding the data"
   ]
  },
  {
   "cell_type": "code",
   "execution_count": 5,
   "metadata": {
    "colab": {
     "base_uri": "https://localhost:8080/",
     "height": 51
    },
    "colab_type": "code",
    "id": "_F44h0sPfwPV",
    "outputId": "369bf10b-38ee-4652-c7d4-52c5ff6e36f7"
   },
   "outputs": [
    {
     "name": "stdout",
     "output_type": "stream",
     "text": [
      "Number of rows and columns in train dataset: (5279, 4)\n",
      "Number of rows and columns in test dataset: (2924, 3)\n"
     ]
    }
   ],
   "source": [
    "# Shape of data\n",
    "print(\"Number of rows and columns in train dataset:\",Train.shape)\n",
    "print(\"Number of rows and columns in test dataset:\",Test.shape)"
   ]
  },
  {
   "cell_type": "code",
   "execution_count": 6,
   "metadata": {
    "colab": {
     "base_uri": "https://localhost:8080/",
     "height": 340
    },
    "colab_type": "code",
    "id": "l77DMHffgD1O",
    "outputId": "f68e7e1e-5b03-4d4c-fd00-f93389bd70d5"
   },
   "outputs": [
    {
     "name": "stdout",
     "output_type": "stream",
     "text": [
      "-----------------Variable Structure of training data--------------\n",
      "<class 'pandas.core.frame.DataFrame'>\n",
      "RangeIndex: 5279 entries, 0 to 5278\n",
      "Data columns (total 4 columns):\n",
      "unique_hash    5279 non-null object\n",
      "text           5279 non-null object\n",
      "drug           5279 non-null object\n",
      "sentiment      5279 non-null int64\n",
      "dtypes: int64(1), object(3)\n",
      "memory usage: 165.0+ KB\n",
      "-----------------Variable Structure of test data------------------\n",
      "<class 'pandas.core.frame.DataFrame'>\n",
      "RangeIndex: 2924 entries, 0 to 2923\n",
      "Data columns (total 3 columns):\n",
      "unique_hash    2924 non-null object\n",
      "text           2924 non-null object\n",
      "drug           2924 non-null object\n",
      "dtypes: object(3)\n",
      "memory usage: 68.6+ KB\n"
     ]
    }
   ],
   "source": [
    "# Variable structure\n",
    "print(\"-----------------Variable Structure of training data--------------\")\n",
    "Train.info()\n",
    "print(\"-----------------Variable Structure of test data------------------\")\n",
    "Test.info()"
   ]
  },
  {
   "cell_type": "markdown",
   "metadata": {
    "colab_type": "text",
    "id": "tk6TW3Mngfc4"
   },
   "source": [
    " \n",
    "> No missing value has been observed in this data.\n",
    "\n",
    "Let's reconfirm missing value in another step as well."
   ]
  },
  {
   "cell_type": "code",
   "execution_count": 7,
   "metadata": {
    "colab": {
     "base_uri": "https://localhost:8080/",
     "height": 51
    },
    "colab_type": "code",
    "id": "xXFuAs-miU6e",
    "outputId": "170c5586-4311-4fc5-d6b7-c971a2c3176f"
   },
   "outputs": [
    {
     "name": "stdout",
     "output_type": "stream",
     "text": [
      "Missing value in Train data: 0\n",
      "Missing value in Test data: 0\n"
     ]
    }
   ],
   "source": [
    "print(\"Missing value in Train data:\", Train.isnull().sum().sum())\n",
    "print(\"Missing value in Test data:\", Test.isnull().sum().sum())"
   ]
  },
  {
   "cell_type": "markdown",
   "metadata": {
    "colab_type": "text",
    "id": "9si-H-weilgW"
   },
   "source": [
    "> It got confirmed that this dataset does not contain any missing value.\n",
    "\n",
    "Let's look at top 5 rows of train dataset:"
   ]
  },
  {
   "cell_type": "code",
   "execution_count": 8,
   "metadata": {
    "colab": {
     "base_uri": "https://localhost:8080/",
     "height": 204
    },
    "colab_type": "code",
    "id": "yPjOX8wYi08s",
    "outputId": "9b8b50bf-76b4-4e15-a0ff-a40a23a4c83d"
   },
   "outputs": [
    {
     "data": {
      "text/html": [
       "<div>\n",
       "<style scoped>\n",
       "    .dataframe tbody tr th:only-of-type {\n",
       "        vertical-align: middle;\n",
       "    }\n",
       "\n",
       "    .dataframe tbody tr th {\n",
       "        vertical-align: top;\n",
       "    }\n",
       "\n",
       "    .dataframe thead th {\n",
       "        text-align: right;\n",
       "    }\n",
       "</style>\n",
       "<table border=\"1\" class=\"dataframe\">\n",
       "  <thead>\n",
       "    <tr style=\"text-align: right;\">\n",
       "      <th></th>\n",
       "      <th>unique_hash</th>\n",
       "      <th>text</th>\n",
       "      <th>drug</th>\n",
       "      <th>sentiment</th>\n",
       "    </tr>\n",
       "  </thead>\n",
       "  <tbody>\n",
       "    <tr>\n",
       "      <th>0</th>\n",
       "      <td>2e180be4c9214c1f5ab51fd8cc32bc80c9f612e0</td>\n",
       "      <td>Autoimmune diseases tend to come in clusters. ...</td>\n",
       "      <td>gilenya</td>\n",
       "      <td>2</td>\n",
       "    </tr>\n",
       "    <tr>\n",
       "      <th>1</th>\n",
       "      <td>9eba8f80e7e20f3a2f48685530748fbfa95943e4</td>\n",
       "      <td>I can completely understand why you’d want to ...</td>\n",
       "      <td>gilenya</td>\n",
       "      <td>2</td>\n",
       "    </tr>\n",
       "    <tr>\n",
       "      <th>2</th>\n",
       "      <td>fe809672251f6bd0d986e00380f48d047c7e7b76</td>\n",
       "      <td>Interesting that it only targets S1P-1/5 recep...</td>\n",
       "      <td>fingolimod</td>\n",
       "      <td>2</td>\n",
       "    </tr>\n",
       "    <tr>\n",
       "      <th>3</th>\n",
       "      <td>bd22104dfa9ec80db4099523e03fae7a52735eb6</td>\n",
       "      <td>Very interesting, grand merci. Now I wonder wh...</td>\n",
       "      <td>ocrevus</td>\n",
       "      <td>2</td>\n",
       "    </tr>\n",
       "    <tr>\n",
       "      <th>4</th>\n",
       "      <td>b227688381f9b25e5b65109dd00f7f895e838249</td>\n",
       "      <td>Hi everybody, My latest MRI results for Brain ...</td>\n",
       "      <td>gilenya</td>\n",
       "      <td>1</td>\n",
       "    </tr>\n",
       "  </tbody>\n",
       "</table>\n",
       "</div>"
      ],
      "text/plain": [
       "                                unique_hash  \\\n",
       "0  2e180be4c9214c1f5ab51fd8cc32bc80c9f612e0   \n",
       "1  9eba8f80e7e20f3a2f48685530748fbfa95943e4   \n",
       "2  fe809672251f6bd0d986e00380f48d047c7e7b76   \n",
       "3  bd22104dfa9ec80db4099523e03fae7a52735eb6   \n",
       "4  b227688381f9b25e5b65109dd00f7f895e838249   \n",
       "\n",
       "                                                text        drug  sentiment  \n",
       "0  Autoimmune diseases tend to come in clusters. ...     gilenya          2  \n",
       "1  I can completely understand why you’d want to ...     gilenya          2  \n",
       "2  Interesting that it only targets S1P-1/5 recep...  fingolimod          2  \n",
       "3  Very interesting, grand merci. Now I wonder wh...     ocrevus          2  \n",
       "4  Hi everybody, My latest MRI results for Brain ...     gilenya          1  "
      ]
     },
     "execution_count": 8,
     "metadata": {},
     "output_type": "execute_result"
    }
   ],
   "source": [
    "# Top 5 rows\n",
    "Train.head(5)"
   ]
  },
  {
   "cell_type": "markdown",
   "metadata": {
    "colab_type": "text",
    "id": "xl_hvGJfjBYI"
   },
   "source": [
    "Now, let's look at distribution of label:"
   ]
  },
  {
   "cell_type": "code",
   "execution_count": 9,
   "metadata": {
    "colab": {
     "base_uri": "https://localhost:8080/",
     "height": 119
    },
    "colab_type": "code",
    "id": "Tg8CGCUZgPtG",
    "outputId": "8e50fda4-02b6-4f95-9b71-dd42ac82d970"
   },
   "outputs": [
    {
     "name": "stdout",
     "output_type": "stream",
     "text": [
      "The unique number of Product Categories:  3\n",
      "Below are the distribution of each categories in Train data:\n"
     ]
    },
    {
     "data": {
      "text/plain": [
       "2    0.724569\n",
       "1    0.158553\n",
       "0    0.116878\n",
       "Name: sentiment, dtype: float64"
      ]
     },
     "execution_count": 9,
     "metadata": {},
     "output_type": "execute_result"
    }
   ],
   "source": [
    "# Checking distribution of Product_Category\n",
    "print(\"The unique number of Product Categories: \",len(Train['sentiment'].unique()))\n",
    "print(\"Below are the distribution of each categories in Train data:\")\n",
    "Train['sentiment'].value_counts(normalize = True)"
   ]
  },
  {
   "cell_type": "code",
   "execution_count": 10,
   "metadata": {
    "colab": {
     "base_uri": "https://localhost:8080/",
     "height": 337
    },
    "colab_type": "code",
    "id": "vk1DlkaqlheA",
    "outputId": "c988dac0-c072-4ebb-d6a8-70723142e4f8"
   },
   "outputs": [
    {
     "data": {
      "image/png": "[encoded data removed]",
      "text/plain": [
       "<Figure size 504x360 with 1 Axes>"
      ]
     },
     "metadata": {
      "needs_background": "light"
     },
     "output_type": "display_data"
    }
   ],
   "source": [
    "plt.figure(figsize=(7,5))\n",
    "sns.countplot(x = 'sentiment', data = Train);"
   ]
  },
  {
   "cell_type": "markdown",
   "metadata": {
    "colab_type": "text",
    "id": "gaY2H8iOm-x1"
   },
   "source": [
    "> It is clearly visible from above analysis that we are dealing with **unbalanced classification** problem."
   ]
  },
  {
   "cell_type": "code",
   "execution_count": 11,
   "metadata": {},
   "outputs": [
    {
     "data": {
      "text/html": [
       "<div>\n",
       "<style scoped>\n",
       "    .dataframe tbody tr th:only-of-type {\n",
       "        vertical-align: middle;\n",
       "    }\n",
       "\n",
       "    .dataframe tbody tr th {\n",
       "        vertical-align: top;\n",
       "    }\n",
       "\n",
       "    .dataframe thead th {\n",
       "        text-align: right;\n",
       "    }\n",
       "</style>\n",
       "<table border=\"1\" class=\"dataframe\">\n",
       "  <thead>\n",
       "    <tr style=\"text-align: right;\">\n",
       "      <th></th>\n",
       "      <th>unique_hash</th>\n",
       "      <th>text</th>\n",
       "      <th>drug</th>\n",
       "      <th>sentiment</th>\n",
       "      <th>pre_clean_len</th>\n",
       "    </tr>\n",
       "  </thead>\n",
       "  <tbody>\n",
       "    <tr>\n",
       "      <th>0</th>\n",
       "      <td>2e180be4c9214c1f5ab51fd8cc32bc80c9f612e0</td>\n",
       "      <td>Autoimmune diseases tend to come in clusters. ...</td>\n",
       "      <td>gilenya</td>\n",
       "      <td>2</td>\n",
       "      <td>404</td>\n",
       "    </tr>\n",
       "    <tr>\n",
       "      <th>1</th>\n",
       "      <td>9eba8f80e7e20f3a2f48685530748fbfa95943e4</td>\n",
       "      <td>I can completely understand why you’d want to ...</td>\n",
       "      <td>gilenya</td>\n",
       "      <td>2</td>\n",
       "      <td>1184</td>\n",
       "    </tr>\n",
       "    <tr>\n",
       "      <th>2</th>\n",
       "      <td>fe809672251f6bd0d986e00380f48d047c7e7b76</td>\n",
       "      <td>Interesting that it only targets S1P-1/5 recep...</td>\n",
       "      <td>fingolimod</td>\n",
       "      <td>2</td>\n",
       "      <td>780</td>\n",
       "    </tr>\n",
       "    <tr>\n",
       "      <th>3</th>\n",
       "      <td>bd22104dfa9ec80db4099523e03fae7a52735eb6</td>\n",
       "      <td>Very interesting, grand merci. Now I wonder wh...</td>\n",
       "      <td>ocrevus</td>\n",
       "      <td>2</td>\n",
       "      <td>124</td>\n",
       "    </tr>\n",
       "    <tr>\n",
       "      <th>4</th>\n",
       "      <td>b227688381f9b25e5b65109dd00f7f895e838249</td>\n",
       "      <td>Hi everybody, My latest MRI results for Brain ...</td>\n",
       "      <td>gilenya</td>\n",
       "      <td>1</td>\n",
       "      <td>612</td>\n",
       "    </tr>\n",
       "  </tbody>\n",
       "</table>\n",
       "</div>"
      ],
      "text/plain": [
       "                                unique_hash  \\\n",
       "0  2e180be4c9214c1f5ab51fd8cc32bc80c9f612e0   \n",
       "1  9eba8f80e7e20f3a2f48685530748fbfa95943e4   \n",
       "2  fe809672251f6bd0d986e00380f48d047c7e7b76   \n",
       "3  bd22104dfa9ec80db4099523e03fae7a52735eb6   \n",
       "4  b227688381f9b25e5b65109dd00f7f895e838249   \n",
       "\n",
       "                                                text        drug  sentiment  \\\n",
       "0  Autoimmune diseases tend to come in clusters. ...     gilenya          2   \n",
       "1  I can completely understand why you’d want to ...     gilenya          2   \n",
       "2  Interesting that it only targets S1P-1/5 recep...  fingolimod          2   \n",
       "3  Very interesting, grand merci. Now I wonder wh...     ocrevus          2   \n",
       "4  Hi everybody, My latest MRI results for Brain ...     gilenya          1   \n",
       "\n",
       "   pre_clean_len  \n",
       "0            404  \n",
       "1           1184  \n",
       "2            780  \n",
       "3            124  \n",
       "4            612  "
      ]
     },
     "execution_count": 11,
     "metadata": {},
     "output_type": "execute_result"
    }
   ],
   "source": [
    "Train['pre_clean_len'] = [len(t) for t in Train.text]\n",
    "Train.head(5)"
   ]
  },
  {
   "cell_type": "code",
   "execution_count": 12,
   "metadata": {},
   "outputs": [
    {
     "data": {
      "text/plain": [
       "count      5279.000000\n",
       "mean       2075.701080\n",
       "std        5075.540253\n",
       "min           6.000000\n",
       "25%         419.000000\n",
       "50%         807.000000\n",
       "75%        1706.000000\n",
       "max      127948.000000\n",
       "Name: pre_clean_len, dtype: float64"
      ]
     },
     "execution_count": 12,
     "metadata": {},
     "output_type": "execute_result"
    }
   ],
   "source": [
    "Train['pre_clean_len'].describe()"
   ]
  },
  {
   "cell_type": "code",
   "execution_count": 13,
   "metadata": {},
   "outputs": [
    {
     "data": {
      "image/png": "[encoded data removed]",
      "text/plain": [
       "<Figure size 360x360 with 1 Axes>"
      ]
     },
     "metadata": {
      "needs_background": "light"
     },
     "output_type": "display_data"
    }
   ],
   "source": [
    "fig, ax = plt.subplots(figsize=(5, 5))\n",
    "plt.boxplot(Train.pre_clean_len)\n",
    "plt.show()"
   ]
  },
  {
   "cell_type": "markdown",
   "metadata": {
    "colab_type": "text",
    "id": "ivFH6hHMnnjU"
   },
   "source": [
    "## 3. Data Preprocessing\n",
    "\n",
    "Let's preprocess our data for building classification model. As we already discussed above that our main variable of interest is **text and drug**. On this variable, we are going to apply various NLP techniques."
   ]
  },
  {
   "cell_type": "markdown",
   "metadata": {},
   "source": [
    "## Defining data cleaning function"
   ]
  },
  {
   "cell_type": "code",
   "execution_count": 14,
   "metadata": {},
   "outputs": [
    {
     "name": "stderr",
     "output_type": "stream",
     "text": [
      "[nltk_data] Downloading package stopwords to\n",
      "[nltk_data]     C:\\Users\\datal\\AppData\\Roaming\\nltk_data...\n",
      "[nltk_data]   Package stopwords is already up-to-date!\n"
     ]
    }
   ],
   "source": [
    "from string import punctuation\n",
    "from os import listdir\n",
    "from pickle import dump\n",
    "import nltk\n",
    "from nltk.corpus import stopwords\n",
    "nltk.download('stopwords')\n",
    "\n",
    "# turn a doc into clean tokens\n",
    "# Creating function for preprocessing\n",
    "def clean_and_tokenize_tweets(data):\n",
    "    # Making lowercase\n",
    "    data['text_new'] = data['text'].str.lower()\n",
    "  \n",
    "    # remove special characters, numbers, punctuations\n",
    "    data['text_new'] = data['text_new'].str.replace(\"[^a-zA-Z]\", \" \")\n",
    "  \n",
    "    # removing short words\n",
    "    data['text_new'] = data['text_new'].apply(lambda x: ' '.join([w for w in x.split() if len(w) > 1]))\n",
    "  \n",
    "    # removing stop words\n",
    "    stop = set(stopwords.words(\"english\"))                  \n",
    "    data['text_new'] = data['text_new'].apply(lambda x: ' '.join([word for word in x.split() if word not in (stop)]))\n",
    "  \n",
    "    # Tokenize the words for it to use\n",
    "    tokenized_tweet = data['text_new'].apply(lambda x: x.split())\n",
    "  \n",
    "    # Lemmatization\n",
    "    nltk.download('wordnet')\n",
    "    from nltk.stem.wordnet import WordNetLemmatizer\n",
    "    lemmatizer = WordNetLemmatizer()\n",
    "    tokenized_tweet = tokenized_tweet.apply(lambda x: [lemmatizer.lemmatize(i) for i in x])\n",
    "  \n",
    "    # Stiching back together\n",
    "    for i in range(len(tokenized_tweet)):\n",
    "        tokenized_tweet[i] = ' '.join(tokenized_tweet[i])\n",
    "    \n",
    "    data['text_new'] = tokenized_tweet\n",
    "    return data"
   ]
  },
  {
   "cell_type": "code",
   "execution_count": 15,
   "metadata": {},
   "outputs": [
    {
     "name": "stderr",
     "output_type": "stream",
     "text": [
      "[nltk_data] Downloading package wordnet to\n",
      "[nltk_data]     C:\\Users\\datal\\AppData\\Roaming\\nltk_data...\n",
      "[nltk_data]   Package wordnet is already up-to-date!\n"
     ]
    },
    {
     "data": {
      "text/html": [
       "<div>\n",
       "<style scoped>\n",
       "    .dataframe tbody tr th:only-of-type {\n",
       "        vertical-align: middle;\n",
       "    }\n",
       "\n",
       "    .dataframe tbody tr th {\n",
       "        vertical-align: top;\n",
       "    }\n",
       "\n",
       "    .dataframe thead th {\n",
       "        text-align: right;\n",
       "    }\n",
       "</style>\n",
       "<table border=\"1\" class=\"dataframe\">\n",
       "  <thead>\n",
       "    <tr style=\"text-align: right;\">\n",
       "      <th></th>\n",
       "      <th>unique_hash</th>\n",
       "      <th>text</th>\n",
       "      <th>drug</th>\n",
       "      <th>sentiment</th>\n",
       "      <th>pre_clean_len</th>\n",
       "      <th>text_new</th>\n",
       "    </tr>\n",
       "  </thead>\n",
       "  <tbody>\n",
       "    <tr>\n",
       "      <th>0</th>\n",
       "      <td>2e180be4c9214c1f5ab51fd8cc32bc80c9f612e0</td>\n",
       "      <td>Autoimmune diseases tend to come in clusters. ...</td>\n",
       "      <td>gilenya</td>\n",
       "      <td>2</td>\n",
       "      <td>404</td>\n",
       "      <td>autoimmune disease tend come cluster gilenya f...</td>\n",
       "    </tr>\n",
       "    <tr>\n",
       "      <th>1</th>\n",
       "      <td>9eba8f80e7e20f3a2f48685530748fbfa95943e4</td>\n",
       "      <td>I can completely understand why you’d want to ...</td>\n",
       "      <td>gilenya</td>\n",
       "      <td>2</td>\n",
       "      <td>1184</td>\n",
       "      <td>completely understand want try result reported...</td>\n",
       "    </tr>\n",
       "    <tr>\n",
       "      <th>2</th>\n",
       "      <td>fe809672251f6bd0d986e00380f48d047c7e7b76</td>\n",
       "      <td>Interesting that it only targets S1P-1/5 recep...</td>\n",
       "      <td>fingolimod</td>\n",
       "      <td>2</td>\n",
       "      <td>780</td>\n",
       "      <td>interesting target receptor rather like fingol...</td>\n",
       "    </tr>\n",
       "    <tr>\n",
       "      <th>3</th>\n",
       "      <td>bd22104dfa9ec80db4099523e03fae7a52735eb6</td>\n",
       "      <td>Very interesting, grand merci. Now I wonder wh...</td>\n",
       "      <td>ocrevus</td>\n",
       "      <td>2</td>\n",
       "      <td>124</td>\n",
       "      <td>interesting grand merci wonder lemtrada ocrevu...</td>\n",
       "    </tr>\n",
       "    <tr>\n",
       "      <th>4</th>\n",
       "      <td>b227688381f9b25e5b65109dd00f7f895e838249</td>\n",
       "      <td>Hi everybody, My latest MRI results for Brain ...</td>\n",
       "      <td>gilenya</td>\n",
       "      <td>1</td>\n",
       "      <td>612</td>\n",
       "      <td>hi everybody latest mri result brain cervical ...</td>\n",
       "    </tr>\n",
       "  </tbody>\n",
       "</table>\n",
       "</div>"
      ],
      "text/plain": [
       "                                unique_hash  \\\n",
       "0  2e180be4c9214c1f5ab51fd8cc32bc80c9f612e0   \n",
       "1  9eba8f80e7e20f3a2f48685530748fbfa95943e4   \n",
       "2  fe809672251f6bd0d986e00380f48d047c7e7b76   \n",
       "3  bd22104dfa9ec80db4099523e03fae7a52735eb6   \n",
       "4  b227688381f9b25e5b65109dd00f7f895e838249   \n",
       "\n",
       "                                                text        drug  sentiment  \\\n",
       "0  Autoimmune diseases tend to come in clusters. ...     gilenya          2   \n",
       "1  I can completely understand why you’d want to ...     gilenya          2   \n",
       "2  Interesting that it only targets S1P-1/5 recep...  fingolimod          2   \n",
       "3  Very interesting, grand merci. Now I wonder wh...     ocrevus          2   \n",
       "4  Hi everybody, My latest MRI results for Brain ...     gilenya          1   \n",
       "\n",
       "   pre_clean_len                                           text_new  \n",
       "0            404  autoimmune disease tend come cluster gilenya f...  \n",
       "1           1184  completely understand want try result reported...  \n",
       "2            780  interesting target receptor rather like fingol...  \n",
       "3            124  interesting grand merci wonder lemtrada ocrevu...  \n",
       "4            612  hi everybody latest mri result brain cervical ...  "
      ]
     },
     "execution_count": 15,
     "metadata": {},
     "output_type": "execute_result"
    }
   ],
   "source": [
    "# load all training reviews\n",
    "# Applying Preprocessing function on Training data\n",
    "Train_data = clean_and_tokenize_tweets(Train)\n",
    "Train_data.head(5)"
   ]
  },
  {
   "cell_type": "code",
   "execution_count": 16,
   "metadata": {},
   "outputs": [
    {
     "name": "stderr",
     "output_type": "stream",
     "text": [
      "[nltk_data] Downloading package wordnet to\n",
      "[nltk_data]     C:\\Users\\datal\\AppData\\Roaming\\nltk_data...\n",
      "[nltk_data]   Package wordnet is already up-to-date!\n"
     ]
    },
    {
     "data": {
      "text/html": [
       "<div>\n",
       "<style scoped>\n",
       "    .dataframe tbody tr th:only-of-type {\n",
       "        vertical-align: middle;\n",
       "    }\n",
       "\n",
       "    .dataframe tbody tr th {\n",
       "        vertical-align: top;\n",
       "    }\n",
       "\n",
       "    .dataframe thead th {\n",
       "        text-align: right;\n",
       "    }\n",
       "</style>\n",
       "<table border=\"1\" class=\"dataframe\">\n",
       "  <thead>\n",
       "    <tr style=\"text-align: right;\">\n",
       "      <th></th>\n",
       "      <th>unique_hash</th>\n",
       "      <th>text</th>\n",
       "      <th>drug</th>\n",
       "      <th>text_new</th>\n",
       "    </tr>\n",
       "  </thead>\n",
       "  <tbody>\n",
       "    <tr>\n",
       "      <th>0</th>\n",
       "      <td>9e9a8166b84114aca147bf409f6f956635034c08</td>\n",
       "      <td>256 (previously stable on natalizumab), with 5...</td>\n",
       "      <td>fingolimod</td>\n",
       "      <td>previously stable natalizumab switching fingol...</td>\n",
       "    </tr>\n",
       "    <tr>\n",
       "      <th>1</th>\n",
       "      <td>e747e6822c867571afe7b907b51f0f2ca67b0e1a</td>\n",
       "      <td>On fingolimod and have been since December 201...</td>\n",
       "      <td>fingolimod</td>\n",
       "      <td>fingolimod since december way describe better ...</td>\n",
       "    </tr>\n",
       "    <tr>\n",
       "      <th>2</th>\n",
       "      <td>50b6d851bcff4f35afe354937949e9948975adf7</td>\n",
       "      <td>Apparently it's shingles! :-/ I do have a few ...</td>\n",
       "      <td>humira</td>\n",
       "      <td>apparently shingle red spot left breast appear...</td>\n",
       "    </tr>\n",
       "    <tr>\n",
       "      <th>3</th>\n",
       "      <td>7f82ec2176ae6ab0b5d20b5ffc767ac829f384ae</td>\n",
       "      <td>If the Docetaxel doing once a week x3 weeks th...</td>\n",
       "      <td>tagrisso</td>\n",
       "      <td>docetaxel week week week claim le harsh effica...</td>\n",
       "    </tr>\n",
       "    <tr>\n",
       "      <th>4</th>\n",
       "      <td>8b37d169dee5bdae27060949242fb54feb6a7f7f</td>\n",
       "      <td>CC, Stelara worked in a matter of days for me....</td>\n",
       "      <td>stelara</td>\n",
       "      <td>cc stelara worked matter day gi willing jump h...</td>\n",
       "    </tr>\n",
       "  </tbody>\n",
       "</table>\n",
       "</div>"
      ],
      "text/plain": [
       "                                unique_hash  \\\n",
       "0  9e9a8166b84114aca147bf409f6f956635034c08   \n",
       "1  e747e6822c867571afe7b907b51f0f2ca67b0e1a   \n",
       "2  50b6d851bcff4f35afe354937949e9948975adf7   \n",
       "3  7f82ec2176ae6ab0b5d20b5ffc767ac829f384ae   \n",
       "4  8b37d169dee5bdae27060949242fb54feb6a7f7f   \n",
       "\n",
       "                                                text        drug  \\\n",
       "0  256 (previously stable on natalizumab), with 5...  fingolimod   \n",
       "1  On fingolimod and have been since December 201...  fingolimod   \n",
       "2  Apparently it's shingles! :-/ I do have a few ...      humira   \n",
       "3  If the Docetaxel doing once a week x3 weeks th...    tagrisso   \n",
       "4  CC, Stelara worked in a matter of days for me....     stelara   \n",
       "\n",
       "                                            text_new  \n",
       "0  previously stable natalizumab switching fingol...  \n",
       "1  fingolimod since december way describe better ...  \n",
       "2  apparently shingle red spot left breast appear...  \n",
       "3  docetaxel week week week claim le harsh effica...  \n",
       "4  cc stelara worked matter day gi willing jump h...  "
      ]
     },
     "execution_count": 16,
     "metadata": {},
     "output_type": "execute_result"
    }
   ],
   "source": [
    "# Applying Preprocessing function on Test data\n",
    "Test_data = clean_and_tokenize_tweets(Test)\n",
    "Test_data.head(5)"
   ]
  },
  {
   "cell_type": "markdown",
   "metadata": {
    "colab_type": "text",
    "id": "4Ij9HVm0v39Z"
   },
   "source": [
    "## 4. DNN Model\n",
    "\n",
    "In this section, we will develop a multichannel convolutional neural network for the sentiment analysis prediction problem.\n",
    "\n",
    "This section is divided into 3 parts:\n",
    "\n",
    " + Encode Data\n",
    " + Define Model"
   ]
  },
  {
   "cell_type": "code",
   "execution_count": 17,
   "metadata": {},
   "outputs": [
    {
     "name": "stderr",
     "output_type": "stream",
     "text": [
      "Using TensorFlow backend.\n"
     ]
    }
   ],
   "source": [
    "# Creating X and y\n",
    "X = Train_data.text_new\n",
    "y = Train_data.sentiment\n",
    "test_data = Test_data.text_new\n",
    "\n",
    "import keras.utils.np_utils as ku\n",
    "\n",
    "y = ku.to_categorical(y)"
   ]
  },
  {
   "cell_type": "code",
   "execution_count": 18,
   "metadata": {},
   "outputs": [
    {
     "name": "stdout",
     "output_type": "stream",
     "text": [
      "Number of rows and columns in train dataset: (4223,)\n",
      "Number of rows and columns in test dataset: (1056,)\n",
      "Number of rows and columns in target variable for training: (4223, 3)\n",
      "Number of rows and columns in target variable for test: (1056, 3)\n"
     ]
    }
   ],
   "source": [
    "from sklearn.model_selection import train_test_split\n",
    "\n",
    "validation_percent = 0.20\n",
    "test_percent = 0.50\n",
    "seed = 786\n",
    "\n",
    "X_train, X_test, y_train, y_test = train_test_split(X, y, test_size = validation_percent, random_state = seed, stratify = y)\n",
    "\n",
    "# Shape of data\n",
    "print(\"Number of rows and columns in train dataset:\",X_train.shape)\n",
    "print(\"Number of rows and columns in test dataset:\",X_test.shape)\n",
    "\n",
    "print(\"Number of rows and columns in target variable for training:\",y_train.shape)\n",
    "print(\"Number of rows and columns in target variable for test:\",y_test.shape)"
   ]
  },
  {
   "cell_type": "markdown",
   "metadata": {},
   "source": [
    "### 4.1 RNN"
   ]
  },
  {
   "cell_type": "code",
   "execution_count": 19,
   "metadata": {},
   "outputs": [],
   "source": [
    "from keras import layers\n",
    "from keras.datasets import imdb\n",
    "from keras import preprocessing\n",
    "from keras.models import Sequential\n",
    "from keras.layers import Flatten, Dense, Embedding, SimpleRNN, LSTM, GRU, Bidirectional\n",
    "from keras import regularizers\n",
    "import matplotlib.pyplot as plt\n",
    "from keras.layers.normalization import BatchNormalization\n",
    "from keras import optimizers\n",
    "import numpy.random as nr\n",
    "\n",
    "%matplotlib inline"
   ]
  },
  {
   "cell_type": "code",
   "execution_count": 20,
   "metadata": {},
   "outputs": [
    {
     "name": "stdout",
     "output_type": "stream",
     "text": [
      "interesting target receptor rather like fingolimod hoping soon see aes saes yes sure mean exactly quote nine patient reported serious adverse event mg mg mg mg serious adverse event reported patient new safety signal occurred compared bold study patient reporting saes stated serious adverse event reported patient maybe read right maybe misprint pleased something developed spms encouraging siponimod linger long body\n",
      "[698, 23, 109, 1739, 364, 11, 23, 271, 23, 163, 640, 8, 265, 5, 4136, 607, 698, 11, 902, 28, 1739, 265, 660, 419, 91, 463, 26, 114, 5, 561, 145, 425, 561, 3027, 151, 1885, 76, 240, 36, 91, 3203, 654, 163, 640, 8, 168, 35, 163, 640, 2076, 8, 34, 545, 8, 1667, 105, 265, 104, 26, 34, 545, 2076, 8, 215, 4286, 1019, 44, 4032, 697, 989, 328, 44, 38, 104, 384, 100, 2831, 4286, 1019, 40, 1019, 2977, 28, 424, 51, 3204, 817, 62, 96, 3139, 3481, 1148, 1044, 4397, 481, 3205, 1365, 2832, 2832, 76, 100, 1635, 1861, 1446, 3028, 420, 1078, 752, 1668, 1167, 943, 3821, 2152, 2274, 1635, 2786, 396, 35, 1557, 425, 22, 536, 350, 3821, 1031, 3639, 186, 423, 1844, 89, 34, 545, 8, 243, 600, 923, 13, 404, 339, 630, 398, 2456, 3557, 34, 1567, 3140, 723, 90, 180, 113, 3822, 679, 737, 970, 463, 26, 27, 1740, 1008, 3482, 223, 1173, 679, 167, 250, 1173, 2978, 1567, 326, 342, 679, 168, 35, 2076, 2642, 12, 260, 204, 215, 3482, 223, 1602, 34, 561, 215, 420, 1862, 3558, 619, 1885, 176, 119, 413, 831, 402, 122, 78, 163, 8, 1667, 328, 962, 845, 215, 1071, 495, 44, 1082, 4672, 495, 258, 193, 208, 258, 28, 215, 26, 249, 561, 76, 258, 764, 452, 72, 367, 439, 32, 51, 3344, 362, 3917, 3206, 1951, 804, 393, 350, 83, 1366, 2099, 61, 495, 3823, 1032, 1183, 2275, 887, 27, 1033, 63, 167, 423, 167, 2501, 557, 2643, 27, 423, 15, 28, 874, 384, 1863, 3917, 2502, 11, 76, 56, 104, 307, 78, 561, 385, 4854, 28, 1078, 4398, 215, 1505, 3029, 179, 51, 3918, 236, 75, 305, 305, 64, 56, 104, 307, 78, 805, 2926, 4855, 40, 90, 89, 1320, 250, 64, 28, 28, 3276, 845, 22, 350, 12, 1237, 28, 495, 180, 1353, 439, 2435, 243, 1819, 28, 50, 76, 50, 198, 12, 50, 28, 94, 192, 28, 887, 931, 838, 2435, 1727, 28, 100, 40, 424, 1413, 1860, 32, 1002, 2927, 617, 2787, 858, 472, 3206, 1225, 42, 317, 379, 541, 4530, 2400, 1436, 19, 90, 1506, 296, 24, 2677, 396, 1044, 454, 1295, 28, 1034, 2787, 1057, 3918, 385, 409, 828, 89, 581, 15, 354, 4531, 26, 76, 5, 174, 409, 621, 34, 2978, 1567, 3140, 4137, 723, 90, 34, 545, 268, 655, 22, 60, 425, 204, 268, 692, 3733, 179, 1463, 148, 500, 76, 697, 40, 40, 752, 3733, 22, 60, 2121, 17, 868, 3029, 215, 2788, 1539, 3559, 2100, 1802, 1845, 1300, 184, 1460, 2569, 442, 24, 148, 84, 53, 355, 2153, 1994, 55, 2874, 215, 56, 107, 4673, 4, 249, 355, 355, 2832, 112, 1924, 119, 44, 513, 24, 404, 313, 2436, 1035, 785, 1925, 222, 4674, 383, 96, 186, 100, 122, 78, 83, 44, 222, 2308, 1507, 251, 1226, 1, 64, 249, 325, 17, 1689, 2705, 1196, 130, 3, 1, 222, 958, 2457, 12, 1861, 1446, 3139, 122, 76, 38, 692, 262, 148, 888, 7, 596, 13, 1196, 271, 424, 2457, 271, 52, 36, 16, 113, 100, 712, 328, 12, 271, 192, 153, 179, 90, 60, 271, 431, 52, 36, 90, 219, 167, 260, 4138, 52, 2101, 63, 316, 113, 52, 1819, 52, 1906, 52, 192, 328, 76, 897, 26, 19, 29, 20, 47, 1568, 1224, 92, 85, 153, 1184, 60, 2121, 3734, 204, 52, 1819, 52, 1906, 52, 1819, 1906, 38, 35, 401, 38, 363, 119, 192, 936, 78, 153, 2705, 52, 3483, 78, 1751, 393, 119, 2535, 537, 23, 404, 425, 1, 633, 2122, 50, 2378, 60, 689, 44, 425, 2056]\n"
     ]
    }
   ],
   "source": [
    "from keras.preprocessing.text import Tokenizer\n",
    "\n",
    "print(X_train[2])\n",
    "\n",
    "tokenizer = Tokenizer(num_words=5000)\n",
    "tokenizer.fit_on_texts(X_train)\n",
    "\n",
    "X_train = tokenizer.texts_to_sequences(X_train)\n",
    "X_test = tokenizer.texts_to_sequences(X_test)\n",
    "\n",
    "test_data = tokenizer.texts_to_sequences(test_data)\n",
    "vocab_size = len(tokenizer.word_index) + 1  # Adding 1 because of reserved 0 index\n",
    "\n",
    "print(X_train[2])\n"
   ]
  },
  {
   "cell_type": "code",
   "execution_count": 21,
   "metadata": {},
   "outputs": [
    {
     "name": "stdout",
     "output_type": "stream",
     "text": [
      "[ 799 1200  901 1060 1575  458   73   36 1459   39    6   27  276  151\n",
      "    4  167  182  153 3730  988   84  989  441 1775  279  156   58    5\n",
      "    3  915  258 1972    5   37   81 3138  265  189    5 1460 4670  265\n",
      "  198   37   81 3480 1224  482  115   81  168   81   52  143  521    8\n",
      "  864   10   49  146  169  308  226 1775  279  697  521  143  697  521\n",
      "  697  521  186  423  145  186  247    0    0    0    0    0    0    0\n",
      "    0    0    0    0    0    0    0    0    0    0    0    0    0    0\n",
      "    0    0]\n"
     ]
    }
   ],
   "source": [
    "from keras.preprocessing.sequence import pad_sequences\n",
    "\n",
    "maxlen = 100\n",
    "\n",
    "X_train = pad_sequences(X_train, padding='post', maxlen=maxlen)\n",
    "X_test = pad_sequences(X_test, padding='post', maxlen=maxlen)\n",
    "test_data = pad_sequences(test_data, padding='post', maxlen=maxlen)\n",
    "\n",
    "print(X_train[0, :])"
   ]
  },
  {
   "cell_type": "code",
   "execution_count": 22,
   "metadata": {},
   "outputs": [
    {
     "name": "stdout",
     "output_type": "stream",
     "text": [
      "WARNING:tensorflow:From C:\\Users\\datal\\Anaconda3\\lib\\site-packages\\tensorflow\\python\\framework\\op_def_library.py:263: colocate_with (from tensorflow.python.framework.ops) is deprecated and will be removed in a future version.\n",
      "Instructions for updating:\n",
      "Colocations handled automatically by placer.\n",
      "_________________________________________________________________\n",
      "Layer (type)                 Output Shape              Param #   \n",
      "=================================================================\n",
      "embedding_1 (Embedding)      (None, 100, 100)          2959400   \n",
      "_________________________________________________________________\n",
      "flatten_1 (Flatten)          (None, 10000)             0         \n",
      "_________________________________________________________________\n",
      "dense_1 (Dense)              (None, 10)                100010    \n",
      "_________________________________________________________________\n",
      "dense_2 (Dense)              (None, 3)                 33        \n",
      "=================================================================\n",
      "Total params: 3,059,443\n",
      "Trainable params: 3,059,443\n",
      "Non-trainable params: 0\n",
      "_________________________________________________________________\n"
     ]
    }
   ],
   "source": [
    "from keras.models import Sequential\n",
    "from keras import layers\n",
    "\n",
    "embedding_dim = 100\n",
    "\n",
    "Embedding = Sequential()\n",
    "Embedding.add(layers.Embedding(input_dim=vocab_size,output_dim=embedding_dim, input_length=maxlen))\n",
    "Embedding.add(layers.Flatten())\n",
    "Embedding.add(layers.Dense(10, activation='relu'))\n",
    "Embedding.add(layers.Dense(3, activation='sigmoid'))\n",
    "Embedding.compile(optimizer='adam',loss='binary_crossentropy',metrics=['accuracy'])\n",
    "Embedding.summary()"
   ]
  },
  {
   "cell_type": "code",
   "execution_count": 23,
   "metadata": {},
   "outputs": [
    {
     "name": "stdout",
     "output_type": "stream",
     "text": [
      "WARNING:tensorflow:From C:\\Users\\datal\\Anaconda3\\lib\\site-packages\\tensorflow\\python\\ops\\math_ops.py:3066: to_int32 (from tensorflow.python.ops.math_ops) is deprecated and will be removed in a future version.\n",
      "Instructions for updating:\n",
      "Use tf.cast instead.\n",
      "Train on 4223 samples, validate on 1056 samples\n",
      "Epoch 1/20\n",
      "4223/4223 [==============================] - 7s 2ms/step - loss: 0.4935 - acc: 0.8029 - val_loss: 0.4511 - val_acc: 0.8163\n",
      "Epoch 2/20\n",
      "4223/4223 [==============================] - 6s 1ms/step - loss: 0.3970 - acc: 0.8249 - val_loss: 0.4339 - val_acc: 0.8188\n",
      "Epoch 3/20\n",
      "4223/4223 [==============================] - 6s 1ms/step - loss: 0.2325 - acc: 0.9136 - val_loss: 0.4703 - val_acc: 0.8176\n",
      "Epoch 4/20\n",
      "4223/4223 [==============================] - 6s 1ms/step - loss: 0.0807 - acc: 0.9795 - val_loss: 0.5449 - val_acc: 0.8188\n",
      "Epoch 5/20\n",
      "4223/4223 [==============================] - 6s 1ms/step - loss: 0.0339 - acc: 0.9942 - val_loss: 0.6286 - val_acc: 0.8194\n",
      "Epoch 6/20\n",
      "4223/4223 [==============================] - 6s 1ms/step - loss: 0.0197 - acc: 0.9971 - val_loss: 0.6520 - val_acc: 0.8179\n",
      "Epoch 7/20\n",
      "4223/4223 [==============================] - 6s 1ms/step - loss: 0.0136 - acc: 0.9974 - val_loss: 0.6746 - val_acc: 0.8179\n",
      "Epoch 8/20\n",
      "4223/4223 [==============================] - 6s 1ms/step - loss: 0.0091 - acc: 0.9986 - val_loss: 0.7606 - val_acc: 0.8179\n",
      "Epoch 9/20\n",
      "4223/4223 [==============================] - 6s 1ms/step - loss: 0.0080 - acc: 0.9981 - val_loss: 0.6978 - val_acc: 0.8153\n",
      "Epoch 10/20\n",
      "4223/4223 [==============================] - 6s 1ms/step - loss: 0.0078 - acc: 0.9979 - val_loss: 0.8074 - val_acc: 0.8182\n",
      "Epoch 11/20\n",
      "4223/4223 [==============================] - 6s 1ms/step - loss: 0.0054 - acc: 0.9984 - val_loss: 0.8193 - val_acc: 0.8176\n",
      "Epoch 12/20\n",
      "4223/4223 [==============================] - 6s 1ms/step - loss: 0.0040 - acc: 0.9985 - val_loss: 0.8451 - val_acc: 0.8176\n",
      "Epoch 13/20\n",
      "4223/4223 [==============================] - 7s 2ms/step - loss: 0.0036 - acc: 0.9987 - val_loss: 0.8542 - val_acc: 0.8166\n",
      "Epoch 14/20\n",
      "4223/4223 [==============================] - 7s 2ms/step - loss: 0.0032 - acc: 0.9988 - val_loss: 0.8641 - val_acc: 0.8166\n",
      "Epoch 15/20\n",
      "4223/4223 [==============================] - 7s 2ms/step - loss: 0.0031 - acc: 0.9991 - val_loss: 0.8715 - val_acc: 0.8169\n",
      "Epoch 16/20\n",
      "4223/4223 [==============================] - 7s 2ms/step - loss: 0.0025 - acc: 0.9991 - val_loss: 0.8640 - val_acc: 0.8122\n",
      "Epoch 17/20\n",
      "4223/4223 [==============================] - 6s 2ms/step - loss: 0.0020 - acc: 0.9992 - val_loss: 0.9338 - val_acc: 0.8150\n",
      "Epoch 18/20\n",
      "4223/4223 [==============================] - 6s 1ms/step - loss: 0.0020 - acc: 0.9991 - val_loss: 0.9569 - val_acc: 0.8157\n",
      "Epoch 19/20\n",
      "4223/4223 [==============================] - 6s 1ms/step - loss: 0.0019 - acc: 0.9992 - val_loss: 0.9688 - val_acc: 0.8141\n",
      "Epoch 20/20\n",
      "4223/4223 [==============================] - 6s 2ms/step - loss: 0.0018 - acc: 0.9992 - val_loss: 0.9627 - val_acc: 0.8138\n",
      "4223/4223 [==============================] - 0s 61us/step\n",
      "Training Accuracy: 0.9992\n",
      "1056/1056 [==============================] - 0s 61us/step\n",
      "Testing Accuracy:  0.8138\n"
     ]
    }
   ],
   "source": [
    "Embedding.fit(X_train, y_train,epochs=20,validation_data=(X_test, y_test),batch_size=30)\n",
    "loss, accuracy = Embedding.evaluate(X_train, y_train)\n",
    "print(\"Training Accuracy: {:.4f}\".format(accuracy))\n",
    "loss, accuracy = Embedding.evaluate(X_test, y_test)\n",
    "print(\"Testing Accuracy:  {:.4f}\".format(accuracy))"
   ]
  },
  {
   "cell_type": "code",
   "execution_count": 24,
   "metadata": {},
   "outputs": [
    {
     "data": {
      "text/html": [
       "<div>\n",
       "<style scoped>\n",
       "    .dataframe tbody tr th:only-of-type {\n",
       "        vertical-align: middle;\n",
       "    }\n",
       "\n",
       "    .dataframe tbody tr th {\n",
       "        vertical-align: top;\n",
       "    }\n",
       "\n",
       "    .dataframe thead th {\n",
       "        text-align: right;\n",
       "    }\n",
       "</style>\n",
       "<table border=\"1\" class=\"dataframe\">\n",
       "  <thead>\n",
       "    <tr style=\"text-align: right;\">\n",
       "      <th></th>\n",
       "      <th>unique_hash</th>\n",
       "      <th>sentiment_0</th>\n",
       "      <th>sentiment_1</th>\n",
       "      <th>sentiment_2</th>\n",
       "      <th>sentiment</th>\n",
       "    </tr>\n",
       "  </thead>\n",
       "  <tbody>\n",
       "    <tr>\n",
       "      <th>0</th>\n",
       "      <td>9e9a8166b84114aca147bf409f6f956635034c08</td>\n",
       "      <td>7.708371e-04</td>\n",
       "      <td>0.018446</td>\n",
       "      <td>0.962768</td>\n",
       "      <td>2</td>\n",
       "    </tr>\n",
       "    <tr>\n",
       "      <th>1</th>\n",
       "      <td>e747e6822c867571afe7b907b51f0f2ca67b0e1a</td>\n",
       "      <td>3.503853e-02</td>\n",
       "      <td>0.130946</td>\n",
       "      <td>0.113289</td>\n",
       "      <td>1</td>\n",
       "    </tr>\n",
       "    <tr>\n",
       "      <th>2</th>\n",
       "      <td>50b6d851bcff4f35afe354937949e9948975adf7</td>\n",
       "      <td>8.940697e-08</td>\n",
       "      <td>0.000011</td>\n",
       "      <td>0.999992</td>\n",
       "      <td>2</td>\n",
       "    </tr>\n",
       "    <tr>\n",
       "      <th>3</th>\n",
       "      <td>7f82ec2176ae6ab0b5d20b5ffc767ac829f384ae</td>\n",
       "      <td>1.490116e-07</td>\n",
       "      <td>0.000000</td>\n",
       "      <td>1.000000</td>\n",
       "      <td>2</td>\n",
       "    </tr>\n",
       "    <tr>\n",
       "      <th>4</th>\n",
       "      <td>8b37d169dee5bdae27060949242fb54feb6a7f7f</td>\n",
       "      <td>5.960464e-08</td>\n",
       "      <td>0.000000</td>\n",
       "      <td>1.000000</td>\n",
       "      <td>2</td>\n",
       "    </tr>\n",
       "  </tbody>\n",
       "</table>\n",
       "</div>"
      ],
      "text/plain": [
       "                                unique_hash   sentiment_0  sentiment_1  \\\n",
       "0  9e9a8166b84114aca147bf409f6f956635034c08  7.708371e-04     0.018446   \n",
       "1  e747e6822c867571afe7b907b51f0f2ca67b0e1a  3.503853e-02     0.130946   \n",
       "2  50b6d851bcff4f35afe354937949e9948975adf7  8.940697e-08     0.000011   \n",
       "3  7f82ec2176ae6ab0b5d20b5ffc767ac829f384ae  1.490116e-07     0.000000   \n",
       "4  8b37d169dee5bdae27060949242fb54feb6a7f7f  5.960464e-08     0.000000   \n",
       "\n",
       "   sentiment_2  sentiment  \n",
       "0     0.962768          2  \n",
       "1     0.113289          1  \n",
       "2     0.999992          2  \n",
       "3     1.000000          2  \n",
       "4     1.000000          2  "
      ]
     },
     "execution_count": 24,
     "metadata": {},
     "output_type": "execute_result"
    }
   ],
   "source": [
    "pred = Embedding.predict(test_data)\n",
    "sentiment = np.argmax(pred,axis=1)\n",
    "columns=[\"sentiment_0\", \"sentiment_1\", \"sentiment_2\"]\n",
    "#columns should be the same order of y_col\n",
    "results=pd.DataFrame(pred, columns=columns)\n",
    "results[\"unique_hash\"]=Test_data.unique_hash\n",
    "ordered_cols=[\"unique_hash\"]+columns\n",
    "results=results[ordered_cols]#To get the same column order\n",
    "results['sentiment'] = sentiment\n",
    "\n",
    "results.head()"
   ]
  },
  {
   "cell_type": "code",
   "execution_count": 25,
   "metadata": {},
   "outputs": [],
   "source": [
    "Submission = results[['unique_hash', 'sentiment']]\n",
    "Submission.head()\n",
    "Submission.to_csv('./Output/Output_DNN_v1.csv',index=False)"
   ]
  }
 ],
 "metadata": {
  "accelerator": "GPU",
  "colab": {
   "collapsed_sections": [],
   "name": "Sentiments_Analysis_V2.ipynb",
   "provenance": [],
   "toc_visible": true,
   "version": "0.3.2"
  },
  "kernelspec": {
   "display_name": "Python 3",
   "language": "python",
   "name": "python3"
  },
  "language_info": {
   "codemirror_mode": {
    "name": "ipython",
    "version": 3
   },
   "file_extension": ".py",
   "mimetype": "text/x-python",
   "name": "python",
   "nbconvert_exporter": "python",
   "pygments_lexer": "ipython3",
   "version": "3.7.3"
  }
 },
 "nbformat": 4,
 "nbformat_minor": 1
}
