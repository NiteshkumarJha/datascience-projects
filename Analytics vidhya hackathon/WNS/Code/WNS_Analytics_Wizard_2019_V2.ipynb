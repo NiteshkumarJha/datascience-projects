{
  "nbformat": 4,
  "nbformat_minor": 0,
  "metadata": {
    "colab": {
      "name": "WNS Analytics Wizard 2019_V2.ipynb",
      "version": "0.3.2",
      "provenance": [],
      "collapsed_sections": []
    },
    "kernelspec": {
      "name": "python3",
      "display_name": "Python 3"
    },
    "accelerator": "GPU"
  },
  "cells": [
    {
      "cell_type": "markdown",
      "metadata": {
        "id": "SFe_6qT4pCqa",
        "colab_type": "text"
      },
      "source": [
        "# WNS Analytics Wizard 2019"
      ]
    },
    {
      "cell_type": "markdown",
      "metadata": {
        "id": "h82btBJopJw7",
        "colab_type": "text"
      },
      "source": [
        "## 1.0 Getting Started"
      ]
    },
    {
      "cell_type": "code",
      "metadata": {
        "id": "mfenMfyKo5tz",
        "colab_type": "code",
        "outputId": "1a3af60d-5761-4fba-ec86-736132577baf",
        "colab": {
          "base_uri": "https://localhost:8080/",
          "height": 122
        }
      },
      "source": [
        "# Mounting google drive\n",
        "from google.colab import drive\n",
        "drive.mount('/content/gdrive')"
      ],
      "execution_count": 1,
      "outputs": [
        {
          "output_type": "stream",
          "text": [
            "Go to this URL in a browser: https://accounts.google.com/o/oauth2/auth?client_id=947318989803-6bn6qk8qdgf4n4g3pfee6491hc0brc4i.apps.googleusercontent.com&redirect_uri=urn%3Aietf%3Awg%3Aoauth%3A2.0%3Aoob&scope=email%20https%3A%2F%2Fwww.googleapis.com%2Fauth%2Fdocs.test%20https%3A%2F%2Fwww.googleapis.com%2Fauth%2Fdrive%20https%3A%2F%2Fwww.googleapis.com%2Fauth%2Fdrive.photos.readonly%20https%3A%2F%2Fwww.googleapis.com%2Fauth%2Fpeopleapi.readonly&response_type=code\n",
            "\n",
            "Enter your authorization code:\n",
            "··········\n",
            "Mounted at /content/gdrive\n"
          ],
          "name": "stdout"
        }
      ]
    },
    {
      "cell_type": "code",
      "metadata": {
        "id": "SwvO4Qq3pfFz",
        "colab_type": "code",
        "colab": {}
      },
      "source": [
        "# importing libraries\n",
        "import os\n",
        "import numpy as np\n",
        "import pandas as pd\n",
        "import matplotlib.pyplot as plt\n",
        "import seaborn as sns\n",
        "%matplotlib inline"
      ],
      "execution_count": 0,
      "outputs": []
    },
    {
      "cell_type": "code",
      "metadata": {
        "id": "b9BFRz6nS278",
        "colab_type": "code",
        "colab": {}
      },
      "source": [
        "# setting the path\n",
        "os.chdir(\"/content/gdrive/My Drive/Colab Notebooks/WNS\")"
      ],
      "execution_count": 0,
      "outputs": []
    },
    {
      "cell_type": "code",
      "metadata": {
        "id": "02l8Ju-SLB1r",
        "colab_type": "code",
        "colab": {}
      },
      "source": [
        "# Importing the dataset\n",
        "Train = pd.read_csv(\"./Input/train_NA17Sgz/train.csv\")\n",
        "Item = pd.read_csv(\"./Input/train_NA17Sgz/item_data.csv\")\n",
        "View = pd.read_csv(\"./Input/train_NA17Sgz/view_log.csv\")\n",
        "Test = pd.read_csv(\"./Input/test_aq1FGdB/test.csv\")\n",
        "Sample_submission = pd.read_csv(\"./Input/sample_submission_IPsBlCT/sample_submission.csv\")"
      ],
      "execution_count": 0,
      "outputs": []
    },
    {
      "cell_type": "markdown",
      "metadata": {
        "id": "oD8qRJxIT2rH",
        "colab_type": "text"
      },
      "source": [
        "## 2.0 Glimpse of data"
      ]
    },
    {
      "cell_type": "code",
      "metadata": {
        "id": "s7CNq_-9QlDm",
        "colab_type": "code",
        "outputId": "8a3eea0c-099b-490c-9068-28c3a7046582",
        "colab": {
          "base_uri": "https://localhost:8080/",
          "height": 85
        }
      },
      "source": [
        "# Shape of data\n",
        "print(\"Number of rows and columns in train dataset:\",Train.shape)\n",
        "print(\"Number of rows and columns in test dataset:\",Test.shape)\n",
        "\n",
        "print(\"Number of rows and columns in Item dataset:\",Item.shape)\n",
        "print(\"Number of rows and columns in View dataset:\",View.shape)"
      ],
      "execution_count": 5,
      "outputs": [
        {
          "output_type": "stream",
          "text": [
            "Number of rows and columns in train dataset: (237609, 7)\n",
            "Number of rows and columns in test dataset: (90675, 6)\n",
            "Number of rows and columns in Item dataset: (132761, 6)\n",
            "Number of rows and columns in View dataset: (3118622, 5)\n"
          ],
          "name": "stdout"
        }
      ]
    },
    {
      "cell_type": "code",
      "metadata": {
        "id": "feEUhE1WRlxA",
        "colab_type": "code",
        "outputId": "9db5bb95-d82f-4d71-cb3f-d2faecc9eeef",
        "colab": {
          "base_uri": "https://localhost:8080/",
          "height": 833
        }
      },
      "source": [
        "# Variable structure\n",
        "print(\"-----------------Variable Structure of training data--------------\")\n",
        "Train.info()\n",
        "print(\"-----------------Variable Structure of test data------------------\")\n",
        "Test.info()\n",
        "\n",
        "print(\"-----------------Variable Structure of item data--------------\")\n",
        "Item.info()\n",
        "print(\"-----------------Variable Structure of view data------------------\")\n",
        "View.info()"
      ],
      "execution_count": 6,
      "outputs": [
        {
          "output_type": "stream",
          "text": [
            "-----------------Variable Structure of training data--------------\n",
            "<class 'pandas.core.frame.DataFrame'>\n",
            "RangeIndex: 237609 entries, 0 to 237608\n",
            "Data columns (total 7 columns):\n",
            "impression_id      237609 non-null object\n",
            "impression_time    237609 non-null object\n",
            "user_id            237609 non-null int64\n",
            "app_code           237609 non-null int64\n",
            "os_version         237609 non-null object\n",
            "is_4G              237609 non-null int64\n",
            "is_click           237609 non-null int64\n",
            "dtypes: int64(4), object(3)\n",
            "memory usage: 12.7+ MB\n",
            "-----------------Variable Structure of test data------------------\n",
            "<class 'pandas.core.frame.DataFrame'>\n",
            "RangeIndex: 90675 entries, 0 to 90674\n",
            "Data columns (total 6 columns):\n",
            "impression_id      90675 non-null object\n",
            "impression_time    90675 non-null object\n",
            "user_id            90675 non-null int64\n",
            "app_code           90675 non-null int64\n",
            "os_version         90675 non-null object\n",
            "is_4G              90675 non-null int64\n",
            "dtypes: int64(3), object(3)\n",
            "memory usage: 4.2+ MB\n",
            "-----------------Variable Structure of item data--------------\n",
            "<class 'pandas.core.frame.DataFrame'>\n",
            "RangeIndex: 132761 entries, 0 to 132760\n",
            "Data columns (total 6 columns):\n",
            "item_id         132761 non-null int64\n",
            "item_price      132761 non-null int64\n",
            "category_1      132761 non-null int64\n",
            "category_2      132761 non-null int64\n",
            "category_3      132761 non-null int64\n",
            "product_type    132761 non-null int64\n",
            "dtypes: int64(6)\n",
            "memory usage: 6.1 MB\n",
            "-----------------Variable Structure of view data------------------\n",
            "<class 'pandas.core.frame.DataFrame'>\n",
            "RangeIndex: 3118622 entries, 0 to 3118621\n",
            "Data columns (total 5 columns):\n",
            "server_time    object\n",
            "device_type    object\n",
            "session_id     int64\n",
            "user_id        int64\n",
            "item_id        int64\n",
            "dtypes: int64(3), object(2)\n",
            "memory usage: 119.0+ MB\n"
          ],
          "name": "stdout"
        }
      ]
    },
    {
      "cell_type": "code",
      "metadata": {
        "id": "3zRS-t6Qz2-X",
        "colab_type": "code",
        "outputId": "8ac68b01-8bd7-4324-daac-caee3c4aa38d",
        "colab": {
          "base_uri": "https://localhost:8080/",
          "height": 204
        }
      },
      "source": [
        "Train.head()"
      ],
      "execution_count": 7,
      "outputs": [
        {
          "output_type": "execute_result",
          "data": {
            "text/html": [
              "<div>\n",
              "<style scoped>\n",
              "    .dataframe tbody tr th:only-of-type {\n",
              "        vertical-align: middle;\n",
              "    }\n",
              "\n",
              "    .dataframe tbody tr th {\n",
              "        vertical-align: top;\n",
              "    }\n",
              "\n",
              "    .dataframe thead th {\n",
              "        text-align: right;\n",
              "    }\n",
              "</style>\n",
              "<table border=\"1\" class=\"dataframe\">\n",
              "  <thead>\n",
              "    <tr style=\"text-align: right;\">\n",
              "      <th></th>\n",
              "      <th>impression_id</th>\n",
              "      <th>impression_time</th>\n",
              "      <th>user_id</th>\n",
              "      <th>app_code</th>\n",
              "      <th>os_version</th>\n",
              "      <th>is_4G</th>\n",
              "      <th>is_click</th>\n",
              "    </tr>\n",
              "  </thead>\n",
              "  <tbody>\n",
              "    <tr>\n",
              "      <th>0</th>\n",
              "      <td>c4ca4238a0b923820dcc509a6f75849b</td>\n",
              "      <td>2018-11-15 00:00:00</td>\n",
              "      <td>87862</td>\n",
              "      <td>422</td>\n",
              "      <td>old</td>\n",
              "      <td>0</td>\n",
              "      <td>0</td>\n",
              "    </tr>\n",
              "    <tr>\n",
              "      <th>1</th>\n",
              "      <td>45c48cce2e2d7fbdea1afc51c7c6ad26</td>\n",
              "      <td>2018-11-15 00:01:00</td>\n",
              "      <td>63410</td>\n",
              "      <td>467</td>\n",
              "      <td>latest</td>\n",
              "      <td>1</td>\n",
              "      <td>1</td>\n",
              "    </tr>\n",
              "    <tr>\n",
              "      <th>2</th>\n",
              "      <td>70efdf2ec9b086079795c442636b55fb</td>\n",
              "      <td>2018-11-15 00:02:00</td>\n",
              "      <td>71748</td>\n",
              "      <td>259</td>\n",
              "      <td>intermediate</td>\n",
              "      <td>1</td>\n",
              "      <td>0</td>\n",
              "    </tr>\n",
              "    <tr>\n",
              "      <th>3</th>\n",
              "      <td>8e296a067a37563370ded05f5a3bf3ec</td>\n",
              "      <td>2018-11-15 00:02:00</td>\n",
              "      <td>69209</td>\n",
              "      <td>244</td>\n",
              "      <td>latest</td>\n",
              "      <td>1</td>\n",
              "      <td>0</td>\n",
              "    </tr>\n",
              "    <tr>\n",
              "      <th>4</th>\n",
              "      <td>182be0c5cdcd5072bb1864cdee4d3d6e</td>\n",
              "      <td>2018-11-15 00:02:00</td>\n",
              "      <td>62873</td>\n",
              "      <td>473</td>\n",
              "      <td>latest</td>\n",
              "      <td>0</td>\n",
              "      <td>0</td>\n",
              "    </tr>\n",
              "  </tbody>\n",
              "</table>\n",
              "</div>"
            ],
            "text/plain": [
              "                      impression_id      impression_time  ...  is_4G  is_click\n",
              "0  c4ca4238a0b923820dcc509a6f75849b  2018-11-15 00:00:00  ...      0         0\n",
              "1  45c48cce2e2d7fbdea1afc51c7c6ad26  2018-11-15 00:01:00  ...      1         1\n",
              "2  70efdf2ec9b086079795c442636b55fb  2018-11-15 00:02:00  ...      1         0\n",
              "3  8e296a067a37563370ded05f5a3bf3ec  2018-11-15 00:02:00  ...      1         0\n",
              "4  182be0c5cdcd5072bb1864cdee4d3d6e  2018-11-15 00:02:00  ...      0         0\n",
              "\n",
              "[5 rows x 7 columns]"
            ]
          },
          "metadata": {
            "tags": []
          },
          "execution_count": 7
        }
      ]
    },
    {
      "cell_type": "markdown",
      "metadata": {
        "id": "YLBsarvZUg_m",
        "colab_type": "text"
      },
      "source": [
        "## 3.0 EDA"
      ]
    },
    {
      "cell_type": "code",
      "metadata": {
        "id": "CkQRgwo7UmX0",
        "colab_type": "code",
        "outputId": "007b15e6-ceb5-4273-f6f4-b066d43360e7",
        "colab": {
          "base_uri": "https://localhost:8080/",
          "height": 204
        }
      },
      "source": [
        "# Merging Product data into log data\n",
        "View_log = pd.merge(View,Item,on='item_id',how='left')\n",
        "View_log.head()"
      ],
      "execution_count": 8,
      "outputs": [
        {
          "output_type": "execute_result",
          "data": {
            "text/html": [
              "<div>\n",
              "<style scoped>\n",
              "    .dataframe tbody tr th:only-of-type {\n",
              "        vertical-align: middle;\n",
              "    }\n",
              "\n",
              "    .dataframe tbody tr th {\n",
              "        vertical-align: top;\n",
              "    }\n",
              "\n",
              "    .dataframe thead th {\n",
              "        text-align: right;\n",
              "    }\n",
              "</style>\n",
              "<table border=\"1\" class=\"dataframe\">\n",
              "  <thead>\n",
              "    <tr style=\"text-align: right;\">\n",
              "      <th></th>\n",
              "      <th>server_time</th>\n",
              "      <th>device_type</th>\n",
              "      <th>session_id</th>\n",
              "      <th>user_id</th>\n",
              "      <th>item_id</th>\n",
              "      <th>item_price</th>\n",
              "      <th>category_1</th>\n",
              "      <th>category_2</th>\n",
              "      <th>category_3</th>\n",
              "      <th>product_type</th>\n",
              "    </tr>\n",
              "  </thead>\n",
              "  <tbody>\n",
              "    <tr>\n",
              "      <th>0</th>\n",
              "      <td>2018-10-15 08:58:00</td>\n",
              "      <td>android</td>\n",
              "      <td>112333</td>\n",
              "      <td>4557</td>\n",
              "      <td>32970</td>\n",
              "      <td>54685.0</td>\n",
              "      <td>16.0</td>\n",
              "      <td>56.0</td>\n",
              "      <td>253.0</td>\n",
              "      <td>3184.0</td>\n",
              "    </tr>\n",
              "    <tr>\n",
              "      <th>1</th>\n",
              "      <td>2018-10-15 08:58:00</td>\n",
              "      <td>android</td>\n",
              "      <td>503590</td>\n",
              "      <td>74788</td>\n",
              "      <td>7640</td>\n",
              "      <td>1376.0</td>\n",
              "      <td>7.0</td>\n",
              "      <td>71.0</td>\n",
              "      <td>228.0</td>\n",
              "      <td>545.0</td>\n",
              "    </tr>\n",
              "    <tr>\n",
              "      <th>2</th>\n",
              "      <td>2018-10-15 08:58:00</td>\n",
              "      <td>android</td>\n",
              "      <td>573960</td>\n",
              "      <td>23628</td>\n",
              "      <td>128855</td>\n",
              "      <td>4544.0</td>\n",
              "      <td>4.0</td>\n",
              "      <td>38.0</td>\n",
              "      <td>62.0</td>\n",
              "      <td>5609.0</td>\n",
              "    </tr>\n",
              "    <tr>\n",
              "      <th>3</th>\n",
              "      <td>2018-10-15 08:58:00</td>\n",
              "      <td>android</td>\n",
              "      <td>121691</td>\n",
              "      <td>2430</td>\n",
              "      <td>12774</td>\n",
              "      <td>904.0</td>\n",
              "      <td>17.0</td>\n",
              "      <td>39.0</td>\n",
              "      <td>252.0</td>\n",
              "      <td>2740.0</td>\n",
              "    </tr>\n",
              "    <tr>\n",
              "      <th>4</th>\n",
              "      <td>2018-10-15 08:58:00</td>\n",
              "      <td>android</td>\n",
              "      <td>218564</td>\n",
              "      <td>19227</td>\n",
              "      <td>28296</td>\n",
              "      <td>2304.0</td>\n",
              "      <td>12.0</td>\n",
              "      <td>57.0</td>\n",
              "      <td>54.0</td>\n",
              "      <td>7422.0</td>\n",
              "    </tr>\n",
              "  </tbody>\n",
              "</table>\n",
              "</div>"
            ],
            "text/plain": [
              "           server_time device_type  ...  category_3  product_type\n",
              "0  2018-10-15 08:58:00     android  ...       253.0        3184.0\n",
              "1  2018-10-15 08:58:00     android  ...       228.0         545.0\n",
              "2  2018-10-15 08:58:00     android  ...        62.0        5609.0\n",
              "3  2018-10-15 08:58:00     android  ...       252.0        2740.0\n",
              "4  2018-10-15 08:58:00     android  ...        54.0        7422.0\n",
              "\n",
              "[5 rows x 10 columns]"
            ]
          },
          "metadata": {
            "tags": []
          },
          "execution_count": 8
        }
      ]
    },
    {
      "cell_type": "code",
      "metadata": {
        "id": "K7dyHD0YW-tj",
        "colab_type": "code",
        "outputId": "8489027e-d26b-4172-caef-ad2e6d818f6b",
        "colab": {
          "base_uri": "https://localhost:8080/",
          "height": 255
        }
      },
      "source": [
        "# Checking Missing values\n",
        "print(\"Total missing value:\", View_log.isnull().sum().sum())\n",
        "print(\"% missing value:\", View_log.isnull().sum().sum()/View_log.shape[0])\n",
        "print(\"Missing value by variable wise:\")\n",
        "View_log.isnull().sum()"
      ],
      "execution_count": 9,
      "outputs": [
        {
          "output_type": "stream",
          "text": [
            "Total missing value: 8910\n",
            "% missing value: 0.0028570310861656205\n",
            "Missing value by variable wise:\n"
          ],
          "name": "stdout"
        },
        {
          "output_type": "execute_result",
          "data": {
            "text/plain": [
              "server_time        0\n",
              "device_type        0\n",
              "session_id         0\n",
              "user_id            0\n",
              "item_id            0\n",
              "item_price      1782\n",
              "category_1      1782\n",
              "category_2      1782\n",
              "category_3      1782\n",
              "product_type    1782\n",
              "dtype: int64"
            ]
          },
          "metadata": {
            "tags": []
          },
          "execution_count": 9
        }
      ]
    },
    {
      "cell_type": "code",
      "metadata": {
        "id": "2bsRoJBhvkkX",
        "colab_type": "code",
        "outputId": "b3060454-3e29-4d0a-9f26-6d49daab9294",
        "colab": {
          "base_uri": "https://localhost:8080/",
          "height": 51
        }
      },
      "source": [
        "# Removing Missing value\n",
        "View_log = View_log.dropna()\n",
        "\n",
        "print(\"Total missing value:\", View_log.isnull().sum().sum())\n",
        "print(\"% missing value:\", View_log.isnull().sum().sum()/View_log.shape[0])\n"
      ],
      "execution_count": 10,
      "outputs": [
        {
          "output_type": "stream",
          "text": [
            "Total missing value: 0\n",
            "% missing value: 0.0\n"
          ],
          "name": "stdout"
        }
      ]
    },
    {
      "cell_type": "code",
      "metadata": {
        "id": "Utdw3S2PAWmw",
        "colab_type": "code",
        "outputId": "7ac12329-b2ba-47ca-aea5-d597f275e0f3",
        "colab": {
          "base_uri": "https://localhost:8080/",
          "height": 34
        }
      },
      "source": [
        "# Shape of data\n",
        "print(\"Shape of View_log data:\", View_log.shape)"
      ],
      "execution_count": 11,
      "outputs": [
        {
          "output_type": "stream",
          "text": [
            "Shape of View_log data: (3116840, 10)\n"
          ],
          "name": "stdout"
        }
      ]
    },
    {
      "cell_type": "code",
      "metadata": {
        "id": "5hjdcrkCLe3G",
        "colab_type": "code",
        "outputId": "25f31d11-0dd9-4486-821f-2ed097a74980",
        "colab": {
          "base_uri": "https://localhost:8080/",
          "height": 204
        }
      },
      "source": [
        "View_log[\"server_time\"]= pd.to_datetime(View_log[\"server_time\"])\n",
        "View_log['day'] = View_log['server_time'].dt.day.astype('object')\n",
        "View_log['hour'] = View_log['server_time'].dt.hour.astype('object')\n",
        "View_log.head()"
      ],
      "execution_count": 12,
      "outputs": [
        {
          "output_type": "execute_result",
          "data": {
            "text/html": [
              "<div>\n",
              "<style scoped>\n",
              "    .dataframe tbody tr th:only-of-type {\n",
              "        vertical-align: middle;\n",
              "    }\n",
              "\n",
              "    .dataframe tbody tr th {\n",
              "        vertical-align: top;\n",
              "    }\n",
              "\n",
              "    .dataframe thead th {\n",
              "        text-align: right;\n",
              "    }\n",
              "</style>\n",
              "<table border=\"1\" class=\"dataframe\">\n",
              "  <thead>\n",
              "    <tr style=\"text-align: right;\">\n",
              "      <th></th>\n",
              "      <th>server_time</th>\n",
              "      <th>device_type</th>\n",
              "      <th>session_id</th>\n",
              "      <th>user_id</th>\n",
              "      <th>item_id</th>\n",
              "      <th>item_price</th>\n",
              "      <th>category_1</th>\n",
              "      <th>category_2</th>\n",
              "      <th>category_3</th>\n",
              "      <th>product_type</th>\n",
              "      <th>day</th>\n",
              "      <th>hour</th>\n",
              "    </tr>\n",
              "  </thead>\n",
              "  <tbody>\n",
              "    <tr>\n",
              "      <th>0</th>\n",
              "      <td>2018-10-15 08:58:00</td>\n",
              "      <td>android</td>\n",
              "      <td>112333</td>\n",
              "      <td>4557</td>\n",
              "      <td>32970</td>\n",
              "      <td>54685.0</td>\n",
              "      <td>16.0</td>\n",
              "      <td>56.0</td>\n",
              "      <td>253.0</td>\n",
              "      <td>3184.0</td>\n",
              "      <td>15</td>\n",
              "      <td>8</td>\n",
              "    </tr>\n",
              "    <tr>\n",
              "      <th>1</th>\n",
              "      <td>2018-10-15 08:58:00</td>\n",
              "      <td>android</td>\n",
              "      <td>503590</td>\n",
              "      <td>74788</td>\n",
              "      <td>7640</td>\n",
              "      <td>1376.0</td>\n",
              "      <td>7.0</td>\n",
              "      <td>71.0</td>\n",
              "      <td>228.0</td>\n",
              "      <td>545.0</td>\n",
              "      <td>15</td>\n",
              "      <td>8</td>\n",
              "    </tr>\n",
              "    <tr>\n",
              "      <th>2</th>\n",
              "      <td>2018-10-15 08:58:00</td>\n",
              "      <td>android</td>\n",
              "      <td>573960</td>\n",
              "      <td>23628</td>\n",
              "      <td>128855</td>\n",
              "      <td>4544.0</td>\n",
              "      <td>4.0</td>\n",
              "      <td>38.0</td>\n",
              "      <td>62.0</td>\n",
              "      <td>5609.0</td>\n",
              "      <td>15</td>\n",
              "      <td>8</td>\n",
              "    </tr>\n",
              "    <tr>\n",
              "      <th>3</th>\n",
              "      <td>2018-10-15 08:58:00</td>\n",
              "      <td>android</td>\n",
              "      <td>121691</td>\n",
              "      <td>2430</td>\n",
              "      <td>12774</td>\n",
              "      <td>904.0</td>\n",
              "      <td>17.0</td>\n",
              "      <td>39.0</td>\n",
              "      <td>252.0</td>\n",
              "      <td>2740.0</td>\n",
              "      <td>15</td>\n",
              "      <td>8</td>\n",
              "    </tr>\n",
              "    <tr>\n",
              "      <th>4</th>\n",
              "      <td>2018-10-15 08:58:00</td>\n",
              "      <td>android</td>\n",
              "      <td>218564</td>\n",
              "      <td>19227</td>\n",
              "      <td>28296</td>\n",
              "      <td>2304.0</td>\n",
              "      <td>12.0</td>\n",
              "      <td>57.0</td>\n",
              "      <td>54.0</td>\n",
              "      <td>7422.0</td>\n",
              "      <td>15</td>\n",
              "      <td>8</td>\n",
              "    </tr>\n",
              "  </tbody>\n",
              "</table>\n",
              "</div>"
            ],
            "text/plain": [
              "          server_time device_type  session_id  ...  product_type  day  hour\n",
              "0 2018-10-15 08:58:00     android      112333  ...        3184.0   15     8\n",
              "1 2018-10-15 08:58:00     android      503590  ...         545.0   15     8\n",
              "2 2018-10-15 08:58:00     android      573960  ...        5609.0   15     8\n",
              "3 2018-10-15 08:58:00     android      121691  ...        2740.0   15     8\n",
              "4 2018-10-15 08:58:00     android      218564  ...        7422.0   15     8\n",
              "\n",
              "[5 rows x 12 columns]"
            ]
          },
          "metadata": {
            "tags": []
          },
          "execution_count": 12
        }
      ]
    },
    {
      "cell_type": "code",
      "metadata": {
        "id": "Qcq9Qxz0PXBV",
        "colab_type": "code",
        "outputId": "c218db20-79d3-4722-a0a5-ccd0210d95e0",
        "colab": {
          "base_uri": "https://localhost:8080/",
          "height": 153
        }
      },
      "source": [
        "print(\"Unique Session id:\", len(View_log['session_id'].unique()))\n",
        "print(\"Unique Device type:\",len(View_log['device_type'].unique()))\n",
        "print(\"Unique item id:\",len(View_log['item_id'].unique()))\n",
        "print(\"Unique user id:\",len(View_log['user_id'].unique()))\n",
        "print(\"Unique category_1 id:\",len(View_log['category_1'].unique()))\n",
        "print(\"Unique category_2 id:\",len(View_log['category_2'].unique()))\n",
        "print(\"Unique category_3 id:\",len(View_log['category_3'].unique()))\n",
        "print(\"Unique product_type id:\",len(View_log['product_type'].unique()))"
      ],
      "execution_count": 13,
      "outputs": [
        {
          "output_type": "stream",
          "text": [
            "Unique Session id: 1014725\n",
            "Unique Device type: 3\n",
            "Unique item id: 126607\n",
            "Unique user id: 89152\n",
            "Unique category_1 id: 17\n",
            "Unique category_2 id: 79\n",
            "Unique category_3 id: 335\n",
            "Unique product_type id: 7846\n"
          ],
          "name": "stdout"
        }
      ]
    },
    {
      "cell_type": "code",
      "metadata": {
        "id": "fc0W2EJZLuwG",
        "colab_type": "code",
        "colab": {
          "base_uri": "https://localhost:8080/",
          "height": 459
        },
        "outputId": "8e8dde2b-7ed1-461b-f801-871e72673f1d"
      },
      "source": [
        "!pip install pandasql\n",
        "import pandasql as pdsql\n",
        "\n",
        "View_log_temp = View_log[['user_id', 'session_id']]\n",
        "\n",
        "pysql = lambda q: pdsql.sqldf(q, globals())\n",
        "str1 = \"select user_id, session_id from View_log_temp group by user_id, session_id\"\n",
        "df1 = pysql(str1)\n",
        "df1.head()"
      ],
      "execution_count": 14,
      "outputs": [
        {
          "output_type": "stream",
          "text": [
            "Collecting pandasql\n",
            "  Downloading https://files.pythonhosted.org/packages/6b/c4/ee4096ffa2eeeca0c749b26f0371bd26aa5c8b611c43de99a4f86d3de0a7/pandasql-0.7.3.tar.gz\n",
            "Requirement already satisfied: numpy in /usr/local/lib/python3.6/dist-packages (from pandasql) (1.16.4)\n",
            "Requirement already satisfied: pandas in /usr/local/lib/python3.6/dist-packages (from pandasql) (0.24.2)\n",
            "Requirement already satisfied: sqlalchemy in /usr/local/lib/python3.6/dist-packages (from pandasql) (1.3.7)\n",
            "Requirement already satisfied: python-dateutil>=2.5.0 in /usr/local/lib/python3.6/dist-packages (from pandas->pandasql) (2.5.3)\n",
            "Requirement already satisfied: pytz>=2011k in /usr/local/lib/python3.6/dist-packages (from pandas->pandasql) (2018.9)\n",
            "Requirement already satisfied: six>=1.5 in /usr/local/lib/python3.6/dist-packages (from python-dateutil>=2.5.0->pandas->pandasql) (1.12.0)\n",
            "Building wheels for collected packages: pandasql\n",
            "  Building wheel for pandasql (setup.py) ... \u001b[?25l\u001b[?25hdone\n",
            "  Created wheel for pandasql: filename=pandasql-0.7.3-cp36-none-any.whl size=26820 sha256=568eb60a1f4e0a987b27054dee957a1599ca31310fcbef2ec3d14646be0b8715\n",
            "  Stored in directory: /root/.cache/pip/wheels/53/6c/18/b87a2e5fa8a82e9c026311de56210b8d1c01846e18a9607fc9\n",
            "Successfully built pandasql\n",
            "Installing collected packages: pandasql\n",
            "Successfully installed pandasql-0.7.3\n"
          ],
          "name": "stdout"
        },
        {
          "output_type": "execute_result",
          "data": {
            "text/html": [
              "<div>\n",
              "<style scoped>\n",
              "    .dataframe tbody tr th:only-of-type {\n",
              "        vertical-align: middle;\n",
              "    }\n",
              "\n",
              "    .dataframe tbody tr th {\n",
              "        vertical-align: top;\n",
              "    }\n",
              "\n",
              "    .dataframe thead th {\n",
              "        text-align: right;\n",
              "    }\n",
              "</style>\n",
              "<table border=\"1\" class=\"dataframe\">\n",
              "  <thead>\n",
              "    <tr style=\"text-align: right;\">\n",
              "      <th></th>\n",
              "      <th>user_id</th>\n",
              "      <th>session_id</th>\n",
              "    </tr>\n",
              "  </thead>\n",
              "  <tbody>\n",
              "    <tr>\n",
              "      <th>0</th>\n",
              "      <td>0</td>\n",
              "      <td>86373</td>\n",
              "    </tr>\n",
              "    <tr>\n",
              "      <th>1</th>\n",
              "      <td>0</td>\n",
              "      <td>143955</td>\n",
              "    </tr>\n",
              "    <tr>\n",
              "      <th>2</th>\n",
              "      <td>0</td>\n",
              "      <td>144465</td>\n",
              "    </tr>\n",
              "    <tr>\n",
              "      <th>3</th>\n",
              "      <td>0</td>\n",
              "      <td>191704</td>\n",
              "    </tr>\n",
              "    <tr>\n",
              "      <th>4</th>\n",
              "      <td>0</td>\n",
              "      <td>268465</td>\n",
              "    </tr>\n",
              "  </tbody>\n",
              "</table>\n",
              "</div>"
            ],
            "text/plain": [
              "   user_id  session_id\n",
              "0        0       86373\n",
              "1        0      143955\n",
              "2        0      144465\n",
              "3        0      191704\n",
              "4        0      268465"
            ]
          },
          "metadata": {
            "tags": []
          },
          "execution_count": 14
        }
      ]
    },
    {
      "cell_type": "code",
      "metadata": {
        "id": "s9sKYUAjTbEe",
        "colab_type": "code",
        "colab": {
          "base_uri": "https://localhost:8080/",
          "height": 204
        },
        "outputId": "5e8161e5-c0dd-4089-9b66-5abb10e19152"
      },
      "source": [
        "str2 = \"select user_id, count(*) as session_count from df1 group by user_id\"\n",
        "df2 = pysql(str2)\n",
        "df2.head()"
      ],
      "execution_count": 15,
      "outputs": [
        {
          "output_type": "execute_result",
          "data": {
            "text/html": [
              "<div>\n",
              "<style scoped>\n",
              "    .dataframe tbody tr th:only-of-type {\n",
              "        vertical-align: middle;\n",
              "    }\n",
              "\n",
              "    .dataframe tbody tr th {\n",
              "        vertical-align: top;\n",
              "    }\n",
              "\n",
              "    .dataframe thead th {\n",
              "        text-align: right;\n",
              "    }\n",
              "</style>\n",
              "<table border=\"1\" class=\"dataframe\">\n",
              "  <thead>\n",
              "    <tr style=\"text-align: right;\">\n",
              "      <th></th>\n",
              "      <th>user_id</th>\n",
              "      <th>session_count</th>\n",
              "    </tr>\n",
              "  </thead>\n",
              "  <tbody>\n",
              "    <tr>\n",
              "      <th>0</th>\n",
              "      <td>0</td>\n",
              "      <td>11</td>\n",
              "    </tr>\n",
              "    <tr>\n",
              "      <th>1</th>\n",
              "      <td>1</td>\n",
              "      <td>3</td>\n",
              "    </tr>\n",
              "    <tr>\n",
              "      <th>2</th>\n",
              "      <td>2</td>\n",
              "      <td>37</td>\n",
              "    </tr>\n",
              "    <tr>\n",
              "      <th>3</th>\n",
              "      <td>3</td>\n",
              "      <td>1</td>\n",
              "    </tr>\n",
              "    <tr>\n",
              "      <th>4</th>\n",
              "      <td>4</td>\n",
              "      <td>1</td>\n",
              "    </tr>\n",
              "  </tbody>\n",
              "</table>\n",
              "</div>"
            ],
            "text/plain": [
              "   user_id  session_count\n",
              "0        0             11\n",
              "1        1              3\n",
              "2        2             37\n",
              "3        3              1\n",
              "4        4              1"
            ]
          },
          "metadata": {
            "tags": []
          },
          "execution_count": 15
        }
      ]
    },
    {
      "cell_type": "code",
      "metadata": {
        "id": "8VgsQHmnTpnO",
        "colab_type": "code",
        "colab": {
          "base_uri": "https://localhost:8080/",
          "height": 204
        },
        "outputId": "9cfc1872-f53c-4e4c-ab82-15031f4ed7d5"
      },
      "source": [
        "View_log_temp = View_log[['user_id', 'item_id']]\n",
        "\n",
        "pysql = lambda q: pdsql.sqldf(q, globals())\n",
        "str3 = \"select user_id, item_id from View_log_temp group by user_id, item_id\"\n",
        "df3 = pysql(str3)\n",
        "\n",
        "str4 = \"select user_id, count(*) as item_count from df3 group by user_id\"\n",
        "df4 = pysql(str4)\n",
        "df4.head()"
      ],
      "execution_count": 16,
      "outputs": [
        {
          "output_type": "execute_result",
          "data": {
            "text/html": [
              "<div>\n",
              "<style scoped>\n",
              "    .dataframe tbody tr th:only-of-type {\n",
              "        vertical-align: middle;\n",
              "    }\n",
              "\n",
              "    .dataframe tbody tr th {\n",
              "        vertical-align: top;\n",
              "    }\n",
              "\n",
              "    .dataframe thead th {\n",
              "        text-align: right;\n",
              "    }\n",
              "</style>\n",
              "<table border=\"1\" class=\"dataframe\">\n",
              "  <thead>\n",
              "    <tr style=\"text-align: right;\">\n",
              "      <th></th>\n",
              "      <th>user_id</th>\n",
              "      <th>item_count</th>\n",
              "    </tr>\n",
              "  </thead>\n",
              "  <tbody>\n",
              "    <tr>\n",
              "      <th>0</th>\n",
              "      <td>0</td>\n",
              "      <td>18</td>\n",
              "    </tr>\n",
              "    <tr>\n",
              "      <th>1</th>\n",
              "      <td>1</td>\n",
              "      <td>8</td>\n",
              "    </tr>\n",
              "    <tr>\n",
              "      <th>2</th>\n",
              "      <td>2</td>\n",
              "      <td>130</td>\n",
              "    </tr>\n",
              "    <tr>\n",
              "      <th>3</th>\n",
              "      <td>3</td>\n",
              "      <td>3</td>\n",
              "    </tr>\n",
              "    <tr>\n",
              "      <th>4</th>\n",
              "      <td>4</td>\n",
              "      <td>2</td>\n",
              "    </tr>\n",
              "  </tbody>\n",
              "</table>\n",
              "</div>"
            ],
            "text/plain": [
              "   user_id  item_count\n",
              "0        0          18\n",
              "1        1           8\n",
              "2        2         130\n",
              "3        3           3\n",
              "4        4           2"
            ]
          },
          "metadata": {
            "tags": []
          },
          "execution_count": 16
        }
      ]
    },
    {
      "cell_type": "code",
      "metadata": {
        "id": "pZatWv5nUR8D",
        "colab_type": "code",
        "colab": {
          "base_uri": "https://localhost:8080/",
          "height": 204
        },
        "outputId": "bd7ec2aa-3c21-469f-acef-8bcac2a3fe8e"
      },
      "source": [
        "View_log_temp = View_log[['user_id', 'item_price']]\n",
        "\n",
        "pysql = lambda q: pdsql.sqldf(q, globals())\n",
        "str5 = \"select user_id, AVG(item_price) as AVG_price from View_log_temp group by user_id\"\n",
        "df5 = pysql(str5)\n",
        "df5.head()"
      ],
      "execution_count": 17,
      "outputs": [
        {
          "output_type": "execute_result",
          "data": {
            "text/html": [
              "<div>\n",
              "<style scoped>\n",
              "    .dataframe tbody tr th:only-of-type {\n",
              "        vertical-align: middle;\n",
              "    }\n",
              "\n",
              "    .dataframe tbody tr th {\n",
              "        vertical-align: top;\n",
              "    }\n",
              "\n",
              "    .dataframe thead th {\n",
              "        text-align: right;\n",
              "    }\n",
              "</style>\n",
              "<table border=\"1\" class=\"dataframe\">\n",
              "  <thead>\n",
              "    <tr style=\"text-align: right;\">\n",
              "      <th></th>\n",
              "      <th>user_id</th>\n",
              "      <th>AVG_price</th>\n",
              "    </tr>\n",
              "  </thead>\n",
              "  <tbody>\n",
              "    <tr>\n",
              "      <th>0</th>\n",
              "      <td>0</td>\n",
              "      <td>9395.666667</td>\n",
              "    </tr>\n",
              "    <tr>\n",
              "      <th>1</th>\n",
              "      <td>1</td>\n",
              "      <td>3946.750000</td>\n",
              "    </tr>\n",
              "    <tr>\n",
              "      <th>2</th>\n",
              "      <td>2</td>\n",
              "      <td>14809.509091</td>\n",
              "    </tr>\n",
              "    <tr>\n",
              "      <th>3</th>\n",
              "      <td>3</td>\n",
              "      <td>7257.375000</td>\n",
              "    </tr>\n",
              "    <tr>\n",
              "      <th>4</th>\n",
              "      <td>4</td>\n",
              "      <td>30114.500000</td>\n",
              "    </tr>\n",
              "  </tbody>\n",
              "</table>\n",
              "</div>"
            ],
            "text/plain": [
              "   user_id     AVG_price\n",
              "0        0   9395.666667\n",
              "1        1   3946.750000\n",
              "2        2  14809.509091\n",
              "3        3   7257.375000\n",
              "4        4  30114.500000"
            ]
          },
          "metadata": {
            "tags": []
          },
          "execution_count": 17
        }
      ]
    },
    {
      "cell_type": "code",
      "metadata": {
        "id": "J9_6mDHQXCxg",
        "colab_type": "code",
        "colab": {
          "base_uri": "https://localhost:8080/",
          "height": 204
        },
        "outputId": "f65ab7ca-a51b-4a04-a812-57e0fdd17129"
      },
      "source": [
        "dataframe = pd.merge(df2, df4, on = 'user_id', how = 'left')\n",
        "dataframe = pd.merge(dataframe, df5, on = 'user_id', how = 'left')\n",
        "\n",
        "dataframe.head()"
      ],
      "execution_count": 18,
      "outputs": [
        {
          "output_type": "execute_result",
          "data": {
            "text/html": [
              "<div>\n",
              "<style scoped>\n",
              "    .dataframe tbody tr th:only-of-type {\n",
              "        vertical-align: middle;\n",
              "    }\n",
              "\n",
              "    .dataframe tbody tr th {\n",
              "        vertical-align: top;\n",
              "    }\n",
              "\n",
              "    .dataframe thead th {\n",
              "        text-align: right;\n",
              "    }\n",
              "</style>\n",
              "<table border=\"1\" class=\"dataframe\">\n",
              "  <thead>\n",
              "    <tr style=\"text-align: right;\">\n",
              "      <th></th>\n",
              "      <th>user_id</th>\n",
              "      <th>session_count</th>\n",
              "      <th>item_count</th>\n",
              "      <th>AVG_price</th>\n",
              "    </tr>\n",
              "  </thead>\n",
              "  <tbody>\n",
              "    <tr>\n",
              "      <th>0</th>\n",
              "      <td>0</td>\n",
              "      <td>11</td>\n",
              "      <td>18</td>\n",
              "      <td>9395.666667</td>\n",
              "    </tr>\n",
              "    <tr>\n",
              "      <th>1</th>\n",
              "      <td>1</td>\n",
              "      <td>3</td>\n",
              "      <td>8</td>\n",
              "      <td>3946.750000</td>\n",
              "    </tr>\n",
              "    <tr>\n",
              "      <th>2</th>\n",
              "      <td>2</td>\n",
              "      <td>37</td>\n",
              "      <td>130</td>\n",
              "      <td>14809.509091</td>\n",
              "    </tr>\n",
              "    <tr>\n",
              "      <th>3</th>\n",
              "      <td>3</td>\n",
              "      <td>1</td>\n",
              "      <td>3</td>\n",
              "      <td>7257.375000</td>\n",
              "    </tr>\n",
              "    <tr>\n",
              "      <th>4</th>\n",
              "      <td>4</td>\n",
              "      <td>1</td>\n",
              "      <td>2</td>\n",
              "      <td>30114.500000</td>\n",
              "    </tr>\n",
              "  </tbody>\n",
              "</table>\n",
              "</div>"
            ],
            "text/plain": [
              "   user_id  session_count  item_count     AVG_price\n",
              "0        0             11          18   9395.666667\n",
              "1        1              3           8   3946.750000\n",
              "2        2             37         130  14809.509091\n",
              "3        3              1           3   7257.375000\n",
              "4        4              1           2  30114.500000"
            ]
          },
          "metadata": {
            "tags": []
          },
          "execution_count": 18
        }
      ]
    },
    {
      "cell_type": "code",
      "metadata": {
        "id": "5dAUMOV8Qnd9",
        "colab_type": "code",
        "colab": {}
      },
      "source": [
        "X = dataframe.drop(['user_id'], axis = 1).values\n",
        "from sklearn.preprocessing import StandardScaler\n",
        "scaler = StandardScaler()\n",
        "X = scaler.fit_transform(X)"
      ],
      "execution_count": 0,
      "outputs": []
    },
    {
      "cell_type": "code",
      "metadata": {
        "id": "ljH9TksWaTQ9",
        "colab_type": "code",
        "colab": {
          "base_uri": "https://localhost:8080/",
          "height": 332
        },
        "outputId": "4b63fcb1-7f2a-4f26-f7ca-1c1a5410a8a9"
      },
      "source": [
        "from sklearn.cluster import KMeans\n",
        "wcss = []\n",
        "for i in range(1, 11):\n",
        "    kmeans = KMeans(n_clusters = i, init = 'k-means++', random_state = 42)\n",
        "    kmeans.fit(X)\n",
        "    wcss.append(kmeans.inertia_)\n",
        "plt.plot(range(1, 11), wcss)\n",
        "plt.title('The Elbow Method')\n",
        "plt.xlabel('Number of clusters')\n",
        "plt.ylabel('WCSS')\n",
        "plt.show()\n",
        "\n",
        "print(wcss)"
      ],
      "execution_count": 20,
      "outputs": [
        {
          "output_type": "display_data",
          "data": {
            "image/png": "[encoded data removed]",
            "text/plain": [
              "<Figure size 432x288 with 1 Axes>"
            ]
          },
          "metadata": {
            "tags": []
          }
        },
        {
          "output_type": "stream",
          "text": [
            "[267456.0, 164700.3085593498, 117499.44029445204, 88383.48169805776, 70126.60189741192, 57485.560200589374, 49099.65611698531, 42927.1119380681, 38834.308777413375, 35340.69690869667]\n"
          ],
          "name": "stdout"
        }
      ]
    },
    {
      "cell_type": "code",
      "metadata": {
        "id": "GNmPGFbQfpuw",
        "colab_type": "code",
        "colab": {
          "base_uri": "https://localhost:8080/",
          "height": 204
        },
        "outputId": "956f7740-9af4-4f7e-ed12-774bf8ae30df"
      },
      "source": [
        "# Fitting K-Means to the dataset\n",
        "kmeans = KMeans(n_clusters = 7, init = 'k-means++', random_state = 42)\n",
        "dataframe['Cluster'] = kmeans.fit_predict(X)\n",
        "\n",
        "dataframe.head()"
      ],
      "execution_count": 21,
      "outputs": [
        {
          "output_type": "execute_result",
          "data": {
            "text/html": [
              "<div>\n",
              "<style scoped>\n",
              "    .dataframe tbody tr th:only-of-type {\n",
              "        vertical-align: middle;\n",
              "    }\n",
              "\n",
              "    .dataframe tbody tr th {\n",
              "        vertical-align: top;\n",
              "    }\n",
              "\n",
              "    .dataframe thead th {\n",
              "        text-align: right;\n",
              "    }\n",
              "</style>\n",
              "<table border=\"1\" class=\"dataframe\">\n",
              "  <thead>\n",
              "    <tr style=\"text-align: right;\">\n",
              "      <th></th>\n",
              "      <th>user_id</th>\n",
              "      <th>session_count</th>\n",
              "      <th>item_count</th>\n",
              "      <th>AVG_price</th>\n",
              "      <th>Cluster</th>\n",
              "    </tr>\n",
              "  </thead>\n",
              "  <tbody>\n",
              "    <tr>\n",
              "      <th>0</th>\n",
              "      <td>0</td>\n",
              "      <td>11</td>\n",
              "      <td>18</td>\n",
              "      <td>9395.666667</td>\n",
              "      <td>5</td>\n",
              "    </tr>\n",
              "    <tr>\n",
              "      <th>1</th>\n",
              "      <td>1</td>\n",
              "      <td>3</td>\n",
              "      <td>8</td>\n",
              "      <td>3946.750000</td>\n",
              "      <td>5</td>\n",
              "    </tr>\n",
              "    <tr>\n",
              "      <th>2</th>\n",
              "      <td>2</td>\n",
              "      <td>37</td>\n",
              "      <td>130</td>\n",
              "      <td>14809.509091</td>\n",
              "      <td>0</td>\n",
              "    </tr>\n",
              "    <tr>\n",
              "      <th>3</th>\n",
              "      <td>3</td>\n",
              "      <td>1</td>\n",
              "      <td>3</td>\n",
              "      <td>7257.375000</td>\n",
              "      <td>5</td>\n",
              "    </tr>\n",
              "    <tr>\n",
              "      <th>4</th>\n",
              "      <td>4</td>\n",
              "      <td>1</td>\n",
              "      <td>2</td>\n",
              "      <td>30114.500000</td>\n",
              "      <td>1</td>\n",
              "    </tr>\n",
              "  </tbody>\n",
              "</table>\n",
              "</div>"
            ],
            "text/plain": [
              "   user_id  session_count  item_count     AVG_price  Cluster\n",
              "0        0             11          18   9395.666667        5\n",
              "1        1              3           8   3946.750000        5\n",
              "2        2             37         130  14809.509091        0\n",
              "3        3              1           3   7257.375000        5\n",
              "4        4              1           2  30114.500000        1"
            ]
          },
          "metadata": {
            "tags": []
          },
          "execution_count": 21
        }
      ]
    },
    {
      "cell_type": "markdown",
      "metadata": {
        "id": "byklMZLBtff3",
        "colab_type": "text"
      },
      "source": [
        "## 4.0 Machine learning"
      ]
    },
    {
      "cell_type": "markdown",
      "metadata": {
        "id": "B2VibTh8tzT_",
        "colab_type": "text"
      },
      "source": [
        "### 4.1 Data Pre-processing"
      ]
    },
    {
      "cell_type": "code",
      "metadata": {
        "id": "v--fzWZRn4EN",
        "colab_type": "code",
        "colab": {
          "base_uri": "https://localhost:8080/",
          "height": 340
        },
        "outputId": "edd6456b-8a61-4d9a-e261-0ddf1106f8cf"
      },
      "source": [
        "Train['datatype'] = \"train\"\n",
        "Test['datatype'] = \"test\"\n",
        "\n",
        "data = pd.concat([Train, Test], axis = 0)\n",
        "print(data.head())\n",
        "\n",
        "data.datatype.value_counts()"
      ],
      "execution_count": 22,
      "outputs": [
        {
          "output_type": "stream",
          "text": [
            "   app_code datatype  ...    os_version user_id\n",
            "0       422    train  ...           old   87862\n",
            "1       467    train  ...        latest   63410\n",
            "2       259    train  ...  intermediate   71748\n",
            "3       244    train  ...        latest   69209\n",
            "4       473    train  ...        latest   62873\n",
            "\n",
            "[5 rows x 8 columns]\n"
          ],
          "name": "stdout"
        },
        {
          "output_type": "stream",
          "text": [
            "/usr/local/lib/python3.6/dist-packages/ipykernel_launcher.py:4: FutureWarning: Sorting because non-concatenation axis is not aligned. A future version\n",
            "of pandas will change to not sort by default.\n",
            "\n",
            "To accept the future behavior, pass 'sort=False'.\n",
            "\n",
            "To retain the current behavior and silence the warning, pass 'sort=True'.\n",
            "\n",
            "  after removing the cwd from sys.path.\n"
          ],
          "name": "stderr"
        },
        {
          "output_type": "execute_result",
          "data": {
            "text/plain": [
              "train    237609\n",
              "test      90675\n",
              "Name: datatype, dtype: int64"
            ]
          },
          "metadata": {
            "tags": []
          },
          "execution_count": 22
        }
      ]
    },
    {
      "cell_type": "code",
      "metadata": {
        "id": "G9pvaFguhAEa",
        "colab_type": "code",
        "colab": {
          "base_uri": "https://localhost:8080/",
          "height": 204
        },
        "outputId": "cc045e4e-5cf1-4be0-b5ea-6091344c9620"
      },
      "source": [
        "# Merging from log data\n",
        "dataframe = dataframe[['user_id', 'Cluster']]\n",
        "data = pd.merge(data, dataframe, on = 'user_id', how = 'left')\n",
        "data.head()"
      ],
      "execution_count": 23,
      "outputs": [
        {
          "output_type": "execute_result",
          "data": {
            "text/html": [
              "<div>\n",
              "<style scoped>\n",
              "    .dataframe tbody tr th:only-of-type {\n",
              "        vertical-align: middle;\n",
              "    }\n",
              "\n",
              "    .dataframe tbody tr th {\n",
              "        vertical-align: top;\n",
              "    }\n",
              "\n",
              "    .dataframe thead th {\n",
              "        text-align: right;\n",
              "    }\n",
              "</style>\n",
              "<table border=\"1\" class=\"dataframe\">\n",
              "  <thead>\n",
              "    <tr style=\"text-align: right;\">\n",
              "      <th></th>\n",
              "      <th>app_code</th>\n",
              "      <th>datatype</th>\n",
              "      <th>impression_id</th>\n",
              "      <th>impression_time</th>\n",
              "      <th>is_4G</th>\n",
              "      <th>is_click</th>\n",
              "      <th>os_version</th>\n",
              "      <th>user_id</th>\n",
              "      <th>Cluster</th>\n",
              "    </tr>\n",
              "  </thead>\n",
              "  <tbody>\n",
              "    <tr>\n",
              "      <th>0</th>\n",
              "      <td>422</td>\n",
              "      <td>train</td>\n",
              "      <td>c4ca4238a0b923820dcc509a6f75849b</td>\n",
              "      <td>2018-11-15 00:00:00</td>\n",
              "      <td>0</td>\n",
              "      <td>0.0</td>\n",
              "      <td>old</td>\n",
              "      <td>87862</td>\n",
              "      <td>5.0</td>\n",
              "    </tr>\n",
              "    <tr>\n",
              "      <th>1</th>\n",
              "      <td>467</td>\n",
              "      <td>train</td>\n",
              "      <td>45c48cce2e2d7fbdea1afc51c7c6ad26</td>\n",
              "      <td>2018-11-15 00:01:00</td>\n",
              "      <td>1</td>\n",
              "      <td>1.0</td>\n",
              "      <td>latest</td>\n",
              "      <td>63410</td>\n",
              "      <td>5.0</td>\n",
              "    </tr>\n",
              "    <tr>\n",
              "      <th>2</th>\n",
              "      <td>259</td>\n",
              "      <td>train</td>\n",
              "      <td>70efdf2ec9b086079795c442636b55fb</td>\n",
              "      <td>2018-11-15 00:02:00</td>\n",
              "      <td>1</td>\n",
              "      <td>0.0</td>\n",
              "      <td>intermediate</td>\n",
              "      <td>71748</td>\n",
              "      <td>5.0</td>\n",
              "    </tr>\n",
              "    <tr>\n",
              "      <th>3</th>\n",
              "      <td>244</td>\n",
              "      <td>train</td>\n",
              "      <td>8e296a067a37563370ded05f5a3bf3ec</td>\n",
              "      <td>2018-11-15 00:02:00</td>\n",
              "      <td>1</td>\n",
              "      <td>0.0</td>\n",
              "      <td>latest</td>\n",
              "      <td>69209</td>\n",
              "      <td>5.0</td>\n",
              "    </tr>\n",
              "    <tr>\n",
              "      <th>4</th>\n",
              "      <td>473</td>\n",
              "      <td>train</td>\n",
              "      <td>182be0c5cdcd5072bb1864cdee4d3d6e</td>\n",
              "      <td>2018-11-15 00:02:00</td>\n",
              "      <td>0</td>\n",
              "      <td>0.0</td>\n",
              "      <td>latest</td>\n",
              "      <td>62873</td>\n",
              "      <td>2.0</td>\n",
              "    </tr>\n",
              "  </tbody>\n",
              "</table>\n",
              "</div>"
            ],
            "text/plain": [
              "   app_code datatype  ... user_id Cluster\n",
              "0       422    train  ...   87862     5.0\n",
              "1       467    train  ...   63410     5.0\n",
              "2       259    train  ...   71748     5.0\n",
              "3       244    train  ...   69209     5.0\n",
              "4       473    train  ...   62873     2.0\n",
              "\n",
              "[5 rows x 9 columns]"
            ]
          },
          "metadata": {
            "tags": []
          },
          "execution_count": 23
        }
      ]
    },
    {
      "cell_type": "code",
      "metadata": {
        "id": "modwZ2MsZ04-",
        "colab_type": "code",
        "colab": {}
      },
      "source": [
        "# Function for Feature engineering\n",
        "def Feature_eng(Train):\n",
        " \n",
        "  Train['app_code'] = Train['app_code'].astype('object')\n",
        "  Train['Cluster'] = Train['Cluster'].astype('object')\n",
        "  Train[\"impression_time\"]= pd.to_datetime(Train[\"impression_time\"])\n",
        "  Train['day'] = Train['impression_time'].dt.day.astype('object')\n",
        "  Train['Week'] = np.where(Train['day'] > 21 , \">21\",\n",
        "                                      np.where(Train['day'] > 14 , \"14-21\", \n",
        "                                               np.where(Train['day'] > 7 , \"7-14\", \"1-7\")))\n",
        "  Train['hour'] = Train['impression_time'].dt.hour.astype('object')\n",
        "  Train_temp = pd.get_dummies(Train[[\"app_code\",\"day\", \"Week\",\"hour\",\"os_version\", \"Cluster\"]], prefix=[\"app_code\",\"day\", \"Week\",\"hour\",\"os_version\", \"Cluster\"])\n",
        "  Train_v2 = pd.concat([Train, Train_temp], axis = 1)\n",
        "  Train_v2 = Train_v2.drop(columns=['impression_id','impression_time','user_id','app_code','os_version','day', 'Week','hour', 'Cluster'])\n",
        "  return Train_v2"
      ],
      "execution_count": 0,
      "outputs": []
    },
    {
      "cell_type": "code",
      "metadata": {
        "id": "UI4UoU12anhH",
        "colab_type": "code",
        "outputId": "3c209c6b-3366-42fe-beff-94a89da963bd",
        "colab": {
          "base_uri": "https://localhost:8080/",
          "height": 287
        }
      },
      "source": [
        "# Calling Feature engineering function\n",
        "data_v2 = Feature_eng(data)\n",
        "\n",
        "print(\"Number of rows and variables in train data:\", data_v2.shape)\n",
        "\n",
        "data_v2.head()"
      ],
      "execution_count": 25,
      "outputs": [
        {
          "output_type": "stream",
          "text": [
            "Number of rows and variables in train data: (328284, 593)\n"
          ],
          "name": "stdout"
        },
        {
          "output_type": "execute_result",
          "data": {
            "text/html": [
              "<div>\n",
              "<style scoped>\n",
              "    .dataframe tbody tr th:only-of-type {\n",
              "        vertical-align: middle;\n",
              "    }\n",
              "\n",
              "    .dataframe tbody tr th {\n",
              "        vertical-align: top;\n",
              "    }\n",
              "\n",
              "    .dataframe thead th {\n",
              "        text-align: right;\n",
              "    }\n",
              "</style>\n",
              "<table border=\"1\" class=\"dataframe\">\n",
              "  <thead>\n",
              "    <tr style=\"text-align: right;\">\n",
              "      <th></th>\n",
              "      <th>datatype</th>\n",
              "      <th>is_4G</th>\n",
              "      <th>is_click</th>\n",
              "      <th>app_code_0</th>\n",
              "      <th>app_code_1</th>\n",
              "      <th>app_code_2</th>\n",
              "      <th>app_code_3</th>\n",
              "      <th>app_code_4</th>\n",
              "      <th>app_code_5</th>\n",
              "      <th>app_code_6</th>\n",
              "      <th>app_code_7</th>\n",
              "      <th>app_code_8</th>\n",
              "      <th>app_code_9</th>\n",
              "      <th>app_code_10</th>\n",
              "      <th>app_code_11</th>\n",
              "      <th>app_code_12</th>\n",
              "      <th>app_code_13</th>\n",
              "      <th>app_code_14</th>\n",
              "      <th>app_code_15</th>\n",
              "      <th>app_code_16</th>\n",
              "      <th>app_code_17</th>\n",
              "      <th>app_code_18</th>\n",
              "      <th>app_code_19</th>\n",
              "      <th>app_code_20</th>\n",
              "      <th>app_code_21</th>\n",
              "      <th>app_code_22</th>\n",
              "      <th>app_code_23</th>\n",
              "      <th>app_code_24</th>\n",
              "      <th>app_code_25</th>\n",
              "      <th>app_code_26</th>\n",
              "      <th>app_code_27</th>\n",
              "      <th>app_code_28</th>\n",
              "      <th>app_code_29</th>\n",
              "      <th>app_code_30</th>\n",
              "      <th>app_code_31</th>\n",
              "      <th>app_code_32</th>\n",
              "      <th>app_code_33</th>\n",
              "      <th>app_code_34</th>\n",
              "      <th>app_code_35</th>\n",
              "      <th>app_code_36</th>\n",
              "      <th>...</th>\n",
              "      <th>day_29</th>\n",
              "      <th>day_30</th>\n",
              "      <th>Week_1-7</th>\n",
              "      <th>Week_14-21</th>\n",
              "      <th>Week_7-14</th>\n",
              "      <th>Week_&gt;21</th>\n",
              "      <th>hour_0</th>\n",
              "      <th>hour_1</th>\n",
              "      <th>hour_2</th>\n",
              "      <th>hour_3</th>\n",
              "      <th>hour_4</th>\n",
              "      <th>hour_5</th>\n",
              "      <th>hour_6</th>\n",
              "      <th>hour_7</th>\n",
              "      <th>hour_8</th>\n",
              "      <th>hour_9</th>\n",
              "      <th>hour_10</th>\n",
              "      <th>hour_11</th>\n",
              "      <th>hour_12</th>\n",
              "      <th>hour_13</th>\n",
              "      <th>hour_14</th>\n",
              "      <th>hour_15</th>\n",
              "      <th>hour_16</th>\n",
              "      <th>hour_17</th>\n",
              "      <th>hour_18</th>\n",
              "      <th>hour_19</th>\n",
              "      <th>hour_20</th>\n",
              "      <th>hour_21</th>\n",
              "      <th>hour_22</th>\n",
              "      <th>hour_23</th>\n",
              "      <th>os_version_intermediate</th>\n",
              "      <th>os_version_latest</th>\n",
              "      <th>os_version_old</th>\n",
              "      <th>Cluster_0.0</th>\n",
              "      <th>Cluster_1.0</th>\n",
              "      <th>Cluster_2.0</th>\n",
              "      <th>Cluster_3.0</th>\n",
              "      <th>Cluster_4.0</th>\n",
              "      <th>Cluster_5.0</th>\n",
              "      <th>Cluster_6.0</th>\n",
              "    </tr>\n",
              "  </thead>\n",
              "  <tbody>\n",
              "    <tr>\n",
              "      <th>0</th>\n",
              "      <td>train</td>\n",
              "      <td>0</td>\n",
              "      <td>0.0</td>\n",
              "      <td>0</td>\n",
              "      <td>0</td>\n",
              "      <td>0</td>\n",
              "      <td>0</td>\n",
              "      <td>0</td>\n",
              "      <td>0</td>\n",
              "      <td>0</td>\n",
              "      <td>0</td>\n",
              "      <td>0</td>\n",
              "      <td>0</td>\n",
              "      <td>0</td>\n",
              "      <td>0</td>\n",
              "      <td>0</td>\n",
              "      <td>0</td>\n",
              "      <td>0</td>\n",
              "      <td>0</td>\n",
              "      <td>0</td>\n",
              "      <td>0</td>\n",
              "      <td>0</td>\n",
              "      <td>0</td>\n",
              "      <td>0</td>\n",
              "      <td>0</td>\n",
              "      <td>0</td>\n",
              "      <td>0</td>\n",
              "      <td>0</td>\n",
              "      <td>0</td>\n",
              "      <td>0</td>\n",
              "      <td>0</td>\n",
              "      <td>0</td>\n",
              "      <td>0</td>\n",
              "      <td>0</td>\n",
              "      <td>0</td>\n",
              "      <td>0</td>\n",
              "      <td>0</td>\n",
              "      <td>0</td>\n",
              "      <td>0</td>\n",
              "      <td>0</td>\n",
              "      <td>...</td>\n",
              "      <td>0</td>\n",
              "      <td>0</td>\n",
              "      <td>0</td>\n",
              "      <td>1</td>\n",
              "      <td>0</td>\n",
              "      <td>0</td>\n",
              "      <td>1</td>\n",
              "      <td>0</td>\n",
              "      <td>0</td>\n",
              "      <td>0</td>\n",
              "      <td>0</td>\n",
              "      <td>0</td>\n",
              "      <td>0</td>\n",
              "      <td>0</td>\n",
              "      <td>0</td>\n",
              "      <td>0</td>\n",
              "      <td>0</td>\n",
              "      <td>0</td>\n",
              "      <td>0</td>\n",
              "      <td>0</td>\n",
              "      <td>0</td>\n",
              "      <td>0</td>\n",
              "      <td>0</td>\n",
              "      <td>0</td>\n",
              "      <td>0</td>\n",
              "      <td>0</td>\n",
              "      <td>0</td>\n",
              "      <td>0</td>\n",
              "      <td>0</td>\n",
              "      <td>0</td>\n",
              "      <td>0</td>\n",
              "      <td>0</td>\n",
              "      <td>1</td>\n",
              "      <td>0</td>\n",
              "      <td>0</td>\n",
              "      <td>0</td>\n",
              "      <td>0</td>\n",
              "      <td>0</td>\n",
              "      <td>1</td>\n",
              "      <td>0</td>\n",
              "    </tr>\n",
              "    <tr>\n",
              "      <th>1</th>\n",
              "      <td>train</td>\n",
              "      <td>1</td>\n",
              "      <td>1.0</td>\n",
              "      <td>0</td>\n",
              "      <td>0</td>\n",
              "      <td>0</td>\n",
              "      <td>0</td>\n",
              "      <td>0</td>\n",
              "      <td>0</td>\n",
              "      <td>0</td>\n",
              "      <td>0</td>\n",
              "      <td>0</td>\n",
              "      <td>0</td>\n",
              "      <td>0</td>\n",
              "      <td>0</td>\n",
              "      <td>0</td>\n",
              "      <td>0</td>\n",
              "      <td>0</td>\n",
              "      <td>0</td>\n",
              "      <td>0</td>\n",
              "      <td>0</td>\n",
              "      <td>0</td>\n",
              "      <td>0</td>\n",
              "      <td>0</td>\n",
              "      <td>0</td>\n",
              "      <td>0</td>\n",
              "      <td>0</td>\n",
              "      <td>0</td>\n",
              "      <td>0</td>\n",
              "      <td>0</td>\n",
              "      <td>0</td>\n",
              "      <td>0</td>\n",
              "      <td>0</td>\n",
              "      <td>0</td>\n",
              "      <td>0</td>\n",
              "      <td>0</td>\n",
              "      <td>0</td>\n",
              "      <td>0</td>\n",
              "      <td>0</td>\n",
              "      <td>0</td>\n",
              "      <td>...</td>\n",
              "      <td>0</td>\n",
              "      <td>0</td>\n",
              "      <td>0</td>\n",
              "      <td>1</td>\n",
              "      <td>0</td>\n",
              "      <td>0</td>\n",
              "      <td>1</td>\n",
              "      <td>0</td>\n",
              "      <td>0</td>\n",
              "      <td>0</td>\n",
              "      <td>0</td>\n",
              "      <td>0</td>\n",
              "      <td>0</td>\n",
              "      <td>0</td>\n",
              "      <td>0</td>\n",
              "      <td>0</td>\n",
              "      <td>0</td>\n",
              "      <td>0</td>\n",
              "      <td>0</td>\n",
              "      <td>0</td>\n",
              "      <td>0</td>\n",
              "      <td>0</td>\n",
              "      <td>0</td>\n",
              "      <td>0</td>\n",
              "      <td>0</td>\n",
              "      <td>0</td>\n",
              "      <td>0</td>\n",
              "      <td>0</td>\n",
              "      <td>0</td>\n",
              "      <td>0</td>\n",
              "      <td>0</td>\n",
              "      <td>1</td>\n",
              "      <td>0</td>\n",
              "      <td>0</td>\n",
              "      <td>0</td>\n",
              "      <td>0</td>\n",
              "      <td>0</td>\n",
              "      <td>0</td>\n",
              "      <td>1</td>\n",
              "      <td>0</td>\n",
              "    </tr>\n",
              "    <tr>\n",
              "      <th>2</th>\n",
              "      <td>train</td>\n",
              "      <td>1</td>\n",
              "      <td>0.0</td>\n",
              "      <td>0</td>\n",
              "      <td>0</td>\n",
              "      <td>0</td>\n",
              "      <td>0</td>\n",
              "      <td>0</td>\n",
              "      <td>0</td>\n",
              "      <td>0</td>\n",
              "      <td>0</td>\n",
              "      <td>0</td>\n",
              "      <td>0</td>\n",
              "      <td>0</td>\n",
              "      <td>0</td>\n",
              "      <td>0</td>\n",
              "      <td>0</td>\n",
              "      <td>0</td>\n",
              "      <td>0</td>\n",
              "      <td>0</td>\n",
              "      <td>0</td>\n",
              "      <td>0</td>\n",
              "      <td>0</td>\n",
              "      <td>0</td>\n",
              "      <td>0</td>\n",
              "      <td>0</td>\n",
              "      <td>0</td>\n",
              "      <td>0</td>\n",
              "      <td>0</td>\n",
              "      <td>0</td>\n",
              "      <td>0</td>\n",
              "      <td>0</td>\n",
              "      <td>0</td>\n",
              "      <td>0</td>\n",
              "      <td>0</td>\n",
              "      <td>0</td>\n",
              "      <td>0</td>\n",
              "      <td>0</td>\n",
              "      <td>0</td>\n",
              "      <td>0</td>\n",
              "      <td>...</td>\n",
              "      <td>0</td>\n",
              "      <td>0</td>\n",
              "      <td>0</td>\n",
              "      <td>1</td>\n",
              "      <td>0</td>\n",
              "      <td>0</td>\n",
              "      <td>1</td>\n",
              "      <td>0</td>\n",
              "      <td>0</td>\n",
              "      <td>0</td>\n",
              "      <td>0</td>\n",
              "      <td>0</td>\n",
              "      <td>0</td>\n",
              "      <td>0</td>\n",
              "      <td>0</td>\n",
              "      <td>0</td>\n",
              "      <td>0</td>\n",
              "      <td>0</td>\n",
              "      <td>0</td>\n",
              "      <td>0</td>\n",
              "      <td>0</td>\n",
              "      <td>0</td>\n",
              "      <td>0</td>\n",
              "      <td>0</td>\n",
              "      <td>0</td>\n",
              "      <td>0</td>\n",
              "      <td>0</td>\n",
              "      <td>0</td>\n",
              "      <td>0</td>\n",
              "      <td>0</td>\n",
              "      <td>1</td>\n",
              "      <td>0</td>\n",
              "      <td>0</td>\n",
              "      <td>0</td>\n",
              "      <td>0</td>\n",
              "      <td>0</td>\n",
              "      <td>0</td>\n",
              "      <td>0</td>\n",
              "      <td>1</td>\n",
              "      <td>0</td>\n",
              "    </tr>\n",
              "    <tr>\n",
              "      <th>3</th>\n",
              "      <td>train</td>\n",
              "      <td>1</td>\n",
              "      <td>0.0</td>\n",
              "      <td>0</td>\n",
              "      <td>0</td>\n",
              "      <td>0</td>\n",
              "      <td>0</td>\n",
              "      <td>0</td>\n",
              "      <td>0</td>\n",
              "      <td>0</td>\n",
              "      <td>0</td>\n",
              "      <td>0</td>\n",
              "      <td>0</td>\n",
              "      <td>0</td>\n",
              "      <td>0</td>\n",
              "      <td>0</td>\n",
              "      <td>0</td>\n",
              "      <td>0</td>\n",
              "      <td>0</td>\n",
              "      <td>0</td>\n",
              "      <td>0</td>\n",
              "      <td>0</td>\n",
              "      <td>0</td>\n",
              "      <td>0</td>\n",
              "      <td>0</td>\n",
              "      <td>0</td>\n",
              "      <td>0</td>\n",
              "      <td>0</td>\n",
              "      <td>0</td>\n",
              "      <td>0</td>\n",
              "      <td>0</td>\n",
              "      <td>0</td>\n",
              "      <td>0</td>\n",
              "      <td>0</td>\n",
              "      <td>0</td>\n",
              "      <td>0</td>\n",
              "      <td>0</td>\n",
              "      <td>0</td>\n",
              "      <td>0</td>\n",
              "      <td>0</td>\n",
              "      <td>...</td>\n",
              "      <td>0</td>\n",
              "      <td>0</td>\n",
              "      <td>0</td>\n",
              "      <td>1</td>\n",
              "      <td>0</td>\n",
              "      <td>0</td>\n",
              "      <td>1</td>\n",
              "      <td>0</td>\n",
              "      <td>0</td>\n",
              "      <td>0</td>\n",
              "      <td>0</td>\n",
              "      <td>0</td>\n",
              "      <td>0</td>\n",
              "      <td>0</td>\n",
              "      <td>0</td>\n",
              "      <td>0</td>\n",
              "      <td>0</td>\n",
              "      <td>0</td>\n",
              "      <td>0</td>\n",
              "      <td>0</td>\n",
              "      <td>0</td>\n",
              "      <td>0</td>\n",
              "      <td>0</td>\n",
              "      <td>0</td>\n",
              "      <td>0</td>\n",
              "      <td>0</td>\n",
              "      <td>0</td>\n",
              "      <td>0</td>\n",
              "      <td>0</td>\n",
              "      <td>0</td>\n",
              "      <td>0</td>\n",
              "      <td>1</td>\n",
              "      <td>0</td>\n",
              "      <td>0</td>\n",
              "      <td>0</td>\n",
              "      <td>0</td>\n",
              "      <td>0</td>\n",
              "      <td>0</td>\n",
              "      <td>1</td>\n",
              "      <td>0</td>\n",
              "    </tr>\n",
              "    <tr>\n",
              "      <th>4</th>\n",
              "      <td>train</td>\n",
              "      <td>0</td>\n",
              "      <td>0.0</td>\n",
              "      <td>0</td>\n",
              "      <td>0</td>\n",
              "      <td>0</td>\n",
              "      <td>0</td>\n",
              "      <td>0</td>\n",
              "      <td>0</td>\n",
              "      <td>0</td>\n",
              "      <td>0</td>\n",
              "      <td>0</td>\n",
              "      <td>0</td>\n",
              "      <td>0</td>\n",
              "      <td>0</td>\n",
              "      <td>0</td>\n",
              "      <td>0</td>\n",
              "      <td>0</td>\n",
              "      <td>0</td>\n",
              "      <td>0</td>\n",
              "      <td>0</td>\n",
              "      <td>0</td>\n",
              "      <td>0</td>\n",
              "      <td>0</td>\n",
              "      <td>0</td>\n",
              "      <td>0</td>\n",
              "      <td>0</td>\n",
              "      <td>0</td>\n",
              "      <td>0</td>\n",
              "      <td>0</td>\n",
              "      <td>0</td>\n",
              "      <td>0</td>\n",
              "      <td>0</td>\n",
              "      <td>0</td>\n",
              "      <td>0</td>\n",
              "      <td>0</td>\n",
              "      <td>0</td>\n",
              "      <td>0</td>\n",
              "      <td>0</td>\n",
              "      <td>0</td>\n",
              "      <td>...</td>\n",
              "      <td>0</td>\n",
              "      <td>0</td>\n",
              "      <td>0</td>\n",
              "      <td>1</td>\n",
              "      <td>0</td>\n",
              "      <td>0</td>\n",
              "      <td>1</td>\n",
              "      <td>0</td>\n",
              "      <td>0</td>\n",
              "      <td>0</td>\n",
              "      <td>0</td>\n",
              "      <td>0</td>\n",
              "      <td>0</td>\n",
              "      <td>0</td>\n",
              "      <td>0</td>\n",
              "      <td>0</td>\n",
              "      <td>0</td>\n",
              "      <td>0</td>\n",
              "      <td>0</td>\n",
              "      <td>0</td>\n",
              "      <td>0</td>\n",
              "      <td>0</td>\n",
              "      <td>0</td>\n",
              "      <td>0</td>\n",
              "      <td>0</td>\n",
              "      <td>0</td>\n",
              "      <td>0</td>\n",
              "      <td>0</td>\n",
              "      <td>0</td>\n",
              "      <td>0</td>\n",
              "      <td>0</td>\n",
              "      <td>1</td>\n",
              "      <td>0</td>\n",
              "      <td>0</td>\n",
              "      <td>0</td>\n",
              "      <td>1</td>\n",
              "      <td>0</td>\n",
              "      <td>0</td>\n",
              "      <td>0</td>\n",
              "      <td>0</td>\n",
              "    </tr>\n",
              "  </tbody>\n",
              "</table>\n",
              "<p>5 rows × 593 columns</p>\n",
              "</div>"
            ],
            "text/plain": [
              "  datatype  is_4G  is_click  ...  Cluster_4.0  Cluster_5.0  Cluster_6.0\n",
              "0    train      0       0.0  ...            0            1            0\n",
              "1    train      1       1.0  ...            0            1            0\n",
              "2    train      1       0.0  ...            0            1            0\n",
              "3    train      1       0.0  ...            0            1            0\n",
              "4    train      0       0.0  ...            0            0            0\n",
              "\n",
              "[5 rows x 593 columns]"
            ]
          },
          "metadata": {
            "tags": []
          },
          "execution_count": 25
        }
      ]
    },
    {
      "cell_type": "code",
      "metadata": {
        "id": "awapLovHlahQ",
        "colab_type": "code",
        "colab": {
          "base_uri": "https://localhost:8080/",
          "height": 51
        },
        "outputId": "383d76f2-0a83-40f8-c0f5-b9c81350e637"
      },
      "source": [
        "Train = data_v2[data_v2['datatype'] == 'train']\n",
        "Test = data_v2[data_v2['datatype'] == 'test']\n",
        "\n",
        "Train = Train.drop(['datatype'], axis = 1)\n",
        "Test = Test.drop(['is_click', 'datatype'], axis = 1)\n",
        "\n",
        "print(\"Number of rows and variables in train data:\", Train.shape)\n",
        "print(\"Number of rows and variables in test data:\", Test.shape)"
      ],
      "execution_count": 26,
      "outputs": [
        {
          "output_type": "stream",
          "text": [
            "Number of rows and variables in train data: (237609, 592)\n",
            "Number of rows and variables in test data: (90675, 591)\n"
          ],
          "name": "stdout"
        }
      ]
    },
    {
      "cell_type": "code",
      "metadata": {
        "id": "p7IhvY88a02e",
        "colab_type": "code",
        "outputId": "af95a722-f74f-4a62-9a63-ad63ffbb2a05",
        "colab": {
          "base_uri": "https://localhost:8080/",
          "height": 102
        }
      },
      "source": [
        "# Distribution of target variable\n",
        "print(\"The unique number of Categories: \",len(Train['is_click'].unique()))\n",
        "print(\"Below are the distribution of each categories in Train data:\")\n",
        "Train['is_click'].value_counts(normalize = True)"
      ],
      "execution_count": 27,
      "outputs": [
        {
          "output_type": "stream",
          "text": [
            "The unique number of Categories:  2\n",
            "Below are the distribution of each categories in Train data:\n"
          ],
          "name": "stdout"
        },
        {
          "output_type": "execute_result",
          "data": {
            "text/plain": [
              "0.0    0.954286\n",
              "1.0    0.045714\n",
              "Name: is_click, dtype: float64"
            ]
          },
          "metadata": {
            "tags": []
          },
          "execution_count": 27
        }
      ]
    },
    {
      "cell_type": "code",
      "metadata": {
        "id": "Mp2Aux8SewGm",
        "colab_type": "code",
        "outputId": "386f8863-a847-4ac5-b282-a9459c0b87e0",
        "colab": {
          "base_uri": "https://localhost:8080/",
          "height": 338
        }
      },
      "source": [
        "plt.figure(figsize=(7,5))\n",
        "sns.countplot(x = 'is_click', data = Train);"
      ],
      "execution_count": 28,
      "outputs": [
        {
          "output_type": "display_data",
          "data": {
            "image/png": "[encoded data removed]",
            "text/plain": [
              "<Figure size 504x360 with 1 Axes>"
            ]
          },
          "metadata": {
            "tags": []
          }
        }
      ]
    },
    {
      "cell_type": "markdown",
      "metadata": {
        "id": "E50p2J1JcZ1-",
        "colab_type": "text"
      },
      "source": [
        "### 4.2 Splitting into X and y"
      ]
    },
    {
      "cell_type": "code",
      "metadata": {
        "id": "_hZtneHAcdL1",
        "colab_type": "code",
        "colab": {}
      },
      "source": [
        "# Splitting into X and y\n",
        "X = Train.drop(columns=['is_click']).values\n",
        "y = Train['is_click'].values"
      ],
      "execution_count": 0,
      "outputs": []
    },
    {
      "cell_type": "markdown",
      "metadata": {
        "id": "OUNMZBCFc5iv",
        "colab_type": "text"
      },
      "source": [
        "### 4.3 Dividing data into train and validation set\n",
        "\n",
        "Before training the model, let's split the training data into a training and validation set."
      ]
    },
    {
      "cell_type": "code",
      "metadata": {
        "id": "P0HPoRtwc85U",
        "colab_type": "code",
        "outputId": "1e9a6dd3-bfc2-42cc-fd42-31cc59c35844",
        "colab": {
          "base_uri": "https://localhost:8080/",
          "height": 119
        }
      },
      "source": [
        "# Dividing data into train and validation set\n",
        "from sklearn.model_selection import train_test_split\n",
        "\n",
        "validation_percent = 0.30\n",
        "test_percent = 0.50\n",
        "seed = 786\n",
        "\n",
        "X_train, X_validation, y_train, y_validation = train_test_split(X, y, test_size = validation_percent, random_state = seed, stratify = y)\n",
        "X_validation, X_test, y_validation, y_test = train_test_split(X_validation, y_validation, test_size = test_percent, random_state = seed, stratify = y_validation)\n",
        "\n",
        "# Shape of data\n",
        "print(\"Number of rows and columns in train dataset:\",X_train.shape)\n",
        "print(\"Number of rows and columns in validation dataset:\",X_validation.shape)\n",
        "print(\"Number of rows and columns in test dataset:\",X_test.shape)\n",
        "\n",
        "print(\"Number of rows and columns in target variable for training:\",y_train.shape)\n",
        "print(\"Number of rows and columns in target variable for validation:\",y_validation.shape)\n",
        "print(\"Number of rows and columns in target variable for test:\",y_test.shape)"
      ],
      "execution_count": 30,
      "outputs": [
        {
          "output_type": "stream",
          "text": [
            "Number of rows and columns in train dataset: (166326, 591)\n",
            "Number of rows and columns in validation dataset: (35641, 591)\n",
            "Number of rows and columns in test dataset: (35642, 591)\n",
            "Number of rows and columns in target variable for training: (166326,)\n",
            "Number of rows and columns in target variable for validation: (35641,)\n",
            "Number of rows and columns in target variable for test: (35642,)\n"
          ],
          "name": "stdout"
        }
      ]
    },
    {
      "cell_type": "markdown",
      "metadata": {
        "id": "Abw_XUiognAU",
        "colab_type": "text"
      },
      "source": [
        "### 4.4 Checking various models"
      ]
    },
    {
      "cell_type": "markdown",
      "metadata": {
        "id": "VpuAsJmfn8Cd",
        "colab_type": "text"
      },
      "source": [
        "#### 4.4.1 Logistic Regression"
      ]
    },
    {
      "cell_type": "code",
      "metadata": {
        "id": "ujJTqKgLnF7D",
        "colab_type": "code",
        "colab": {
          "base_uri": "https://localhost:8080/",
          "height": 258
        },
        "outputId": "b685b89d-1235-4bf7-e9eb-0d7dd15d8032"
      },
      "source": [
        "# Logistic regression\n",
        "from sklearn.linear_model import LogisticRegression\n",
        "\n",
        "seed = 786\n",
        "LR = LogisticRegression(penalty='l2', class_weight = 'balanced', random_state=seed,C=1)\n",
        "\n",
        "model_LR = LR.fit(X_train, y_train)\n",
        "\n",
        "# Scoring based on F1 score for hold out sample\n",
        "#prob1=model_LR.predict_proba(X_validation)[:,1]\n",
        "#y_predict_LR=[1 if i > 0.57 else 0 for i in prob1]\n",
        "y_predict_LR = model_LR.predict(X_validation)\n",
        "\n",
        "from sklearn.metrics import roc_auc_score, f1_score, classification_report\n",
        "F1_scores_holdout = f1_score(y_validation, y_predict_LR, average=\"macro\")\n",
        "AUC_scores_holdout = roc_auc_score(y_validation, y_predict_LR)\n",
        "print(classification_report(y_validation, y_predict_LR))\n",
        "print(\"F1 Score for hold-out sample data:\", round(F1_scores_holdout*100,2))\n",
        "print(\"AUC Score for hold-out sample data:\", round(AUC_scores_holdout*100,2))"
      ],
      "execution_count": 31,
      "outputs": [
        {
          "output_type": "stream",
          "text": [
            "/usr/local/lib/python3.6/dist-packages/sklearn/linear_model/logistic.py:432: FutureWarning: Default solver will be changed to 'lbfgs' in 0.22. Specify a solver to silence this warning.\n",
            "  FutureWarning)\n"
          ],
          "name": "stderr"
        },
        {
          "output_type": "stream",
          "text": [
            "              precision    recall  f1-score   support\n",
            "\n",
            "         0.0       0.98      0.57      0.72     34012\n",
            "         1.0       0.08      0.73      0.14      1629\n",
            "\n",
            "    accuracy                           0.58     35641\n",
            "   macro avg       0.53      0.65      0.43     35641\n",
            "weighted avg       0.94      0.58      0.70     35641\n",
            "\n",
            "F1 Score for hold-out sample data: 43.01\n",
            "AUC Score for hold-out sample data: 65.07\n"
          ],
          "name": "stdout"
        }
      ]
    },
    {
      "cell_type": "code",
      "metadata": {
        "id": "rK-z6vsppkuo",
        "colab_type": "code",
        "colab": {}
      },
      "source": [
        "def accuracy_summary(classifier, X_train, y_train, X_validation, y_validation):\n",
        "    t0 = time()\n",
        "    model = classifier.fit(X_train, y_train)\n",
        "    y_pred = model.predict(X_validation)\n",
        "    train_test_time = time() - t0\n",
        "    accuracy = roc_auc_score(y_validation, y_pred)\n",
        "    return accuracy, train_test_time"
      ],
      "execution_count": 0,
      "outputs": []
    },
    {
      "cell_type": "code",
      "metadata": {
        "id": "HBpfLYeip3SY",
        "colab_type": "code",
        "colab": {}
      },
      "source": [
        "from sklearn.svm import LinearSVC\n",
        "from sklearn.svm import SVC\n",
        "from sklearn.ensemble import AdaBoostClassifier, RandomForestClassifier, GradientBoostingClassifier \n",
        "from sklearn.naive_bayes import BernoulliNB, GaussianNB\n",
        "from sklearn.linear_model import LogisticRegression, SGDClassifier, RidgeClassifier\n",
        "from sklearn.linear_model import PassiveAggressiveClassifier\n",
        "from sklearn.linear_model import Perceptron\n",
        "from sklearn.neighbors import NearestCentroid\n",
        "from sklearn.feature_selection import SelectFromModel\n",
        "from xgboost import XGBClassifier\n",
        "from sklearn.pipeline import Pipeline\n",
        "from time import time\n",
        "from sklearn.metrics import f1_score, classification_report\n",
        "\n",
        "names = [\"Logistic Regression\", \"SGDClassifier\", \"Linear SVC\", \"LinearSVC with L1-based feature selection\",\"Gaussian SVM\",\n",
        "         \"Gaussian NB\", \"Bernoulli NB\", \"Ridge Classifier\", \"AdaBoost\", \"Randomforest\", \"GradientBoosting\",\n",
        "         \"ExtremeGradientBoosting\",\"Perceptron\",\"Passive-Aggresive\", \"Nearest Centroid\"]\n",
        "classifiers = [\n",
        "    LogisticRegression(),\n",
        "    SGDClassifier(),\n",
        "    LinearSVC(),\n",
        "    Pipeline([\n",
        "  ('feature_selection', SelectFromModel(LinearSVC(penalty=\"l1\", dual=False))),\n",
        "  ('classification', LinearSVC(penalty=\"l2\"))]),\n",
        "    GaussianNB(),\n",
        "    BernoulliNB(),\n",
        "    RidgeClassifier(),\n",
        "    AdaBoostClassifier(),\n",
        "    RandomForestClassifier(),\n",
        "    GradientBoostingClassifier(),\n",
        "    XGBClassifier(),\n",
        "    Perceptron(),\n",
        "    PassiveAggressiveClassifier(),\n",
        "    NearestCentroid()\n",
        "    ]\n",
        "\n",
        "zipped_clf = zip(names,classifiers)\n",
        "\n",
        "def classifier_comparator(classifier=zipped_clf):\n",
        "    result = []\n",
        "    for n,c in classifier:\n",
        "        checker_pipeline = Pipeline([\n",
        "            ('classifier', c)\n",
        "        ])\n",
        "        print(\"Validation result for {}\".format(n))\n",
        "        print (c)\n",
        "        clf_accuracy,tt_time = accuracy_summary(checker_pipeline, X_train, y_train, X_validation, y_validation)\n",
        "        result.append((n,clf_accuracy,tt_time))\n",
        "    return result"
      ],
      "execution_count": 0,
      "outputs": []
    },
    {
      "cell_type": "code",
      "metadata": {
        "id": "bX-g7NR8rY6v",
        "colab_type": "code",
        "colab": {
          "base_uri": "https://localhost:8080/",
          "height": 1000
        },
        "outputId": "e60984b1-bd51-46fb-aa0f-b2ab2c40ed32"
      },
      "source": [
        "classifier_result = classifier_comparator()\n",
        "classifier_result"
      ],
      "execution_count": 35,
      "outputs": [
        {
          "output_type": "stream",
          "text": [
            "Validation result for Logistic Regression\n",
            "LogisticRegression(C=1.0, class_weight=None, dual=False, fit_intercept=True,\n",
            "                   intercept_scaling=1, l1_ratio=None, max_iter=100,\n",
            "                   multi_class='warn', n_jobs=None, penalty='l2',\n",
            "                   random_state=None, solver='warn', tol=0.0001, verbose=0,\n",
            "                   warm_start=False)\n"
          ],
          "name": "stdout"
        },
        {
          "output_type": "stream",
          "text": [
            "/usr/local/lib/python3.6/dist-packages/sklearn/linear_model/logistic.py:432: FutureWarning: Default solver will be changed to 'lbfgs' in 0.22. Specify a solver to silence this warning.\n",
            "  FutureWarning)\n"
          ],
          "name": "stderr"
        },
        {
          "output_type": "stream",
          "text": [
            "Validation result for SGDClassifier\n",
            "SGDClassifier(alpha=0.0001, average=False, class_weight=None,\n",
            "              early_stopping=False, epsilon=0.1, eta0=0.0, fit_intercept=True,\n",
            "              l1_ratio=0.15, learning_rate='optimal', loss='hinge',\n",
            "              max_iter=1000, n_iter_no_change=5, n_jobs=None, penalty='l2',\n",
            "              power_t=0.5, random_state=None, shuffle=True, tol=0.001,\n",
            "              validation_fraction=0.1, verbose=0, warm_start=False)\n",
            "Validation result for Linear SVC\n",
            "LinearSVC(C=1.0, class_weight=None, dual=True, fit_intercept=True,\n",
            "          intercept_scaling=1, loss='squared_hinge', max_iter=1000,\n",
            "          multi_class='ovr', penalty='l2', random_state=None, tol=0.0001,\n",
            "          verbose=0)\n",
            "Validation result for LinearSVC with L1-based feature selection\n",
            "Pipeline(memory=None,\n",
            "         steps=[('feature_selection',\n",
            "                 SelectFromModel(estimator=LinearSVC(C=1.0, class_weight=None,\n",
            "                                                     dual=False,\n",
            "                                                     fit_intercept=True,\n",
            "                                                     intercept_scaling=1,\n",
            "                                                     loss='squared_hinge',\n",
            "                                                     max_iter=1000,\n",
            "                                                     multi_class='ovr',\n",
            "                                                     penalty='l1',\n",
            "                                                     random_state=None,\n",
            "                                                     tol=0.0001, verbose=0),\n",
            "                                 max_features=None, norm_order=1, prefit=False,\n",
            "                                 threshold=None)),\n",
            "                ('classification',\n",
            "                 LinearSVC(C=1.0, class_weight=None, dual=True,\n",
            "                           fit_intercept=True, intercept_scaling=1,\n",
            "                           loss='squared_hinge', max_iter=1000,\n",
            "                           multi_class='ovr', penalty='l2', random_state=None,\n",
            "                           tol=0.0001, verbose=0))],\n",
            "         verbose=False)\n"
          ],
          "name": "stdout"
        },
        {
          "output_type": "stream",
          "text": [
            "/usr/local/lib/python3.6/dist-packages/sklearn/svm/base.py:929: ConvergenceWarning: Liblinear failed to converge, increase the number of iterations.\n",
            "  \"the number of iterations.\", ConvergenceWarning)\n"
          ],
          "name": "stderr"
        },
        {
          "output_type": "stream",
          "text": [
            "Validation result for Gaussian SVM\n",
            "GaussianNB(priors=None, var_smoothing=1e-09)\n",
            "Validation result for Gaussian NB\n",
            "BernoulliNB(alpha=1.0, binarize=0.0, class_prior=None, fit_prior=True)\n",
            "Validation result for Bernoulli NB\n",
            "RidgeClassifier(alpha=1.0, class_weight=None, copy_X=True, fit_intercept=True,\n",
            "                max_iter=None, normalize=False, random_state=None,\n",
            "                solver='auto', tol=0.001)\n",
            "Validation result for Ridge Classifier\n",
            "AdaBoostClassifier(algorithm='SAMME.R', base_estimator=None, learning_rate=1.0,\n",
            "                   n_estimators=50, random_state=None)\n",
            "Validation result for AdaBoost\n",
            "RandomForestClassifier(bootstrap=True, class_weight=None, criterion='gini',\n",
            "                       max_depth=None, max_features='auto', max_leaf_nodes=None,\n",
            "                       min_impurity_decrease=0.0, min_impurity_split=None,\n",
            "                       min_samples_leaf=1, min_samples_split=2,\n",
            "                       min_weight_fraction_leaf=0.0, n_estimators='warn',\n",
            "                       n_jobs=None, oob_score=False, random_state=None,\n",
            "                       verbose=0, warm_start=False)\n"
          ],
          "name": "stdout"
        },
        {
          "output_type": "stream",
          "text": [
            "/usr/local/lib/python3.6/dist-packages/sklearn/ensemble/forest.py:245: FutureWarning: The default value of n_estimators will change from 10 in version 0.20 to 100 in 0.22.\n",
            "  \"10 in version 0.20 to 100 in 0.22.\", FutureWarning)\n"
          ],
          "name": "stderr"
        },
        {
          "output_type": "stream",
          "text": [
            "Validation result for Randomforest\n",
            "GradientBoostingClassifier(criterion='friedman_mse', init=None,\n",
            "                           learning_rate=0.1, loss='deviance', max_depth=3,\n",
            "                           max_features=None, max_leaf_nodes=None,\n",
            "                           min_impurity_decrease=0.0, min_impurity_split=None,\n",
            "                           min_samples_leaf=1, min_samples_split=2,\n",
            "                           min_weight_fraction_leaf=0.0, n_estimators=100,\n",
            "                           n_iter_no_change=None, presort='auto',\n",
            "                           random_state=None, subsample=1.0, tol=0.0001,\n",
            "                           validation_fraction=0.1, verbose=0,\n",
            "                           warm_start=False)\n",
            "Validation result for GradientBoosting\n",
            "XGBClassifier(base_score=0.5, booster='gbtree', colsample_bylevel=1,\n",
            "              colsample_bynode=1, colsample_bytree=1, gamma=0,\n",
            "              learning_rate=0.1, max_delta_step=0, max_depth=3,\n",
            "              min_child_weight=1, missing=None, n_estimators=100, n_jobs=1,\n",
            "              nthread=None, objective='binary:logistic', random_state=0,\n",
            "              reg_alpha=0, reg_lambda=1, scale_pos_weight=1, seed=None,\n",
            "              silent=None, subsample=1, verbosity=1)\n",
            "Validation result for ExtremeGradientBoosting\n",
            "Perceptron(alpha=0.0001, class_weight=None, early_stopping=False, eta0=1.0,\n",
            "           fit_intercept=True, max_iter=1000, n_iter_no_change=5, n_jobs=None,\n",
            "           penalty=None, random_state=0, shuffle=True, tol=0.001,\n",
            "           validation_fraction=0.1, verbose=0, warm_start=False)\n",
            "Validation result for Perceptron\n",
            "PassiveAggressiveClassifier(C=1.0, average=False, class_weight=None,\n",
            "                            early_stopping=False, fit_intercept=True,\n",
            "                            loss='hinge', max_iter=1000, n_iter_no_change=5,\n",
            "                            n_jobs=None, random_state=None, shuffle=True,\n",
            "                            tol=0.001, validation_fraction=0.1, verbose=0,\n",
            "                            warm_start=False)\n",
            "Validation result for Passive-Aggresive\n",
            "NearestCentroid(metric='euclidean', shrink_threshold=None)\n"
          ],
          "name": "stdout"
        },
        {
          "output_type": "execute_result",
          "data": {
            "text/plain": [
              "[('Logistic Regression', 0.5, 1.7173597812652588),\n",
              " ('SGDClassifier', 0.5, 2.8605594635009766),\n",
              " ('Linear SVC', 0.49998529930612723, 5.513771295547485),\n",
              " ('LinearSVC with L1-based feature selection',\n",
              "  0.49998529930612723,\n",
              "  13.315014362335205),\n",
              " ('Gaussian SVM', 0.49885546660417474, 2.2175464630126953),\n",
              " ('Gaussian NB', 0.5001893312200432, 1.6033282279968262),\n",
              " ('Bernoulli NB', 0.49998529930612723, 3.065272808074951),\n",
              " ('Ridge Classifier', 0.5, 124.84736394882202),\n",
              " ('AdaBoost', 0.5084575465258461, 18.737553596496582),\n",
              " ('Randomforest', 0.5, 650.4432380199432),\n",
              " ('GradientBoosting', 0.5, 170.13241529464722),\n",
              " ('ExtremeGradientBoosting', 0.5101947552255959, 1.9462151527404785),\n",
              " ('Perceptron', 0.508055772681826, 3.128899574279785),\n",
              " ('Passive-Aggresive', 0.6038645985416478, 0.5778987407684326)]"
            ]
          },
          "metadata": {
            "tags": []
          },
          "execution_count": 35
        }
      ]
    },
    {
      "cell_type": "code",
      "metadata": {
        "id": "XKJgZtqB2Rk1",
        "colab_type": "code",
        "colab": {
          "base_uri": "https://localhost:8080/",
          "height": 483
        },
        "outputId": "9f464db0-7b07-4351-f10c-17fc72e8b41d"
      },
      "source": [
        "classifier_result_df = pd.DataFrame(classifier_result)\n",
        "classifier_result_df.columns = ['Classifier', 'AUC-Score', 'Train and test time']\n",
        "classifier_result_df.sort_values(by='AUC-Score', ascending=False)"
      ],
      "execution_count": 36,
      "outputs": [
        {
          "output_type": "execute_result",
          "data": {
            "text/html": [
              "<div>\n",
              "<style scoped>\n",
              "    .dataframe tbody tr th:only-of-type {\n",
              "        vertical-align: middle;\n",
              "    }\n",
              "\n",
              "    .dataframe tbody tr th {\n",
              "        vertical-align: top;\n",
              "    }\n",
              "\n",
              "    .dataframe thead th {\n",
              "        text-align: right;\n",
              "    }\n",
              "</style>\n",
              "<table border=\"1\" class=\"dataframe\">\n",
              "  <thead>\n",
              "    <tr style=\"text-align: right;\">\n",
              "      <th></th>\n",
              "      <th>Classifier</th>\n",
              "      <th>AUC-Score</th>\n",
              "      <th>Train and test time</th>\n",
              "    </tr>\n",
              "  </thead>\n",
              "  <tbody>\n",
              "    <tr>\n",
              "      <th>13</th>\n",
              "      <td>Passive-Aggresive</td>\n",
              "      <td>0.603865</td>\n",
              "      <td>0.577899</td>\n",
              "    </tr>\n",
              "    <tr>\n",
              "      <th>11</th>\n",
              "      <td>ExtremeGradientBoosting</td>\n",
              "      <td>0.510195</td>\n",
              "      <td>1.946215</td>\n",
              "    </tr>\n",
              "    <tr>\n",
              "      <th>8</th>\n",
              "      <td>AdaBoost</td>\n",
              "      <td>0.508458</td>\n",
              "      <td>18.737554</td>\n",
              "    </tr>\n",
              "    <tr>\n",
              "      <th>12</th>\n",
              "      <td>Perceptron</td>\n",
              "      <td>0.508056</td>\n",
              "      <td>3.128900</td>\n",
              "    </tr>\n",
              "    <tr>\n",
              "      <th>5</th>\n",
              "      <td>Gaussian NB</td>\n",
              "      <td>0.500189</td>\n",
              "      <td>1.603328</td>\n",
              "    </tr>\n",
              "    <tr>\n",
              "      <th>0</th>\n",
              "      <td>Logistic Regression</td>\n",
              "      <td>0.500000</td>\n",
              "      <td>1.717360</td>\n",
              "    </tr>\n",
              "    <tr>\n",
              "      <th>1</th>\n",
              "      <td>SGDClassifier</td>\n",
              "      <td>0.500000</td>\n",
              "      <td>2.860559</td>\n",
              "    </tr>\n",
              "    <tr>\n",
              "      <th>7</th>\n",
              "      <td>Ridge Classifier</td>\n",
              "      <td>0.500000</td>\n",
              "      <td>124.847364</td>\n",
              "    </tr>\n",
              "    <tr>\n",
              "      <th>9</th>\n",
              "      <td>Randomforest</td>\n",
              "      <td>0.500000</td>\n",
              "      <td>650.443238</td>\n",
              "    </tr>\n",
              "    <tr>\n",
              "      <th>10</th>\n",
              "      <td>GradientBoosting</td>\n",
              "      <td>0.500000</td>\n",
              "      <td>170.132415</td>\n",
              "    </tr>\n",
              "    <tr>\n",
              "      <th>2</th>\n",
              "      <td>Linear SVC</td>\n",
              "      <td>0.499985</td>\n",
              "      <td>5.513771</td>\n",
              "    </tr>\n",
              "    <tr>\n",
              "      <th>3</th>\n",
              "      <td>LinearSVC with L1-based feature selection</td>\n",
              "      <td>0.499985</td>\n",
              "      <td>13.315014</td>\n",
              "    </tr>\n",
              "    <tr>\n",
              "      <th>6</th>\n",
              "      <td>Bernoulli NB</td>\n",
              "      <td>0.499985</td>\n",
              "      <td>3.065273</td>\n",
              "    </tr>\n",
              "    <tr>\n",
              "      <th>4</th>\n",
              "      <td>Gaussian SVM</td>\n",
              "      <td>0.498855</td>\n",
              "      <td>2.217546</td>\n",
              "    </tr>\n",
              "  </tbody>\n",
              "</table>\n",
              "</div>"
            ],
            "text/plain": [
              "                                   Classifier  AUC-Score  Train and test time\n",
              "13                          Passive-Aggresive   0.603865             0.577899\n",
              "11                    ExtremeGradientBoosting   0.510195             1.946215\n",
              "8                                    AdaBoost   0.508458            18.737554\n",
              "12                                 Perceptron   0.508056             3.128900\n",
              "5                                 Gaussian NB   0.500189             1.603328\n",
              "0                         Logistic Regression   0.500000             1.717360\n",
              "1                               SGDClassifier   0.500000             2.860559\n",
              "7                            Ridge Classifier   0.500000           124.847364\n",
              "9                                Randomforest   0.500000           650.443238\n",
              "10                           GradientBoosting   0.500000           170.132415\n",
              "2                                  Linear SVC   0.499985             5.513771\n",
              "3   LinearSVC with L1-based feature selection   0.499985            13.315014\n",
              "6                                Bernoulli NB   0.499985             3.065273\n",
              "4                                Gaussian SVM   0.498855             2.217546"
            ]
          },
          "metadata": {
            "tags": []
          },
          "execution_count": 36
        }
      ]
    },
    {
      "cell_type": "code",
      "metadata": {
        "id": "W4atgU5AMX_5",
        "colab_type": "code",
        "outputId": "0eeeea3b-7e2b-4304-9156-5c6da8cb92e5",
        "colab": {
          "base_uri": "https://localhost:8080/",
          "height": 68
        }
      },
      "source": [
        "# Predicting test output\n",
        "y_predict = model_LR.predict(Test)\n",
        "Test_chk = pd.read_csv(\"./Input/test_aq1FGdB/test.csv\")\n",
        "Submission = pd.DataFrame()\n",
        "Submission['impression_id'] = Test_chk['impression_id']\n",
        "Submission['is_click'] = y_predict\n",
        "Submission.head()\n",
        "Submission['is_click'].value_counts()"
      ],
      "execution_count": 41,
      "outputs": [
        {
          "output_type": "execute_result",
          "data": {
            "text/plain": [
              "0.0    53748\n",
              "1.0    36927\n",
              "Name: is_click, dtype: int64"
            ]
          },
          "metadata": {
            "tags": []
          },
          "execution_count": 41
        }
      ]
    },
    {
      "cell_type": "code",
      "metadata": {
        "id": "Nm_ZakAZtfLu",
        "colab_type": "code",
        "colab": {}
      },
      "source": [
        "# Exporting output\n",
        "Submission.to_csv(\"./Output/Output_v2.csv\", index = False)"
      ],
      "execution_count": 0,
      "outputs": []
    }
  ]
}