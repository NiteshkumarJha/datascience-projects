{
  "nbformat": 4,
  "nbformat_minor": 0,
  "metadata": {
    "colab": {
      "name": "WNS Analytics Wizard 2019_V2.ipynb",
      "version": "0.3.2",
      "provenance": [],
      "collapsed_sections": []
    },
    "kernelspec": {
      "name": "python3",
      "display_name": "Python 3"
    },
    "accelerator": "GPU"
  },
  "cells": [
    {
      "cell_type": "markdown",
      "metadata": {
        "id": "SFe_6qT4pCqa",
        "colab_type": "text"
      },
      "source": [
        "# WNS Analytics Wizard 2019"
      ]
    },
    {
      "cell_type": "markdown",
      "metadata": {
        "id": "h82btBJopJw7",
        "colab_type": "text"
      },
      "source": [
        "## 1.0 Getting Started"
      ]
    },
    {
      "cell_type": "code",
      "metadata": {
        "id": "mfenMfyKo5tz",
        "colab_type": "code",
        "outputId": "ba88a7ea-2d05-4e02-da80-e28bbce9787e",
        "colab": {
          "base_uri": "https://localhost:8080/",
          "height": 125
        }
      },
      "source": [
        "# Mounting google drive\n",
        "from google.colab import drive\n",
        "drive.mount('/content/gdrive')"
      ],
      "execution_count": 1,
      "outputs": [
        {
          "output_type": "stream",
          "text": [
            "Go to this URL in a browser: https://accounts.google.com/o/oauth2/auth?client_id=947318989803-6bn6qk8qdgf4n4g3pfee6491hc0brc4i.apps.googleusercontent.com&redirect_uri=urn%3Aietf%3Awg%3Aoauth%3A2.0%3Aoob&scope=email%20https%3A%2F%2Fwww.googleapis.com%2Fauth%2Fdocs.test%20https%3A%2F%2Fwww.googleapis.com%2Fauth%2Fdrive%20https%3A%2F%2Fwww.googleapis.com%2Fauth%2Fdrive.photos.readonly%20https%3A%2F%2Fwww.googleapis.com%2Fauth%2Fpeopleapi.readonly&response_type=code\n",
            "\n",
            "Enter your authorization code:\n",
            "··········\n",
            "Mounted at /content/gdrive\n"
          ],
          "name": "stdout"
        }
      ]
    },
    {
      "cell_type": "code",
      "metadata": {
        "id": "SwvO4Qq3pfFz",
        "colab_type": "code",
        "colab": {}
      },
      "source": [
        "# importing libraries\n",
        "import os\n",
        "import numpy as np\n",
        "import pandas as pd\n",
        "import matplotlib.pyplot as plt\n",
        "import seaborn as sns\n",
        "%matplotlib inline"
      ],
      "execution_count": 0,
      "outputs": []
    },
    {
      "cell_type": "code",
      "metadata": {
        "id": "b9BFRz6nS278",
        "colab_type": "code",
        "colab": {}
      },
      "source": [
        "# setting the path\n",
        "os.chdir(\"/content/gdrive/My Drive/Colab Notebooks/WNS\")"
      ],
      "execution_count": 0,
      "outputs": []
    },
    {
      "cell_type": "code",
      "metadata": {
        "id": "02l8Ju-SLB1r",
        "colab_type": "code",
        "colab": {}
      },
      "source": [
        "# Importing the dataset\n",
        "Train = pd.read_csv(\"./Input/train_NA17Sgz/train.csv\")\n",
        "Item = pd.read_csv(\"./Input/train_NA17Sgz/item_data.csv\")\n",
        "View = pd.read_csv(\"./Input/train_NA17Sgz/view_log.csv\")\n",
        "Test = pd.read_csv(\"./Input/test_aq1FGdB/test.csv\")\n",
        "Sample_submission = pd.read_csv(\"./Input/sample_submission_IPsBlCT/sample_submission.csv\")"
      ],
      "execution_count": 0,
      "outputs": []
    },
    {
      "cell_type": "markdown",
      "metadata": {
        "id": "oD8qRJxIT2rH",
        "colab_type": "text"
      },
      "source": [
        "## 2.0 Glimpse of data"
      ]
    },
    {
      "cell_type": "code",
      "metadata": {
        "id": "s7CNq_-9QlDm",
        "colab_type": "code",
        "outputId": "6f391fef-9f15-41a8-95ef-39a1df46defa",
        "colab": {
          "base_uri": "https://localhost:8080/",
          "height": 87
        }
      },
      "source": [
        "# Shape of data\n",
        "print(\"Number of rows and columns in train dataset:\",Train.shape)\n",
        "print(\"Number of rows and columns in test dataset:\",Test.shape)\n",
        "\n",
        "print(\"Number of rows and columns in Item dataset:\",Item.shape)\n",
        "print(\"Number of rows and columns in View dataset:\",View.shape)"
      ],
      "execution_count": 5,
      "outputs": [
        {
          "output_type": "stream",
          "text": [
            "Number of rows and columns in train dataset: (237609, 7)\n",
            "Number of rows and columns in test dataset: (90675, 6)\n",
            "Number of rows and columns in Item dataset: (132761, 6)\n",
            "Number of rows and columns in View dataset: (3118622, 5)\n"
          ],
          "name": "stdout"
        }
      ]
    },
    {
      "cell_type": "code",
      "metadata": {
        "id": "feEUhE1WRlxA",
        "colab_type": "code",
        "outputId": "f4d8443e-4257-4ebf-927c-9df5f410bc4e",
        "colab": {
          "base_uri": "https://localhost:8080/",
          "height": 870
        }
      },
      "source": [
        "# Variable structure\n",
        "print(\"-----------------Variable Structure of training data--------------\")\n",
        "Train.info()\n",
        "print(\"-----------------Variable Structure of test data------------------\")\n",
        "Test.info()\n",
        "\n",
        "print(\"-----------------Variable Structure of item data--------------\")\n",
        "Item.info()\n",
        "print(\"-----------------Variable Structure of view data------------------\")\n",
        "View.info()"
      ],
      "execution_count": 6,
      "outputs": [
        {
          "output_type": "stream",
          "text": [
            "-----------------Variable Structure of training data--------------\n",
            "<class 'pandas.core.frame.DataFrame'>\n",
            "RangeIndex: 237609 entries, 0 to 237608\n",
            "Data columns (total 7 columns):\n",
            "impression_id      237609 non-null object\n",
            "impression_time    237609 non-null object\n",
            "user_id            237609 non-null int64\n",
            "app_code           237609 non-null int64\n",
            "os_version         237609 non-null object\n",
            "is_4G              237609 non-null int64\n",
            "is_click           237609 non-null int64\n",
            "dtypes: int64(4), object(3)\n",
            "memory usage: 12.7+ MB\n",
            "-----------------Variable Structure of test data------------------\n",
            "<class 'pandas.core.frame.DataFrame'>\n",
            "RangeIndex: 90675 entries, 0 to 90674\n",
            "Data columns (total 6 columns):\n",
            "impression_id      90675 non-null object\n",
            "impression_time    90675 non-null object\n",
            "user_id            90675 non-null int64\n",
            "app_code           90675 non-null int64\n",
            "os_version         90675 non-null object\n",
            "is_4G              90675 non-null int64\n",
            "dtypes: int64(3), object(3)\n",
            "memory usage: 4.2+ MB\n",
            "-----------------Variable Structure of item data--------------\n",
            "<class 'pandas.core.frame.DataFrame'>\n",
            "RangeIndex: 132761 entries, 0 to 132760\n",
            "Data columns (total 6 columns):\n",
            "item_id         132761 non-null int64\n",
            "item_price      132761 non-null int64\n",
            "category_1      132761 non-null int64\n",
            "category_2      132761 non-null int64\n",
            "category_3      132761 non-null int64\n",
            "product_type    132761 non-null int64\n",
            "dtypes: int64(6)\n",
            "memory usage: 6.1 MB\n",
            "-----------------Variable Structure of view data------------------\n",
            "<class 'pandas.core.frame.DataFrame'>\n",
            "RangeIndex: 3118622 entries, 0 to 3118621\n",
            "Data columns (total 5 columns):\n",
            "server_time    object\n",
            "device_type    object\n",
            "session_id     int64\n",
            "user_id        int64\n",
            "item_id        int64\n",
            "dtypes: int64(3), object(2)\n",
            "memory usage: 119.0+ MB\n"
          ],
          "name": "stdout"
        }
      ]
    },
    {
      "cell_type": "code",
      "metadata": {
        "id": "3zRS-t6Qz2-X",
        "colab_type": "code",
        "outputId": "4d6d92fa-0d3f-470c-a032-f4b31ee64bc7",
        "colab": {
          "base_uri": "https://localhost:8080/",
          "height": 197
        }
      },
      "source": [
        "Train.head()"
      ],
      "execution_count": 7,
      "outputs": [
        {
          "output_type": "execute_result",
          "data": {
            "text/html": [
              "<div>\n",
              "<style scoped>\n",
              "    .dataframe tbody tr th:only-of-type {\n",
              "        vertical-align: middle;\n",
              "    }\n",
              "\n",
              "    .dataframe tbody tr th {\n",
              "        vertical-align: top;\n",
              "    }\n",
              "\n",
              "    .dataframe thead th {\n",
              "        text-align: right;\n",
              "    }\n",
              "</style>\n",
              "<table border=\"1\" class=\"dataframe\">\n",
              "  <thead>\n",
              "    <tr style=\"text-align: right;\">\n",
              "      <th></th>\n",
              "      <th>impression_id</th>\n",
              "      <th>impression_time</th>\n",
              "      <th>user_id</th>\n",
              "      <th>app_code</th>\n",
              "      <th>os_version</th>\n",
              "      <th>is_4G</th>\n",
              "      <th>is_click</th>\n",
              "    </tr>\n",
              "  </thead>\n",
              "  <tbody>\n",
              "    <tr>\n",
              "      <th>0</th>\n",
              "      <td>c4ca4238a0b923820dcc509a6f75849b</td>\n",
              "      <td>2018-11-15 00:00:00</td>\n",
              "      <td>87862</td>\n",
              "      <td>422</td>\n",
              "      <td>old</td>\n",
              "      <td>0</td>\n",
              "      <td>0</td>\n",
              "    </tr>\n",
              "    <tr>\n",
              "      <th>1</th>\n",
              "      <td>45c48cce2e2d7fbdea1afc51c7c6ad26</td>\n",
              "      <td>2018-11-15 00:01:00</td>\n",
              "      <td>63410</td>\n",
              "      <td>467</td>\n",
              "      <td>latest</td>\n",
              "      <td>1</td>\n",
              "      <td>1</td>\n",
              "    </tr>\n",
              "    <tr>\n",
              "      <th>2</th>\n",
              "      <td>70efdf2ec9b086079795c442636b55fb</td>\n",
              "      <td>2018-11-15 00:02:00</td>\n",
              "      <td>71748</td>\n",
              "      <td>259</td>\n",
              "      <td>intermediate</td>\n",
              "      <td>1</td>\n",
              "      <td>0</td>\n",
              "    </tr>\n",
              "    <tr>\n",
              "      <th>3</th>\n",
              "      <td>8e296a067a37563370ded05f5a3bf3ec</td>\n",
              "      <td>2018-11-15 00:02:00</td>\n",
              "      <td>69209</td>\n",
              "      <td>244</td>\n",
              "      <td>latest</td>\n",
              "      <td>1</td>\n",
              "      <td>0</td>\n",
              "    </tr>\n",
              "    <tr>\n",
              "      <th>4</th>\n",
              "      <td>182be0c5cdcd5072bb1864cdee4d3d6e</td>\n",
              "      <td>2018-11-15 00:02:00</td>\n",
              "      <td>62873</td>\n",
              "      <td>473</td>\n",
              "      <td>latest</td>\n",
              "      <td>0</td>\n",
              "      <td>0</td>\n",
              "    </tr>\n",
              "  </tbody>\n",
              "</table>\n",
              "</div>"
            ],
            "text/plain": [
              "                      impression_id      impression_time  ...  is_4G  is_click\n",
              "0  c4ca4238a0b923820dcc509a6f75849b  2018-11-15 00:00:00  ...      0         0\n",
              "1  45c48cce2e2d7fbdea1afc51c7c6ad26  2018-11-15 00:01:00  ...      1         1\n",
              "2  70efdf2ec9b086079795c442636b55fb  2018-11-15 00:02:00  ...      1         0\n",
              "3  8e296a067a37563370ded05f5a3bf3ec  2018-11-15 00:02:00  ...      1         0\n",
              "4  182be0c5cdcd5072bb1864cdee4d3d6e  2018-11-15 00:02:00  ...      0         0\n",
              "\n",
              "[5 rows x 7 columns]"
            ]
          },
          "metadata": {
            "tags": []
          },
          "execution_count": 7
        }
      ]
    },
    {
      "cell_type": "markdown",
      "metadata": {
        "id": "YLBsarvZUg_m",
        "colab_type": "text"
      },
      "source": [
        "## 3.0 EDA"
      ]
    },
    {
      "cell_type": "code",
      "metadata": {
        "id": "CkQRgwo7UmX0",
        "colab_type": "code",
        "outputId": "13cd9686-c402-4f39-a4fa-c0d0af6213db",
        "colab": {
          "base_uri": "https://localhost:8080/",
          "height": 197
        }
      },
      "source": [
        "# Merging Product data into log data\n",
        "View_log = pd.merge(View,Item,on='item_id',how='left')\n",
        "View_log.head()"
      ],
      "execution_count": 8,
      "outputs": [
        {
          "output_type": "execute_result",
          "data": {
            "text/html": [
              "<div>\n",
              "<style scoped>\n",
              "    .dataframe tbody tr th:only-of-type {\n",
              "        vertical-align: middle;\n",
              "    }\n",
              "\n",
              "    .dataframe tbody tr th {\n",
              "        vertical-align: top;\n",
              "    }\n",
              "\n",
              "    .dataframe thead th {\n",
              "        text-align: right;\n",
              "    }\n",
              "</style>\n",
              "<table border=\"1\" class=\"dataframe\">\n",
              "  <thead>\n",
              "    <tr style=\"text-align: right;\">\n",
              "      <th></th>\n",
              "      <th>server_time</th>\n",
              "      <th>device_type</th>\n",
              "      <th>session_id</th>\n",
              "      <th>user_id</th>\n",
              "      <th>item_id</th>\n",
              "      <th>item_price</th>\n",
              "      <th>category_1</th>\n",
              "      <th>category_2</th>\n",
              "      <th>category_3</th>\n",
              "      <th>product_type</th>\n",
              "    </tr>\n",
              "  </thead>\n",
              "  <tbody>\n",
              "    <tr>\n",
              "      <th>0</th>\n",
              "      <td>2018-10-15 08:58:00</td>\n",
              "      <td>android</td>\n",
              "      <td>112333</td>\n",
              "      <td>4557</td>\n",
              "      <td>32970</td>\n",
              "      <td>54685.0</td>\n",
              "      <td>16.0</td>\n",
              "      <td>56.0</td>\n",
              "      <td>253.0</td>\n",
              "      <td>3184.0</td>\n",
              "    </tr>\n",
              "    <tr>\n",
              "      <th>1</th>\n",
              "      <td>2018-10-15 08:58:00</td>\n",
              "      <td>android</td>\n",
              "      <td>503590</td>\n",
              "      <td>74788</td>\n",
              "      <td>7640</td>\n",
              "      <td>1376.0</td>\n",
              "      <td>7.0</td>\n",
              "      <td>71.0</td>\n",
              "      <td>228.0</td>\n",
              "      <td>545.0</td>\n",
              "    </tr>\n",
              "    <tr>\n",
              "      <th>2</th>\n",
              "      <td>2018-10-15 08:58:00</td>\n",
              "      <td>android</td>\n",
              "      <td>573960</td>\n",
              "      <td>23628</td>\n",
              "      <td>128855</td>\n",
              "      <td>4544.0</td>\n",
              "      <td>4.0</td>\n",
              "      <td>38.0</td>\n",
              "      <td>62.0</td>\n",
              "      <td>5609.0</td>\n",
              "    </tr>\n",
              "    <tr>\n",
              "      <th>3</th>\n",
              "      <td>2018-10-15 08:58:00</td>\n",
              "      <td>android</td>\n",
              "      <td>121691</td>\n",
              "      <td>2430</td>\n",
              "      <td>12774</td>\n",
              "      <td>904.0</td>\n",
              "      <td>17.0</td>\n",
              "      <td>39.0</td>\n",
              "      <td>252.0</td>\n",
              "      <td>2740.0</td>\n",
              "    </tr>\n",
              "    <tr>\n",
              "      <th>4</th>\n",
              "      <td>2018-10-15 08:58:00</td>\n",
              "      <td>android</td>\n",
              "      <td>218564</td>\n",
              "      <td>19227</td>\n",
              "      <td>28296</td>\n",
              "      <td>2304.0</td>\n",
              "      <td>12.0</td>\n",
              "      <td>57.0</td>\n",
              "      <td>54.0</td>\n",
              "      <td>7422.0</td>\n",
              "    </tr>\n",
              "  </tbody>\n",
              "</table>\n",
              "</div>"
            ],
            "text/plain": [
              "           server_time device_type  ...  category_3  product_type\n",
              "0  2018-10-15 08:58:00     android  ...       253.0        3184.0\n",
              "1  2018-10-15 08:58:00     android  ...       228.0         545.0\n",
              "2  2018-10-15 08:58:00     android  ...        62.0        5609.0\n",
              "3  2018-10-15 08:58:00     android  ...       252.0        2740.0\n",
              "4  2018-10-15 08:58:00     android  ...        54.0        7422.0\n",
              "\n",
              "[5 rows x 10 columns]"
            ]
          },
          "metadata": {
            "tags": []
          },
          "execution_count": 8
        }
      ]
    },
    {
      "cell_type": "code",
      "metadata": {
        "id": "K7dyHD0YW-tj",
        "colab_type": "code",
        "outputId": "f18261bb-66c1-4288-8bdc-9e58aefe12b8",
        "colab": {
          "base_uri": "https://localhost:8080/",
          "height": 265
        }
      },
      "source": [
        "# Checking Missing values\n",
        "print(\"Total missing value:\", View_log.isnull().sum().sum())\n",
        "print(\"% missing value:\", View_log.isnull().sum().sum()/View_log.shape[0])\n",
        "print(\"Missing value by variable wise:\")\n",
        "View_log.isnull().sum()"
      ],
      "execution_count": 9,
      "outputs": [
        {
          "output_type": "stream",
          "text": [
            "Total missing value: 8910\n",
            "% missing value: 0.0028570310861656205\n",
            "Missing value by variable wise:\n"
          ],
          "name": "stdout"
        },
        {
          "output_type": "execute_result",
          "data": {
            "text/plain": [
              "server_time        0\n",
              "device_type        0\n",
              "session_id         0\n",
              "user_id            0\n",
              "item_id            0\n",
              "item_price      1782\n",
              "category_1      1782\n",
              "category_2      1782\n",
              "category_3      1782\n",
              "product_type    1782\n",
              "dtype: int64"
            ]
          },
          "metadata": {
            "tags": []
          },
          "execution_count": 9
        }
      ]
    },
    {
      "cell_type": "code",
      "metadata": {
        "id": "2bsRoJBhvkkX",
        "colab_type": "code",
        "outputId": "426d8f9b-4f52-4d1e-ad77-f9536896cbc5",
        "colab": {
          "base_uri": "https://localhost:8080/",
          "height": 52
        }
      },
      "source": [
        "# Removing Missing value\n",
        "View_log = View_log.dropna()\n",
        "\n",
        "print(\"Total missing value:\", View_log.isnull().sum().sum())\n",
        "print(\"% missing value:\", View_log.isnull().sum().sum()/View_log.shape[0])\n"
      ],
      "execution_count": 10,
      "outputs": [
        {
          "output_type": "stream",
          "text": [
            "Total missing value: 0\n",
            "% missing value: 0.0\n"
          ],
          "name": "stdout"
        }
      ]
    },
    {
      "cell_type": "markdown",
      "metadata": {
        "id": "byklMZLBtff3",
        "colab_type": "text"
      },
      "source": [
        "## 4.0 Machine learning"
      ]
    },
    {
      "cell_type": "markdown",
      "metadata": {
        "id": "B2VibTh8tzT_",
        "colab_type": "text"
      },
      "source": [
        "### 4.1 Data Pre-processing"
      ]
    },
    {
      "cell_type": "code",
      "metadata": {
        "id": "-qd_R9_fRaYD",
        "colab_type": "code",
        "colab": {
          "base_uri": "https://localhost:8080/",
          "height": 592
        },
        "outputId": "94faf259-689f-49c5-e614-948fc5a9609d"
      },
      "source": [
        "# Feature enginearing: User Id\n",
        "user_id_count = pd.DataFrame(Train['user_id'].value_counts())\n",
        "user_id_count =user_id_count.reset_index()\n",
        "user_id_count.columns = ['user_id','user_id_count']\n",
        "print(user_id_count['user_id_count'].describe())\n",
        "sns.boxplot(y = user_id_count['user_id_count']);\n",
        "\n",
        "user_id_count['User_type'] = np.where(user_id_count['user_id_count'] > 3 , \"1.High\",\n",
        "                                      np.where(user_id_count['user_id_count'] >= 2 , \"2.Medium\", \"3.Low\"))\n",
        "\n",
        "print(user_id_count['User_type'].value_counts())\n",
        "\n",
        "user_id_count = user_id_count[['user_id', 'User_type']]\n",
        "\n",
        "print(user_id_count.head())"
      ],
      "execution_count": 11,
      "outputs": [
        {
          "output_type": "stream",
          "text": [
            "count    74723.000000\n",
            "mean         3.179864\n",
            "std          4.649940\n",
            "min          1.000000\n",
            "25%          1.000000\n",
            "50%          2.000000\n",
            "75%          3.000000\n",
            "max         73.000000\n",
            "Name: user_id_count, dtype: float64\n",
            "3.Low       34093\n",
            "2.Medium    23783\n",
            "1.High      16847\n",
            "Name: User_type, dtype: int64\n",
            "   user_id User_type\n",
            "0    71457    1.High\n",
            "1    29947    1.High\n",
            "2    59007    1.High\n",
            "3    52082    1.High\n",
            "4    68540    1.High\n"
          ],
          "name": "stdout"
        },
        {
          "output_type": "display_data",
          "data": {
            "image/png": "[encoded data removed]",
            "text/plain": [
              "<Figure size 432x288 with 1 Axes>"
            ]
          },
          "metadata": {
            "tags": []
          }
        }
      ]
    },
    {
      "cell_type": "code",
      "metadata": {
        "id": "dMRLf1XfbFh_",
        "colab_type": "code",
        "colab": {
          "base_uri": "https://localhost:8080/",
          "height": 610
        },
        "outputId": "ca0b518a-dec6-4e44-c106-a10fbdf10927"
      },
      "source": [
        "# Feature enginearing: app code\n",
        "app_code_count = pd.DataFrame(Train['app_code'].value_counts())\n",
        "app_code_count = app_code_count.reset_index()\n",
        "app_code_count.columns = ['app_code','app_code_count']\n",
        "print(app_code_count['app_code_count'].describe())\n",
        "sns.boxplot(y = app_code_count['app_code_count']);\n",
        "\n",
        "app_code_count['app_code_type'] = np.where(app_code_count['app_code_count'] > 89.25 , \"1.High\",\n",
        "                                      np.where(app_code_count['app_code_count'] >= 13 , \"2.Medium\", \n",
        "                                               np.where(app_code_count['app_code_count'] >= 2 , \"3.Low\", \"4.VeryLow\")))\n",
        "print(app_code_count['app_code_type'].value_counts())\n",
        "\n",
        "app_code_count = app_code_count[['app_code', 'app_code_type']]\n",
        "\n",
        "print(app_code_count.head())"
      ],
      "execution_count": 12,
      "outputs": [
        {
          "output_type": "stream",
          "text": [
            "count      490.000000\n",
            "mean       484.916327\n",
            "std       2472.161247\n",
            "min          1.000000\n",
            "25%          2.000000\n",
            "50%         13.000000\n",
            "75%         89.250000\n",
            "max      33788.000000\n",
            "Name: app_code_count, dtype: float64\n",
            "3.Low        158\n",
            "2.Medium     125\n",
            "1.High       123\n",
            "4.VeryLow     84\n",
            "Name: app_code_type, dtype: int64\n",
            "   app_code app_code_type\n",
            "0       207        1.High\n",
            "1       386        1.High\n",
            "2       190        1.High\n",
            "3       127        1.High\n",
            "4       371        1.High\n"
          ],
          "name": "stdout"
        },
        {
          "output_type": "display_data",
          "data": {
            "image/png": "[encoded data removed]",
            "text/plain": [
              "<Figure size 432x288 with 1 Axes>"
            ]
          },
          "metadata": {
            "tags": []
          }
        }
      ]
    },
    {
      "cell_type": "code",
      "metadata": {
        "id": "kIo2Tqdsgowi",
        "colab_type": "code",
        "colab": {
          "base_uri": "https://localhost:8080/",
          "height": 282
        },
        "outputId": "f235b4ea-ed51-4a55-957d-987c7d20cf5b"
      },
      "source": [
        "# Feature enginearing: day\n",
        "Train[\"impression_time\"]= pd.to_datetime(Train[\"impression_time\"])\n",
        "Train['day'] = Train['impression_time'].dt.day.astype('object')\n",
        "Train['Week'] = np.where(Train['day'] > 21 , \">21\",\n",
        "                                      np.where(Train['day'] > 14 , \"14-21\", \n",
        "                                               np.where(Train['day'] > 7 , \"7-14\", \"1-7\")))\n",
        "week_count = pd.DataFrame(Train['Week'].value_counts())\n",
        "week_count = week_count.reset_index()\n",
        "week_count.columns = ['week','week_count']\n",
        "sns.lineplot(x=\"week\", y=\"week_count\", data=week_count);"
      ],
      "execution_count": 13,
      "outputs": [
        {
          "output_type": "display_data",
          "data": {
            "image/png": "[encoded data removed]",
            "text/plain": [
              "<Figure size 432x288 with 1 Axes>"
            ]
          },
          "metadata": {
            "tags": []
          }
        }
      ]
    },
    {
      "cell_type": "code",
      "metadata": {
        "id": "modwZ2MsZ04-",
        "colab_type": "code",
        "colab": {}
      },
      "source": [
        "# Function for Feature engineering\n",
        "def Feature_eng(Train, user_id_count, app_code_count):\n",
        "  \n",
        "  Train = pd.merge(Train,user_id_count,on='user_id',how='left')\n",
        "  Train['User_type'] = np.where(pd.isnull(Train['User_type']),'3.Low',Train['User_type'])\n",
        "  Train = pd.merge(Train,app_code_count,on='app_code',how='left')\n",
        "  Train['app_code_type'] = np.where(pd.isnull(Train['app_code_type']),'4.VeryLow',Train['app_code_type'])\n",
        "  Train[\"impression_time\"]= pd.to_datetime(Train[\"impression_time\"])\n",
        "  Train['day'] = Train['impression_time'].dt.day.astype('object')\n",
        "  Train['Week'] = np.where(Train['day'] > 21 , \">21\",\n",
        "                                      np.where(Train['day'] > 14 , \"14-21\", \n",
        "                                               np.where(Train['day'] > 7 , \"7-14\", \"1-7\")))\n",
        "  Train['hour'] = Train['impression_time'].dt.hour.astype('object')\n",
        "  Train['app_code'] = Train['app_code'].astype('object')\n",
        "  Train_temp = pd.get_dummies(Train[[\"User_type\",\"app_code_type\", \"os_version\",\"Week\",\"hour\"]], prefix=['User_type','app_code_type','os_version','Week', 'hour'])\n",
        "  Train = pd.concat([Train,Train_temp], axis =1)\n",
        "  Train_v2 = Train.drop(columns=['impression_id','impression_time','user_id','app_code','os_version','day', 'Week','hour', 'User_type', 'app_code_type'])\n",
        "  return Train_v2"
      ],
      "execution_count": 0,
      "outputs": []
    },
    {
      "cell_type": "code",
      "metadata": {
        "id": "UI4UoU12anhH",
        "colab_type": "code",
        "colab": {
          "base_uri": "https://localhost:8080/",
          "height": 87
        },
        "outputId": "d58ca305-6cb3-4641-88e4-afec343912b7"
      },
      "source": [
        "# Calling Feature engineering function\n",
        "Train_v2 = Feature_eng(Train, user_id_count, app_code_count)\n",
        "Test_v2 = Feature_eng(Test, user_id_count, app_code_count)\n",
        "\n",
        "print(\"Number of rows and variables in train data:\", Train_v2.shape)\n",
        "print(\"Number of rows and variables in test data:\", Test_v2.shape)\n",
        "\n",
        "Test_v2['Week_1-7'] = 0\n",
        "Test_v2['Week_>21'] = 0\n",
        "\n",
        "print(\"Number of rows and variables in train data:\", Train_v2.shape)\n",
        "print(\"Number of rows and variables in test data:\", Test_v2.shape)\n"
      ],
      "execution_count": 15,
      "outputs": [
        {
          "output_type": "stream",
          "text": [
            "Number of rows and variables in train data: (237609, 40)\n",
            "Number of rows and variables in test data: (90675, 37)\n",
            "Number of rows and variables in train data: (237609, 40)\n",
            "Number of rows and variables in test data: (90675, 39)\n"
          ],
          "name": "stdout"
        }
      ]
    },
    {
      "cell_type": "code",
      "metadata": {
        "id": "p7IhvY88a02e",
        "colab_type": "code",
        "colab": {
          "base_uri": "https://localhost:8080/",
          "height": 105
        },
        "outputId": "64456a5b-7962-4451-bef1-23321b29e112"
      },
      "source": [
        "# Distribution of target variable\n",
        "print(\"The unique number of Categories: \",len(Train_v2['is_click'].unique()))\n",
        "print(\"Below are the distribution of each categories in Train data:\")\n",
        "Train_v2['is_click'].value_counts(normalize = True)"
      ],
      "execution_count": 16,
      "outputs": [
        {
          "output_type": "stream",
          "text": [
            "The unique number of Categories:  2\n",
            "Below are the distribution of each categories in Train data:\n"
          ],
          "name": "stdout"
        },
        {
          "output_type": "execute_result",
          "data": {
            "text/plain": [
              "0    0.954286\n",
              "1    0.045714\n",
              "Name: is_click, dtype: float64"
            ]
          },
          "metadata": {
            "tags": []
          },
          "execution_count": 16
        }
      ]
    },
    {
      "cell_type": "code",
      "metadata": {
        "id": "Mp2Aux8SewGm",
        "colab_type": "code",
        "colab": {
          "base_uri": "https://localhost:8080/",
          "height": 337
        },
        "outputId": "622b3a68-4422-4aec-bedf-a1b33a8941c7"
      },
      "source": [
        "plt.figure(figsize=(7,5))\n",
        "sns.countplot(x = 'is_click', data = Train_v2);"
      ],
      "execution_count": 17,
      "outputs": [
        {
          "output_type": "display_data",
          "data": {
            "image/png": "[encoded data removed]",
            "text/plain": [
              "<Figure size 504x360 with 1 Axes>"
            ]
          },
          "metadata": {
            "tags": []
          }
        }
      ]
    },
    {
      "cell_type": "markdown",
      "metadata": {
        "id": "E50p2J1JcZ1-",
        "colab_type": "text"
      },
      "source": [
        "### 4.2 Splitting into X and y"
      ]
    },
    {
      "cell_type": "code",
      "metadata": {
        "id": "_hZtneHAcdL1",
        "colab_type": "code",
        "colab": {}
      },
      "source": [
        "# Splitting into X and y\n",
        "X = Train_v2.drop(columns=['is_click'])\n",
        "y = Train_v2['is_click']"
      ],
      "execution_count": 0,
      "outputs": []
    },
    {
      "cell_type": "markdown",
      "metadata": {
        "id": "OUNMZBCFc5iv",
        "colab_type": "text"
      },
      "source": [
        "### 4.3 Dividing data into train and validation set\n",
        "\n",
        "Before training the model, let's split the training data into a training and validation set."
      ]
    },
    {
      "cell_type": "code",
      "metadata": {
        "id": "P0HPoRtwc85U",
        "colab_type": "code",
        "colab": {
          "base_uri": "https://localhost:8080/",
          "height": 123
        },
        "outputId": "545d2728-e600-4ebd-ba03-341344d389c9"
      },
      "source": [
        "# Dividing data into train and validation set\n",
        "from sklearn.model_selection import train_test_split\n",
        "\n",
        "validation_percent = 0.30\n",
        "test_percent = 0.50\n",
        "seed = 786\n",
        "\n",
        "X_train, X_validation, y_train, y_validation = train_test_split(X, y, test_size = validation_percent, random_state = seed, stratify = y)\n",
        "X_validation, X_test, y_validation, y_test = train_test_split(X_validation, y_validation, test_size = test_percent, random_state = seed, stratify = y_validation)\n",
        "\n",
        "# Shape of data\n",
        "print(\"Number of rows and columns in train dataset:\",X_train.shape)\n",
        "print(\"Number of rows and columns in validation dataset:\",X_validation.shape)\n",
        "print(\"Number of rows and columns in test dataset:\",X_test.shape)\n",
        "\n",
        "print(\"Number of rows and columns in target variable for training:\",y_train.shape)\n",
        "print(\"Number of rows and columns in target variable for validation:\",y_validation.shape)\n",
        "print(\"Number of rows and columns in target variable for test:\",y_test.shape)"
      ],
      "execution_count": 19,
      "outputs": [
        {
          "output_type": "stream",
          "text": [
            "Number of rows and columns in train dataset: (166326, 39)\n",
            "Number of rows and columns in validation dataset: (35641, 39)\n",
            "Number of rows and columns in test dataset: (35642, 39)\n",
            "Number of rows and columns in target variable for training: (166326,)\n",
            "Number of rows and columns in target variable for validation: (35641,)\n",
            "Number of rows and columns in target variable for test: (35642,)\n"
          ],
          "name": "stdout"
        }
      ]
    },
    {
      "cell_type": "markdown",
      "metadata": {
        "id": "Abw_XUiognAU",
        "colab_type": "text"
      },
      "source": [
        "### 4.4 Checking various models"
      ]
    },
    {
      "cell_type": "code",
      "metadata": {
        "id": "XVmbr1NZnvbT",
        "colab_type": "code",
        "colab": {
          "base_uri": "https://localhost:8080/",
          "height": 267
        },
        "outputId": "c4ff5893-4095-4063-e3f4-4bc6a1641e05"
      },
      "source": [
        "# Logistic regression\n",
        "from sklearn.linear_model import LogisticRegression\n",
        "\n",
        "seed = 786\n",
        "LR = LogisticRegression(penalty='l2', class_weight = 'balanced', random_state=seed,C=100)\n",
        "\n",
        "model_LR = LR.fit(X_train, y_train)\n",
        "\n",
        "# Scoring based on F1 score for hold out sample\n",
        "prob1=model_LR.predict_proba(X_validation)[:,1]\n",
        "y_predict_LR=[1 if i > 0.57 else 0 for i in prob1]\n",
        "#y_predict_LR = model_LR.predict(X_validation)\n",
        "\n",
        "from sklearn.metrics import roc_auc_score, f1_score, classification_report\n",
        "F1_scores_holdout = f1_score(y_validation, y_predict_LR, average=\"macro\")\n",
        "AUC_scores_holdout = roc_auc_score(y_validation, y_predict_LR)\n",
        "print(classification_report(y_validation, y_predict_LR))\n",
        "print(\"F1 Score for hold-out sample data:\", round(F1_scores_holdout*100,2))\n",
        "print(\"AUC Score for hold-out sample data:\", round(AUC_scores_holdout*100,2))"
      ],
      "execution_count": 20,
      "outputs": [
        {
          "output_type": "stream",
          "text": [
            "/usr/local/lib/python3.6/dist-packages/sklearn/linear_model/logistic.py:432: FutureWarning: Default solver will be changed to 'lbfgs' in 0.22. Specify a solver to silence this warning.\n",
            "  FutureWarning)\n"
          ],
          "name": "stderr"
        },
        {
          "output_type": "stream",
          "text": [
            "              precision    recall  f1-score   support\n",
            "\n",
            "           0       0.96      0.96      0.96     34012\n",
            "           1       0.07      0.06      0.06      1629\n",
            "\n",
            "    accuracy                           0.92     35641\n",
            "   macro avg       0.51      0.51      0.51     35641\n",
            "weighted avg       0.91      0.92      0.92     35641\n",
            "\n",
            "F1 Score for hold-out sample data: 51.06\n",
            "AUC Score for hold-out sample data: 51.03\n"
          ],
          "name": "stdout"
        }
      ]
    },
    {
      "cell_type": "code",
      "metadata": {
        "id": "ILpp_ixruO-y",
        "colab_type": "code",
        "colab": {
          "base_uri": "https://localhost:8080/",
          "height": 212
        },
        "outputId": "b4370b97-f8c3-4843-d4b6-22bb8315df75"
      },
      "source": [
        "# Scoring based on F1 score for test sample\n",
        "prob1=model_LR.predict_proba(X_test)[:,1]\n",
        "y_predict_LR=[1 if i > 0.57 else 0 for i in prob1]\n",
        "#y_predict_LR = model_LR.predict(X_validation)\n",
        "\n",
        "from sklearn.metrics import roc_auc_score, f1_score, classification_report\n",
        "F1_scores_holdout = f1_score(y_test, y_predict_LR, average=\"macro\")\n",
        "AUC_scores_holdout = roc_auc_score(y_test, y_predict_LR)\n",
        "print(classification_report(y_test, y_predict_LR))\n",
        "print(\"F1 Score for hold-out sample data:\", round(F1_scores_holdout*100,2))\n",
        "print(\"AUC Score for hold-out sample data:\", round(AUC_scores_holdout*100,2))"
      ],
      "execution_count": 21,
      "outputs": [
        {
          "output_type": "stream",
          "text": [
            "              precision    recall  f1-score   support\n",
            "\n",
            "           0       0.95      0.96      0.96     34012\n",
            "           1       0.05      0.05      0.05      1630\n",
            "\n",
            "    accuracy                           0.92     35642\n",
            "   macro avg       0.50      0.50      0.50     35642\n",
            "weighted avg       0.91      0.92      0.92     35642\n",
            "\n",
            "F1 Score for hold-out sample data: 50.29\n",
            "AUC Score for hold-out sample data: 50.28\n"
          ],
          "name": "stdout"
        }
      ]
    },
    {
      "cell_type": "code",
      "metadata": {
        "id": "W4atgU5AMX_5",
        "colab_type": "code",
        "colab": {
          "base_uri": "https://localhost:8080/",
          "height": 70
        },
        "outputId": "f2f3cf7d-c665-40f8-b0cf-ec6460bf24bf"
      },
      "source": [
        "# Predicting test output\n",
        "#y_predict = model_LR.predict(Test_v2)\n",
        "prob1=model_LR.predict_proba(Test_v2)[:,1]\n",
        "y_predict=[1 if i > 0.57 else 0 for i in prob1]\n",
        "Submission = pd.DataFrame()\n",
        "Submission['impression_id'] = Test['impression_id']\n",
        "Submission['is_click'] = y_predict\n",
        "Submission.head()\n",
        "Submission['is_click'].value_counts()"
      ],
      "execution_count": 22,
      "outputs": [
        {
          "output_type": "execute_result",
          "data": {
            "text/plain": [
              "0    85750\n",
              "1     4925\n",
              "Name: is_click, dtype: int64"
            ]
          },
          "metadata": {
            "tags": []
          },
          "execution_count": 22
        }
      ]
    },
    {
      "cell_type": "code",
      "metadata": {
        "id": "Nm_ZakAZtfLu",
        "colab_type": "code",
        "colab": {}
      },
      "source": [
        "# Exporting output\n",
        "Submission.to_csv(\"./Output/Output_v1.csv\", index = False)"
      ],
      "execution_count": 0,
      "outputs": []
    }
  ]
}