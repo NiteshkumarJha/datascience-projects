{
 "cells": [
  {
   "cell_type": "markdown",
   "metadata": {
    "colab_type": "text",
    "id": "a2zIPpwWcsq2"
   },
   "source": [
    "# Predict Product Category from Invoice\n",
    "\n",
    "Organizations around the world purchase goods & services from their suppliers via Purchase Order-Invoice exchange. Organizations raise Purchase Order for specific item and expected price. Suppliers then raise an Invoice to the organization for billing. As part of process streamlining, organizations catalogue items, i.e., they document all the item details in their procurement system. However in many cases organizations are required to purchase non-catalogued items.\n",
    "\n",
    "For any kind of analysis of spend data, it is important that all invoices be classified to specific “Product Category”, defined by a standard taxonomy that the organization follows.\n",
    "Example, an invoice having an item description of “Mobile Bills” may be classified into “Telecom” product category.\n",
    "\n",
    "**Problem Statement**\n",
    "\n",
    "Attached is the data for analysis of expenditures based on Invoices received. We need to innovate a high accuracy classification system to predict ‘Product Category’, given invoice information.\n",
    "\n",
    "We need to submit our results in a .csv file (2446x2) matching following format:\n",
    "\n",
    "Inv_Id,Product_Category<br>\n",
    "1,CLASS-784<br>\n",
    "2,CLASS-784<br>\n",
    "3,CLASS-784<br>\n",
    "4,CLASS-784<br>\n",
    "5,CLASS-784<br>\n",
    "6,CLASS-784\n"
   ]
  },
  {
   "cell_type": "markdown",
   "metadata": {
    "colab_type": "text",
    "id": "c4KbOgLKc3Dg"
   },
   "source": [
    "## 1. Getting Started"
   ]
  },
  {
   "cell_type": "code",
   "execution_count": 1,
   "metadata": {
    "colab": {},
    "colab_type": "code",
    "id": "MHOv5rs7dYtp"
   },
   "outputs": [],
   "source": [
    "# Importing the libraries\n",
    "import numpy as np\n",
    "import matplotlib.pyplot as plt\n",
    "import pandas as pd\n",
    "import seaborn as sns\n",
    "import matplotlib.pyplot as plt\n",
    "%matplotlib inline\n",
    "\n",
    "import os\n",
    "os.chdir(\"E:/Data Science/Hackerearth\")"
   ]
  },
  {
   "cell_type": "code",
   "execution_count": 2,
   "metadata": {
    "colab": {},
    "colab_type": "code",
    "id": "J4nMRopCdgsR"
   },
   "outputs": [],
   "source": [
    "# Importing the dataset\n",
    "Train = pd.read_csv(\"./Input/Dataset/Train.csv\")\n",
    "Test = pd.read_csv(\"./Input/Dataset/Test.csv\")"
   ]
  },
  {
   "cell_type": "markdown",
   "metadata": {
    "colab_type": "text",
    "id": "_eTZh4pjfuA4"
   },
   "source": [
    "## 2. Understanding the data"
   ]
  },
  {
   "cell_type": "code",
   "execution_count": 3,
   "metadata": {
    "colab": {
     "base_uri": "https://localhost:8080/",
     "height": 51
    },
    "colab_type": "code",
    "id": "_F44h0sPfwPV",
    "outputId": "5ae999df-ed23-479b-f439-977c3103421b"
   },
   "outputs": [
    {
     "name": "stdout",
     "output_type": "stream",
     "text": [
      "Number of rows and columns in train dataset: (5566, 6)\n",
      "Number of rows and columns in test dataset: (2446, 5)\n"
     ]
    }
   ],
   "source": [
    "# Shape of data\n",
    "print(\"Number of rows and columns in train dataset:\",Train.shape)\n",
    "print(\"Number of rows and columns in test dataset:\",Test.shape)"
   ]
  },
  {
   "cell_type": "code",
   "execution_count": 4,
   "metadata": {
    "colab": {
     "base_uri": "https://localhost:8080/",
     "height": 408
    },
    "colab_type": "code",
    "id": "l77DMHffgD1O",
    "outputId": "f3f9730e-e293-4a51-d4f4-ed936f1499dc"
   },
   "outputs": [
    {
     "name": "stdout",
     "output_type": "stream",
     "text": [
      "-----------------Variable Structure of training data--------------\n",
      "<class 'pandas.core.frame.DataFrame'>\n",
      "RangeIndex: 5566 entries, 0 to 5565\n",
      "Data columns (total 6 columns):\n",
      "Inv_Id              5566 non-null int64\n",
      "Vendor_Code         5566 non-null object\n",
      "GL_Code             5566 non-null object\n",
      "Inv_Amt             5566 non-null float64\n",
      "Item_Description    5566 non-null object\n",
      "Product_Category    5566 non-null object\n",
      "dtypes: float64(1), int64(1), object(4)\n",
      "memory usage: 261.0+ KB\n",
      "-----------------Variable Structure of test data------------------\n",
      "<class 'pandas.core.frame.DataFrame'>\n",
      "RangeIndex: 2446 entries, 0 to 2445\n",
      "Data columns (total 5 columns):\n",
      "Inv_Id              2446 non-null int64\n",
      "Vendor_Code         2446 non-null object\n",
      "GL_Code             2446 non-null object\n",
      "Inv_Amt             2446 non-null float64\n",
      "Item_Description    2446 non-null object\n",
      "dtypes: float64(1), int64(1), object(3)\n",
      "memory usage: 95.6+ KB\n"
     ]
    }
   ],
   "source": [
    "# Variable structure\n",
    "print(\"-----------------Variable Structure of training data--------------\")\n",
    "Train.info()\n",
    "print(\"-----------------Variable Structure of test data------------------\")\n",
    "Test.info()"
   ]
  },
  {
   "cell_type": "markdown",
   "metadata": {
    "colab_type": "text",
    "id": "tk6TW3Mngfc4"
   },
   "source": [
    " + There are 2 numeric variables **Inv_Id** and **Inv_Amt**whereas rest 4 variables **Vendor_Code**, **GL_code**, **Item_Description** and **Product_Category**are categorical in nature.\n",
    " + At first glance, it appears that **Inv_Id**, **Vendor_Code**, **GL_Code** are identifier only. At first, we are not considering these variable for Machine Learning.\n",
    " + **Inv_Amt** may throw some useful insights. We may incorporate this variable in later stage of model buidling.\n",
    " + **Product_Category** is key variable on which we have to perform NLP and create a classification model.\n",
    "\n",
    "> No missing value has been observed in this data.\n",
    "\n",
    "Let's reconfirm missing value in another step as well."
   ]
  },
  {
   "cell_type": "code",
   "execution_count": 5,
   "metadata": {
    "colab": {
     "base_uri": "https://localhost:8080/",
     "height": 51
    },
    "colab_type": "code",
    "id": "xXFuAs-miU6e",
    "outputId": "1ab38c8c-23bb-481d-dd73-6db7214881b1"
   },
   "outputs": [
    {
     "name": "stdout",
     "output_type": "stream",
     "text": [
      "Missing value in Train data: 0\n",
      "Missing value in Test data: 0\n"
     ]
    }
   ],
   "source": [
    "print(\"Missing value in Train data:\", Train.isnull().sum().sum())\n",
    "print(\"Missing value in Test data:\", Test.isnull().sum().sum())"
   ]
  },
  {
   "cell_type": "markdown",
   "metadata": {
    "colab_type": "text",
    "id": "9si-H-weilgW"
   },
   "source": [
    "> It got confirmed that this dataset does not contain any missing value.\n",
    "\n",
    "Let's look at top 5 rows of train and test dataset:"
   ]
  },
  {
   "cell_type": "code",
   "execution_count": 6,
   "metadata": {
    "colab": {
     "base_uri": "https://localhost:8080/",
     "height": 204
    },
    "colab_type": "code",
    "id": "yPjOX8wYi08s",
    "outputId": "857504b4-8700-482a-b87c-fdb37e671632"
   },
   "outputs": [
    {
     "data": {
      "text/html": [
       "<div>\n",
       "<style scoped>\n",
       "    .dataframe tbody tr th:only-of-type {\n",
       "        vertical-align: middle;\n",
       "    }\n",
       "\n",
       "    .dataframe tbody tr th {\n",
       "        vertical-align: top;\n",
       "    }\n",
       "\n",
       "    .dataframe thead th {\n",
       "        text-align: right;\n",
       "    }\n",
       "</style>\n",
       "<table border=\"1\" class=\"dataframe\">\n",
       "  <thead>\n",
       "    <tr style=\"text-align: right;\">\n",
       "      <th></th>\n",
       "      <th>Inv_Id</th>\n",
       "      <th>Vendor_Code</th>\n",
       "      <th>GL_Code</th>\n",
       "      <th>Inv_Amt</th>\n",
       "      <th>Item_Description</th>\n",
       "      <th>Product_Category</th>\n",
       "    </tr>\n",
       "  </thead>\n",
       "  <tbody>\n",
       "    <tr>\n",
       "      <th>0</th>\n",
       "      <td>15001</td>\n",
       "      <td>VENDOR-1676</td>\n",
       "      <td>GL-6100410</td>\n",
       "      <td>83.24</td>\n",
       "      <td>Artworking/Typesetting Production Jun 2009 Cha...</td>\n",
       "      <td>CLASS-1963</td>\n",
       "    </tr>\n",
       "    <tr>\n",
       "      <th>1</th>\n",
       "      <td>15002</td>\n",
       "      <td>VENDOR-1883</td>\n",
       "      <td>GL-2182000</td>\n",
       "      <td>51.18</td>\n",
       "      <td>Auto Leasing Corporate Services Corning Inc /N...</td>\n",
       "      <td>CLASS-1250</td>\n",
       "    </tr>\n",
       "    <tr>\n",
       "      <th>2</th>\n",
       "      <td>15004</td>\n",
       "      <td>VENDOR-1999</td>\n",
       "      <td>GL-6050100</td>\n",
       "      <td>79.02</td>\n",
       "      <td>Store Management Lease/Rent Deltona Corp Real ...</td>\n",
       "      <td>CLASS-1274</td>\n",
       "    </tr>\n",
       "    <tr>\n",
       "      <th>3</th>\n",
       "      <td>15005</td>\n",
       "      <td>VENDOR-1771</td>\n",
       "      <td>GL-6101400</td>\n",
       "      <td>48.50</td>\n",
       "      <td>Store Construction General Requirements Coloni...</td>\n",
       "      <td>CLASS-1522</td>\n",
       "    </tr>\n",
       "    <tr>\n",
       "      <th>4</th>\n",
       "      <td>15006</td>\n",
       "      <td>VENDOR-1331</td>\n",
       "      <td>GL-2182000</td>\n",
       "      <td>63.35</td>\n",
       "      <td>Jul 2015 Aydin Corp Contingent Labor/Temp Labo...</td>\n",
       "      <td>CLASS-1376</td>\n",
       "    </tr>\n",
       "  </tbody>\n",
       "</table>\n",
       "</div>"
      ],
      "text/plain": [
       "   Inv_Id  Vendor_Code     GL_Code  Inv_Amt  \\\n",
       "0   15001  VENDOR-1676  GL-6100410    83.24   \n",
       "1   15002  VENDOR-1883  GL-2182000    51.18   \n",
       "2   15004  VENDOR-1999  GL-6050100    79.02   \n",
       "3   15005  VENDOR-1771  GL-6101400    48.50   \n",
       "4   15006  VENDOR-1331  GL-2182000    63.35   \n",
       "\n",
       "                                    Item_Description Product_Category  \n",
       "0  Artworking/Typesetting Production Jun 2009 Cha...       CLASS-1963  \n",
       "1  Auto Leasing Corporate Services Corning Inc /N...       CLASS-1250  \n",
       "2  Store Management Lease/Rent Deltona Corp Real ...       CLASS-1274  \n",
       "3  Store Construction General Requirements Coloni...       CLASS-1522  \n",
       "4  Jul 2015 Aydin Corp Contingent Labor/Temp Labo...       CLASS-1376  "
      ]
     },
     "execution_count": 6,
     "metadata": {},
     "output_type": "execute_result"
    }
   ],
   "source": [
    "# Top 5 rows\n",
    "Train.head(5)"
   ]
  },
  {
   "cell_type": "code",
   "execution_count": 7,
   "metadata": {},
   "outputs": [
    {
     "data": {
      "text/html": [
       "<div>\n",
       "<style scoped>\n",
       "    .dataframe tbody tr th:only-of-type {\n",
       "        vertical-align: middle;\n",
       "    }\n",
       "\n",
       "    .dataframe tbody tr th {\n",
       "        vertical-align: top;\n",
       "    }\n",
       "\n",
       "    .dataframe thead th {\n",
       "        text-align: right;\n",
       "    }\n",
       "</style>\n",
       "<table border=\"1\" class=\"dataframe\">\n",
       "  <thead>\n",
       "    <tr style=\"text-align: right;\">\n",
       "      <th></th>\n",
       "      <th>Inv_Id</th>\n",
       "      <th>Vendor_Code</th>\n",
       "      <th>GL_Code</th>\n",
       "      <th>Inv_Amt</th>\n",
       "      <th>Item_Description</th>\n",
       "    </tr>\n",
       "  </thead>\n",
       "  <tbody>\n",
       "    <tr>\n",
       "      <th>0</th>\n",
       "      <td>15003</td>\n",
       "      <td>VENDOR-2513</td>\n",
       "      <td>GL-6050310</td>\n",
       "      <td>56.13</td>\n",
       "      <td>Travel and Entertainment Miscellaneous Company...</td>\n",
       "    </tr>\n",
       "    <tr>\n",
       "      <th>1</th>\n",
       "      <td>15008</td>\n",
       "      <td>VENDOR-1044</td>\n",
       "      <td>GL-6101400</td>\n",
       "      <td>96.56</td>\n",
       "      <td>Final Site Clean Up Store Construction Advance...</td>\n",
       "    </tr>\n",
       "    <tr>\n",
       "      <th>2</th>\n",
       "      <td>15013</td>\n",
       "      <td>VENDOR-1254</td>\n",
       "      <td>GL-6101400</td>\n",
       "      <td>55.93</td>\n",
       "      <td>Arabian American Development Co Final Site Cle...</td>\n",
       "    </tr>\n",
       "    <tr>\n",
       "      <th>3</th>\n",
       "      <td>15019</td>\n",
       "      <td>VENDOR-1331</td>\n",
       "      <td>GL-2182000</td>\n",
       "      <td>32.62</td>\n",
       "      <td>Corporate Services Contingent Labor/Temp Labor...</td>\n",
       "    </tr>\n",
       "    <tr>\n",
       "      <th>4</th>\n",
       "      <td>15020</td>\n",
       "      <td>VENDOR-2513</td>\n",
       "      <td>GL-6050310</td>\n",
       "      <td>25.81</td>\n",
       "      <td>Fortune National Corp Miscellaneous Company Ca...</td>\n",
       "    </tr>\n",
       "  </tbody>\n",
       "</table>\n",
       "</div>"
      ],
      "text/plain": [
       "   Inv_Id  Vendor_Code     GL_Code  Inv_Amt  \\\n",
       "0   15003  VENDOR-2513  GL-6050310    56.13   \n",
       "1   15008  VENDOR-1044  GL-6101400    96.56   \n",
       "2   15013  VENDOR-1254  GL-6101400    55.93   \n",
       "3   15019  VENDOR-1331  GL-2182000    32.62   \n",
       "4   15020  VENDOR-2513  GL-6050310    25.81   \n",
       "\n",
       "                                    Item_Description  \n",
       "0  Travel and Entertainment Miscellaneous Company...  \n",
       "1  Final Site Clean Up Store Construction Advance...  \n",
       "2  Arabian American Development Co Final Site Cle...  \n",
       "3  Corporate Services Contingent Labor/Temp Labor...  \n",
       "4  Fortune National Corp Miscellaneous Company Ca...  "
      ]
     },
     "execution_count": 7,
     "metadata": {},
     "output_type": "execute_result"
    }
   ],
   "source": [
    "Test.head(5)"
   ]
  },
  {
   "cell_type": "markdown",
   "metadata": {
    "colab_type": "text",
    "id": "xl_hvGJfjBYI"
   },
   "source": [
    "Now, let's look at distribution of Product_Category:"
   ]
  },
  {
   "cell_type": "code",
   "execution_count": 8,
   "metadata": {
    "colab": {
     "base_uri": "https://localhost:8080/",
     "height": 680
    },
    "colab_type": "code",
    "id": "Tg8CGCUZgPtG",
    "outputId": "fc02632b-433d-4241-f61b-a2a649cc6626"
   },
   "outputs": [
    {
     "name": "stdout",
     "output_type": "stream",
     "text": [
      "The unique number of Product Categories:  36\n",
      "Below are the distribution of each categories in Train data:\n"
     ]
    },
    {
     "data": {
      "text/plain": [
       "CLASS-1758    0.269134\n",
       "CLASS-1274    0.177147\n",
       "CLASS-1522    0.152893\n",
       "CLASS-1250    0.081028\n",
       "CLASS-1376    0.065577\n",
       "CLASS-1963    0.041322\n",
       "CLASS-1249    0.031621\n",
       "CLASS-1828    0.020302\n",
       "CLASS-2141    0.019404\n",
       "CLASS-1721    0.019224\n",
       "CLASS-1567    0.015092\n",
       "CLASS-1919    0.012576\n",
       "CLASS-1850    0.010780\n",
       "CLASS-2112    0.009522\n",
       "CLASS-1477    0.008983\n",
       "CLASS-2241    0.006468\n",
       "CLASS-1870    0.006468\n",
       "CLASS-1309    0.005749\n",
       "CLASS-1429    0.005749\n",
       "CLASS-2003    0.005749\n",
       "CLASS-1322    0.005031\n",
       "CLASS-1964    0.005031\n",
       "CLASS-1294    0.004492\n",
       "CLASS-1770    0.003414\n",
       "CLASS-1983    0.003054\n",
       "CLASS-1867    0.002695\n",
       "CLASS-1652    0.002695\n",
       "CLASS-2038    0.002336\n",
       "CLASS-1805    0.002156\n",
       "CLASS-2152    0.001617\n",
       "CLASS-1248    0.000898\n",
       "CLASS-1688    0.000719\n",
       "CLASS-2146    0.000359\n",
       "CLASS-2015    0.000359\n",
       "CLASS-1838    0.000180\n",
       "CLASS-1957    0.000180\n",
       "Name: Product_Category, dtype: float64"
      ]
     },
     "execution_count": 8,
     "metadata": {},
     "output_type": "execute_result"
    }
   ],
   "source": [
    "# Checking distribution of Product_Category\n",
    "print(\"The unique number of Product Categories: \",len(Train['Product_Category'].unique()))\n",
    "print(\"Below are the distribution of each categories in Train data:\")\n",
    "Train['Product_Category'].value_counts(normalize = True)"
   ]
  },
  {
   "cell_type": "code",
   "execution_count": 9,
   "metadata": {
    "colab": {
     "base_uri": "https://localhost:8080/",
     "height": 446
    },
    "colab_type": "code",
    "id": "vk1DlkaqlheA",
    "outputId": "c6adb0c1-ab5b-40a3-a10f-92e5e1f72c47"
   },
   "outputs": [
    {
     "data": {
      "image/png": "[encoded data removed]",
      "text/plain": [
       "<Figure size 720x504 with 1 Axes>"
      ]
     },
     "metadata": {
      "needs_background": "light"
     },
     "output_type": "display_data"
    }
   ],
   "source": [
    "plt.figure(figsize=(10,7))\n",
    "sns.countplot(y = 'Product_Category', data = Train);"
   ]
  },
  {
   "cell_type": "markdown",
   "metadata": {
    "colab_type": "text",
    "id": "gaY2H8iOm-x1"
   },
   "source": [
    "> It is clearly visible from above analysis that we are dealing with **unbalanced classification** problem where out of 30 product categories, only 5 are having > 5% occurance. We need to note here that predicting rare categories will be challenging due to insufficient data points."
   ]
  },
  {
   "cell_type": "markdown",
   "metadata": {
    "colab_type": "text",
    "id": "ivFH6hHMnnjU"
   },
   "source": [
    "## 3. Data Preprocessing\n",
    "\n",
    "Let's preprocess our data for building classification model. As we already discussed above that our main variable of interest is **Item_Description**. On this variable, we are going to apply various NLP techniques."
   ]
  },
  {
   "cell_type": "markdown",
   "metadata": {
    "colab_type": "text",
    "id": "OLjBTggzlmf0"
   },
   "source": [
    "### 3.1 Making lowercase\n",
    "\n",
    "At first, we will convert all words in **Item_Description** as lowercase. This is generally a good idea as many text classification tools rely on counting the occurrences of words. If both upper and lower case versions of the same word are found in the text then the algorithm will count them as different words even though the meaning is the same. "
   ]
  },
  {
   "cell_type": "code",
   "execution_count": 10,
   "metadata": {
    "colab": {
     "base_uri": "https://localhost:8080/",
     "height": 289
    },
    "colab_type": "code",
    "id": "LtNDS31Jln0q",
    "outputId": "c2e25996-4d5f-43e8-b619-b540984520d6"
   },
   "outputs": [
    {
     "data": {
      "text/html": [
       "<div>\n",
       "<style scoped>\n",
       "    .dataframe tbody tr th:only-of-type {\n",
       "        vertical-align: middle;\n",
       "    }\n",
       "\n",
       "    .dataframe tbody tr th {\n",
       "        vertical-align: top;\n",
       "    }\n",
       "\n",
       "    .dataframe thead th {\n",
       "        text-align: right;\n",
       "    }\n",
       "</style>\n",
       "<table border=\"1\" class=\"dataframe\">\n",
       "  <thead>\n",
       "    <tr style=\"text-align: right;\">\n",
       "      <th></th>\n",
       "      <th>Inv_Id</th>\n",
       "      <th>Vendor_Code</th>\n",
       "      <th>GL_Code</th>\n",
       "      <th>Inv_Amt</th>\n",
       "      <th>Item_Description</th>\n",
       "      <th>Product_Category</th>\n",
       "      <th>Item_Description_tidy</th>\n",
       "    </tr>\n",
       "  </thead>\n",
       "  <tbody>\n",
       "    <tr>\n",
       "      <th>0</th>\n",
       "      <td>15001</td>\n",
       "      <td>VENDOR-1676</td>\n",
       "      <td>GL-6100410</td>\n",
       "      <td>83.24</td>\n",
       "      <td>Artworking/Typesetting Production Jun 2009 Cha...</td>\n",
       "      <td>CLASS-1963</td>\n",
       "      <td>artworking/typesetting production jun 2009 cha...</td>\n",
       "    </tr>\n",
       "    <tr>\n",
       "      <th>1</th>\n",
       "      <td>15002</td>\n",
       "      <td>VENDOR-1883</td>\n",
       "      <td>GL-2182000</td>\n",
       "      <td>51.18</td>\n",
       "      <td>Auto Leasing Corporate Services Corning Inc /N...</td>\n",
       "      <td>CLASS-1250</td>\n",
       "      <td>auto leasing corporate services corning inc /n...</td>\n",
       "    </tr>\n",
       "    <tr>\n",
       "      <th>2</th>\n",
       "      <td>15004</td>\n",
       "      <td>VENDOR-1999</td>\n",
       "      <td>GL-6050100</td>\n",
       "      <td>79.02</td>\n",
       "      <td>Store Management Lease/Rent Deltona Corp Real ...</td>\n",
       "      <td>CLASS-1274</td>\n",
       "      <td>store management lease/rent deltona corp real ...</td>\n",
       "    </tr>\n",
       "    <tr>\n",
       "      <th>3</th>\n",
       "      <td>15005</td>\n",
       "      <td>VENDOR-1771</td>\n",
       "      <td>GL-6101400</td>\n",
       "      <td>48.50</td>\n",
       "      <td>Store Construction General Requirements Coloni...</td>\n",
       "      <td>CLASS-1522</td>\n",
       "      <td>store construction general requirements coloni...</td>\n",
       "    </tr>\n",
       "    <tr>\n",
       "      <th>4</th>\n",
       "      <td>15006</td>\n",
       "      <td>VENDOR-1331</td>\n",
       "      <td>GL-2182000</td>\n",
       "      <td>63.35</td>\n",
       "      <td>Jul 2015 Aydin Corp Contingent Labor/Temp Labo...</td>\n",
       "      <td>CLASS-1376</td>\n",
       "      <td>jul 2015 aydin corp contingent labor/temp labo...</td>\n",
       "    </tr>\n",
       "  </tbody>\n",
       "</table>\n",
       "</div>"
      ],
      "text/plain": [
       "   Inv_Id  Vendor_Code     GL_Code  Inv_Amt  \\\n",
       "0   15001  VENDOR-1676  GL-6100410    83.24   \n",
       "1   15002  VENDOR-1883  GL-2182000    51.18   \n",
       "2   15004  VENDOR-1999  GL-6050100    79.02   \n",
       "3   15005  VENDOR-1771  GL-6101400    48.50   \n",
       "4   15006  VENDOR-1331  GL-2182000    63.35   \n",
       "\n",
       "                                    Item_Description Product_Category  \\\n",
       "0  Artworking/Typesetting Production Jun 2009 Cha...       CLASS-1963   \n",
       "1  Auto Leasing Corporate Services Corning Inc /N...       CLASS-1250   \n",
       "2  Store Management Lease/Rent Deltona Corp Real ...       CLASS-1274   \n",
       "3  Store Construction General Requirements Coloni...       CLASS-1522   \n",
       "4  Jul 2015 Aydin Corp Contingent Labor/Temp Labo...       CLASS-1376   \n",
       "\n",
       "                               Item_Description_tidy  \n",
       "0  artworking/typesetting production jun 2009 cha...  \n",
       "1  auto leasing corporate services corning inc /n...  \n",
       "2  store management lease/rent deltona corp real ...  \n",
       "3  store construction general requirements coloni...  \n",
       "4  jul 2015 aydin corp contingent labor/temp labo...  "
      ]
     },
     "execution_count": 10,
     "metadata": {},
     "output_type": "execute_result"
    }
   ],
   "source": [
    "# Making lowercase\n",
    "Train['Item_Description_tidy'] = Train['Item_Description'].str.lower()\n",
    "Train.head(5)"
   ]
  },
  {
   "cell_type": "markdown",
   "metadata": {
    "colab_type": "text",
    "id": "4llNxA54oRH1"
   },
   "source": [
    "### 3.2 Removing Punctuations, Numbers, and Special Characters\n",
    "\n",
    "Since punctuations, numbers and special characters do not help much, It is better to remove them from the tweet. Here we will replace everything except characters and hashtags with spaces."
   ]
  },
  {
   "cell_type": "code",
   "execution_count": 11,
   "metadata": {
    "colab": {
     "base_uri": "https://localhost:8080/",
     "height": 289
    },
    "colab_type": "code",
    "id": "Y1fAXb1no9vJ",
    "outputId": "f81a14aa-ace6-49de-9e5e-1e454d3b9e1a"
   },
   "outputs": [
    {
     "data": {
      "text/html": [
       "<div>\n",
       "<style scoped>\n",
       "    .dataframe tbody tr th:only-of-type {\n",
       "        vertical-align: middle;\n",
       "    }\n",
       "\n",
       "    .dataframe tbody tr th {\n",
       "        vertical-align: top;\n",
       "    }\n",
       "\n",
       "    .dataframe thead th {\n",
       "        text-align: right;\n",
       "    }\n",
       "</style>\n",
       "<table border=\"1\" class=\"dataframe\">\n",
       "  <thead>\n",
       "    <tr style=\"text-align: right;\">\n",
       "      <th></th>\n",
       "      <th>Inv_Id</th>\n",
       "      <th>Vendor_Code</th>\n",
       "      <th>GL_Code</th>\n",
       "      <th>Inv_Amt</th>\n",
       "      <th>Item_Description</th>\n",
       "      <th>Product_Category</th>\n",
       "      <th>Item_Description_tidy</th>\n",
       "    </tr>\n",
       "  </thead>\n",
       "  <tbody>\n",
       "    <tr>\n",
       "      <th>0</th>\n",
       "      <td>15001</td>\n",
       "      <td>VENDOR-1676</td>\n",
       "      <td>GL-6100410</td>\n",
       "      <td>83.24</td>\n",
       "      <td>Artworking/Typesetting Production Jun 2009 Cha...</td>\n",
       "      <td>CLASS-1963</td>\n",
       "      <td>artworking typesetting production jun      cha...</td>\n",
       "    </tr>\n",
       "    <tr>\n",
       "      <th>1</th>\n",
       "      <td>15002</td>\n",
       "      <td>VENDOR-1883</td>\n",
       "      <td>GL-2182000</td>\n",
       "      <td>51.18</td>\n",
       "      <td>Auto Leasing Corporate Services Corning Inc /N...</td>\n",
       "      <td>CLASS-1250</td>\n",
       "      <td>auto leasing corporate services corning inc  n...</td>\n",
       "    </tr>\n",
       "    <tr>\n",
       "      <th>2</th>\n",
       "      <td>15004</td>\n",
       "      <td>VENDOR-1999</td>\n",
       "      <td>GL-6050100</td>\n",
       "      <td>79.02</td>\n",
       "      <td>Store Management Lease/Rent Deltona Corp Real ...</td>\n",
       "      <td>CLASS-1274</td>\n",
       "      <td>store management lease rent deltona corp real ...</td>\n",
       "    </tr>\n",
       "    <tr>\n",
       "      <th>3</th>\n",
       "      <td>15005</td>\n",
       "      <td>VENDOR-1771</td>\n",
       "      <td>GL-6101400</td>\n",
       "      <td>48.50</td>\n",
       "      <td>Store Construction General Requirements Coloni...</td>\n",
       "      <td>CLASS-1522</td>\n",
       "      <td>store construction general requirements coloni...</td>\n",
       "    </tr>\n",
       "    <tr>\n",
       "      <th>4</th>\n",
       "      <td>15006</td>\n",
       "      <td>VENDOR-1331</td>\n",
       "      <td>GL-2182000</td>\n",
       "      <td>63.35</td>\n",
       "      <td>Jul 2015 Aydin Corp Contingent Labor/Temp Labo...</td>\n",
       "      <td>CLASS-1376</td>\n",
       "      <td>jul      aydin corp contingent labor temp labo...</td>\n",
       "    </tr>\n",
       "  </tbody>\n",
       "</table>\n",
       "</div>"
      ],
      "text/plain": [
       "   Inv_Id  Vendor_Code     GL_Code  Inv_Amt  \\\n",
       "0   15001  VENDOR-1676  GL-6100410    83.24   \n",
       "1   15002  VENDOR-1883  GL-2182000    51.18   \n",
       "2   15004  VENDOR-1999  GL-6050100    79.02   \n",
       "3   15005  VENDOR-1771  GL-6101400    48.50   \n",
       "4   15006  VENDOR-1331  GL-2182000    63.35   \n",
       "\n",
       "                                    Item_Description Product_Category  \\\n",
       "0  Artworking/Typesetting Production Jun 2009 Cha...       CLASS-1963   \n",
       "1  Auto Leasing Corporate Services Corning Inc /N...       CLASS-1250   \n",
       "2  Store Management Lease/Rent Deltona Corp Real ...       CLASS-1274   \n",
       "3  Store Construction General Requirements Coloni...       CLASS-1522   \n",
       "4  Jul 2015 Aydin Corp Contingent Labor/Temp Labo...       CLASS-1376   \n",
       "\n",
       "                               Item_Description_tidy  \n",
       "0  artworking typesetting production jun      cha...  \n",
       "1  auto leasing corporate services corning inc  n...  \n",
       "2  store management lease rent deltona corp real ...  \n",
       "3  store construction general requirements coloni...  \n",
       "4  jul      aydin corp contingent labor temp labo...  "
      ]
     },
     "execution_count": 11,
     "metadata": {},
     "output_type": "execute_result"
    }
   ],
   "source": [
    "# remove special characters, numbers, punctuations\n",
    "Train['Item_Description_tidy'] = Train['Item_Description_tidy'].str.replace(\"[^a-zA-Z#]\", \" \")\n",
    "Train.head(5)"
   ]
  },
  {
   "cell_type": "markdown",
   "metadata": {
    "colab_type": "text",
    "id": "-ajPk8pPs2to"
   },
   "source": [
    "### 3.3 Removing Short Words\n",
    "\n",
    "In this step, we are removing all the words having length 3 or less. For example, terms like “hmm”, “oh” are of very little use. It is better to get rid of them. Howerver, in this case it may not require as text contains details of product which may be useful."
   ]
  },
  {
   "cell_type": "code",
   "execution_count": 12,
   "metadata": {
    "colab": {
     "base_uri": "https://localhost:8080/",
     "height": 289
    },
    "colab_type": "code",
    "id": "m4rDpSWFtCsw",
    "outputId": "c3bead32-1fd8-4927-c0d9-07272b6d54ad"
   },
   "outputs": [
    {
     "data": {
      "text/html": [
       "<div>\n",
       "<style scoped>\n",
       "    .dataframe tbody tr th:only-of-type {\n",
       "        vertical-align: middle;\n",
       "    }\n",
       "\n",
       "    .dataframe tbody tr th {\n",
       "        vertical-align: top;\n",
       "    }\n",
       "\n",
       "    .dataframe thead th {\n",
       "        text-align: right;\n",
       "    }\n",
       "</style>\n",
       "<table border=\"1\" class=\"dataframe\">\n",
       "  <thead>\n",
       "    <tr style=\"text-align: right;\">\n",
       "      <th></th>\n",
       "      <th>Inv_Id</th>\n",
       "      <th>Vendor_Code</th>\n",
       "      <th>GL_Code</th>\n",
       "      <th>Inv_Amt</th>\n",
       "      <th>Item_Description</th>\n",
       "      <th>Product_Category</th>\n",
       "      <th>Item_Description_tidy</th>\n",
       "    </tr>\n",
       "  </thead>\n",
       "  <tbody>\n",
       "    <tr>\n",
       "      <th>0</th>\n",
       "      <td>15001</td>\n",
       "      <td>VENDOR-1676</td>\n",
       "      <td>GL-6100410</td>\n",
       "      <td>83.24</td>\n",
       "      <td>Artworking/Typesetting Production Jun 2009 Cha...</td>\n",
       "      <td>CLASS-1963</td>\n",
       "      <td>artworking typesetting production champion par...</td>\n",
       "    </tr>\n",
       "    <tr>\n",
       "      <th>1</th>\n",
       "      <td>15002</td>\n",
       "      <td>VENDOR-1883</td>\n",
       "      <td>GL-2182000</td>\n",
       "      <td>51.18</td>\n",
       "      <td>Auto Leasing Corporate Services Corning Inc /N...</td>\n",
       "      <td>CLASS-1250</td>\n",
       "      <td>auto leasing corporate services corning auto l...</td>\n",
       "    </tr>\n",
       "    <tr>\n",
       "      <th>2</th>\n",
       "      <td>15004</td>\n",
       "      <td>VENDOR-1999</td>\n",
       "      <td>GL-6050100</td>\n",
       "      <td>79.02</td>\n",
       "      <td>Store Management Lease/Rent Deltona Corp Real ...</td>\n",
       "      <td>CLASS-1274</td>\n",
       "      <td>store management lease rent deltona corp real ...</td>\n",
       "    </tr>\n",
       "    <tr>\n",
       "      <th>3</th>\n",
       "      <td>15005</td>\n",
       "      <td>VENDOR-1771</td>\n",
       "      <td>GL-6101400</td>\n",
       "      <td>48.50</td>\n",
       "      <td>Store Construction General Requirements Coloni...</td>\n",
       "      <td>CLASS-1522</td>\n",
       "      <td>store construction general requirements coloni...</td>\n",
       "    </tr>\n",
       "    <tr>\n",
       "      <th>4</th>\n",
       "      <td>15006</td>\n",
       "      <td>VENDOR-1331</td>\n",
       "      <td>GL-2182000</td>\n",
       "      <td>63.35</td>\n",
       "      <td>Jul 2015 Aydin Corp Contingent Labor/Temp Labo...</td>\n",
       "      <td>CLASS-1376</td>\n",
       "      <td>aydin corp contingent labor temp labor conting...</td>\n",
       "    </tr>\n",
       "  </tbody>\n",
       "</table>\n",
       "</div>"
      ],
      "text/plain": [
       "   Inv_Id  Vendor_Code     GL_Code  Inv_Amt  \\\n",
       "0   15001  VENDOR-1676  GL-6100410    83.24   \n",
       "1   15002  VENDOR-1883  GL-2182000    51.18   \n",
       "2   15004  VENDOR-1999  GL-6050100    79.02   \n",
       "3   15005  VENDOR-1771  GL-6101400    48.50   \n",
       "4   15006  VENDOR-1331  GL-2182000    63.35   \n",
       "\n",
       "                                    Item_Description Product_Category  \\\n",
       "0  Artworking/Typesetting Production Jun 2009 Cha...       CLASS-1963   \n",
       "1  Auto Leasing Corporate Services Corning Inc /N...       CLASS-1250   \n",
       "2  Store Management Lease/Rent Deltona Corp Real ...       CLASS-1274   \n",
       "3  Store Construction General Requirements Coloni...       CLASS-1522   \n",
       "4  Jul 2015 Aydin Corp Contingent Labor/Temp Labo...       CLASS-1376   \n",
       "\n",
       "                               Item_Description_tidy  \n",
       "0  artworking typesetting production champion par...  \n",
       "1  auto leasing corporate services corning auto l...  \n",
       "2  store management lease rent deltona corp real ...  \n",
       "3  store construction general requirements coloni...  \n",
       "4  aydin corp contingent labor temp labor conting...  "
      ]
     },
     "execution_count": 12,
     "metadata": {},
     "output_type": "execute_result"
    }
   ],
   "source": [
    "# removing short words\n",
    "Train['Item_Description_tidy'] = Train['Item_Description_tidy'].apply(lambda x: ' '.join([w for w in x.split() if len(w)>3]))\n",
    "Train.head(5)"
   ]
  },
  {
   "cell_type": "markdown",
   "metadata": {
    "colab_type": "text",
    "id": "6awOGholt4Ua"
   },
   "source": [
    "### 3.4 Tokenization\n",
    "\n",
    "Now we will tokenize all the cleaned tweets in our dataset. Tokens are individual terms or words, and tokenization is the process of splitting a string of text into tokens."
   ]
  },
  {
   "cell_type": "code",
   "execution_count": 13,
   "metadata": {
    "colab": {
     "base_uri": "https://localhost:8080/",
     "height": 119
    },
    "colab_type": "code",
    "id": "WA6rbgpmuEgK",
    "outputId": "30b89403-fa7d-439a-d6ae-e90cc6c78e65"
   },
   "outputs": [
    {
     "data": {
      "text/plain": [
       "0    [artworking, typesetting, production, champion...\n",
       "1    [auto, leasing, corporate, services, corning, ...\n",
       "2    [store, management, lease, rent, deltona, corp...\n",
       "3    [store, construction, general, requirements, c...\n",
       "4    [aydin, corp, contingent, labor, temp, labor, ...\n",
       "Name: Item_Description_tidy, dtype: object"
      ]
     },
     "execution_count": 13,
     "metadata": {},
     "output_type": "execute_result"
    }
   ],
   "source": [
    "tokenized_tweet = Train['Item_Description_tidy'].apply(lambda x: x.split())\n",
    "tokenized_tweet.head()"
   ]
  },
  {
   "cell_type": "markdown",
   "metadata": {
    "colab_type": "text",
    "id": "O4W2zKsAuRBX"
   },
   "source": [
    "### 3.5 Stemming\n",
    "\n",
    "Stemming is a rule-based process of stripping the suffixes (“ing”, “ly”, “es”, “s” etc) from a word. For example, For example – “play”, “player”, “played”, “plays” and “playing” are the different variations of the word – “play”."
   ]
  },
  {
   "cell_type": "code",
   "execution_count": 14,
   "metadata": {
    "colab": {
     "base_uri": "https://localhost:8080/",
     "height": 119
    },
    "colab_type": "code",
    "id": "wBIi-dvFuW3Z",
    "outputId": "d5425f4f-6617-4488-f80e-07f217bc6c4e"
   },
   "outputs": [
    {
     "data": {
      "text/plain": [
       "0    [artwork, typeset, product, champion, part, sm...\n",
       "1    [auto, leas, corpor, servic, corn, auto, leas,...\n",
       "2    [store, manag, leas, rent, deltona, corp, real...\n",
       "3    [store, construct, gener, requir, coloni, trus...\n",
       "4    [aydin, corp, conting, labor, temp, labor, con...\n",
       "Name: Item_Description_tidy, dtype: object"
      ]
     },
     "execution_count": 14,
     "metadata": {},
     "output_type": "execute_result"
    }
   ],
   "source": [
    "from nltk.stem.porter import *\n",
    "stemmer = PorterStemmer()\n",
    "\n",
    "# stemming\n",
    "tokenized_tweet = tokenized_tweet.apply(lambda x: [stemmer.stem(i) for i in x]) \n",
    "tokenized_tweet.head()"
   ]
  },
  {
   "cell_type": "markdown",
   "metadata": {
    "colab_type": "text",
    "id": "YE4dfGK3utus"
   },
   "source": [
    "Now let’s stitch these tokens back together."
   ]
  },
  {
   "cell_type": "code",
   "execution_count": 15,
   "metadata": {
    "colab": {
     "base_uri": "https://localhost:8080/",
     "height": 289
    },
    "colab_type": "code",
    "id": "Qn11dBRquzx8",
    "outputId": "7f9b3027-03c2-48fd-fad9-503a5a94bb02"
   },
   "outputs": [
    {
     "data": {
      "text/html": [
       "<div>\n",
       "<style scoped>\n",
       "    .dataframe tbody tr th:only-of-type {\n",
       "        vertical-align: middle;\n",
       "    }\n",
       "\n",
       "    .dataframe tbody tr th {\n",
       "        vertical-align: top;\n",
       "    }\n",
       "\n",
       "    .dataframe thead th {\n",
       "        text-align: right;\n",
       "    }\n",
       "</style>\n",
       "<table border=\"1\" class=\"dataframe\">\n",
       "  <thead>\n",
       "    <tr style=\"text-align: right;\">\n",
       "      <th></th>\n",
       "      <th>Inv_Id</th>\n",
       "      <th>Vendor_Code</th>\n",
       "      <th>GL_Code</th>\n",
       "      <th>Inv_Amt</th>\n",
       "      <th>Item_Description</th>\n",
       "      <th>Product_Category</th>\n",
       "      <th>Item_Description_tidy</th>\n",
       "    </tr>\n",
       "  </thead>\n",
       "  <tbody>\n",
       "    <tr>\n",
       "      <th>0</th>\n",
       "      <td>15001</td>\n",
       "      <td>VENDOR-1676</td>\n",
       "      <td>GL-6100410</td>\n",
       "      <td>83.24</td>\n",
       "      <td>Artworking/Typesetting Production Jun 2009 Cha...</td>\n",
       "      <td>CLASS-1963</td>\n",
       "      <td>artwork typeset product champion part smap pro...</td>\n",
       "    </tr>\n",
       "    <tr>\n",
       "      <th>1</th>\n",
       "      <td>15002</td>\n",
       "      <td>VENDOR-1883</td>\n",
       "      <td>GL-2182000</td>\n",
       "      <td>51.18</td>\n",
       "      <td>Auto Leasing Corporate Services Corning Inc /N...</td>\n",
       "      <td>CLASS-1250</td>\n",
       "      <td>auto leas corpor servic corn auto leas mainten...</td>\n",
       "    </tr>\n",
       "    <tr>\n",
       "      <th>2</th>\n",
       "      <td>15004</td>\n",
       "      <td>VENDOR-1999</td>\n",
       "      <td>GL-6050100</td>\n",
       "      <td>79.02</td>\n",
       "      <td>Store Management Lease/Rent Deltona Corp Real ...</td>\n",
       "      <td>CLASS-1274</td>\n",
       "      <td>store manag leas rent deltona corp real estat ...</td>\n",
       "    </tr>\n",
       "    <tr>\n",
       "      <th>3</th>\n",
       "      <td>15005</td>\n",
       "      <td>VENDOR-1771</td>\n",
       "      <td>GL-6101400</td>\n",
       "      <td>48.50</td>\n",
       "      <td>Store Construction General Requirements Coloni...</td>\n",
       "      <td>CLASS-1522</td>\n",
       "      <td>store construct gener requir coloni trust gene...</td>\n",
       "    </tr>\n",
       "    <tr>\n",
       "      <th>4</th>\n",
       "      <td>15006</td>\n",
       "      <td>VENDOR-1331</td>\n",
       "      <td>GL-2182000</td>\n",
       "      <td>63.35</td>\n",
       "      <td>Jul 2015 Aydin Corp Contingent Labor/Temp Labo...</td>\n",
       "      <td>CLASS-1376</td>\n",
       "      <td>aydin corp conting labor temp labor conting la...</td>\n",
       "    </tr>\n",
       "  </tbody>\n",
       "</table>\n",
       "</div>"
      ],
      "text/plain": [
       "   Inv_Id  Vendor_Code     GL_Code  Inv_Amt  \\\n",
       "0   15001  VENDOR-1676  GL-6100410    83.24   \n",
       "1   15002  VENDOR-1883  GL-2182000    51.18   \n",
       "2   15004  VENDOR-1999  GL-6050100    79.02   \n",
       "3   15005  VENDOR-1771  GL-6101400    48.50   \n",
       "4   15006  VENDOR-1331  GL-2182000    63.35   \n",
       "\n",
       "                                    Item_Description Product_Category  \\\n",
       "0  Artworking/Typesetting Production Jun 2009 Cha...       CLASS-1963   \n",
       "1  Auto Leasing Corporate Services Corning Inc /N...       CLASS-1250   \n",
       "2  Store Management Lease/Rent Deltona Corp Real ...       CLASS-1274   \n",
       "3  Store Construction General Requirements Coloni...       CLASS-1522   \n",
       "4  Jul 2015 Aydin Corp Contingent Labor/Temp Labo...       CLASS-1376   \n",
       "\n",
       "                               Item_Description_tidy  \n",
       "0  artwork typeset product champion part smap pro...  \n",
       "1  auto leas corpor servic corn auto leas mainten...  \n",
       "2  store manag leas rent deltona corp real estat ...  \n",
       "3  store construct gener requir coloni trust gene...  \n",
       "4  aydin corp conting labor temp labor conting la...  "
      ]
     },
     "execution_count": 15,
     "metadata": {},
     "output_type": "execute_result"
    }
   ],
   "source": [
    "for i in range(len(tokenized_tweet)):\n",
    "    tokenized_tweet[i] = ' '.join(tokenized_tweet[i])\n",
    "\n",
    "Train['Item_Description_tidy'] = tokenized_tweet\n",
    "Train.head(5)"
   ]
  },
  {
   "cell_type": "markdown",
   "metadata": {
    "colab_type": "text",
    "id": "mY_-BcDanRrJ"
   },
   "source": [
    "### 3.6 Collecting all preprocessing steps in one function\n",
    "\n",
    "Let's create a function for all above steps so that it can be reusable with minimum time of coding."
   ]
  },
  {
   "cell_type": "code",
   "execution_count": 16,
   "metadata": {
    "colab": {},
    "colab_type": "code",
    "id": "M_P9boa0nmRy"
   },
   "outputs": [],
   "source": [
    "# Creating function for preprocessing\n",
    "def clean_and_tokenize_tweets(data):\n",
    "  # Making lowercase\n",
    "  data['Item_Description_tidy'] = data['Item_Description'].str.lower()\n",
    "  \n",
    "  # remove special characters, numbers, punctuations\n",
    "  data['Item_Description_tidy'] = data['Item_Description_tidy'].str.replace(\"[^a-zA-Z#]\", \" \")\n",
    "  \n",
    "  # removing short words\n",
    "  # data['Item_Description_tidy'] = data['Item_Description_tidy'].apply(lambda x: ' '.join([w for w in x.split() if len(w)>3]))\n",
    "  \n",
    "  # Tokenize the words for it to use\n",
    "  tokenized_tweet = data['Item_Description_tidy'].apply(lambda x: x.split())\n",
    "  \n",
    "  # Stem the words. (Stemming is a rule-based process of stripping\n",
    "  # the suffixes (“ing”, “ly”, “es”, “s” etc) from a word)\n",
    "  stemmer = PorterStemmer()\n",
    "  tokenized_tweet = tokenized_tweet.apply(lambda x: [stemmer.stem(i) for i in x])\n",
    "  \n",
    "  for i in range(len(tokenized_tweet)):\n",
    "    tokenized_tweet[i] = ' '.join(tokenized_tweet[i])\n",
    "  \n",
    "  data['Item_Description_tidy'] = tokenized_tweet\n",
    "  return data\n"
   ]
  },
  {
   "cell_type": "code",
   "execution_count": 17,
   "metadata": {
    "colab": {
     "base_uri": "https://localhost:8080/",
     "height": 289
    },
    "colab_type": "code",
    "id": "97MjROM_pWBt",
    "outputId": "f9ef2882-ceab-4758-bc0c-73e1dfc10966"
   },
   "outputs": [
    {
     "data": {
      "text/html": [
       "<div>\n",
       "<style scoped>\n",
       "    .dataframe tbody tr th:only-of-type {\n",
       "        vertical-align: middle;\n",
       "    }\n",
       "\n",
       "    .dataframe tbody tr th {\n",
       "        vertical-align: top;\n",
       "    }\n",
       "\n",
       "    .dataframe thead th {\n",
       "        text-align: right;\n",
       "    }\n",
       "</style>\n",
       "<table border=\"1\" class=\"dataframe\">\n",
       "  <thead>\n",
       "    <tr style=\"text-align: right;\">\n",
       "      <th></th>\n",
       "      <th>Inv_Id</th>\n",
       "      <th>Vendor_Code</th>\n",
       "      <th>GL_Code</th>\n",
       "      <th>Inv_Amt</th>\n",
       "      <th>Item_Description</th>\n",
       "      <th>Product_Category</th>\n",
       "      <th>Item_Description_tidy</th>\n",
       "    </tr>\n",
       "  </thead>\n",
       "  <tbody>\n",
       "    <tr>\n",
       "      <th>0</th>\n",
       "      <td>15001</td>\n",
       "      <td>VENDOR-1676</td>\n",
       "      <td>GL-6100410</td>\n",
       "      <td>83.24</td>\n",
       "      <td>Artworking/Typesetting Production Jun 2009 Cha...</td>\n",
       "      <td>CLASS-1963</td>\n",
       "      <td>artwork typeset product jun champion part inc ...</td>\n",
       "    </tr>\n",
       "    <tr>\n",
       "      <th>1</th>\n",
       "      <td>15002</td>\n",
       "      <td>VENDOR-1883</td>\n",
       "      <td>GL-2182000</td>\n",
       "      <td>51.18</td>\n",
       "      <td>Auto Leasing Corporate Services Corning Inc /N...</td>\n",
       "      <td>CLASS-1250</td>\n",
       "      <td>auto leas corpor servic corn inc ny mar auto l...</td>\n",
       "    </tr>\n",
       "    <tr>\n",
       "      <th>2</th>\n",
       "      <td>15004</td>\n",
       "      <td>VENDOR-1999</td>\n",
       "      <td>GL-6050100</td>\n",
       "      <td>79.02</td>\n",
       "      <td>Store Management Lease/Rent Deltona Corp Real ...</td>\n",
       "      <td>CLASS-1274</td>\n",
       "      <td>store manag leas rent deltona corp real estat ...</td>\n",
       "    </tr>\n",
       "    <tr>\n",
       "      <th>3</th>\n",
       "      <td>15005</td>\n",
       "      <td>VENDOR-1771</td>\n",
       "      <td>GL-6101400</td>\n",
       "      <td>48.50</td>\n",
       "      <td>Store Construction General Requirements Coloni...</td>\n",
       "      <td>CLASS-1522</td>\n",
       "      <td>store construct gener requir coloni trust iii ...</td>\n",
       "    </tr>\n",
       "    <tr>\n",
       "      <th>4</th>\n",
       "      <td>15006</td>\n",
       "      <td>VENDOR-1331</td>\n",
       "      <td>GL-2182000</td>\n",
       "      <td>63.35</td>\n",
       "      <td>Jul 2015 Aydin Corp Contingent Labor/Temp Labo...</td>\n",
       "      <td>CLASS-1376</td>\n",
       "      <td>jul aydin corp conting labor temp labor contin...</td>\n",
       "    </tr>\n",
       "  </tbody>\n",
       "</table>\n",
       "</div>"
      ],
      "text/plain": [
       "   Inv_Id  Vendor_Code     GL_Code  Inv_Amt  \\\n",
       "0   15001  VENDOR-1676  GL-6100410    83.24   \n",
       "1   15002  VENDOR-1883  GL-2182000    51.18   \n",
       "2   15004  VENDOR-1999  GL-6050100    79.02   \n",
       "3   15005  VENDOR-1771  GL-6101400    48.50   \n",
       "4   15006  VENDOR-1331  GL-2182000    63.35   \n",
       "\n",
       "                                    Item_Description Product_Category  \\\n",
       "0  Artworking/Typesetting Production Jun 2009 Cha...       CLASS-1963   \n",
       "1  Auto Leasing Corporate Services Corning Inc /N...       CLASS-1250   \n",
       "2  Store Management Lease/Rent Deltona Corp Real ...       CLASS-1274   \n",
       "3  Store Construction General Requirements Coloni...       CLASS-1522   \n",
       "4  Jul 2015 Aydin Corp Contingent Labor/Temp Labo...       CLASS-1376   \n",
       "\n",
       "                               Item_Description_tidy  \n",
       "0  artwork typeset product jun champion part inc ...  \n",
       "1  auto leas corpor servic corn inc ny mar auto l...  \n",
       "2  store manag leas rent deltona corp real estat ...  \n",
       "3  store construct gener requir coloni trust iii ...  \n",
       "4  jul aydin corp conting labor temp labor contin...  "
      ]
     },
     "execution_count": 17,
     "metadata": {},
     "output_type": "execute_result"
    }
   ],
   "source": [
    "# Applying Preprocessing function on Training data\n",
    "Train_data = clean_and_tokenize_tweets(Train)\n",
    "Train_data.head(5)"
   ]
  },
  {
   "cell_type": "code",
   "execution_count": 18,
   "metadata": {
    "colab": {
     "base_uri": "https://localhost:8080/",
     "height": 289
    },
    "colab_type": "code",
    "id": "9JEJaQzNpXMC",
    "outputId": "46eedd3a-b97c-4845-c884-12778a0482d7"
   },
   "outputs": [
    {
     "data": {
      "text/html": [
       "<div>\n",
       "<style scoped>\n",
       "    .dataframe tbody tr th:only-of-type {\n",
       "        vertical-align: middle;\n",
       "    }\n",
       "\n",
       "    .dataframe tbody tr th {\n",
       "        vertical-align: top;\n",
       "    }\n",
       "\n",
       "    .dataframe thead th {\n",
       "        text-align: right;\n",
       "    }\n",
       "</style>\n",
       "<table border=\"1\" class=\"dataframe\">\n",
       "  <thead>\n",
       "    <tr style=\"text-align: right;\">\n",
       "      <th></th>\n",
       "      <th>Inv_Id</th>\n",
       "      <th>Vendor_Code</th>\n",
       "      <th>GL_Code</th>\n",
       "      <th>Inv_Amt</th>\n",
       "      <th>Item_Description</th>\n",
       "      <th>Item_Description_tidy</th>\n",
       "    </tr>\n",
       "  </thead>\n",
       "  <tbody>\n",
       "    <tr>\n",
       "      <th>0</th>\n",
       "      <td>15003</td>\n",
       "      <td>VENDOR-2513</td>\n",
       "      <td>GL-6050310</td>\n",
       "      <td>56.13</td>\n",
       "      <td>Travel and Entertainment Miscellaneous Company...</td>\n",
       "      <td>travel and entertain miscellan compani car fie...</td>\n",
       "    </tr>\n",
       "    <tr>\n",
       "      <th>1</th>\n",
       "      <td>15008</td>\n",
       "      <td>VENDOR-1044</td>\n",
       "      <td>GL-6101400</td>\n",
       "      <td>96.56</td>\n",
       "      <td>Final Site Clean Up Store Construction Advance...</td>\n",
       "      <td>final site clean up store construct advanc mic...</td>\n",
       "    </tr>\n",
       "    <tr>\n",
       "      <th>2</th>\n",
       "      <td>15013</td>\n",
       "      <td>VENDOR-1254</td>\n",
       "      <td>GL-6101400</td>\n",
       "      <td>55.93</td>\n",
       "      <td>Arabian American Development Co Final Site Cle...</td>\n",
       "      <td>arabian american develop co final site clean u...</td>\n",
       "    </tr>\n",
       "    <tr>\n",
       "      <th>3</th>\n",
       "      <td>15019</td>\n",
       "      <td>VENDOR-1331</td>\n",
       "      <td>GL-2182000</td>\n",
       "      <td>32.62</td>\n",
       "      <td>Corporate Services Contingent Labor/Temp Labor...</td>\n",
       "      <td>corpor servic conting labor temp labor human r...</td>\n",
       "    </tr>\n",
       "    <tr>\n",
       "      <th>4</th>\n",
       "      <td>15020</td>\n",
       "      <td>VENDOR-2513</td>\n",
       "      <td>GL-6050310</td>\n",
       "      <td>25.81</td>\n",
       "      <td>Fortune National Corp Miscellaneous Company Ca...</td>\n",
       "      <td>fortun nation corp miscellan compani car field...</td>\n",
       "    </tr>\n",
       "  </tbody>\n",
       "</table>\n",
       "</div>"
      ],
      "text/plain": [
       "   Inv_Id  Vendor_Code     GL_Code  Inv_Amt  \\\n",
       "0   15003  VENDOR-2513  GL-6050310    56.13   \n",
       "1   15008  VENDOR-1044  GL-6101400    96.56   \n",
       "2   15013  VENDOR-1254  GL-6101400    55.93   \n",
       "3   15019  VENDOR-1331  GL-2182000    32.62   \n",
       "4   15020  VENDOR-2513  GL-6050310    25.81   \n",
       "\n",
       "                                    Item_Description  \\\n",
       "0  Travel and Entertainment Miscellaneous Company...   \n",
       "1  Final Site Clean Up Store Construction Advance...   \n",
       "2  Arabian American Development Co Final Site Cle...   \n",
       "3  Corporate Services Contingent Labor/Temp Labor...   \n",
       "4  Fortune National Corp Miscellaneous Company Ca...   \n",
       "\n",
       "                               Item_Description_tidy  \n",
       "0  travel and entertain miscellan compani car fie...  \n",
       "1  final site clean up store construct advanc mic...  \n",
       "2  arabian american develop co final site clean u...  \n",
       "3  corpor servic conting labor temp labor human r...  \n",
       "4  fortun nation corp miscellan compani car field...  "
      ]
     },
     "execution_count": 18,
     "metadata": {},
     "output_type": "execute_result"
    }
   ],
   "source": [
    "# Applying Preprocessing function on Test data\n",
    "Test_data = clean_and_tokenize_tweets(Test)\n",
    "Test_data.head(5)"
   ]
  },
  {
   "cell_type": "markdown",
   "metadata": {
    "colab_type": "text",
    "id": "4Ij9HVm0v39Z"
   },
   "source": [
    "## 4. Building a Classifier\n",
    "\n",
    "After cleanup, it is time to build the classifier to identify Product Categories. At first, we are dividing our data into train and test set."
   ]
  },
  {
   "cell_type": "markdown",
   "metadata": {
    "colab_type": "text",
    "id": "ZAmSeBFAr2RC"
   },
   "source": [
    "### 4.1 Dividing data into train and validation set\n",
    "\n",
    "Before training the model, let's split the training data into a training and validation set.\n",
    "\n"
   ]
  },
  {
   "cell_type": "code",
   "execution_count": 19,
   "metadata": {
    "colab": {},
    "colab_type": "code",
    "id": "lCGaqq92sgcw"
   },
   "outputs": [],
   "source": [
    "# Dividing data into train and validation set\n",
    "from sklearn.model_selection import train_test_split\n",
    "\n",
    "validation_percent = 0.30\n",
    "seed = 786\n",
    "\n",
    "X_train, X_validation, y_train, y_validation = train_test_split(Train_data['Item_Description_tidy'], Train_data['Product_Category'], test_size = validation_percent, random_state = seed)"
   ]
  },
  {
   "cell_type": "markdown",
   "metadata": {
    "colab_type": "text",
    "id": "5SnD0BzOvt-a"
   },
   "source": [
    "### 4.2 Training\n",
    "\n",
    " In the training stage, we are creating a pipeline with following two steps:\n",
    " \n",
    "  1. Extracting Features from Cleaned Tweets using TF-IDF\n",
    "  2. Building classifier\n",
    "  \n"
   ]
  },
  {
   "cell_type": "markdown",
   "metadata": {
    "colab_type": "text",
    "id": "mbaulHoMPrrb"
   },
   "source": [
    "#### 4.2.1. Extracting Features from Cleaned Tweets\n",
    "\n",
    "To analyze a preprocessed data, it needs to be converted into features. Depending upon the usage, text features can be constructed using assorted techniques – Bag-of-Words, TF-IDF, and Word Embeddings. Here, we are using TF-IDF.\n",
    "\n",
    "**TF-IDF Features**\n",
    "\n",
    "This is another method which is based on the frequency method but it is different to the **bag-of-words** approach in the sense that it takes into account, not just the occurrence of a word in a single document (or tweet) but in the entire corpus.\n",
    "\n",
    "TF-IDF works by penalizing the common words by assigning them lower weights while giving importance to words which are rare in the entire corpus but appear in good numbers in few documents.\n",
    "\n",
    "Let’s have a look at the important terms related to TF-IDF:\n",
    "\n",
    " + TF = (Number of times term t appears in a document)/(Number of terms in the document)\n",
    " + IDF = log(N/n), where, N is the number of documents and n is the number of documents a term t has appeared in.\n",
    " + TF-IDF = TF*IDF"
   ]
  },
  {
   "cell_type": "markdown",
   "metadata": {
    "colab_type": "text",
    "id": "-46GoEAAPvnr"
   },
   "source": [
    "#### 4.2.2 Building classifier\n",
    "\n",
    "We are starting with simple models and then we will proceed with more complex models. Below are the schematic of our classifier training:\n",
    "\n",
    "**Classifier tested**: We are testing below classifier in this problem:\n",
    "\n",
    " 1. Multinomial Logistic regression classifier\n",
    " 2. Multinomial Naive Bayes classifier\n",
    " 3. Stochastic gradient descent classifier\n",
    "\n",
    "\n",
    "**Validation scheme**: We are using below method of validating our classifier\n",
    "\n",
    " 1. External validation: hold-out sample data\n",
    " 2. Internal validation: 10-Fold cross validation\n",
    " \n",
    " **Validation metric:** We are testing performance of model based on **F1 Score** metric. Below is the short detail on **F1 Score**:\n",
    " \n",
    " To understand **F1 Score**, let's understand two more metric in detail which are **Precision** and **Recall**. Below are the formula for the same.\n",
    " \n",
    " $Precision: \\frac{True Positive}{True Positive + False Positive}$\n",
    " \n",
    " $Recall: \\frac{True Positive}{True Positive + False Negative}$\n",
    " \n",
    " <br>\n",
    " <br>\n",
    " \n",
    " Hence, **F1 Score** can be defined as\n",
    " \n",
    " $Recall: \\frac{2*Precision * Recall}{Precision + Recall} $\n",
    "\n"
   ]
  },
  {
   "cell_type": "markdown",
   "metadata": {
    "colab_type": "text",
    "id": "vqLlhC2S3geN"
   },
   "source": [
    "#### 4.2.1.1 Logistic Regression\n",
    "\n",
    "We are using **Pipeline** from **`sklearn`** library to stich both preprocessing of text data and classifier testing. "
   ]
  },
  {
   "cell_type": "code",
   "execution_count": 20,
   "metadata": {
    "colab": {},
    "colab_type": "code",
    "id": "iIPi1ROQqKS6"
   },
   "outputs": [],
   "source": [
    "from sklearn.feature_extraction.text import TfidfVectorizer\n",
    "from sklearn.pipeline import Pipeline\n",
    "from sklearn.feature_extraction.text import CountVectorizer\n",
    "from sklearn.feature_extraction.text import TfidfTransformer\n",
    "from sklearn.linear_model import SGDClassifier\n",
    "from sklearn.linear_model import LogisticRegression\n",
    "from sklearn.naive_bayes import GaussianNB\n",
    "\n",
    "seed = 786\n",
    "\n",
    "pipeline_LR = Pipeline([\n",
    "    ('vect', CountVectorizer()),\n",
    "    ('tfidf',  TfidfTransformer()),\n",
    "    ('LR', LogisticRegression(random_state=seed, solver='lbfgs',multi_class='multinomial')),\n",
    "])"
   ]
  },
  {
   "cell_type": "code",
   "execution_count": 21,
   "metadata": {
    "colab": {},
    "colab_type": "code",
    "id": "oM-j4AJTa9Dr"
   },
   "outputs": [],
   "source": [
    "def warn(*args, **kwargs):\n",
    "    pass\n",
    "import warnings\n",
    "warnings.warn = warn"
   ]
  },
  {
   "cell_type": "code",
   "execution_count": 22,
   "metadata": {
    "colab": {
     "base_uri": "https://localhost:8080/",
     "height": 748
    },
    "colab_type": "code",
    "id": "9hWtvsCIzBVR",
    "outputId": "65d60c91-3a33-44c8-c53c-92e7dd9a503a"
   },
   "outputs": [
    {
     "name": "stdout",
     "output_type": "stream",
     "text": [
      "              precision    recall  f1-score   support\n",
      "\n",
      "  CLASS-1248       0.00      0.00      0.00         4\n",
      "  CLASS-1249       1.00      1.00      1.00        54\n",
      "  CLASS-1250       1.00      1.00      1.00       137\n",
      "  CLASS-1274       0.98      1.00      0.99       283\n",
      "  CLASS-1294       1.00      1.00      1.00        10\n",
      "  CLASS-1309       1.00      1.00      1.00         7\n",
      "  CLASS-1322       1.00      1.00      1.00         9\n",
      "  CLASS-1376       1.00      1.00      1.00        99\n",
      "  CLASS-1429       1.00      1.00      1.00        10\n",
      "  CLASS-1477       1.00      1.00      1.00        19\n",
      "  CLASS-1522       1.00      1.00      1.00       244\n",
      "  CLASS-1567       1.00      1.00      1.00        23\n",
      "  CLASS-1652       1.00      1.00      1.00         3\n",
      "  CLASS-1688       0.00      0.00      0.00         3\n",
      "  CLASS-1721       0.78      1.00      0.88        32\n",
      "  CLASS-1758       1.00      1.00      1.00       460\n",
      "  CLASS-1770       1.00      1.00      1.00         6\n",
      "  CLASS-1805       0.00      0.00      0.00         7\n",
      "  CLASS-1828       0.86      1.00      0.92        36\n",
      "  CLASS-1850       1.00      1.00      1.00        19\n",
      "  CLASS-1867       1.00      1.00      1.00         3\n",
      "  CLASS-1870       1.00      1.00      1.00        15\n",
      "  CLASS-1919       1.00      1.00      1.00        16\n",
      "  CLASS-1963       1.00      1.00      1.00        85\n",
      "  CLASS-1964       1.00      1.00      1.00         5\n",
      "  CLASS-1983       1.00      1.00      1.00         4\n",
      "  CLASS-2003       0.75      1.00      0.86         9\n",
      "  CLASS-2015       0.00      0.00      0.00         2\n",
      "  CLASS-2038       0.00      0.00      0.00         6\n",
      "  CLASS-2112       1.00      1.00      1.00        15\n",
      "  CLASS-2141       1.00      1.00      1.00        30\n",
      "  CLASS-2146       0.00      0.00      0.00         1\n",
      "  CLASS-2152       0.00      0.00      0.00         2\n",
      "  CLASS-2241       1.00      1.00      1.00        12\n",
      "\n",
      "   micro avg       0.99      0.99      0.99      1670\n",
      "   macro avg       0.78      0.79      0.78      1670\n",
      "weighted avg       0.97      0.99      0.98      1670\n",
      "\n",
      "F1 Score for hold-out sample data: 78.37\n",
      "F1 Score based on cross validation: 91.91\n"
     ]
    }
   ],
   "source": [
    "# Fitting Logistic Regression model\n",
    "from sklearn.metrics import f1_score, classification_report\n",
    "from sklearn.model_selection import cross_val_score\n",
    "\n",
    "model_LR = pipeline_LR.fit(X_train, y_train)\n",
    "\n",
    "# Scoring based on F1 score for hold out sample\n",
    "y_predict_LR = model_LR.predict(X_validation)\n",
    "scores_holdout = f1_score(y_validation, y_predict_LR, average=\"macro\")\n",
    "print(classification_report(y_validation, y_predict_LR))\n",
    "print(\"F1 Score for hold-out sample data:\", round(scores_holdout*100,2))\n",
    "\n",
    "# Scoring based on F1 score for cross validation\n",
    "scores_cv = cross_val_score(model_LR, X_train, y_train, cv=10, scoring='f1_macro')\n",
    "print(\"F1 Score based on cross validation:\" , round(scores_cv.mean()*100,2))"
   ]
  },
  {
   "cell_type": "markdown",
   "metadata": {
    "colab_type": "text",
    "id": "hXQHmtDk38PQ"
   },
   "source": [
    "#### 4.2.1.2 Naive Bayes"
   ]
  },
  {
   "cell_type": "code",
   "execution_count": 23,
   "metadata": {
    "colab": {},
    "colab_type": "code",
    "id": "4ce8tE0P17Gi"
   },
   "outputs": [],
   "source": [
    "from sklearn.base import TransformerMixin\n",
    "class DenseTransformer(TransformerMixin):\n",
    "\n",
    "    def fit(self, X, y=None, **fit_params):\n",
    "        return self\n",
    "\n",
    "    def transform(self, X, y=None, **fit_params):\n",
    "        return X.todense()"
   ]
  },
  {
   "cell_type": "code",
   "execution_count": 24,
   "metadata": {
    "colab": {},
    "colab_type": "code",
    "id": "4OROJ3kp2ByK"
   },
   "outputs": [],
   "source": [
    "from sklearn.naive_bayes import MultinomialNB\n",
    "pipeline_NB = Pipeline([\n",
    "    ('vect', CountVectorizer()),\n",
    "    ('tfidf',  TfidfTransformer()),\n",
    "    ('to_dense', DenseTransformer()),\n",
    "    ('NB', MultinomialNB()),\n",
    "])"
   ]
  },
  {
   "cell_type": "code",
   "execution_count": 25,
   "metadata": {
    "colab": {
     "base_uri": "https://localhost:8080/",
     "height": 748
    },
    "colab_type": "code",
    "id": "243bIcei0f8V",
    "outputId": "ffd70123-5992-4455-9298-4f4d470d9e06"
   },
   "outputs": [
    {
     "name": "stdout",
     "output_type": "stream",
     "text": [
      "              precision    recall  f1-score   support\n",
      "\n",
      "  CLASS-1248       0.00      0.00      0.00         4\n",
      "  CLASS-1249       1.00      0.98      0.99        54\n",
      "  CLASS-1250       0.97      1.00      0.99       137\n",
      "  CLASS-1274       0.97      1.00      0.99       283\n",
      "  CLASS-1294       1.00      0.80      0.89        10\n",
      "  CLASS-1309       0.00      0.00      0.00         7\n",
      "  CLASS-1322       1.00      1.00      1.00         9\n",
      "  CLASS-1376       0.95      1.00      0.98        99\n",
      "  CLASS-1429       1.00      0.90      0.95        10\n",
      "  CLASS-1477       1.00      1.00      1.00        19\n",
      "  CLASS-1522       0.98      1.00      0.99       244\n",
      "  CLASS-1567       0.92      1.00      0.96        23\n",
      "  CLASS-1652       0.00      0.00      0.00         3\n",
      "  CLASS-1688       0.00      0.00      0.00         3\n",
      "  CLASS-1721       0.67      1.00      0.80        32\n",
      "  CLASS-1758       0.99      1.00      1.00       460\n",
      "  CLASS-1770       0.00      0.00      0.00         6\n",
      "  CLASS-1805       0.00      0.00      0.00         7\n",
      "  CLASS-1828       0.78      1.00      0.88        36\n",
      "  CLASS-1850       1.00      1.00      1.00        19\n",
      "  CLASS-1867       1.00      1.00      1.00         3\n",
      "  CLASS-1870       1.00      0.87      0.93        15\n",
      "  CLASS-1919       0.73      1.00      0.84        16\n",
      "  CLASS-1963       1.00      1.00      1.00        85\n",
      "  CLASS-1964       1.00      0.40      0.57         5\n",
      "  CLASS-1983       0.00      0.00      0.00         4\n",
      "  CLASS-2003       1.00      0.89      0.94         9\n",
      "  CLASS-2015       0.00      0.00      0.00         2\n",
      "  CLASS-2038       0.00      0.00      0.00         6\n",
      "  CLASS-2112       1.00      0.67      0.80        15\n",
      "  CLASS-2141       1.00      1.00      1.00        30\n",
      "  CLASS-2146       0.00      0.00      0.00         1\n",
      "  CLASS-2152       0.00      0.00      0.00         2\n",
      "  CLASS-2241       1.00      1.00      1.00        12\n",
      "\n",
      "   micro avg       0.96      0.96      0.96      1670\n",
      "   macro avg       0.65      0.63      0.63      1670\n",
      "weighted avg       0.94      0.96      0.95      1670\n",
      "\n",
      "F1 Score for hold-out sample data: 63.17\n",
      "F1 Score based on cross validation: 70.77\n"
     ]
    }
   ],
   "source": [
    "# Fitting Naive Bayes model\n",
    "model_NB = pipeline_NB.fit(X_train, y_train)\n",
    "\n",
    "# Scoring based on F1 score\n",
    "y_predict_NB = model_NB.predict(X_validation)\n",
    "scores_holdout = f1_score(y_validation, y_predict_NB, average=\"macro\")\n",
    "print(classification_report(y_validation, y_predict_NB))\n",
    "print(\"F1 Score for hold-out sample data:\", round(scores_holdout*100,2))\n",
    "\n",
    "# Scoring based on F1 score for cross validation\n",
    "scores_cv = cross_val_score(model_NB, X_train, y_train, cv=10, scoring='f1_macro')\n",
    "print(\"F1 Score based on cross validation:\" , round(scores_cv.mean()*100,2))"
   ]
  },
  {
   "cell_type": "markdown",
   "metadata": {
    "colab_type": "text",
    "id": "NNRi_Je04Fdm"
   },
   "source": [
    "#### 4.2.1.3 Stochastic gradient descent"
   ]
  },
  {
   "cell_type": "code",
   "execution_count": 26,
   "metadata": {
    "colab": {
     "base_uri": "https://localhost:8080/",
     "height": 748
    },
    "colab_type": "code",
    "id": "oa7OvoPz4P0I",
    "outputId": "e403a122-95d7-464b-e091-b2f7404adb04"
   },
   "outputs": [
    {
     "name": "stdout",
     "output_type": "stream",
     "text": [
      "              precision    recall  f1-score   support\n",
      "\n",
      "  CLASS-1248       1.00      1.00      1.00         4\n",
      "  CLASS-1249       1.00      1.00      1.00        54\n",
      "  CLASS-1250       1.00      1.00      1.00       137\n",
      "  CLASS-1274       1.00      1.00      1.00       283\n",
      "  CLASS-1294       1.00      1.00      1.00        10\n",
      "  CLASS-1309       1.00      1.00      1.00         7\n",
      "  CLASS-1322       0.82      1.00      0.90         9\n",
      "  CLASS-1376       1.00      1.00      1.00        99\n",
      "  CLASS-1429       1.00      1.00      1.00        10\n",
      "  CLASS-1477       1.00      1.00      1.00        19\n",
      "  CLASS-1522       1.00      1.00      1.00       244\n",
      "  CLASS-1567       1.00      1.00      1.00        23\n",
      "  CLASS-1652       1.00      1.00      1.00         3\n",
      "  CLASS-1688       1.00      1.00      1.00         3\n",
      "  CLASS-1721       1.00      1.00      1.00        32\n",
      "  CLASS-1758       1.00      1.00      1.00       460\n",
      "  CLASS-1770       1.00      1.00      1.00         6\n",
      "  CLASS-1805       1.00      1.00      1.00         7\n",
      "  CLASS-1828       1.00      1.00      1.00        36\n",
      "  CLASS-1850       1.00      1.00      1.00        19\n",
      "  CLASS-1867       1.00      1.00      1.00         3\n",
      "  CLASS-1870       1.00      1.00      1.00        15\n",
      "  CLASS-1919       1.00      1.00      1.00        16\n",
      "  CLASS-1963       1.00      1.00      1.00        85\n",
      "  CLASS-1964       1.00      1.00      1.00         5\n",
      "  CLASS-1983       1.00      1.00      1.00         4\n",
      "  CLASS-2003       1.00      1.00      1.00         9\n",
      "  CLASS-2015       0.00      0.00      0.00         2\n",
      "  CLASS-2038       1.00      1.00      1.00         6\n",
      "  CLASS-2112       1.00      1.00      1.00        15\n",
      "  CLASS-2141       1.00      1.00      1.00        30\n",
      "  CLASS-2146       1.00      1.00      1.00         1\n",
      "  CLASS-2152       1.00      1.00      1.00         2\n",
      "  CLASS-2241       1.00      1.00      1.00        12\n",
      "\n",
      "   micro avg       1.00      1.00      1.00      1670\n",
      "   macro avg       0.97      0.97      0.97      1670\n",
      "weighted avg       1.00      1.00      1.00      1670\n",
      "\n",
      "F1 Score for hold-out sample data: 96.76\n",
      "F1 Score based on cross validation: 98.46\n"
     ]
    }
   ],
   "source": [
    "# Stochastic gradient descent\n",
    "from sklearn.linear_model import SGDClassifier\n",
    "seed = 786\n",
    "\n",
    "pipeline_SGD = Pipeline([\n",
    "    ('vect', CountVectorizer()),\n",
    "    ('tfidf',  TfidfTransformer()),\n",
    "    ('SGD', SGDClassifier(random_state=seed)),\n",
    "])\n",
    "\n",
    "model_SGD = pipeline_SGD.fit(X_train, y_train)\n",
    "\n",
    "# Scoring based on F1 score\n",
    "y_predict_SGD = model_SGD.predict(X_validation)\n",
    "scores_holdout = f1_score(y_validation, y_predict_SGD, average=\"macro\")\n",
    "print(classification_report(y_validation, y_predict_SGD))\n",
    "print(\"F1 Score for hold-out sample data:\", round(scores_holdout*100,2))\n",
    "\n",
    "# Scoring based on F1 score for cross validation\n",
    "scores_cv = cross_val_score(model_SGD, X_train, y_train, cv=10, scoring='f1_macro')\n",
    "print(\"F1 Score based on cross validation:\" , round(scores_cv.mean()*100,2))"
   ]
  },
  {
   "cell_type": "markdown",
   "metadata": {
    "colab_type": "text",
    "id": "S4B27SoZb2Mv"
   },
   "source": [
    "> Out of above 3 method tested, **SGD classifier** performs better compare to other methods."
   ]
  },
  {
   "cell_type": "markdown",
   "metadata": {
    "colab_type": "text",
    "id": "-TvGUg885or_"
   },
   "source": [
    "## 5. Predicting Output\n",
    "\n",
    "Let's predict Product category based on above finalized classifier."
   ]
  },
  {
   "cell_type": "code",
   "execution_count": 27,
   "metadata": {
    "colab": {
     "base_uri": "https://localhost:8080/",
     "height": 204
    },
    "colab_type": "code",
    "id": "C31YuNU8byo4",
    "outputId": "288c892d-d625-47d9-eefb-ad0194dc39d2"
   },
   "outputs": [
    {
     "data": {
      "text/html": [
       "<div>\n",
       "<style scoped>\n",
       "    .dataframe tbody tr th:only-of-type {\n",
       "        vertical-align: middle;\n",
       "    }\n",
       "\n",
       "    .dataframe tbody tr th {\n",
       "        vertical-align: top;\n",
       "    }\n",
       "\n",
       "    .dataframe thead th {\n",
       "        text-align: right;\n",
       "    }\n",
       "</style>\n",
       "<table border=\"1\" class=\"dataframe\">\n",
       "  <thead>\n",
       "    <tr style=\"text-align: right;\">\n",
       "      <th></th>\n",
       "      <th>Inv_Id</th>\n",
       "      <th>Product_Category</th>\n",
       "    </tr>\n",
       "  </thead>\n",
       "  <tbody>\n",
       "    <tr>\n",
       "      <th>0</th>\n",
       "      <td>15003</td>\n",
       "      <td>CLASS-1758</td>\n",
       "    </tr>\n",
       "    <tr>\n",
       "      <th>1</th>\n",
       "      <td>15008</td>\n",
       "      <td>CLASS-1522</td>\n",
       "    </tr>\n",
       "    <tr>\n",
       "      <th>2</th>\n",
       "      <td>15013</td>\n",
       "      <td>CLASS-1522</td>\n",
       "    </tr>\n",
       "    <tr>\n",
       "      <th>3</th>\n",
       "      <td>15019</td>\n",
       "      <td>CLASS-1376</td>\n",
       "    </tr>\n",
       "    <tr>\n",
       "      <th>4</th>\n",
       "      <td>15020</td>\n",
       "      <td>CLASS-1758</td>\n",
       "    </tr>\n",
       "  </tbody>\n",
       "</table>\n",
       "</div>"
      ],
      "text/plain": [
       "   Inv_Id Product_Category\n",
       "0   15003       CLASS-1758\n",
       "1   15008       CLASS-1522\n",
       "2   15013       CLASS-1522\n",
       "3   15019       CLASS-1376\n",
       "4   15020       CLASS-1758"
      ]
     },
     "execution_count": 27,
     "metadata": {},
     "output_type": "execute_result"
    }
   ],
   "source": [
    "# Predicting the output\n",
    "Test_data['y_predict_SGD'] = model_SGD.predict(Test_data['Item_Description_tidy'])\n",
    "Submission = Test_data[['Inv_Id','y_predict_SGD']]\n",
    "Submission = Submission.rename(columns = {'y_predict_SGD':'Product_Category'})\n",
    "Submission.head(5)"
   ]
  },
  {
   "cell_type": "code",
   "execution_count": 28,
   "metadata": {
    "colab": {},
    "colab_type": "code",
    "id": "A1qtD8vZbzGF"
   },
   "outputs": [],
   "source": [
    "# Exporting output\n",
    "Submission.to_csv(\"./Output/Output_v2.csv\",index = False)"
   ]
  }
 ],
 "metadata": {
  "accelerator": "GPU",
  "colab": {
   "collapsed_sections": [],
   "name": "Text Classification",
   "provenance": [],
   "toc_visible": true,
   "version": "0.3.2"
  },
  "kernelspec": {
   "display_name": "Python 3",
   "language": "python",
   "name": "python3"
  },
  "language_info": {
   "codemirror_mode": {
    "name": "ipython",
    "version": 3
   },
   "file_extension": ".py",
   "mimetype": "text/x-python",
   "name": "python",
   "nbconvert_exporter": "python",
   "pygments_lexer": "ipython3",
   "version": "3.7.1"
  }
 },
 "nbformat": 4,
 "nbformat_minor": 1
}
